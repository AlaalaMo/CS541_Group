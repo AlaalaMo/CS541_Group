{
 "cells": [
  {
   "cell_type": "markdown",
   "metadata": {
    "id": "p3M5AQyC7Wak"
   },
   "source": [
    "#QUINCY HERSHEY - ALEX MOORE - ADAM DICHIARA - SCOTT TANG - VINCENT FILARDI\n",
    "#CS541 Project: MAML CNN\n",
    "---\n"
   ]
  },
  {
   "cell_type": "code",
   "execution_count": 1,
   "metadata": {
    "id": "7sENfvlY5AUU"
   },
   "outputs": [],
   "source": [
    "import random\n",
    "import copy\n",
    "import numpy as np\n",
    "import matplotlib.pyplot as plt\n",
    "import itertools\n",
    "import torch\n",
    "import torch.nn as nn\n",
    "import torch.nn.functional as F\n",
    "import torch.optim as optim\n",
    "import torchvision.transforms as transforms\n",
    "import torchvision\n",
    "from sklearn.model_selection import train_test_split\n",
    "from torch.utils.data import Dataset, DataLoader\n",
    "\n",
    "dir = 'data/'\n",
    "device = torch.device('cuda' if torch.cuda.is_available() else 'cpu')"
   ]
  },
  {
   "cell_type": "code",
   "execution_count": 2,
   "metadata": {
    "id": "BfMUUIpq5Ps6"
   },
   "outputs": [],
   "source": [
    "np.random.seed(1)\n",
    "random.seed(1)\n",
    "\n",
    "data = np.load(dir+'RESISC45_images_96.npy')\n",
    "labels = np.load(dir+'RESISC45_classes.npy')\n",
    "\n",
    "test_size = 0.8\n",
    "xtrain, xtest, ytrain, ytest = train_test_split(data, labels, test_size = test_size, stratify = labels)\n",
    "\n",
    "\n",
    "np.save(dir+'RESISC45_images_train.npy', xtrain)\n",
    "np.save(dir+'RESISC45_labels_train.npy', ytrain)\n",
    "np.save(dir+'RESISC45_images_test.npy', xtest)\n",
    "np.save(dir+'RESISC45_labels_test.npy', ytest)"
   ]
  },
  {
   "cell_type": "code",
   "execution_count": 3,
   "metadata": {
    "colab": {
     "base_uri": "https://localhost:8080/"
    },
    "id": "20Djtrf26EkB",
    "outputId": "558fa31d-b25c-4f5d-dcc7-b1bf310ab916"
   },
   "outputs": [
    {
     "name": "stdout",
     "output_type": "stream",
     "text": [
      "Training data shape:  (6300, 96, 96, 3)\n",
      "Testing data shape:  (6300,)\n",
      "Num Classes (45,)\n"
     ]
    }
   ],
   "source": [
    "train_data = np.load(dir+'RESISC45_images_train.npy')\n",
    "train_labels = np.load(dir+'RESISC45_labels_train.npy')\n",
    "classes = np.load(dir+'RESISC45_class_names.npy')\n",
    "\n",
    "print('Training data shape: ', train_data.shape)\n",
    "print('Testing data shape: ', train_labels.shape)\n",
    "print('Num Classes', classes.shape)"
   ]
  },
  {
   "cell_type": "code",
   "execution_count": 4,
   "metadata": {
    "colab": {
     "base_uri": "https://localhost:8080/"
    },
    "id": "sn7phfbC519x",
    "outputId": "f72c9929-fc9a-4401-aa8a-19235dd6b4fe"
   },
   "outputs": [
    {
     "name": "stdout",
     "output_type": "stream",
     "text": [
      "96\n"
     ]
    }
   ],
   "source": [
    "img_size = train_data.shape[2]# can use this to modify data size to fit this model (which only takes 256 images)\n",
    "\n",
    "bs = 32 #MAKE IT EVEN\n",
    "\n",
    "c_dim = classes.shape[0]\n",
    "\n",
    "print(img_size)"
   ]
  },
  {
   "cell_type": "code",
   "execution_count": 5,
   "metadata": {
    "id": "5CAjypAqQYwU"
   },
   "outputs": [],
   "source": [
    "class CustomTensorDataset(Dataset):\n",
    "\n",
    "    def __init__(self, images, labels, transform=None):\n",
    "        self.images = images\n",
    "        self.labels = labels\n",
    "        self.transform=transform\n",
    "\n",
    "    def __getitem__(self, index):\n",
    "        X = self.images[index]\n",
    "        y = self.labels[index]\n",
    "        return X, y\n",
    "\n",
    "    def __len__(self):\n",
    "        return len(self.images)"
   ]
  },
  {
   "cell_type": "code",
   "execution_count": 6,
   "metadata": {
    "colab": {
     "base_uri": "https://localhost:8080/"
    },
    "id": "CY78mtWO6Tns",
    "outputId": "d4d36531-426b-494a-ba1b-76d568fa11f8"
   },
   "outputs": [
    {
     "name": "stdout",
     "output_type": "stream",
     "text": [
      "tensor(0, dtype=torch.uint8) tensor(255, dtype=torch.uint8)\n",
      "tensor(0, dtype=torch.uint8) tensor(255, dtype=torch.uint8)\n",
      "(25200, 96, 96, 3)\n",
      "torch.Size([25200, 3, 96, 96])\n",
      "tensor(0, dtype=torch.uint8) tensor(255, dtype=torch.uint8)\n"
     ]
    }
   ],
   "source": [
    "xtrain, xval, ytrain, yval = train_test_split(train_data, train_labels, test_size = test_size)\n",
    "\n",
    "xtrain = torch.tensor(xtrain).permute(0,3,1,2)\n",
    "ytrain = torch.tensor(ytrain)\n",
    "print(torch.min(xtrain), torch.max(xtrain))\n",
    "\n",
    "trainset = CustomTensorDataset(xtrain, ytrain)\n",
    "    \n",
    "train_loader = DataLoader(trainset, batch_size=int(bs*2), shuffle=True) #BUG: must keep shuffle false - or else it screws up labels, apparently\n",
    "\n",
    "## Validation Data\n",
    "valset = []\n",
    "xval = torch.tensor(xval).permute(0,3,1,2)\n",
    "yval = torch.tensor(yval)\n",
    "\n",
    "print(torch.min(xval), torch.max(xval))\n",
    "\n",
    "valset = CustomTensorDataset(xval, yval)\n",
    "\n",
    "val_loader = torch.utils.data.DataLoader(valset, batch_size=64, drop_last = True, shuffle=True) #BUG: must keep shuffle false - or else it screws up labels, apparently\n",
    "\n",
    "## Testing Data\n",
    "test_data = np.load(dir+'RESISC45_images_test.npy')\n",
    "test_labels = np.load(dir+'RESISC45_labels_test.npy')\n",
    "\n",
    "print(test_data.shape)\n",
    "xtest = torch.tensor(test_data).permute(0,3,1,2)\n",
    "ytest = torch.tensor(test_labels)\n",
    "print(xtest.shape)\n",
    "\n",
    "print(torch.min(xtest), torch.max(xtest))\n",
    "\n",
    "testset = CustomTensorDataset(xtest, ytest)\n",
    "\n",
    "test_loader = torch.utils.data.DataLoader(testset, batch_size=64, drop_last = True, shuffle=True) #BUG: must keep shuffle false - or else it screws up labels, apparently"
   ]
  },
  {
   "cell_type": "code",
   "execution_count": null,
   "metadata": {
    "colab": {
     "base_uri": "https://localhost:8080/",
     "height": 389
    },
    "id": "qXe2IDIA6wws",
    "outputId": "841b6e54-16ec-4bd9-aa00-e4ae8a3b605e"
   },
   "outputs": [],
   "source": [
    "print('Shape of a batch of images:')\n",
    "print(next(iter(train_loader))[0].shape)\n",
    "print('Shape of a batch of labels:')\n",
    "print(next(iter(train_loader))[1].shape)\n",
    "\n",
    "first_samp = next(iter(train_loader))[0][0] #get first sample in first batch\n",
    "print(torch.min(first_samp), torch.max(first_samp)) #images naturally (0,255)\n",
    "plt.imshow(first_samp.permute(1,2,0)/255) #show it\n",
    "\n",
    "name = next(iter(train_loader))[1][0].data.item()\n",
    "print(name)\n",
    "print(classes[name]) "
   ]
  },
  {
   "cell_type": "code",
   "execution_count": 8,
   "metadata": {
    "id": "euJKRHjg62sI"
   },
   "outputs": [],
   "source": [
    "class Conv_Pred(nn.Module):\n",
    "    def __init__(self):\n",
    "        super(Conv_Pred, self).__init__()\n",
    "        ## Encoding: Unconditional samples\n",
    "        \n",
    "        self.conv1 = nn.Conv2d(3, 32, 4, 2, 1) # Input: (bs, 3, img_size, img_size)\n",
    "        self.conv2 = nn.Conv2d(32, 64, 4, 2, 1, bias = False)\n",
    "        self.conv2_bn = nn.BatchNorm2d(64)\n",
    "        self.conv3 = nn.Conv2d(64, 128, 4, 2, 1, bias = False)\n",
    "        self.conv3_bn = nn.BatchNorm2d(128)\n",
    "        self.conv4 = nn.Conv2d(128, 256, 4, 2, 1, bias = False)\n",
    "        self.conv4_bn = nn.BatchNorm2d(256)\n",
    "        self.conv5 = nn.Conv2d(256, 512, 4, 2, 1, bias = False)\n",
    "        self.conv5_bn = nn.BatchNorm2d(512)\n",
    "        self.conv6 = nn.Conv2d(512, 1024, 4, 2, 1, bias = False)\n",
    "        self.conv6_bn = nn.BatchNorm2d(1024)\n",
    "        \n",
    "        #self.conv7 = nn.Conv2d(2048, z_dim, 4, 2, 0) # Output: (bs, c_dim, 1, 1)\n",
    "        self.fce = nn.Linear(1024, 45)\n",
    "\n",
    "    def weight_init(self):\n",
    "        for m in self._modules:\n",
    "            normal_init(self._modules[m])\n",
    "\n",
    "    def forward(self, x):\n",
    "        # Encode data x to 2 spaces: condition space and variance-space\n",
    "        x = x/127.5 - 1\n",
    "        x = F.relu(self.conv1(x), 0.2)\n",
    "        x = F.relu(self.conv2_bn(self.conv2(x)))\n",
    "        x = F.relu(self.conv3_bn(self.conv3(x)))\n",
    "        x = F.relu(self.conv4_bn(self.conv4(x)))\n",
    "        x = F.relu(self.conv5_bn(self.conv5(x)))\n",
    "        x = F.relu(self.conv6_bn(self.conv6(x)))\n",
    "\n",
    "        z = nn.Softmax(dim=1)(self.fce(x.squeeze()))\n",
    "\n",
    "        return z\n",
    "\n",
    "\n",
    "def normal_init(m):\n",
    "    if isinstance(m, nn.ConvTranspose2d) or isinstance(m, nn.Conv2d):\n",
    "        m.weight.data.normal_(0.0, 0.02)\n",
    "        #m.bias.data.zero_()\n",
    "\n",
    "def one_hot_embedding(labels):\n",
    "    labels = torch.nn.functional.one_hot(torch.tensor(labels).to(torch.int64), num_classes = c_dim)\n",
    "    return torch.squeeze(labels)\n",
    "\n",
    "def accuracy_topk(output, target, topk=(3,)):\n",
    "    #https://forums.fast.ai/t/return-top-k-accuracy/27658\n",
    "    \"\"\"Computes the precision@k for the specified values of k\"\"\"\n",
    "    maxk = max(topk)\n",
    "    batch_size = target.size(0)\n",
    "\n",
    "    _, pred = output.topk(maxk, 1, True, True)\n",
    "    pred = pred.t()\n",
    "    correct = pred.eq(target.reshape(1, -1).expand_as(pred))\n",
    "\n",
    "    res = []\n",
    "    for k in topk:\n",
    "        correct_k = correct[:k].reshape(-1).float().sum(0, keepdim=True)\n",
    "        res.append(correct_k.mul_(100.0 / batch_size))\n",
    "    return res[0]"
   ]
  },
  {
   "cell_type": "code",
   "execution_count": 9,
   "metadata": {
    "id": "iVVcU3nK69gl"
   },
   "outputs": [],
   "source": [
    "CNN = Conv_Pred()\n",
    "CNN.weight_init()\n",
    "CNN.to(device)\n",
    "\n",
    "bce_loss = nn.BCELoss()\n",
    "mse_loss = nn.MSELoss()\n",
    "mae_loss = nn.L1Loss()\n",
    "learning_rate = 0.0006\n",
    "learning_rate1 = 0.0006\n",
    "\n",
    "CNN_optimizer = optim.Adam(CNN.parameters(),\n",
    "                         lr = learning_rate)\n",
    "                         #betas = (beta_1, beta_2))"
   ]
  },
  {
   "cell_type": "code",
   "execution_count": 10,
   "metadata": {
    "id": "a0JZD2K589Mw"
   },
   "outputs": [],
   "source": [
    "#augmentation_functions.py\n",
    "\n",
    "class addGaussianNoise(object):\n",
    "    def __init__(self, mean=0.0, std=1.0, p=0.5):\n",
    "        self.mean = torch.tensor(mean).to(device)\n",
    "        self.std = torch.tensor(std).to(device)\n",
    "        self.p = p\n",
    "      \n",
    "    def __call__(self, img):\n",
    "        if torch.rand(1).item() < self.p:\n",
    "            return img + torch.randn(img.size(), device = device) * self.std + self.mean\n",
    "        return img\n",
    "        \n",
    "    def __repr__(self):\n",
    "        return self.__class__.__name__ + '(mean={0}, std={1}, p={2})'.format(self.mean, self.std, self.p)\n",
    "\n",
    "def applyAugs(img_batch, task_idx, num_augs=7):\n",
    "    # returns augmented batch of images based on task index (0:128)\n",
    "    # currently based on exactly 7 transforms \n",
    "\n",
    "    transform_list = [transforms.RandomHorizontalFlip(p=0.99),\n",
    "                      transforms.RandomVerticalFlip(p=0.99),\n",
    "                      transforms.RandomRotation(359.0, fill=0.5),\n",
    "                      transforms.RandomPerspective(distortion_scale=0.1, p=0.99, fill=0.5),\n",
    "                      transforms.RandomResizedCrop(96,\n",
    "                                                   scale=(0.5, 1.0),\n",
    "                                                   ratio=(0.8, 1.0)),\n",
    "                                                   #interpolation=transforms.InterpolationMode.BILINEAR),\n",
    "                      addGaussianNoise(std=0.1, p=0.99),\n",
    "                      # transforms.ColorJitter(saturation=4.0, hue=0.01),\n",
    "                      transforms.ColorJitter(brightness=0.5, contrast=0.9)\n",
    "                      # ,transforms.GaussianBlur(9, sigma=(0.01, 2.0))\n",
    "                      ]\n",
    "       \n",
    "    tasklist = list(itertools.product([0, 1], repeat=num_augs))\n",
    "    current_augs = tasklist[task_idx]\n",
    "\n",
    "    task_transforms = [transform_list[i] for i,x in enumerate(current_augs) if x==1]\n",
    "    transform = torchvision.transforms.Compose(task_transforms)\n",
    "    img_batch = transform(img_batch)\n",
    "    return img_batch\n",
    "\n",
    "def getAugmentationTransforms(task_idx, num_augs=7):\n",
    "    # returns transforms.Compose function of transforms based on task index (0:128)\n",
    "    # currently based on exactly 7 transforms \n",
    "\n",
    "    transform_list = [transforms.RandomHorizontalFlip(p=0.99),\n",
    "                      transforms.RandomVerticalFlip(p=0.99),\n",
    "                      transforms.RandomRotation(359.0, fill=0.5),\n",
    "                      transforms.RandomPerspective(distortion_scale=0.1, p=0.99, fill=0.5),\n",
    "                      transforms.RandomResizedCrop(256,\n",
    "                                                   scale=(0.5, 1.0),\n",
    "                                                   ratio=(1.0, 1.0),\n",
    "                                                   interpolation=transforms.InterpolationMode.BILINEAR),\n",
    "                      addGaussianNoise(std=0.1, p=0.99),\n",
    "                      # transforms.ColorJitter(saturation=4.0, hue=0.01),\n",
    "                      transforms.ColorJitter(brightness=0.5, contrast=0.9)\n",
    "                      # ,transforms.GaussianBlur(9, sigma=(0.01, 2.0))\n",
    "                      ]\n",
    "       \n",
    "    tasklist = list(itertools.product([0, 1], repeat=num_augs))\n",
    "    current_augs = tasklist[task_idx]\n",
    "\n",
    "    task_transforms = [transform_list[i] for i,x in enumerate(current_augs) if x==1]\n",
    "    transform = torchvision.transforms.Compose(task_transforms)\n",
    "\n",
    "    return transform\n",
    "\n",
    "# utility functions\n",
    "# images must be normalized and converted to torch shape before augmentations (3,h,w)\n",
    "# converted to numpy shape for displaying (h,w,3)\n",
    "\n",
    "def normalizeImages(x):\n",
    "  x = x/255.\n",
    "  return x\n",
    "\n",
    "def convertToTorch(x):\n",
    "  x = np.moveaxis(x, 3, 1)\n",
    "  x = torch.as_tensor(x)\n",
    "  return x\n",
    "\n",
    "def convertToNumpy(x):\n",
    "  # convert back to format for displaying\n",
    "  x = x.numpy()\n",
    "  x = np.moveaxis(x, 1, 3)  \n",
    "  return x"
   ]
  },
  {
   "cell_type": "code",
   "execution_count": 11,
   "metadata": {
    "colab": {
     "base_uri": "https://localhost:8080/"
    },
    "id": "5ykjpav_7GRG",
    "outputId": "7a1f3512-bef2-45d9-c7c9-63ea15215894",
    "scrolled": true
   },
   "outputs": [
    {
     "name": "stderr",
     "output_type": "stream",
     "text": [
      "<ipython-input-8-d22c8f865115>:46: UserWarning: To copy construct from a tensor, it is recommended to use sourceTensor.clone().detach() or sourceTensor.clone().detach().requires_grad_(True), rather than torch.tensor(sourceTensor).\n",
      "  labels = torch.nn.functional.one_hot(torch.tensor(labels).to(torch.int64), num_classes = c_dim)\n",
      "C:\\conda\\lib\\site-packages\\torchvision\\transforms\\functional_tensor.py:876: UserWarning: Argument fill/fillcolor is not supported for Tensor input. Fill value is zero\n",
      "  warnings.warn(\"Argument fill/fillcolor is not supported for Tensor input. Fill value is zero\")\n"
     ]
    },
    {
     "name": "stdout",
     "output_type": "stream",
     "text": [
      "Epoch 1 - loss_CNN: 0.108\n",
      "Validation Accuracy:  8.353364944458008\n",
      "Validation Top3 Accuracy:  18.46955108642578\n",
      "Epoch 2 - loss_CNN: 0.106\n",
      "Validation Accuracy:  8.754006385803223\n",
      "Validation Top3 Accuracy:  20.33253288269043\n",
      "Epoch 3 - loss_CNN: 0.103\n",
      "Validation Accuracy:  10.256410598754883\n",
      "Validation Top3 Accuracy:  23.998397827148438\n",
      "Epoch 4 - loss_CNN: 0.102\n",
      "Validation Accuracy:  10.837339401245117\n",
      "Validation Top3 Accuracy:  23.55769157409668\n",
      "Epoch 5 - loss_CNN: 0.102\n",
      "Validation Accuracy:  9.935897827148438\n",
      "Validation Top3 Accuracy:  23.357372283935547\n",
      "Epoch 6 - loss_CNN: 0.101\n",
      "Validation Accuracy:  9.815705299377441\n",
      "Validation Top3 Accuracy:  24.6193904876709\n",
      "Epoch 7 - loss_CNN: 0.102\n",
      "Validation Accuracy:  11.57852554321289\n",
      "Validation Top3 Accuracy:  26.72275733947754\n",
      "Epoch 8 - loss_CNN: 0.101\n",
      "Validation Accuracy:  8.814102172851562\n",
      "Validation Top3 Accuracy:  21.013622283935547\n",
      "Epoch 9 - loss_CNN: 0.101\n",
      "Validation Accuracy:  13.36137866973877\n",
      "Validation Top3 Accuracy:  30.649038314819336\n",
      "Epoch 10 - loss_CNN: 0.100\n",
      "Validation Accuracy:  14.64342975616455\n",
      "Validation Top3 Accuracy:  32.231571197509766\n"
     ]
    }
   ],
   "source": [
    "epoch_tracker = []\n",
    "CNN_loss_tracker = []\n",
    "val_accs, val_topks = [], []\n",
    "i = 0\n",
    "tasks = 128\n",
    "n_epochs = 10 # 25+ needed. just keep raising this number...\n",
    "print_stride = n_epochs // 10\n",
    "for epoch in range(1, n_epochs+1):\n",
    "\n",
    "    CNN_losses = []\n",
    "\n",
    "\n",
    "    for X, y in train_loader:       #you could bump in here and do for i in range(128)\n",
    "\n",
    "        y = one_hot_embedding(y.to(device)).float()\n",
    "\n",
    "        X1 = X[:int(X.shape[0]/2)].float().clone().to(device)\n",
    "        X2 = X[int(X.shape[0]/2):].float().clone().to(device)\n",
    "        y1 = y[:int(y.shape[0]/2)].float().clone().to(device)\n",
    "        y2 = y[int(y.shape[0]/2):].float().clone().to(device)\n",
    "\n",
    "        mini_batch = X1.size()[0]\n",
    "        #X= X.to(device).float()\n",
    "\n",
    "        task_batch1 = applyAugs(X1, int(i%tasks)).to(device)\n",
    "        task_batch2 = applyAugs(X2, int(i%tasks)).to(device)\n",
    "        i += 1\n",
    "\n",
    "        CNN1 = copy.deepcopy(CNN).to(device)\n",
    "        CNN1_optimizer = optim.Adam(CNN1.parameters(), lr = learning_rate1)\n",
    "\n",
    "        ## CNN Training\n",
    "        for param in CNN.parameters(): param.grad = None\n",
    "        for param in CNN1.parameters(): param.grad = None\n",
    "\n",
    "        yhat = CNN1(task_batch1)\n",
    "        pred_loss = bce_loss(yhat, y1)\n",
    "        pred_loss.backward()\n",
    "\n",
    "        CNN1_optimizer.step()\n",
    "\n",
    "        CNN_losses += [pred_loss.item()]\n",
    "        for param in CNN.parameters(): param.grad = None\n",
    "        for param in CNN1.parameters(): param.grad = None\n",
    "\n",
    "        yhat = CNN1(task_batch2)\n",
    "        pred_loss = bce_loss(yhat, y2)\n",
    "        pred_loss.backward()\n",
    "\n",
    "        for net1, net2 in zip(CNN.named_parameters(), CNN1.named_parameters()):\n",
    "            net1[1].grad = net2[1].grad.clone()\n",
    "\n",
    "        CNN_optimizer.step()\n",
    "\n",
    "        CNN_losses += [pred_loss.item()]\n",
    "        \n",
    "    \n",
    "    if epoch % print_stride == 0:\n",
    "        print('Epoch {} - loss_CNN: {:.3f}'.format((epoch), torch.mean(torch.FloatTensor(CNN_losses))))\n",
    "\n",
    "        CNN_loss_tracker.append(torch.mean(torch.FloatTensor(CNN_losses)))\n",
    "        \n",
    "        with torch.no_grad():\n",
    "            accs, actk = [], []\n",
    "            for x, y in val_loader:\n",
    "                x, y = x.to(device).float(), y.to(device).float()\n",
    "                #print(x, y)\n",
    "                yhat = CNN(x)\n",
    "                \n",
    "                yhat_max = torch.max(yhat, dim = 1)[1]\n",
    "                #print(yhat.shape)\n",
    "                \n",
    "                correct = torch.sum(yhat_max == y)\n",
    "                size = x.shape[0]\n",
    "                \n",
    "                acc_topk = accuracy_topk(yhat, y)\n",
    "                #print(acc_topk)\n",
    "                actk.append(acc_topk.data.item())\n",
    "                \n",
    "                accs.append(100*(correct/size).data.item())\n",
    "\n",
    "            print('Validation Accuracy: ', torch.mean(torch.FloatTensor(accs)).data.item())\n",
    "            print('Validation Top3 Accuracy: ', torch.mean(torch.FloatTensor(actk)).data.item())\n",
    "            \n",
    "        val_accs.append(torch.mean(torch.FloatTensor(accs)))\n",
    "        val_topks.append(torch.mean(torch.FloatTensor(actk)))\n",
    "        epoch_tracker.append(epoch)"
   ]
  },
  {
   "cell_type": "code",
   "execution_count": 12,
   "metadata": {
    "colab": {
     "base_uri": "https://localhost:8080/",
     "height": 265
    },
    "id": "UhJOZrha7JYY",
    "outputId": "b1ea239c-7569-4d7e-c450-c401a0258d4b"
   },
   "outputs": [
    {
     "data": {
      "image/png": "[encoded data removed]",
      "text/plain": [
       "<Figure size 432x288 with 1 Axes>"
      ]
     },
     "metadata": {
      "needs_background": "light"
     },
     "output_type": "display_data"
    }
   ],
   "source": [
    "plt.plot(epoch_tracker, CNN_loss_tracker, label = 'train loss')\n",
    "plt.plot(epoch_tracker, val_accs, label = 'val acc')\n",
    "plt.plot(epoch_tracker, val_topks, label = 'val top3')\n",
    "plt.legend(loc = 'best')\n",
    "plt.show()"
   ]
  },
  {
   "cell_type": "code",
   "execution_count": 13,
   "metadata": {
    "colab": {
     "base_uri": "https://localhost:8080/",
     "height": 297
    },
    "id": "_BO6g9TV4KHK",
    "outputId": "4fb4b7ea-c114-45ea-d6a9-8fb3cf0e8b81"
   },
   "outputs": [
    {
     "data": {
      "image/png": "[encoded data removed]",
      "text/plain": [
       "<Figure size 432x288 with 2 Axes>"
      ]
     },
     "metadata": {
      "needs_background": "light"
     },
     "output_type": "display_data"
    }
   ],
   "source": [
    "fig, (ax1, ax2) = plt.subplots(1,2)\n",
    "ax1.plot(epoch_tracker, CNN_loss_tracker, label = 'train loss')\n",
    "ax1.legend(loc = 'best')\n",
    "ax2.plot(epoch_tracker, val_accs, label = 'val acc')\n",
    "ax2.legend(loc = 'best')\n",
    "plt.tight_layout()\n",
    "plt.show()"
   ]
  },
  {
   "cell_type": "code",
   "execution_count": 14,
   "metadata": {
    "colab": {
     "base_uri": "https://localhost:8080/"
    },
    "id": "mWdiT2447L9q",
    "outputId": "756e9195-faec-4e84-9527-0c27b974419c"
   },
   "outputs": [
    {
     "name": "stdout",
     "output_type": "stream",
     "text": [
      "Test Accuracy:  13.728530883789062\n",
      "Test Top3 Accuracy:  31.050954818725586\n"
     ]
    }
   ],
   "source": [
    "with torch.no_grad():\n",
    "    accs, topks = [], []\n",
    "    for x, y in test_loader:\n",
    "        x, y = x.to(device).float(), y.to(device).float()\n",
    "        #print(x, y)\n",
    "        yhat = CNN(x)\n",
    "\n",
    "        yhat_max = torch.max(yhat, dim = 1)[1]\n",
    "        #print(yhat.shape)\n",
    "\n",
    "        correct = torch.sum(yhat_max == y)\n",
    "        size = x.shape[0]\n",
    "        acc_topk = accuracy_topk(yhat, y)\n",
    "        actk.append(acc_topk.data.item())\n",
    "                \n",
    "        accs.append(100*(correct/size).data.item())\n",
    "        topks.append(actk)\n",
    "\n",
    "    print('Test Accuracy: ', torch.mean(torch.FloatTensor(accs)).data.item())\n",
    "    print('Test Top3 Accuracy: ', torch.mean(torch.FloatTensor(topks)).data.item())"
   ]
  },
  {
   "cell_type": "markdown",
   "metadata": {
    "id": "3F5BOpX07VDA"
   },
   "source": [
    "## Scrap Work Area \n",
    "\n",
    "---"
   ]
  },
  {
   "cell_type": "code",
   "execution_count": 15,
   "metadata": {
    "colab": {
     "base_uri": "https://localhost:8080/",
     "height": 52
    },
    "id": "Y6y3pEe-0e2O",
    "outputId": "fa7d4ecb-e6ff-4df5-c61a-c9c507a191b2"
   },
   "outputs": [
    {
     "data": {
      "text/plain": [
       "'\\nprint(\"PARAMS YOU ARE CHECKING\")\\nfor pA, pB in zip(CNN.parameters(), CNN1.parameters()):\\n  print((pA == pB).all())\\nprint(\"GRAD YOU ARE CHECKING\")\\nfor pA, pB in zip(CNN.parameters(), CNN1.parameters()):\\n  print((pA.grad == pB.grad))\\n'"
      ]
     },
     "execution_count": 15,
     "metadata": {},
     "output_type": "execute_result"
    }
   ],
   "source": [
    "#GRAD DIAGNOSTICS\n",
    "'''\n",
    "print(\"PARAMS YOU ARE CHECKING\")\n",
    "for pA, pB in zip(CNN.parameters(), CNN1.parameters()):\n",
    "  print((pA == pB).all())\n",
    "print(\"GRAD YOU ARE CHECKING\")\n",
    "for pA, pB in zip(CNN.parameters(), CNN1.parameters()):\n",
    "  print((pA.grad == pB.grad))\n",
    "'''"
   ]
  }
 ],
 "metadata": {
  "accelerator": "GPU",
  "colab": {
   "collapsed_sections": [],
   "name": "MAMALIAN.ipynb",
   "provenance": [],
   "toc_visible": true
  },
  "kernelspec": {
   "display_name": "Python 3",
   "language": "python",
   "name": "python3"
  },
  "language_info": {
   "codemirror_mode": {
    "name": "ipython",
    "version": 3
   },
   "file_extension": ".py",
   "mimetype": "text/x-python",
   "name": "python",
   "nbconvert_exporter": "python",
   "pygments_lexer": "ipython3",
   "version": "3.8.3"
  }
 },
 "nbformat": 4,
 "nbformat_minor": 1
}
