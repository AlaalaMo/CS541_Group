{
  "nbformat": 4,
  "nbformat_minor": 0,
  "metadata": {
    "colab": {
      "name": "CS541_Project_MAML_and_CNN.ipynb",
      "provenance": [],
      "collapsed_sections": [],
      "machine_shape": "hm"
    },
    "kernelspec": {
      "name": "python3",
      "display_name": "Python 3"
    },
    "language_info": {
      "name": "python"
    },
    "accelerator": "GPU"
  },
  "cells": [
    {
      "cell_type": "markdown",
      "metadata": {
        "id": "p3M5AQyC7Wak"
      },
      "source": [
        "#QUINCY HERSHEY - ALEX MOORE - ADAM DICHIARA - SCOTT TANG - VINCENT FILARDI\n",
        "#CS541 Project: MAML CNN\n",
        "---\n"
      ]
    },
    {
      "cell_type": "code",
      "metadata": {
        "id": "7sENfvlY5AUU",
        "colab": {
          "base_uri": "https://localhost:8080/"
        },
        "outputId": "9c6ea690-f766-41b7-ba02-de4408e3f2dc"
      },
      "source": [
        "!pip install learn2learn\n",
        "!pip install torchmeta\n",
        "\n",
        "import random\n",
        "import copy\n",
        "import numpy as np\n",
        "import matplotlib.pyplot as plt\n",
        "import itertools\n",
        "import torch\n",
        "import math\n",
        "import torch.nn as nn\n",
        "import torch.nn.functional as F\n",
        "import torch.optim as optim\n",
        "from torch.utils.data import Dataset, DataLoader\n",
        "import torchvision\n",
        "import torchvision.transforms as transforms\n",
        "from sklearn.model_selection import train_test_split\n",
        "from sklearn import metrics\n",
        "import seaborn as sns\n",
        "import learn2learn as l2l\n",
        "import torch.utils\n",
        "from torchmeta.modules import (MetaModule, MetaSequential, MetaConv2d,\n",
        "                               MetaBatchNorm2d, MetaLinear)\n",
        "from torchmeta.utils.gradient_based import gradient_update_parameters\n",
        "\n",
        "colab=True\n",
        "if colab:\n",
        "    from google.colab import drive\n",
        "    drive.mount('/content/drive')\n",
        "dir = '/content/drive/MyDrive/Project/data/'\n",
        "device = torch.device('cuda' if torch.cuda.is_available() else 'cpu')"
      ],
      "execution_count": 1,
      "outputs": [
        {
          "output_type": "stream",
          "text": [
            "Requirement already satisfied: learn2learn in /usr/local/lib/python3.7/dist-packages (0.1.5)\n",
            "Requirement already satisfied: requests in /usr/local/lib/python3.7/dist-packages (from learn2learn) (2.23.0)\n",
            "Requirement already satisfied: gsutil in /usr/local/lib/python3.7/dist-packages (from learn2learn) (4.61)\n",
            "Requirement already satisfied: pandas in /usr/local/lib/python3.7/dist-packages (from learn2learn) (1.1.5)\n",
            "Requirement already satisfied: torchvision>=0.3.0 in /usr/local/lib/python3.7/dist-packages (from learn2learn) (0.9.1+cu101)\n",
            "Requirement already satisfied: tqdm in /usr/local/lib/python3.7/dist-packages (from learn2learn) (4.41.1)\n",
            "Requirement already satisfied: torch>=1.1.0 in /usr/local/lib/python3.7/dist-packages (from learn2learn) (1.8.1+cu101)\n",
            "Requirement already satisfied: numpy>=1.15.4 in /usr/local/lib/python3.7/dist-packages (from learn2learn) (1.19.5)\n",
            "Requirement already satisfied: gym>=0.14.0 in /usr/local/lib/python3.7/dist-packages (from learn2learn) (0.17.3)\n",
            "Requirement already satisfied: certifi>=2017.4.17 in /usr/local/lib/python3.7/dist-packages (from requests->learn2learn) (2020.12.5)\n",
            "Requirement already satisfied: urllib3!=1.25.0,!=1.25.1,<1.26,>=1.21.1 in /usr/local/lib/python3.7/dist-packages (from requests->learn2learn) (1.24.3)\n",
            "Requirement already satisfied: chardet<4,>=3.0.2 in /usr/local/lib/python3.7/dist-packages (from requests->learn2learn) (3.0.4)\n",
            "Requirement already satisfied: idna<3,>=2.5 in /usr/local/lib/python3.7/dist-packages (from requests->learn2learn) (2.10)\n",
            "Requirement already satisfied: mock==2.0.0 in /usr/local/lib/python3.7/dist-packages (from gsutil->learn2learn) (2.0.0)\n",
            "Requirement already satisfied: gcs-oauth2-boto-plugin>=2.7 in /usr/local/lib/python3.7/dist-packages (from gsutil->learn2learn) (2.7)\n",
            "Requirement already satisfied: google-apitools>=0.5.30 in /usr/local/lib/python3.7/dist-packages (from gsutil->learn2learn) (0.5.32)\n",
            "Requirement already satisfied: monotonic>=1.4 in /usr/local/lib/python3.7/dist-packages (from gsutil->learn2learn) (1.6)\n",
            "Requirement already satisfied: httplib2>=0.18 in /usr/local/lib/python3.7/dist-packages (from gsutil->learn2learn) (0.19.1)\n",
            "Requirement already satisfied: argcomplete>=1.9.4 in /usr/local/lib/python3.7/dist-packages (from gsutil->learn2learn) (1.12.3)\n",
            "Requirement already satisfied: google-reauth>=0.1.0 in /usr/local/lib/python3.7/dist-packages (from gsutil->learn2learn) (0.1.1)\n",
            "Requirement already satisfied: retry-decorator>=1.0.0 in /usr/local/lib/python3.7/dist-packages (from gsutil->learn2learn) (1.1.1)\n",
            "Requirement already satisfied: six>=1.12.0 in /usr/local/lib/python3.7/dist-packages (from gsutil->learn2learn) (1.15.0)\n",
            "Requirement already satisfied: crcmod>=1.7 in /usr/local/lib/python3.7/dist-packages (from gsutil->learn2learn) (1.7)\n",
            "Requirement already satisfied: pyOpenSSL>=0.13 in /usr/local/lib/python3.7/dist-packages (from gsutil->learn2learn) (20.0.1)\n",
            "Requirement already satisfied: fasteners>=0.14.1 in /usr/local/lib/python3.7/dist-packages (from gsutil->learn2learn) (0.16)\n",
            "Requirement already satisfied: python-dateutil>=2.7.3 in /usr/local/lib/python3.7/dist-packages (from pandas->learn2learn) (2.8.1)\n",
            "Requirement already satisfied: pytz>=2017.2 in /usr/local/lib/python3.7/dist-packages (from pandas->learn2learn) (2018.9)\n",
            "Requirement already satisfied: pillow>=4.1.1 in /usr/local/lib/python3.7/dist-packages (from torchvision>=0.3.0->learn2learn) (7.1.2)\n",
            "Requirement already satisfied: typing-extensions in /usr/local/lib/python3.7/dist-packages (from torch>=1.1.0->learn2learn) (3.7.4.3)\n",
            "Requirement already satisfied: cloudpickle<1.7.0,>=1.2.0 in /usr/local/lib/python3.7/dist-packages (from gym>=0.14.0->learn2learn) (1.3.0)\n",
            "Requirement already satisfied: scipy in /usr/local/lib/python3.7/dist-packages (from gym>=0.14.0->learn2learn) (1.4.1)\n",
            "Requirement already satisfied: pyglet<=1.5.0,>=1.4.0 in /usr/local/lib/python3.7/dist-packages (from gym>=0.14.0->learn2learn) (1.5.0)\n",
            "Requirement already satisfied: pbr>=0.11 in /usr/local/lib/python3.7/dist-packages (from mock==2.0.0->gsutil->learn2learn) (5.6.0)\n",
            "Requirement already satisfied: boto>=2.29.1 in /usr/local/lib/python3.7/dist-packages (from gcs-oauth2-boto-plugin>=2.7->gsutil->learn2learn) (2.49.0)\n",
            "Requirement already satisfied: oauth2client>=2.2.0 in /usr/local/lib/python3.7/dist-packages (from gcs-oauth2-boto-plugin>=2.7->gsutil->learn2learn) (4.1.3)\n",
            "Requirement already satisfied: pyparsing<3,>=2.4.2 in /usr/local/lib/python3.7/dist-packages (from httplib2>=0.18->gsutil->learn2learn) (2.4.7)\n",
            "Requirement already satisfied: importlib-metadata<5,>=0.23; python_version == \"3.7\" in /usr/local/lib/python3.7/dist-packages (from argcomplete>=1.9.4->gsutil->learn2learn) (3.10.1)\n",
            "Requirement already satisfied: pyu2f in /usr/local/lib/python3.7/dist-packages (from google-reauth>=0.1.0->gsutil->learn2learn) (0.1.5)\n",
            "Requirement already satisfied: cryptography>=3.2 in /usr/local/lib/python3.7/dist-packages (from pyOpenSSL>=0.13->gsutil->learn2learn) (3.4.7)\n",
            "Requirement already satisfied: future in /usr/local/lib/python3.7/dist-packages (from pyglet<=1.5.0,>=1.4.0->gym>=0.14.0->learn2learn) (0.16.0)\n",
            "Requirement already satisfied: pyasn1-modules>=0.0.5 in /usr/local/lib/python3.7/dist-packages (from oauth2client>=2.2.0->gcs-oauth2-boto-plugin>=2.7->gsutil->learn2learn) (0.2.8)\n",
            "Requirement already satisfied: pyasn1>=0.1.7 in /usr/local/lib/python3.7/dist-packages (from oauth2client>=2.2.0->gcs-oauth2-boto-plugin>=2.7->gsutil->learn2learn) (0.4.8)\n",
            "Requirement already satisfied: rsa>=3.1.4 in /usr/local/lib/python3.7/dist-packages (from oauth2client>=2.2.0->gcs-oauth2-boto-plugin>=2.7->gsutil->learn2learn) (4.7.2)\n",
            "Requirement already satisfied: zipp>=0.5 in /usr/local/lib/python3.7/dist-packages (from importlib-metadata<5,>=0.23; python_version == \"3.7\"->argcomplete>=1.9.4->gsutil->learn2learn) (3.4.1)\n",
            "Requirement already satisfied: cffi>=1.12 in /usr/local/lib/python3.7/dist-packages (from cryptography>=3.2->pyOpenSSL>=0.13->gsutil->learn2learn) (1.14.5)\n",
            "Requirement already satisfied: pycparser in /usr/local/lib/python3.7/dist-packages (from cffi>=1.12->cryptography>=3.2->pyOpenSSL>=0.13->gsutil->learn2learn) (2.20)\n",
            "Requirement already satisfied: torchmeta in /usr/local/lib/python3.7/dist-packages (1.7.0)\n",
            "Requirement already satisfied: torchvision<0.10.0,>=0.5.0 in /usr/local/lib/python3.7/dist-packages (from torchmeta) (0.9.1+cu101)\n",
            "Requirement already satisfied: Pillow>=7.0.0 in /usr/local/lib/python3.7/dist-packages (from torchmeta) (7.1.2)\n",
            "Requirement already satisfied: torch<1.9.0,>=1.4.0 in /usr/local/lib/python3.7/dist-packages (from torchmeta) (1.8.1+cu101)\n",
            "Requirement already satisfied: requests in /usr/local/lib/python3.7/dist-packages (from torchmeta) (2.23.0)\n",
            "Requirement already satisfied: h5py in /usr/local/lib/python3.7/dist-packages (from torchmeta) (2.10.0)\n",
            "Requirement already satisfied: tqdm>=4.0.0 in /usr/local/lib/python3.7/dist-packages (from torchmeta) (4.41.1)\n",
            "Requirement already satisfied: numpy>=1.14.0 in /usr/local/lib/python3.7/dist-packages (from torchmeta) (1.19.5)\n",
            "Requirement already satisfied: ordered-set in /usr/local/lib/python3.7/dist-packages (from torchmeta) (4.0.2)\n",
            "Requirement already satisfied: typing-extensions in /usr/local/lib/python3.7/dist-packages (from torch<1.9.0,>=1.4.0->torchmeta) (3.7.4.3)\n",
            "Requirement already satisfied: urllib3!=1.25.0,!=1.25.1,<1.26,>=1.21.1 in /usr/local/lib/python3.7/dist-packages (from requests->torchmeta) (1.24.3)\n",
            "Requirement already satisfied: chardet<4,>=3.0.2 in /usr/local/lib/python3.7/dist-packages (from requests->torchmeta) (3.0.4)\n",
            "Requirement already satisfied: idna<3,>=2.5 in /usr/local/lib/python3.7/dist-packages (from requests->torchmeta) (2.10)\n",
            "Requirement already satisfied: certifi>=2017.4.17 in /usr/local/lib/python3.7/dist-packages (from requests->torchmeta) (2020.12.5)\n",
            "Requirement already satisfied: six in /usr/local/lib/python3.7/dist-packages (from h5py->torchmeta) (1.15.0)\n",
            "Drive already mounted at /content/drive; to attempt to forcibly remount, call drive.mount(\"/content/drive\", force_remount=True).\n"
          ],
          "name": "stdout"
        }
      ]
    },
    {
      "cell_type": "markdown",
      "metadata": {
        "id": "Qydxx8m5Nreh"
      },
      "source": [
        "## RESISC45\n",
        "\n",
        "---"
      ]
    },
    {
      "cell_type": "code",
      "metadata": {
        "id": "ILyzj825ovVU"
      },
      "source": [
        ""
      ],
      "execution_count": 1,
      "outputs": []
    },
    {
      "cell_type": "code",
      "metadata": {
        "id": "BfMUUIpq5Ps6"
      },
      "source": [
        "np.random.seed(1)\n",
        "random.seed(1)\n",
        "test_size = 0.8\n",
        "val_size = 0.2\n",
        "batch_size = 32\n",
        "MAML_learning_rate = 0.0006\n",
        "MAML_learning_rate = 0.0006\n",
        "CNN_learning_rate = 0.0006\n",
        "MAML2_learning_rate1=.00045\n",
        "MAML2_learning_rate2=0.0001/8\n",
        "n_epochs = 150\n",
        "print_stride = 10\n",
        "Freeze=False\n",
        "First_Train = True\n",
        "no_load = True\n",
        "bce_loss = nn.BCELoss()\n",
        "No_Overlap = True"
      ],
      "execution_count": 2,
      "outputs": []
    },
    {
      "cell_type": "code",
      "metadata": {
        "id": "5CAjypAqQYwU"
      },
      "source": [
        "class CustomTensorDataset(Dataset):\n",
        "\n",
        "    def __init__(self, images, labels, transform=None):\n",
        "        self.images = images\n",
        "        self.labels = labels\n",
        "        self.transform=transform\n",
        "\n",
        "    def __getitem__(self, index):\n",
        "        X = self.images[index]\n",
        "        y = self.labels[index]\n",
        "        return X, y\n",
        "\n",
        "    def __len__(self):\n",
        "        return len(self.images)\n",
        "\n",
        "def make_dataset(x, y):\n",
        "    x = torch.tensor(x).permute(0,3,1,2)\n",
        "    y = torch.tensor(y)\n",
        "    dset = CustomTensorDataset(x, y)\n",
        "    return dset"
      ],
      "execution_count": 3,
      "outputs": []
    },
    {
      "cell_type": "code",
      "metadata": {
        "id": "240INoPLKeOx"
      },
      "source": [
        "def get_data(dir, mtype,nwaykshot=False,No_Overlap=False):\n",
        "    if mtype=='MAML': batch_n = batch_size*2\n",
        "    else: batch_n = batch_size\n",
        "\n",
        "    data = np.load(dir+'RESISC45_images_96.npy')\n",
        "    labels = np.load(dir+'RESISC45_classes.npy')\n",
        "    classes = np.load(dir+'RESISC45_class_names.npy')\n",
        "    if No_Overlap:\n",
        "        scenes = ['airport',\n",
        "                  'basketball_court',\n",
        "                  'bridge',\n",
        "                  'church',\n",
        "                  'circular_farmland',\n",
        "                  'cloud',\n",
        "                  'commercial_area',\n",
        "                  'desert',\n",
        "                  'ground_track_field',\n",
        "                  'industrial_area',\n",
        "                  'island',\n",
        "                  'lake',\n",
        "                  'meadow',\n",
        "                  'mountain',\n",
        "                  'palace',\n",
        "                  'railway',\n",
        "                  'railway_station',\n",
        "                  'rectangular_farmland',\n",
        "                  'roundabout',\n",
        "                  'sea_ice',\n",
        "                  'ship',\n",
        "                  'snowberg',\n",
        "                  'stadium',\n",
        "                  'terrace',\n",
        "                  'thermal_power_station',\n",
        "                  'wetland']\n",
        "        mask = np.isin(classes, scenes)\n",
        "        classes = classes[mask]\n",
        "        filterset = np.arange(len(mask))[mask]\n",
        "        mask = np.isin(labels, filterset)\n",
        "        labels = labels[mask]\n",
        "        data = data[mask]\n",
        "        setlabs = list(set(labels))\n",
        "        labels = np.array([setlabs.index(x) for x in labels])\n",
        "    #img_size = train_data.shape[2]\n",
        "    c_dim = classes.shape[0]\n",
        "\n",
        "    train_data, test_data, train_labels, test_labels = train_test_split(data, labels, test_size = test_size, stratify = labels)\n",
        "\n",
        "    xtrain, xval, ytrain, yval = train_test_split(train_data, train_labels, test_size = val_size)\n",
        "    trainset = make_dataset(xtrain,ytrain)\n",
        "    train_loader = DataLoader(trainset, batch_size=int(batch_n), shuffle=True)\n",
        "\n",
        "    valset = make_dataset(xval, yval)\n",
        "    val_loader = torch.utils.data.DataLoader(valset, batch_n, drop_last = True, shuffle=True)\n",
        "\n",
        "    testset = make_dataset(test_data, test_labels)\n",
        "    test_loader = torch.utils.data.DataLoader(testset, batch_n, drop_last = True, shuffle=True)\n",
        "    if nwaykshot==True:\n",
        "        return trainset, val_loader, test_loader, c_dim, classes, ytrain\n",
        "    return train_loader, val_loader, test_loader, c_dim, classes\n",
        "def tasksplit_uneven(x,y,Params):\n",
        "    ## split inner and outer loop by incidies\n",
        "    skip =2 \n",
        "    idx = idx = torch.arange(start =1, end=x.shape[0]+1).bool()\n",
        "    idx[::skip] = False\n",
        "    x_inner = x[idx]\n",
        "    y_inner = y[idx]\n",
        "    x_outer = x[~idx]\n",
        "    y_outer = y[~idx]\n",
        "    return x_inner, x_outer, y_inner,y_outer"
      ],
      "execution_count": 4,
      "outputs": []
    },
    {
      "cell_type": "code",
      "metadata": {
        "id": "2XGWrhP0KSya"
      },
      "source": [
        "\n",
        "import learn2learn as l2l\n",
        "def taskStructure(dataset,Params,trainlabels): ## pass train into here\n",
        "    print(trainlabels)\n",
        "    labels= {}\n",
        "    for i in range(Params['num_classes']):\n",
        "        labels[i] = [j for j, x in enumerate(trainlabels) if x == i]\n",
        "    metaDataset = l2l.data.MetaDataset(dataset,labels_to_indices=labels)\n",
        "    \n",
        "    transforms = [\n",
        "    ## need kshots*2 for inner and outer loop split accross each task\n",
        "        l2l.data.transforms.FusedNWaysKShots(metaDataset,n=Params['nways'],k=Params['kshots']*2,replacement=False),\n",
        "        l2l.data.transforms.LoadData(metaDataset),\n",
        "        l2l.data.transforms.ConsecutiveLabels(metaDataset)\n",
        "    ]\n",
        "    taskset = l2l.data.TaskDataset(metaDataset,\n",
        "                                   transforms,\n",
        "                                   num_tasks=len(dataset)/(Params['nways']*Params['kshots']*2))\n",
        "        \n",
        "    return taskset\n"
      ],
      "execution_count": 5,
      "outputs": []
    },
    {
      "cell_type": "code",
      "metadata": {
        "id": "euJKRHjg62sI"
      },
      "source": [
        "class Conv_Pred(nn.Module):\n",
        "    def __init__(self):\n",
        "        super(Conv_Pred, self).__init__()\n",
        "        \n",
        "        self.conv1 = nn.Conv2d(3, 32, 4, 2, 1) # Input: (batch_size, 3, img_size, img_size)\n",
        "        self.conv2 = nn.Conv2d(32, 64, 4, 2, 1, bias = False)\n",
        "        self.conv2_bn = nn.BatchNorm2d(64)\n",
        "        self.conv3 = nn.Conv2d(64, 128, 4, 2, 1, bias = False)\n",
        "        self.conv3_bn = nn.BatchNorm2d(128)\n",
        "        self.conv4 = nn.Conv2d(128, 256, 4, 2, 1, bias = False)\n",
        "        self.conv4_bn = nn.BatchNorm2d(256)\n",
        "        self.conv5 = nn.Conv2d(256, 512, 4, 2, 1, bias = False)\n",
        "        self.conv5_bn = nn.BatchNorm2d(512)\n",
        "        self.conv6 = nn.Conv2d(512, 1024, 4, 2, 1, bias = False)\n",
        "        self.conv6_bn = nn.BatchNorm2d(1024)\n",
        "        \n",
        "        self.fce = nn.Linear(1024, 26)\n",
        "\n",
        "\n",
        "    def weight_init(self):\n",
        "        for m in self._modules:\n",
        "            normal_init(self._modules[m])\n",
        "\n",
        "    def forward(self, x):\n",
        "        x = x/127.5 - 1.0\n",
        "        x = F.relu(self.conv1(x), 0.2)\n",
        "        x = F.relu(self.conv2_bn(self.conv2(x)))\n",
        "        x = F.relu(self.conv3_bn(self.conv3(x)))\n",
        "        x = F.relu(self.conv4_bn(self.conv4(x)))\n",
        "        x = F.relu(self.conv5_bn(self.conv5(x)))\n",
        "        x = F.relu(self.conv6_bn(self.conv6(x)))\n",
        "\n",
        "        z = nn.Softmax(dim=1)(self.fce(x.squeeze()))\n",
        "\n",
        "        return z\n",
        "\n",
        "    def save(self, name):\n",
        "        print('saving...')\n",
        "        torch.save({\n",
        "            'model_state_dict': self.state_dict() #,\n",
        "            #'optimizer_state_dict': self.optimizer.state_dict(),\n",
        "        }, dir+name+'.pt')\n",
        "\n",
        "    def load(self, name):\n",
        "        print('loading...')\n",
        "        checkpoint = torch.load(dir+name+'.pt')\n",
        "        self.load_state_dict(checkpoint['model_state_dict'])\n",
        "        #self.optimizer.load_state_dict(checkpoint['optimizer_state_dict'])\n",
        "\n",
        "\n",
        "def get_model(mtype, lr=0.0006, train=True,load=False):\n",
        "    model = Conv_Pred().to(device)\n",
        "    model.weight_init()\n",
        "    if load==True:\n",
        "        try: model.load(mtype)\n",
        "        except: pass\n",
        "    if train == True:\n",
        "        model.train()\n",
        "    else:\n",
        "        model.eval()\n",
        "    return model\n",
        "\n",
        "\n",
        "def normal_init(m):\n",
        "    if isinstance(m, nn.ConvTranspose2d) or isinstance(m, nn.Conv2d):\n",
        "        m.weight.data.normal_(0.0, 0.02)\n",
        "\n",
        "def one_hot_embedding(labels, dims):\n",
        "    labels = torch.nn.functional.one_hot(torch.tensor(labels).to(torch.int64), num_classes = dims)\n",
        "    return torch.squeeze(labels)\n",
        "\n",
        "def accuracy_topk(output, target, topk=(3,)):\n",
        "    #https://forums.fast.ai/t/return-top-k-accuracy/27658\n",
        "    \"\"\"Computes the precision@k for the specified values of k\"\"\"\n",
        "    maxk = max(topk)\n",
        "    batch_size = target.size(0)\n",
        "\n",
        "    _, pred = output.topk(maxk, 1, True, True)\n",
        "    pred = pred.t()\n",
        "    correct = pred.eq(target.reshape(1, -1).expand_as(pred))\n",
        "\n",
        "    res = []\n",
        "    for k in topk:\n",
        "        correct_k = correct[:k].reshape(-1).float().sum(0, keepdim=True)\n",
        "        res.append(correct_k.mul_(100.0 / batch_size))\n",
        "    return res[0]"
      ],
      "execution_count": 6,
      "outputs": []
    },
    {
      "cell_type": "code",
      "metadata": {
        "id": "s2EgNWGeVP7h"
      },
      "source": [
        "## for general MAML\n",
        "class ConvolutionalNeuralNetwork(MetaModule):\n",
        "    def __init__(self,Params,in_channels=3,out_features=45,hidden_size=2):\n",
        "        super(ConvolutionalNeuralNetwork, self).__init__()\n",
        "        self.in_channels = Params['in_channels']\n",
        "        self.out_features = Params['num_classes']\n",
        "        self.hidden_size = Params['hidden_size']\n",
        "\n",
        "        self.features  = MetaSequential(\n",
        "            MetaConv2d(in_channels,hidden_size**5,kernel_size=4,stride=2,padding=1),\n",
        "            nn.ReLU(),\n",
        "            MetaConv2d(hidden_size**5,hidden_size**6,kernel_size=4,stride=2,padding=1,bias=False),\n",
        "            MetaBatchNorm2d(hidden_size**6),\n",
        "            nn.ReLU(),\n",
        "            MetaConv2d(hidden_size ** 6, hidden_size ** 7, kernel_size=4, stride=2, padding=1, bias=False),\n",
        "            MetaBatchNorm2d(hidden_size**7),\n",
        "            nn.ReLU(),\n",
        "            MetaConv2d(hidden_size ** 7, hidden_size ** 8, kernel_size=4, stride=2, padding=1, bias=False),\n",
        "            MetaBatchNorm2d(hidden_size ** 8),\n",
        "            nn.ReLU(),\n",
        "            MetaConv2d(hidden_size ** 8, hidden_size ** 9, kernel_size=4, stride=2, padding=1, bias=False),\n",
        "            MetaBatchNorm2d(hidden_size ** 9),\n",
        "            nn.ReLU(),\n",
        "            MetaConv2d(hidden_size ** 9, hidden_size ** 10, kernel_size=4, stride=2, padding=1, bias=False),\n",
        "            MetaBatchNorm2d(hidden_size ** 10),\n",
        "            nn.ReLU(),\n",
        "        )\n",
        "        self.fce = MetaLinear(self.hidden_size**10, 26)\n",
        "\n",
        "\n",
        "\n",
        "    def weight_init(self):\n",
        "        for m in self._modules:\n",
        "            normal_init(self._modules[m])\n",
        "    def forward(self, inputs, params=None):\n",
        "        features = self.features(inputs, params=self.get_subdict(params, 'features'))\n",
        "        features = features.view((features.size(0), -1))\n",
        "        logits = self.fce(features, params=self.get_subdict(params, 'classifier'))\n",
        "        return logits\n",
        "        \n",
        "    def save(self, name):\n",
        "        print('saving...')\n",
        "        torch.save({\n",
        "            'model_state_dict': self.state_dict() #,\n",
        "            #'optimizer_state_dict': self.optimizer.state_dict(),\n",
        "        }, dir+name+'.pt')\n",
        "\n",
        "    def load(self, name):\n",
        "        print('loading...')\n",
        "        checkpoint = torch.load(dir+name+'.pt')\n",
        "        self.load_state_dict(checkpoint['model_state_dict'])\n",
        "\n",
        "def get_meta_model(Params,train=True,load=False):\n",
        "    model = ConvolutionalNeuralNetwork(Params).to(device)\n",
        "    model.weight_init()\n",
        "    if load==True:\n",
        "        try: model.load(mtype)\n",
        "        except: pass\n",
        "    if train == True:\n",
        "        model.train()\n",
        "    else:\n",
        "        model.eval()\n",
        "    return model"
      ],
      "execution_count": 7,
      "outputs": []
    },
    {
      "cell_type": "code",
      "metadata": {
        "id": "a0JZD2K589Mw"
      },
      "source": [
        "#augmentation_functions.py\n",
        "\n",
        "class addGaussianNoise(object):\n",
        "    def __init__(self, mean=0.0, std=1.0, p=0.5):\n",
        "        self.mean = torch.tensor(mean).to(device)\n",
        "        self.std = torch.tensor(std).to(device)\n",
        "        self.p = p\n",
        "      \n",
        "    def __call__(self, img):\n",
        "        if torch.rand(1).item() < self.p:\n",
        "            return img + torch.randn(img.size(), device = device) * self.std + self.mean\n",
        "        return img\n",
        "        \n",
        "    def __repr__(self):\n",
        "        return self.__class__.__name__ + '(mean={0}, std={1}, p={2})'.format(self.mean, self.std, self.p)\n",
        "\n",
        "def applyAugs(img_batch, task_idx, num_augs=7):\n",
        "    # returns augmented batch of images based on task index (0:128)\n",
        "    # currently based on exactly 7 transforms \n",
        "\n",
        "    transform_list = [transforms.RandomHorizontalFlip(p=0.99),\n",
        "                      transforms.RandomVerticalFlip(p=0.99),\n",
        "                      transforms.RandomRotation(359.0, fill=0.5),\n",
        "                      transforms.RandomPerspective(distortion_scale=0.1, p=0.99, fill=0.5),\n",
        "                      transforms.RandomResizedCrop(96,\n",
        "                                                   scale=(0.5, 1.0),\n",
        "                                                   ratio=(0.8, 1.0)),\n",
        "                                                   #interpolation=transforms.InterpolationMode.BILINEAR),\n",
        "                      addGaussianNoise(std=0.1, p=0.99),\n",
        "                      # transforms.ColorJitter(saturation=4.0, hue=0.01),\n",
        "                      transforms.ColorJitter(brightness=0.5, contrast=0.9)\n",
        "                      # ,transforms.GaussianBlur(9, sigma=(0.01, 2.0))\n",
        "                      ]\n",
        "       \n",
        "    tasklist = list(itertools.product([0, 1], repeat=num_augs))\n",
        "    current_augs = tasklist[task_idx]\n",
        "\n",
        "    task_transforms = [transform_list[i] for i,x in enumerate(current_augs) if x==1]\n",
        "    transform = torchvision.transforms.Compose(task_transforms)\n",
        "    img_batch = transform(img_batch)\n",
        "    return img_batch\n",
        "\n",
        "def getAugmentationTransforms(task_idx, num_augs=7):\n",
        "    # returns transforms.Compose function of transforms based on task index (0:128)\n",
        "    # currently based on exactly 7 transforms \n",
        "\n",
        "    transform_list = [transforms.RandomHorizontalFlip(p=0.99),\n",
        "                      transforms.RandomVerticalFlip(p=0.99),\n",
        "                      transforms.RandomRotation(359.0, fill=0.5),\n",
        "                      transforms.RandomPerspective(distortion_scale=0.1, p=0.99, fill=0.5),\n",
        "                      transforms.RandomResizedCrop(256,\n",
        "                                                   scale=(0.5, 1.0),\n",
        "                                                   ratio=(1.0, 1.0),\n",
        "                                                   interpolation=transforms.InterpolationMode.BILINEAR),\n",
        "                      addGaussianNoise(std=0.1, p=0.99),\n",
        "                      # transforms.ColorJitter(saturation=4.0, hue=0.01),\n",
        "                      transforms.ColorJitter(brightness=0.5, contrast=0.9)\n",
        "                      # ,transforms.GaussianBlur(9, sigma=(0.01, 2.0))\n",
        "                      ]\n",
        "       \n",
        "    tasklist = list(itertools.product([0, 1], repeat=num_augs))\n",
        "    current_augs = tasklist[task_idx]\n",
        "\n",
        "    task_transforms = [transform_list[i] for i,x in enumerate(current_augs) if x==1]\n",
        "    transform = torchvision.transforms.Compose(task_transforms)\n",
        "\n",
        "    return transform\n",
        "\n",
        "# utility functions\n",
        "# images must be normalized and converted to torch shape before augmentations (3,h,w)\n",
        "# converted to numpy shape for displaying (h,w,3)\n",
        "\n",
        "def normalizeImages(x):\n",
        "  x = x/255.\n",
        "  return x\n",
        "\n",
        "def convertToTorch(x):\n",
        "  x = np.moveaxis(x, 3, 1)\n",
        "  x = torch.as_tensor(x)\n",
        "  return x\n",
        "\n",
        "def convertToNumpy(x):\n",
        "  # convert back to format for displaying\n",
        "  x = x.numpy()\n",
        "  x = np.moveaxis(x, 1, 3)  \n",
        "  return x"
      ],
      "execution_count": 8,
      "outputs": []
    },
    {
      "cell_type": "code",
      "metadata": {
        "id": "5ykjpav_7GRG"
      },
      "source": [
        "def train(n_epochs, learning_rate, learning_rate1, train_loader, val_loader, c_dim, mtype, augs=True, print_stride1=print_stride):\n",
        "    epoch_tracker, loss_tracker, val_accs, val_topks = [], [], [], []\n",
        "    i = 0\n",
        "    tasks = 128\n",
        "\n",
        "    model = get_model(mtype=mtype)\n",
        "    model_optimizer = optim.Adam(model.parameters(), lr = learning_rate)\n",
        "    for epoch in range(1, n_epochs+1):\n",
        "\n",
        "        losses = []\n",
        "\n",
        "        for X, y in train_loader:\n",
        "\n",
        "            y = one_hot_embedding(y, c_dim).float().to(device)\n",
        "\n",
        "            if mtype=='MAML':\n",
        "\n",
        "                X1 = X[:int(X.shape[0]/2)].float().clone().to(device)\n",
        "                X2 = X[int(X.shape[0]/2):].float().clone().to(device)\n",
        "                y1 = y[:int(y.shape[0]/2)].float().clone().to(device)\n",
        "                y2 = y[int(y.shape[0]/2):].float().clone().to(device)\n",
        "\n",
        "                task_batch1 = applyAugs(X1, int(i%tasks)).to(device)\n",
        "                task_batch2 = applyAugs(X2, int(i%tasks)).to(device)\n",
        "                i += 1\n",
        "\n",
        "                model1 = copy.deepcopy(model).to(device)\n",
        "                model1_optimizer = optim.Adam(model1.parameters(), lr = learning_rate1)\n",
        "\n",
        "                for param in model.parameters(): param.grad = None\n",
        "                for param in model1.parameters(): param.grad = None\n",
        "\n",
        "                yhat = model1(task_batch1)\n",
        "                pred_loss = bce_loss(yhat, y1)\n",
        "                pred_loss.backward()\n",
        "\n",
        "                model1_optimizer.step()\n",
        "\n",
        "                losses += [pred_loss.item()]\n",
        "                for param in model.parameters(): param.grad = None\n",
        "                for param in model1.parameters(): param.grad = None\n",
        "\n",
        "                yhat = model1(task_batch2)\n",
        "                pred_loss = bce_loss(yhat, y2)\n",
        "                pred_loss.backward()\n",
        "\n",
        "                for m1, m2 in zip(model.named_parameters(), model1.named_parameters()):\n",
        "                    m1[1].grad = m2[1].grad.clone()\n",
        "            else: \n",
        "              \n",
        "                X = X.float().clone().to(device)\n",
        "                t = np.random.randint(tasks)\n",
        "\n",
        "                if augs: X = applyAugs(X, t).to(device)\n",
        "\n",
        "                for param in model.parameters(): param.grad = None\n",
        "\n",
        "                yhat = model(X)\n",
        "                pred_loss = bce_loss(yhat, y)\n",
        "                pred_loss.backward()\n",
        "\n",
        "            model_optimizer.step()\n",
        "\n",
        "            losses += [pred_loss.item()]\n",
        "            \n",
        "        \n",
        "        if epoch % print_stride1 == 0:\n",
        "            print('Epoch {} - loss: {:.3f}'.format((epoch), torch.mean(torch.FloatTensor(losses))))\n",
        "\n",
        "            loss_tracker.append(torch.mean(torch.FloatTensor(losses)))\n",
        "            \n",
        "            with torch.no_grad():\n",
        "                accs, actk = [], []\n",
        "                for x, y in val_loader:\n",
        "                    x, y = x.to(device).float(), y.to(device).float()\n",
        "                    yhat = model(x)\n",
        "                    \n",
        "                    yhat_max = torch.max(yhat, dim = 1)[1]\n",
        "                    \n",
        "                    correct = torch.sum(yhat_max == y)\n",
        "                    size = x.shape[0]\n",
        "                    \n",
        "                    acc_topk = accuracy_topk(yhat, y)\n",
        "                    actk.append(acc_topk.data.item())\n",
        "                    \n",
        "                    accs.append(100*(correct/size).data.item())\n",
        "\n",
        "                print('Validation Accuracy: ', torch.mean(torch.FloatTensor(accs)).data.item())\n",
        "                print('Validation Top3 Accuracy: ', torch.mean(torch.FloatTensor(actk)).data.item())\n",
        "                \n",
        "            val_accs.append(torch.mean(torch.FloatTensor(accs)))\n",
        "            val_topks.append(torch.mean(torch.FloatTensor(actk)))\n",
        "            epoch_tracker.append(epoch)\n",
        "          \n",
        "    np.save(dir+mtype+'_loss_tracker.npy', loss_tracker) \n",
        "    np.save(dir+mtype+'_val_topks.npy', val_topks)\n",
        "    np.save(dir+mtype+'_val_accs.npy', val_accs)\n",
        "    np.save(dir+'epoch_tracker.npy', epoch_tracker)\n",
        "    model.save(mtype)\n",
        "\n",
        "    return model, loss_tracker, val_topks, val_accs, epoch_tracker\n",
        "\n"
      ],
      "execution_count": 9,
      "outputs": []
    },
    {
      "cell_type": "code",
      "metadata": {
        "id": "BRED1GMzkM_7"
      },
      "source": [
        "## MORE MMAML FEATURES N TASK BATCH SIZE AND REGULARIZIAING INNER LOOP TO MIDIGATE FIRST ORDER APROXIMATION\n",
        "def train2(n_epochs, learning_rate, learning_rate1, train_loader, val_loader, c_dim, mtype,print_stride1 = print_stride, trainset= None, nwaykshot=False , train_labels = None,Params=None):\n",
        "    epoch_tracker, loss_tracker, val_accs, val_topks = [], [], [], []\n",
        "    i = 0\n",
        "    tasks = 128\n",
        "    alpha=.008\n",
        "    print(mtype)\n",
        "    model = get_model(mtype=mtype)\n",
        "    model_optimizer = optim.Adam(model.parameters(), lr = learning_rate,weight_decay=0)\n",
        "    n=32\n",
        "    for epoch in range(1, n_epochs+1):\n",
        "        if nwaykshot==True:\n",
        "                train_loader = taskStructure(trainset,Params,train_labels)\n",
        "        losses = []\n",
        "        j=0\n",
        "        TasksInOuterSum = n\n",
        "        pred_loss=torch.tensor(0.)\n",
        "        model3=copy.deepcopy(model).to(device)## we will store all the grads here in this model it will act as a container\n",
        "        for param in model3.parameters(): param.grad = torch.zeros_like(param,dtype=torch.float, requires_grad=True,device=device).float() ## set grads equal to o\n",
        "\n",
        "        for X, y in train_loader:\n",
        "            i = torch.randint(high=127, size=(1, 1)).item()\n",
        "            y = one_hot_embedding(y, c_dim).float().to(device)\n",
        "\n",
        "            if mtype=='MAML2':\n",
        "                ## I added support for having the outer loop contain multiple tasks, it has been cited by Cheasea finn, \n",
        "                #the creator of MAML for fast adaption this is where the model does the most work the outerloop, so we will back load it with 256 images instead of 32\n",
        "                # This will be done by doing the update of the j variable is a multiple of n, for instance if n is = 8 in the code see line  so we get 8*32=256 images all form same tasks as the inner loop per outer update\n",
        "                X = applyAugs(X.float().clone().to(device), int(i))## I put the aug here to make sure that outer and inner loop train on same task as in the MAML paper\n",
        "\n",
        "                ## data prep for inner and outer loop\n",
        "                task_batch1 = X[:int(X.shape[0]/2)].float().clone().to(device)\n",
        "                task_batch2 = X[int(X.shape[0]/2):].float().clone().to(device) ## now each batch\n",
        "                y1 = y[:int(y.shape[0]/2)].float().clone().to(device)\n",
        "                y2 = y[int(y.shape[0]/2):].float().clone().to(device)\n",
        "                ## start inner loop\n",
        "                ## with first order we update the models weights after each inner loop to prevent the hessian update\n",
        "                ## We wish to find a good intiiallzation point for all tasks so this inner loop should either have a small learning rate or a regularizer\n",
        "                ## I will use a regulizer to enforce some closeness to the initial point, note te more images we have in the outer loop update step the further we will be \n",
        "                ## from the initialization point, ideally maml without any apoximation calls aims to acheive this\n",
        "                \n",
        "                ## get logits with the loss for the inner loop\n",
        "                model1 = copy.deepcopy(model).to(device)\n",
        "                model1_optimizer = optim.Adam(model1.parameters(), lr = learning_rate1,weight_decay =alpha)\n",
        "\n",
        "                for param in model.parameters(): param.grad = None\n",
        "                for param in model1.parameters(): param.grad = None\n",
        "\n",
        "                inner_logit = model1(task_batch1)\n",
        "                inner_loss = bce_loss(inner_logit, y1)\n",
        "                inner_loss.backward() ## innner backwards\n",
        "                model1_optimizer.step() ## inner loss update not on orginal model\n",
        "                losses += [inner_loss.item()]\n",
        "\n",
        "                for param in model.parameters(): param.grad = None\n",
        "                for param in model1.parameters(): param.grad = None\n",
        "\n",
        "                ## now with the updated_params dict we will take outerloop without updating the params on the inner loop\n",
        "                outer_logit =  model1(task_batch2) ## get outer logits  with inner loss's params\n",
        "                outer_loss = bce_loss(outer_logit,y2)\n",
        "                outer_loss.backward()\n",
        "\n",
        "                for m1, m2 in zip(model3.named_parameters(), model1.named_parameters()): ## add weights to container\n",
        "                    m1[1].grad = m1[1].grad + m2[1].grad.clone()\n",
        "\n",
        "                ## we will now update the model after seeing our n tasks with j%n\n",
        "                ## time to clone\n",
        "                if j%TasksInOuterSum ==0:\n",
        "                    for m1, m2 in zip(model.named_parameters(), model3.named_parameters()):\n",
        "                        m1[1].grad = m2[1].grad.clone()\n",
        "                    ## do the update here\n",
        "                    model_optimizer.step()\n",
        "                    for param in model.parameters(): param.grad = None\n",
        "                    for param in model1.parameters(): param.grad = None\n",
        "                    for param in model3.parameters(): param.grad = torch.zeros_like(param,dtype=torch.float, requires_grad=True,device=device).float() ## set grads equal to o\n",
        "                losses += [outer_loss.item()]\n",
        "    \n",
        "            else: \n",
        "              \n",
        "                X = X.float().clone().to(device)\n",
        "                t = np.random.randint(tasks)\n",
        "                task_batch = applyAugs(X, t).to(device)\n",
        "\n",
        "                for param in model.parameters(): param.grad = None\n",
        "\n",
        "                yhat = model(task_batch)\n",
        "                pred_loss = bce_loss(yhat, y)\n",
        "                pred_loss.backward()\n",
        "                ## moved these inside, We only wish to do it for the cnn\n",
        "                model_optimizer.step()\n",
        "            losses += [pred_loss.item()]\n",
        "            \n",
        "        \n",
        "        if epoch % print_stride1 == 0:\n",
        "\n",
        "            print('Epoch {} - loss: {:.3f}'.format((epoch), torch.mean(torch.FloatTensor(losses))))\n",
        "\n",
        "            loss_tracker.append(torch.mean(torch.FloatTensor(losses)))\n",
        "            \n",
        "            with torch.no_grad():\n",
        "                accs, actk = [], []\n",
        "                for x, y in val_loader:\n",
        "                    x, y = x.to(device).float(), y.to(device).float()\n",
        "                    yhat = model(x)\n",
        "                    \n",
        "                    yhat_max = torch.max(yhat, dim = 1)[1]\n",
        "                    \n",
        "                    correct = torch.sum(yhat_max == y)\n",
        "                    size = x.shape[0]\n",
        "\n",
        "                    acc_topk = accuracy_topk(yhat, y)\n",
        "                    actk.append(acc_topk.data.item())\n",
        "                    \n",
        "                    accs.append(100*(correct/size).data.item())\n",
        "\n",
        "            print('Validation Accuracy: ', torch.mean(torch.FloatTensor(accs)).data.item())\n",
        "            print('Validation Top3 Accuracy: ', torch.mean(torch.FloatTensor(actk)).data.item())\n",
        "            val_accs.append(torch.mean(torch.FloatTensor(accs)))\n",
        "            val_topks.append(torch.mean(torch.FloatTensor(actk)))\n",
        "            epoch_tracker.append(epoch)\n",
        "    np.save(dir+mtype+'_loss_tracker.npy', loss_tracker) \n",
        "    np.save(dir+mtype+'_val_topks.npy', val_topks)\n",
        "    np.save(dir+mtype+'_val_accs.npy', val_accs)\n",
        "    np.save(dir+'epoch_tracker.npy', epoch_tracker)\n",
        "    model.save(mtype)\n",
        "\n",
        "    return model, loss_tracker, val_topks, val_accs, epoch_tracker\n",
        "\n",
        "\n"
      ],
      "execution_count": 10,
      "outputs": []
    },
    {
      "cell_type": "code",
      "metadata": {
        "id": "OdbD-N3tV19X"
      },
      "source": [
        "## general mamal train\n",
        "from torchmeta.utils.gradient_based import gradient_update_parameters\n",
        "import torch.nn.functional as F\n",
        "\n",
        "\n",
        "def trainMAML(mtype,model, train_tasks, Params, val_loader, print_stride1, nwaykshot=False, trainset=False,train_labels=False):  ## go through data set\n",
        "\n",
        "\n",
        "    epoch_tracker, loss_tracker, val_accs, val_topks,trainacc = [], [], [], [],[]\n",
        "    device = torch.device('cuda' if torch.cuda.is_available() else 'cpu')\n",
        "    model.train()\n",
        "    model.to(device)\n",
        "\n",
        "    if mtype!='MAMLnk':\n",
        "        return False\n",
        "\n",
        "      # keeping track of tasks seen make sure to see entrie dataset\n",
        "\n",
        "    for epoch in range(1, Params['epoch']+1):\n",
        "\n",
        "        tracc, trlosses= looptrain(Params,model,train_tasks,nwaykshot,trainset=trainset,train_labels= train_labels)\n",
        "\n",
        "        trainacc.append(tracc)\n",
        "        loss_tracker.append(trlosses)\n",
        "        with torch.no_grad():\n",
        "            accs, actk = [], []\n",
        "            for x, y in val_loader:\n",
        "                x, y = x.to(device).float(), y.to(device).float()\n",
        "                yhat = model(x)\n",
        "                \n",
        "                yhat_max = torch.max(yhat, dim = 1)[1]\n",
        "                \n",
        "                correct = torch.sum(yhat_max == y)\n",
        "                size = x.shape[0]\n",
        "                \n",
        "                acc_topk = accuracy_topk(yhat, y)\n",
        "                actk.append(acc_topk.data.item())\n",
        "                \n",
        "                accs.append(100*(correct/size).data.item())\n",
        "                ac = torch.mean(torch.FloatTensor(accs)).data.item()\n",
        "                top = torch.mean(torch.FloatTensor(actk)).data.item()\n",
        "            if epoch%print_stride1==0:\n",
        "                print('On Epoch ',epoch)\n",
        "                print('Train Loss', loss_tracker[-1])\n",
        "                print('Validation Accuracy: ', ac)\n",
        "                print('Validation Top3 Accuracy: ', top)\n",
        "            val_accs.append(ac)\n",
        "            val_topks.append(top)\n",
        "            epoch_tracker.append(epoch)\n",
        "        ac = torch.mean(torch.FloatTensor(accs)).data.item()\n",
        "        top = torch.mean(torch.FloatTensor(actk)).data.item()\n",
        "        if epoch%20==0:\n",
        "            Params['MetaLR']*=.5\n",
        "            Params['innerStep']*=.5\n",
        "    model.save(mtype)\n",
        "    return model, epoch_tracker[::print_stride1], loss_tracker[::print_stride1], val_accs[::print_stride1], val_topks[::print_stride1], trainacc[::print_stride1]\n",
        "def looptrain(Params,model,train_loader,nwaykshot=False,trainset=None,train_labels=None):\n",
        "    trainacc,trainloss = [], []\n",
        "    if nwaykshot==True:\n",
        "        train_loader = taskStructure(trainset,Params,train_labels)\n",
        "    shape=0\n",
        "    j = 0\n",
        "    meta_optimizer = torch.optim.Adam(model.parameters(), lr=Params['MetaLR']*5/64)\n",
        "    outer_loss = torch.tensor(0., device=device)\n",
        "    for task in train_loader:\n",
        "        i = torch.randint(high=127, size=(1, 1)).item()\n",
        "        model.zero_grad()\n",
        "        loss_amount = 0 \n",
        "        ## call augments on the fly\n",
        "        x, y = task\n",
        "        shape+= y.shape[0]\n",
        "        x = x.float().to(device)\n",
        "        y = y.long().to(device)\n",
        "        x_inner, x_outer, y_inner, y_outer = tasksplit_uneven(applyAugs(x, i), y,\n",
        "                                                        Params)  ## split task for inner/ ouyter with same augs\n",
        "        train_logit = model(x_inner)\n",
        "        inner_loss = F.cross_entropy(train_logit, y_inner)\n",
        "        loss_amount += inner_loss.item()\n",
        "        model.zero_grad()\n",
        "        params = gradient_update_parameters(model,\n",
        "                                            inner_loss,\n",
        "                                            params=None,\n",
        "                                            step_size=Params[\"innerStep\"]*5/16,\n",
        "                                            first_order=Params['Order'])\n",
        "        test_logit = model(x_outer,\n",
        "                        params=params)  ## take the loss fucntions using the params of this task specific inner loop\n",
        "        current_outer_loss = F.cross_entropy(test_logit, y_outer)\n",
        "        outer_loss += current_outer_loss ## sum this inot the outer loop\n",
        "        current_outer_loss.div_(len(x_outer))\n",
        "        \n",
        "        yhat_max = torch.max(test_logit, dim = 1)[1]\n",
        "        correct = torch.sum(yhat_max == y_outer)\n",
        "        size = x.shape[0]\n",
        "        acc = 100*(correct/size).data.item()\n",
        "        trainacc.append(acc)\n",
        "        if j % Params['number_of_tasks'] == 0:  ## we hit number of tasks if this =0 then we do the outer loop with the update as a sum \n",
        "            outer_loss.backward()\n",
        "            loss_amount += outer_loss.item()\n",
        "            meta_optimizer.step()\n",
        "            outer_loss = torch.tensor(0., device=device)\n",
        "            for param in model.parameters(): param.grad = None\n",
        "        elif outer_loss.item()!= 0 and 5040 -shape< 2*Params['nways']*Params['kshots']+33: ## do not waste those computations!\n",
        "            outer_loss.backward()\n",
        "            loss_amount += outer_loss.item()\n",
        "            meta_optimizer.step()\n",
        "            outer_loss = torch.tensor(0., device=device)\n",
        "            for param in model.parameters(): param.grad = None\n",
        "        j += 1\n",
        "    meta_optimizer.zero_grad()\n",
        "    model.zero_grad()\n",
        "    train_accuracy = torch.mean(torch.FloatTensor(trainacc)).data.item()\n",
        "    train_losses = loss_amount/shape\n",
        "    return train_accuracy, train_losses"
      ],
      "execution_count": 11,
      "outputs": []
    },
    {
      "cell_type": "code",
      "metadata": {
        "id": "qXe2IDIA6wws"
      },
      "source": [
        "def make_train_plot(MAML_loss_tracker, CNN_Aug_loss_tracker, CNN_loss_tracker, MAML_val_accs, CNN_Aug_val_accs, CNN_val_accs, MAML_val_topks, CNN_Aug_val_topks, CNN_val_topks, epoch_tracker,MAML_loss_tracker2,MAML_val_accs2,MAML_val_topks2,):#MAML_nk_loss_tracker, MAML_nk_val_accs, MAML_nk_val_topk):\n",
        "    #plt.plot(epoch_tracker, MAML_loss_tracker, label = 'MAML train loss')\n",
        "    #plt.plot(epoch_tracker, CNN_Aug_loss_tracker, label = 'CNN Aug train loss')\n",
        "    #plt.plot(epoch_tracker, CNN_loss_tracker, label = 'CNN train loss')\n",
        "    plt.figure(figsize = (15,8))\n",
        "    plt.plot(epoch_tracker, MAML_val_accs, label = 'First order MAML val acc', color='green', linestyle='dashed')\n",
        "    plt.plot(epoch_tracker, MAML_val_accs2, label = 'First order MAML* val acc', color='orange', linestyle='dashed')\n",
        "\n",
        "    plt.plot(epoch_tracker, CNN_Aug_val_accs, label = 'CNN Aug val acc', color='blue', linestyle='dashed')\n",
        "    plt.plot(epoch_tracker, CNN_val_accs, label = 'CNN val acc', color='red', linestyle='dashed')\n",
        "    plt.plot(epoch_tracker, MAML_val_topks, label = 'First order MAML val top3', color='green')\n",
        "    plt.plot(epoch_tracker, MAML_val_topks2, label = 'First order MAML* val top3', color='orange')\n",
        "\n",
        "    # plt.plot(epoch_tracker, MAML_nk_val_accs, label = 'MAML 32 way 1 shot val acc', color='yellow',linestyle='dashed')\n",
        "    # plt.plot(epoch_tracker, MAML_nk_val_topk, label = 'MAML 32 way 1 shot val top3', color='yellow')\n",
        "    \n",
        "    plt.plot(epoch_tracker, CNN_Aug_val_topks, label = 'CNN_Aug_val top3', color='blue')\n",
        "    plt.plot(epoch_tracker, CNN_val_topks, label = 'CNN_val top3', color='red')\n",
        "    plt.legend(loc = 'best')\n",
        "    plt.show()\n",
        "\n",
        "def make_two_plots(epoch_tracker, MAML_loss_tracker, CNN_Aug_loss_tracker, CNN_loss_tracker, MAML_val_accs, CNN_Aug_val_accs, CNN_val_accs,MAML_loss_tracker2,MAML_val_accs2,MAML_val_topks2):\n",
        "    fig, (ax1, ax2) = plt.subplots(1,2)\n",
        "    fig.set_size_inches(15,8)\n",
        "    ax1.plot(epoch_tracker, MAML_loss_tracker, label = 'First order MAML train loss', color='green')\n",
        "    ax1.plot(epoch_tracker, MAML_loss_tracker2, label = 'First order MAML* train loss', color='orange')\n",
        "\n",
        "    ax1.plot(epoch_tracker, CNN_Aug_loss_tracker, label = 'CNN Aug train loss', color='blue')\n",
        "    ax1.plot(epoch_tracker, CNN_loss_tracker, label = 'CNN train loss', color='red')\n",
        "    ax1.legend(loc = 'best')\n",
        "    ax2.plot(epoch_tracker, MAML_val_accs, label = 'First order MAML val acc', color='green')\n",
        "    ax2.plot(epoch_tracker, MAML_val_accs2, label = 'First order MAML* val acc', color='orange')\n",
        "\n",
        "    ax2.plot(epoch_tracker, CNN_Aug_val_accs, label = 'CNN Aug val acc', color='blue')\n",
        "    ax2.plot(epoch_tracker, CNN_val_accs, label = 'CNN val acc', color='red')\n",
        "    ax2.legend(loc = 'best')\n",
        "    plt.tight_layout()\n",
        "    plt.show()\n",
        "\n",
        "def basic_train_plot(epoch_tracker, MAML_loss_tracker, CNN_Aug_loss_tracker, CNN_loss_tracker,MAML_loss_tracker2):\n",
        "    plt.figure(figsize = (15,8))\n",
        "    plt.plot(epoch_tracker, MAML_loss_tracker, label = 'First order MAML train loss', color='green')\n",
        "    plt.plot(epoch_tracker, MAML_loss_tracker2, label = 'First order MAML* train loss', color='orange')\n",
        "\n",
        "    plt.plot(epoch_tracker, CNN_Aug_loss_tracker, label = 'CNN Aug train loss', color='blue')\n",
        "    plt.plot(epoch_tracker, CNN_loss_tracker, label = 'CNN train loss', color='red')\n",
        "    plt.legend(loc = 'best')\n",
        "    plt.show()\n",
        "\n",
        "def make_test(model, testloader,get_worse=False,plot=False):\n",
        "    with torch.no_grad():\n",
        "        model.eval()\n",
        "        accs, topks, ypreds, yreals = [], [], [], []\n",
        "        for x, y in testloader:\n",
        "            x, y = x.to(device).float(), y.to(device).float()\n",
        "            yhat = model(x)\n",
        "\n",
        "            yhat_max = torch.max(yhat, dim = 1)[1]\n",
        "\n",
        "            correct = torch.sum(yhat_max == y)\n",
        "            size = x.shape[0]\n",
        "            acc_topk = accuracy_topk(yhat, y)\n",
        "\n",
        "            ypreds += torch.argmax(yhat, dim=1).tolist()\n",
        "            yreals += y.tolist()\n",
        "\n",
        "            topks.append(acc_topk.data.item())\n",
        "            accs.append(100*(correct/size).data.item())\n",
        "        test_acc = torch.mean(torch.FloatTensor(accs)).data.item()\n",
        "        test_topk = torch.mean(torch.FloatTensor(topks)).data.item()\n",
        "        print('Test Accuracy: ', torch.mean(torch.FloatTensor(accs)).data.item())\n",
        "        print('Test Top3 Accuracy: ', torch.mean(torch.FloatTensor(topks)).data.item())\n",
        "        if plot:\n",
        "            cm = metrics.confusion_matrix(yreals, ypreds)\n",
        "            fig, ax = plt.subplots(figsize=(15,8))  \n",
        "            sns.heatmap(cm, cmap='Blues', ax=ax)\n",
        "        ## get best/worst task\n",
        "        model.eval()\n",
        "        if get_worse==True:\n",
        "            worst,best = get_worst_task(model,testloader)\n",
        "            print(best,'= Best Task ID ')\n",
        "            print(worst,'= Worst Task ID ')\n",
        "            return test_acc, test_topk\n",
        "    return test_acc, test_topk\n",
        "        \n",
        "def get_worst_task(model,val_loader): ## gives percentage rate of correct classification for each aug in our task list, \n",
        "                                      ##please check if dict on line below is right size\n",
        "    bytaskListACCDICT = dict.fromkeys(range(128),0)\n",
        "    i=0\n",
        "    model.eval()\n",
        "    for x,y in val_loader:\n",
        "        actk,accs = [], []\n",
        "        x = applyAugs(x.float().clone().to(device), int(i%128))## I put the aug here to make sure that outer and inner loop train on same task as in the MAML paper\n",
        "        y = y.float().clone().to(device)\n",
        "        yhat = model(x) \n",
        "        yhat_max = torch.max(yhat, dim = 1)[1]\n",
        "        correct = torch.sum(yhat_max == y)\n",
        "        size = x.shape[0]\n",
        "        acc_topk = accuracy_topk(yhat, y)\n",
        "        actk.append(acc_topk.data.item())\n",
        "        \n",
        "        accs.append(100*(correct/size).data.item())\n",
        "        bytaskListACCDICT[i%128]+=100*(correct/size).data.item()\n",
        "        i+=1\n",
        "    worstTASKid = min(bytaskListACCDICT, key=bytaskListACCDICT.get)\n",
        "    bestTASKid = max(bytaskListACCDICT, key=bytaskListACCDICT.get)\n",
        "    return worstTASKid, bestTASKid\n",
        "\n",
        "def make_example(train_loader, classes):\n",
        "    #print('Shape of a batch of images: ', next(iter(train_loader))[0].shape)\n",
        "    #print('Shape of a batch of labels: ', next(iter(train_loader))[1].shape)\n",
        "\n",
        "    plt.figure(figsize = (8,8))\n",
        "    first_samp = next(iter(train_loader)) #get first sample in first batch\n",
        "    img, name = first_samp[0][0], first_samp[1][0]\n",
        "    plt.imshow(img.permute(1,2,0)/255)\n",
        "\n",
        "    print(name, classes[name])"
      ],
      "execution_count": 12,
      "outputs": []
    },
    {
      "cell_type": "markdown",
      "metadata": {
        "id": "1gftKXCpdiY6"
      },
      "source": [
        "## RESISC MAML\n",
        "\n",
        "Require: $p(\\mathcal{T}):$ distribution over tasks \n",
        "Require: $\\alpha, \\beta:$ step size hyperparameters\n",
        "\n",
        "1: randomly initialize $\\theta$\n",
        "\n",
        "2: while not done $\\mathbf{d o}$ \n",
        "\n",
        "3: $\\quad$ Sample single task $\\mathcal{T} \\sim p(\\mathcal{T})$\n",
        "\n",
        "5: $\\quad$ Evaluate $\\nabla_{\\theta} \\mathcal{L}\\left(f_{\\theta}(\\mathcal{T}_{inner})\\right)$ with respect to $K$ examples \n",
        "\n",
        "6: $\\quad$ Compute adapted parameters with gradient descent: $\\theta_{i}^{\\prime}=\\theta-\\alpha \\nabla_{\\theta} \\mathcal{L}\\left(f_{\\theta}(\\mathcal{T}_{inner})\\right)$\n",
        "\n",
        "7: $\\quad$ Update $\\theta \\leftarrow \\theta-\\beta \\nabla_{\\theta_{i}^{\\prime}} \\mathcal{L}\\left(f_{\\theta_{i}^{\\prime}} \\left(\\mathcal{T}_{outer}\\right)\\right)$\n",
        "\n",
        "8: end while\n",
        "\n",
        "---"
      ]
    },
    {
      "cell_type": "code",
      "metadata": {
        "id": "cayrPooZMLQJ",
        "colab": {
          "base_uri": "https://localhost:8080/",
          "height": 502
        },
        "outputId": "eecafc4e-7869-4429-8bd1-8bd2d85e74d7"
      },
      "source": [
        "    mtype='MAML'\n",
        "train_loader, val_loader, test_loader, c_dim, classes = get_data(dir=dir, mtype=mtype,No_Overlap=True)\n",
        "\n",
        "make_example(train_loader=train_loader, classes=classes)"
      ],
      "execution_count": 13,
      "outputs": [
        {
          "output_type": "stream",
          "text": [
            "tensor(5) cloud\n"
          ],
          "name": "stdout"
        },
        {
          "output_type": "display_data",
          "data": {
            "image/png": "[encoded data removed]",
            "text/plain": [
              "<Figure size 576x576 with 1 Axes>"
            ]
          },
          "metadata": {
            "tags": [],
            "needs_background": "light"
          }
        }
      ]
    },
    {
      "cell_type": "code",
      "metadata": {
        "id": "iVVcU3nK69gl",
        "colab": {
          "base_uri": "https://localhost:8080/"
        },
        "outputId": "0453ed27-0b80-4153-fc23-61ece5c9b18b"
      },
      "source": [
        "if First_Train: model, MAML_loss_tracker, MAML_val_topks, MAML_val_accs, epoch_tracker = train(n_epochs=n_epochs, \n",
        "                                                                learning_rate=MAML_learning_rate, \n",
        "                                                                learning_rate1=MAML_learning_rate, \n",
        "                                                                train_loader=train_loader, \n",
        "                                                                val_loader=val_loader, \n",
        "                                                                c_dim=c_dim, \n",
        "                                                                mtype=mtype,print_stride1=print_stride)\n",
        "else: \n",
        "    model = get_model(mtype)\n",
        "    MAML_loss_tracker=np.load(dir+mtype+'_loss_tracker.npy')\n",
        "    MAML_val_topks=np.load(dir+mtype+'_val_topks.npy')\n",
        "    MAML_val_accs=np.load(dir+mtype+'_val_accs.npy')\n",
        "    epoch_tracker=np.load(dir+'epoch_tracker.npy')"
      ],
      "execution_count": 14,
      "outputs": [
        {
          "output_type": "stream",
          "text": [
            "/usr/local/lib/python3.7/dist-packages/ipykernel_launcher.py:69: UserWarning: To copy construct from a tensor, it is recommended to use sourceTensor.clone().detach() or sourceTensor.clone().detach().requires_grad_(True), rather than torch.tensor(sourceTensor).\n"
          ],
          "name": "stderr"
        },
        {
          "output_type": "stream",
          "text": [
            "Epoch 10 - loss: 0.148\n",
            "Validation Accuracy:  28.551136016845703\n",
            "Validation Top3 Accuracy:  48.15340805053711\n",
            "Epoch 20 - loss: 0.140\n",
            "Validation Accuracy:  36.789772033691406\n",
            "Validation Top3 Accuracy:  63.6363639831543\n",
            "Epoch 30 - loss: 0.134\n",
            "Validation Accuracy:  32.67045593261719\n",
            "Validation Top3 Accuracy:  59.375\n",
            "Epoch 40 - loss: 0.130\n",
            "Validation Accuracy:  42.47159194946289\n",
            "Validation Top3 Accuracy:  71.0227279663086\n",
            "Epoch 50 - loss: 0.125\n",
            "Validation Accuracy:  46.022727966308594\n",
            "Validation Top3 Accuracy:  72.44318389892578\n",
            "Epoch 60 - loss: 0.122\n",
            "Validation Accuracy:  52.272727966308594\n",
            "Validation Top3 Accuracy:  77.4147720336914\n",
            "Epoch 70 - loss: 0.120\n",
            "Validation Accuracy:  53.5511360168457\n",
            "Validation Top3 Accuracy:  77.55681610107422\n",
            "Epoch 80 - loss: 0.118\n",
            "Validation Accuracy:  55.96590805053711\n",
            "Validation Top3 Accuracy:  79.54545593261719\n",
            "Epoch 90 - loss: 0.114\n",
            "Validation Accuracy:  55.539772033691406\n",
            "Validation Top3 Accuracy:  79.97158813476562\n",
            "Epoch 100 - loss: 0.113\n",
            "Validation Accuracy:  58.806819915771484\n",
            "Validation Top3 Accuracy:  80.3977279663086\n",
            "Epoch 110 - loss: 0.110\n",
            "Validation Accuracy:  60.65340805053711\n",
            "Validation Top3 Accuracy:  82.24431610107422\n",
            "Epoch 120 - loss: 0.108\n",
            "Validation Accuracy:  59.375\n",
            "Validation Top3 Accuracy:  82.95454406738281\n",
            "Epoch 130 - loss: 0.110\n",
            "Validation Accuracy:  58.380680084228516\n",
            "Validation Top3 Accuracy:  83.23863983154297\n",
            "Epoch 140 - loss: 0.108\n",
            "Validation Accuracy:  59.375\n",
            "Validation Top3 Accuracy:  81.10795593261719\n",
            "Epoch 150 - loss: 0.103\n",
            "Validation Accuracy:  61.22159194946289\n",
            "Validation Top3 Accuracy:  84.09091186523438\n",
            "saving...\n"
          ],
          "name": "stdout"
        }
      ]
    },
    {
      "cell_type": "code",
      "metadata": {
        "id": "mWdiT2447L9q",
        "colab": {
          "base_uri": "https://localhost:8080/"
        },
        "outputId": "fae8799e-1102-4d30-e645-89faec8f815c"
      },
      "source": [
        "acc,topk=make_test(model=model, testloader=test_loader)"
      ],
      "execution_count": 15,
      "outputs": [
        {
          "output_type": "stream",
          "text": [
            "Test Accuracy:  60.262939453125\n",
            "Test Top3 Accuracy:  84.18915557861328\n"
          ],
          "name": "stdout"
        }
      ]
    },
    {
      "cell_type": "markdown",
      "metadata": {
        "id": "zQpW2D5LlyBf"
      },
      "source": [
        "# MAML* first order approximation with support for n task batch and inner l2 regularization to compensate for approximation\n",
        "\n",
        "Require: $p(\\mathcal{T}):$ distribution over tasks \n",
        "\n",
        "Require: $\\alpha, \\beta:$ step size hyperparameters\n",
        "\n",
        "1: randomly initialize $\\theta$\n",
        "\n",
        "2: while not done $\\mathbf{d o}$\n",
        "\n",
        "3: $\\quad$ Sample batch of tasks $\\mathcal{T}_{i} \\sim p(\\mathcal{T})$\n",
        "\n",
        "4: $\\quad$ for all $\\mathcal{T}_{i}$ do \n",
        "\n",
        "5: $\\quad$ $\\quad$ Evaluate $\\nabla_{\\theta} \\mathcal{L}_{\\mathcal{T}_{i}}\\left(f_{\\theta}\\right)$ with respect to $K$ examples \n",
        "\n",
        "6: $\\quad$ $\\quad$ Compute adapted parameters with gradient descent: $\\theta_{i}^{\\prime}=\\theta-\\alpha \\nabla_{\\theta} \\mathcal{L}_{\\mathcal{T}_{i}}\\left(f_{\\theta}\\right) + ||\\theta||_2$\n",
        "\n",
        "7: $\\quad$ end for\n",
        "\n",
        "8: $\\quad$Update $\\theta \\leftarrow \\theta-\\beta \\sum_{\\mathcal{T}_{i} \\sim p(\\mathcal{T})} \\nabla_{\\theta_{i}^{\\prime}} \\mathcal{L}_{\\mathcal{T}_{i}}\\left(f_{\\theta_{i}^{\\prime}})\\right)$\n",
        "\n",
        "9: end while\n",
        "\n",
        "\n"
      ]
    },
    {
      "cell_type": "markdown",
      "metadata": {
        "id": "IiIa4IU5xto3"
      },
      "source": [
        ""
      ]
    },
    {
      "cell_type": "code",
      "metadata": {
        "id": "RKARo6YIl5yv",
        "colab": {
          "base_uri": "https://localhost:8080/",
          "height": 502
        },
        "outputId": "ebed145f-a4fa-48be-ca32-cf3db9154807"
      },
      "source": [
        "mtype='MAML'\n",
        "train_loader, val_loader, test_loader, c_dim, classes = get_data(dir=dir, mtype=mtype,No_Overlap=True)\n",
        "\n",
        "make_example(train_loader=train_loader, classes=classes)\n",
        "mtype='MAML2'"
      ],
      "execution_count": 16,
      "outputs": [
        {
          "output_type": "stream",
          "text": [
            "tensor(12) meadow\n"
          ],
          "name": "stdout"
        },
        {
          "output_type": "display_data",
          "data": {
            "image/png": "[encoded data removed]",
            "text/plain": [
              "<Figure size 576x576 with 1 Axes>"
            ]
          },
          "metadata": {
            "tags": [],
            "needs_background": "light"
          }
        }
      ]
    },
    {
      "cell_type": "code",
      "metadata": {
        "id": "iTbTmN0SmEHh",
        "colab": {
          "base_uri": "https://localhost:8080/"
        },
        "outputId": "fcb2da16-fff7-48ca-e682-1dfeab2268a5"
      },
      "source": [
        "if First_Train: model, MAML_loss_tracker2, MAML_val_topks2, MAML_val_accs2, epoch_tracker, = train2(n_epochs=n_epochs, \n",
        "                                                                learning_rate=0.00045, \n",
        "                                                                learning_rate1=0.0001/8, \n",
        "                                                                train_loader=train_loader, \n",
        "                                                                val_loader=val_loader, \n",
        "                                                                c_dim=c_dim, \n",
        "                                                                mtype=mtype,print_stride1=print_stride)\n",
        "else: \n",
        "    model = get_model(mtype)\n",
        "    MAML_loss_tracker2=np.load(dir+mtype+'_loss_tracker.npy')\n",
        "    MAML_val_topks2=np.load(dir+mtype+'_val_topks.npy')\n",
        "    MAML_val_accs2=np.load(dir+mtype+'_val_accs.npy')"
      ],
      "execution_count": 17,
      "outputs": [
        {
          "output_type": "stream",
          "text": [
            "MAML2\n"
          ],
          "name": "stdout"
        },
        {
          "output_type": "stream",
          "text": [
            "/usr/local/lib/python3.7/dist-packages/ipykernel_launcher.py:69: UserWarning: To copy construct from a tensor, it is recommended to use sourceTensor.clone().detach() or sourceTensor.clone().detach().requires_grad_(True), rather than torch.tensor(sourceTensor).\n"
          ],
          "name": "stderr"
        },
        {
          "output_type": "stream",
          "text": [
            "Epoch 10 - loss: 0.093\n",
            "Validation Accuracy:  39.772727966308594\n",
            "Validation Top3 Accuracy:  64.48863983154297\n",
            "Epoch 20 - loss: 0.089\n",
            "Validation Accuracy:  39.772727966308594\n",
            "Validation Top3 Accuracy:  67.8977279663086\n",
            "Epoch 30 - loss: 0.080\n",
            "Validation Accuracy:  43.89204406738281\n",
            "Validation Top3 Accuracy:  70.3125\n",
            "Epoch 40 - loss: 0.088\n",
            "Validation Accuracy:  49.71590805053711\n",
            "Validation Top3 Accuracy:  73.57954406738281\n",
            "Epoch 50 - loss: 0.083\n",
            "Validation Accuracy:  51.27840805053711\n",
            "Validation Top3 Accuracy:  76.98863983154297\n",
            "Epoch 60 - loss: 0.078\n",
            "Validation Accuracy:  54.6875\n",
            "Validation Top3 Accuracy:  79.11931610107422\n",
            "Epoch 70 - loss: 0.073\n",
            "Validation Accuracy:  56.818180084228516\n",
            "Validation Top3 Accuracy:  81.10795593261719\n",
            "Epoch 80 - loss: 0.080\n",
            "Validation Accuracy:  58.664772033691406\n",
            "Validation Top3 Accuracy:  80.68181610107422\n",
            "Epoch 90 - loss: 0.063\n",
            "Validation Accuracy:  58.806819915771484\n",
            "Validation Top3 Accuracy:  83.38068389892578\n",
            "Epoch 100 - loss: 0.073\n",
            "Validation Accuracy:  58.522727966308594\n",
            "Validation Top3 Accuracy:  82.67045593261719\n",
            "Epoch 110 - loss: 0.074\n",
            "Validation Accuracy:  59.943180084228516\n",
            "Validation Top3 Accuracy:  82.38636016845703\n",
            "Epoch 120 - loss: 0.071\n",
            "Validation Accuracy:  62.21590805053711\n",
            "Validation Top3 Accuracy:  81.39204406738281\n",
            "Epoch 130 - loss: 0.073\n",
            "Validation Accuracy:  62.5\n",
            "Validation Top3 Accuracy:  84.80113983154297\n",
            "Epoch 140 - loss: 0.073\n",
            "Validation Accuracy:  62.5\n",
            "Validation Top3 Accuracy:  85.79545593261719\n",
            "Epoch 150 - loss: 0.072\n",
            "Validation Accuracy:  64.63068389892578\n",
            "Validation Top3 Accuracy:  85.65341186523438\n",
            "saving...\n"
          ],
          "name": "stdout"
        }
      ]
    },
    {
      "cell_type": "code",
      "metadata": {
        "id": "TK6UY893_AdK"
      },
      "source": [
        ""
      ],
      "execution_count": 17,
      "outputs": []
    },
    {
      "cell_type": "code",
      "metadata": {
        "id": "POYQj09OvHbB",
        "colab": {
          "base_uri": "https://localhost:8080/"
        },
        "outputId": "4e5aef29-a651-4ddd-a61c-26990b53d65a"
      },
      "source": [
        "acc,topk=make_test(model=model, testloader=test_loader)\n"
      ],
      "execution_count": 18,
      "outputs": [
        {
          "output_type": "stream",
          "text": [
            "Test Accuracy:  63.986785888671875\n",
            "Test Top3 Accuracy:  85.2835922241211\n"
          ],
          "name": "stdout"
        }
      ]
    },
    {
      "cell_type": "markdown",
      "metadata": {
        "id": "XYzUILlQWLPU"
      },
      "source": [
        "## MAML 32 way 1 shot "
      ]
    },
    {
      "cell_type": "code",
      "metadata": {
        "id": "EBPk0csrWO_U"
      },
      "source": [
        "# Params= Params = {'nways': 32, 'kshots': 1, 'in_channels': 3, 'hidden_size': 2, \n",
        "#                   'innerStep': 0.00005, 'MetaLR': 0.006, 'number_of_tasks': 32,\n",
        "#                   'Order': False, 'outerVSinner': 1, 'epoch': n_epochs, 'aug': True,\n",
        "#                    'num_classes': 45}\n",
        "# if No_Overlap:\n",
        "#     Params['num_classes']=26\n",
        "# model = get_meta_model(Params)\n",
        "# train_loader, val_loader, test_loader, c_dim, classes, ytrain = get_data(dir=dir, mtype=mtype,nwaykshot=True)\n",
        "# model.to(device)\n",
        "# mtype = 'MAMLnk'\n",
        "\n",
        "# if First_Train: modelnk, epoch_tracker, MAML_nk_loss_tracker, MAML_nk_val_accs, MAML_nk_val_topks, MAML_nk_trainacc = trainMAML(mtype,\n",
        "#                                                                                               model,\n",
        "#                                                                                               train_loader, \n",
        "#                                                                                               Params, \n",
        "#                                                                                               val_loader,print_stride1 = print_stride,\n",
        "#                                                                                               nwaykshot=True,\n",
        "#                                                                                               trainset=train_loader,\n",
        "#                                                                                               train_labels=ytrain,\n",
        "#                                                                                               )\n",
        "# else: \n",
        "#     model = get_model(mtype)\n",
        "#     MAML_nk_loss_tracker=np.load(dir+mtype+'_loss_tracker.npy')\n",
        "#     MAML_nk_val_topks=np.load(dir+mtype+'_val_topks.npy')\n",
        "#     MAML_nk_val_accs=np.load(dir+mtype+'_val_accs.npy')"
      ],
      "execution_count": 19,
      "outputs": []
    },
    {
      "cell_type": "code",
      "metadata": {
        "id": "JVhpl4nR4g6b"
      },
      "source": [
        "# acc,topk=make_test(model=modelnk, testloader=test_loader)"
      ],
      "execution_count": 20,
      "outputs": []
    },
    {
      "cell_type": "code",
      "metadata": {
        "id": "qMUOAPwm_io6"
      },
      "source": [
        ""
      ],
      "execution_count": 20,
      "outputs": []
    },
    {
      "cell_type": "markdown",
      "metadata": {
        "id": "NMcY3zQPdrJK"
      },
      "source": [
        "## RESISC CNN with Augs\n",
        "\n",
        "---"
      ]
    },
    {
      "cell_type": "code",
      "metadata": {
        "id": "YBrfnYVfdd5e",
        "colab": {
          "base_uri": "https://localhost:8080/"
        },
        "outputId": "60a18c8a-f113-4c4a-e460-ff5559cd9f5c"
      },
      "source": [
        "mtype='CNN_Aug'\n",
        "train_loader, val_loader, test_loader, c_dim, classes = get_data(dir=dir, mtype=mtype,No_Overlap=True)\n",
        "\n",
        "if First_Train: model, CNN_Aug_loss_tracker, CNN_Aug_val_topks, CNN_Aug_val_accs, epoch_tracker = train(n_epochs=n_epochs, \n",
        "                                                                learning_rate=CNN_learning_rate, \n",
        "                                                                learning_rate1=CNN_learning_rate, \n",
        "                                                                train_loader=train_loader, \n",
        "                                                                val_loader=val_loader, \n",
        "                                                                c_dim=c_dim, \n",
        "                                                                mtype=mtype,print_stride1=print_stride)\n",
        "else: \n",
        "    model = get_model(mtype)\n",
        "    CNN_Aug_loss_tracker=np.load(dir+mtype+'_loss_tracker.npy')\n",
        "    CNN_Aug_val_topks=np.load(dir+mtype+'_val_topks.npy')\n",
        "    CNN_Aug_val_accs=np.load(dir+mtype+'_val_accs.npy')"
      ],
      "execution_count": 21,
      "outputs": [
        {
          "output_type": "stream",
          "text": [
            "/usr/local/lib/python3.7/dist-packages/ipykernel_launcher.py:69: UserWarning: To copy construct from a tensor, it is recommended to use sourceTensor.clone().detach() or sourceTensor.clone().detach().requires_grad_(True), rather than torch.tensor(sourceTensor).\n"
          ],
          "name": "stderr"
        },
        {
          "output_type": "stream",
          "text": [
            "Epoch 10 - loss: 0.135\n",
            "Validation Accuracy:  37.21590805053711\n",
            "Validation Top3 Accuracy:  66.05113983154297\n",
            "Epoch 20 - loss: 0.119\n",
            "Validation Accuracy:  46.73295593261719\n",
            "Validation Top3 Accuracy:  73.72158813476562\n",
            "Epoch 30 - loss: 0.127\n",
            "Validation Accuracy:  52.556819915771484\n",
            "Validation Top3 Accuracy:  77.84091186523438\n",
            "Epoch 40 - loss: 0.118\n",
            "Validation Accuracy:  53.835227966308594\n",
            "Validation Top3 Accuracy:  79.40341186523438\n",
            "Epoch 50 - loss: 0.117\n",
            "Validation Accuracy:  61.07954406738281\n",
            "Validation Top3 Accuracy:  83.38068389892578\n",
            "Epoch 60 - loss: 0.105\n",
            "Validation Accuracy:  62.64204406738281\n",
            "Validation Top3 Accuracy:  84.375\n",
            "Epoch 70 - loss: 0.102\n",
            "Validation Accuracy:  65.48295593261719\n",
            "Validation Top3 Accuracy:  84.51704406738281\n",
            "Epoch 80 - loss: 0.110\n",
            "Validation Accuracy:  63.210227966308594\n",
            "Validation Top3 Accuracy:  87.5\n",
            "Epoch 90 - loss: 0.093\n",
            "Validation Accuracy:  68.18181610107422\n",
            "Validation Top3 Accuracy:  85.51136016845703\n",
            "Epoch 100 - loss: 0.104\n",
            "Validation Accuracy:  66.61931610107422\n",
            "Validation Top3 Accuracy:  86.36363983154297\n",
            "Epoch 110 - loss: 0.094\n",
            "Validation Accuracy:  69.4602279663086\n",
            "Validation Top3 Accuracy:  87.78408813476562\n",
            "Epoch 120 - loss: 0.085\n",
            "Validation Accuracy:  67.75568389892578\n",
            "Validation Top3 Accuracy:  88.2102279663086\n",
            "Epoch 130 - loss: 0.085\n",
            "Validation Accuracy:  67.61363983154297\n",
            "Validation Top3 Accuracy:  86.7897720336914\n",
            "Epoch 140 - loss: 0.097\n",
            "Validation Accuracy:  68.46591186523438\n",
            "Validation Top3 Accuracy:  88.3522720336914\n",
            "Epoch 150 - loss: 0.092\n",
            "Validation Accuracy:  68.32386016845703\n",
            "Validation Top3 Accuracy:  88.2102279663086\n",
            "saving...\n"
          ],
          "name": "stdout"
        }
      ]
    },
    {
      "cell_type": "code",
      "metadata": {
        "id": "O5LMBVyhddUP",
        "colab": {
          "base_uri": "https://localhost:8080/"
        },
        "outputId": "5a20cc7e-8c75-4107-c6eb-9bf48449616a"
      },
      "source": [
        "acc,topk = make_test(model=model, testloader=test_loader,get_worse=True)"
      ],
      "execution_count": 22,
      "outputs": [
        {
          "output_type": "stream",
          "text": [
            "Test Accuracy:  70.59752655029297\n",
            "Test Top3 Accuracy:  89.49862670898438\n",
            "2 = Best Task ID \n",
            "71 = Worst Task ID \n"
          ],
          "name": "stdout"
        }
      ]
    },
    {
      "cell_type": "markdown",
      "metadata": {
        "id": "o7LZFPmrFnXU"
      },
      "source": [
        "## RESISC CNN no Augs\n",
        "\n",
        "---"
      ]
    },
    {
      "cell_type": "code",
      "metadata": {
        "id": "xC3Gm029Fn5Z",
        "colab": {
          "base_uri": "https://localhost:8080/"
        },
        "outputId": "a3494408-2c82-46c8-de28-c9e05c7980cd"
      },
      "source": [
        "mtype='CNN'\n",
        "train_loader, val_loader, test_loader, c_dim, classes = get_data(dir=dir, mtype=mtype,No_Overlap=True)\n",
        "\n",
        "if First_Train: model, CNN_loss_tracker, CNN_val_topks, CNN_val_accs, epoch_tracker = train(n_epochs=n_epochs, \n",
        "                                                                learning_rate=CNN_learning_rate, \n",
        "                                                                learning_rate1=CNN_learning_rate, \n",
        "                                                                train_loader=train_loader, \n",
        "                                                                val_loader=val_loader, \n",
        "                                                                c_dim=c_dim, \n",
        "                                                                mtype=mtype,\n",
        "                                                                augs=False,print_stride1=print_stride)\n",
        "else: \n",
        "    model = get_model(mtype)\n",
        "    CNN_loss_tracker=np.load(dir+mtype+'_loss_tracker.npy')\n",
        "    CNN_val_topks=np.load(dir+mtype+'_val_topks.npy')\n",
        "    CNN_val_accs=np.load(dir+mtype+'_val_accs.npy')"
      ],
      "execution_count": 23,
      "outputs": [
        {
          "output_type": "stream",
          "text": [
            "/usr/local/lib/python3.7/dist-packages/ipykernel_launcher.py:69: UserWarning: To copy construct from a tensor, it is recommended to use sourceTensor.clone().detach() or sourceTensor.clone().detach().requires_grad_(True), rather than torch.tensor(sourceTensor).\n"
          ],
          "name": "stderr"
        },
        {
          "output_type": "stream",
          "text": [
            "Epoch 10 - loss: 0.000\n",
            "Validation Accuracy:  37.35795593261719\n",
            "Validation Top3 Accuracy:  58.380680084228516\n",
            "Epoch 20 - loss: 0.000\n",
            "Validation Accuracy:  39.0625\n",
            "Validation Top3 Accuracy:  58.522727966308594\n",
            "Epoch 30 - loss: 0.000\n",
            "Validation Accuracy:  38.6363639831543\n",
            "Validation Top3 Accuracy:  59.09090805053711\n",
            "Epoch 40 - loss: 0.000\n",
            "Validation Accuracy:  39.772727966308594\n",
            "Validation Top3 Accuracy:  58.664772033691406\n",
            "Epoch 50 - loss: 0.000\n",
            "Validation Accuracy:  38.494319915771484\n",
            "Validation Top3 Accuracy:  57.67045593261719\n",
            "Epoch 60 - loss: 0.000\n",
            "Validation Accuracy:  39.20454406738281\n",
            "Validation Top3 Accuracy:  58.380680084228516\n",
            "Epoch 70 - loss: 0.000\n",
            "Validation Accuracy:  38.77840805053711\n",
            "Validation Top3 Accuracy:  58.522727966308594\n",
            "Epoch 80 - loss: 0.000\n",
            "Validation Accuracy:  39.772727966308594\n",
            "Validation Top3 Accuracy:  58.664772033691406\n",
            "Epoch 90 - loss: 0.000\n",
            "Validation Accuracy:  37.9261360168457\n",
            "Validation Top3 Accuracy:  57.244319915771484\n",
            "Epoch 100 - loss: 0.000\n",
            "Validation Accuracy:  39.34659194946289\n",
            "Validation Top3 Accuracy:  57.8125\n",
            "Epoch 110 - loss: 0.000\n",
            "Validation Accuracy:  39.20454406738281\n",
            "Validation Top3 Accuracy:  57.95454406738281\n",
            "Epoch 120 - loss: 0.000\n",
            "Validation Accuracy:  37.35795593261719\n",
            "Validation Top3 Accuracy:  56.6761360168457\n",
            "Epoch 130 - loss: 0.000\n",
            "Validation Accuracy:  39.34659194946289\n",
            "Validation Top3 Accuracy:  57.52840805053711\n",
            "Epoch 140 - loss: 0.002\n",
            "Validation Accuracy:  36.07954406738281\n",
            "Validation Top3 Accuracy:  54.2613639831543\n",
            "Epoch 150 - loss: 0.000\n",
            "Validation Accuracy:  34.65909194946289\n",
            "Validation Top3 Accuracy:  52.6988639831543\n",
            "saving...\n"
          ],
          "name": "stdout"
        }
      ]
    },
    {
      "cell_type": "code",
      "metadata": {
        "id": "EtvRy9hYFofR",
        "colab": {
          "base_uri": "https://localhost:8080/"
        },
        "outputId": "237e43be-f187-44eb-c1fe-6a872df3e695"
      },
      "source": [
        "acc,topk = make_test(model=model, testloader=test_loader,get_worse=True)"
      ],
      "execution_count": 24,
      "outputs": [
        {
          "output_type": "stream",
          "text": [
            "Test Accuracy:  34.69780349731445\n",
            "Test Top3 Accuracy:  55.43269348144531\n",
            "34 = Best Task ID \n",
            "1 = Worst Task ID \n"
          ],
          "name": "stdout"
        }
      ]
    },
    {
      "cell_type": "markdown",
      "metadata": {
        "id": "unkZk4GZuimF"
      },
      "source": [
        "## RESISC CHARTS\n",
        "\n",
        "---"
      ]
    },
    {
      "cell_type": "code",
      "metadata": {
        "id": "_IMop6hcddro",
        "colab": {
          "base_uri": "https://localhost:8080/",
          "height": 478
        },
        "outputId": "a34cfb28-25f9-457d-f18c-31ae100d1d97"
      },
      "source": [
        " make_train_plot(MAML_loss_tracker, CNN_Aug_loss_tracker, CNN_loss_tracker, MAML_val_accs, CNN_Aug_val_accs, CNN_val_accs, MAML_val_topks, CNN_Aug_val_topks, CNN_val_topks, epoch_tracker,MAML_loss_tracker2,MAML_val_accs2,MAML_val_topks2)#MAML_nk_loss_tracker, MAML_nk_val_accs, MAML_nk_val_topks\n",
        "# )"
      ],
      "execution_count": 25,
      "outputs": [
        {
          "output_type": "display_data",
          "data": {
            "image/png": "[encoded data removed]",
            "text/plain": [
              "<Figure size 1080x576 with 1 Axes>"
            ]
          },
          "metadata": {
            "tags": [],
            "needs_background": "light"
          }
        }
      ]
    },
    {
      "cell_type": "code",
      "metadata": {
        "id": "4LZNyxMlddjY",
        "colab": {
          "base_uri": "https://localhost:8080/",
          "height": 473
        },
        "outputId": "d9cdf5a3-83c5-4579-c593-3d163c558f9d"
      },
      "source": [
        "make_two_plots(epoch_tracker, MAML_loss_tracker, CNN_Aug_loss_tracker, CNN_loss_tracker, MAML_val_accs, CNN_Aug_val_accs, CNN_val_accs,MAML_loss_tracker2,MAML_val_accs2,MAML_val_topks2)"
      ],
      "execution_count": 26,
      "outputs": [
        {
          "output_type": "display_data",
          "data": {
            "image/png": "[encoded data removed]",
            "text/plain": [
              "<Figure size 1080x576 with 2 Axes>"
            ]
          },
          "metadata": {
            "tags": [],
            "needs_background": "light"
          }
        }
      ]
    },
    {
      "cell_type": "markdown",
      "metadata": {
        "id": "Ofi4ngKHLmtn"
      },
      "source": [
        "## UC MERCED\n",
        "\n",
        "---"
      ]
    },
    {
      "cell_type": "code",
      "metadata": {
        "id": "TYDwEsFrLtbJ"
      },
      "source": [
        "UC_MAML_learning_rate = 0.0006\n",
        "UC_CNN_learning_rate = 0.0006\n",
        "UC_epochs = 3\n",
        "UC_batch_size = 32\n",
        "\n",
        "UC_data = np.load(dir+'UCMerced_images96.npy')\n",
        "UC_labels = np.load(dir+'UCMerced_classes.npy')\n",
        "UC_classes = np.load(dir+'UCMerced_class_names.npy')\n",
        "\n",
        "UC_train_data, UC_test_data, UC_train_labels, UC_test_labels = train_test_split(UC_data, UC_labels, test_size = 0.8, stratify = UC_labels)\n",
        "\n",
        "UCtrainset = make_dataset(UC_train_data, UC_train_labels)\n",
        "UCtrain_loader = DataLoader(UCtrainset, batch_size=int(batch_size), shuffle=True)\n",
        "\n",
        "UCtestset = make_dataset(UC_test_data, UC_test_labels)\n",
        "UCtest_loader = torch.utils.data.DataLoader(UCtestset, batch_size, drop_last = True, shuffle=True)\n",
        "\n",
        "def UC_get_data():\n",
        "    UC_data = np.load(dir+'UCMerced_images96.npy')\n",
        "    UC_labels = np.load(dir+'UCMerced_classes.npy')\n",
        "    UC_classes = np.load(dir+'UCMerced_class_names.npy')\n",
        "\n",
        "    UC_train_data, UC_test_data, UC_train_labels, UC_test_labels = train_test_split(UC_data, UC_labels, test_size = 0.8, stratify = UC_labels)\n",
        "\n",
        "    UCtrainset = make_dataset(UC_train_data, UC_train_labels)\n",
        "    UCtrain_loader = DataLoader(UCtrainset, batch_size=int(batch_size), shuffle=True)\n",
        "\n",
        "    UCtestset = make_dataset(UC_test_data, UC_test_labels)\n",
        "    UCtest_loader = torch.utils.data.DataLoader(UCtestset, batch_size, drop_last = True, shuffle=True)\n",
        "    return UCtrain_loader, UCtest_loader"
      ],
      "execution_count": 27,
      "outputs": []
    },
    {
      "cell_type": "code",
      "metadata": {
        "id": "4Du65kG5tVef"
      },
      "source": [
        "def UC_train(model1, trainloader, epochs=3, lr=0.0006):\n",
        "    loss_tracker, epoch_tracker,acc_tracker = [], [], []\n",
        "    #model.load('UC')\n",
        "    model = copy.deepcopy(model1).to(device)\n",
        "    model.train()\n",
        "    optimizer = optim.Adam(model.parameters(), lr = lr)\n",
        "    for epoch in range(1, epochs+1):\n",
        "        losses = 0\n",
        "        accs = []\n",
        "        acc = 0\n",
        "\n",
        "        for X, y in trainloader:\n",
        "            y_ = y \n",
        "            y = one_hot_embedding(y.to(device), len(UC_classes)).float()\n",
        "            X = X.float().to(device)\n",
        "            for param in model.parameters(): param.grad = None\n",
        "            yhat = model(X)\n",
        "            pred_loss = bce_loss(yhat, y)\n",
        "            pred_loss.backward()\n",
        "            optimizer.step()\n",
        "            losses += pred_loss.item()\n",
        "           \n",
        "        for x, y in trainloader:\n",
        "            x, y = x.to(device).float(), y.to(device).float()\n",
        "            yhat = model(x)\n",
        "            \n",
        "            yhat_max = torch.max(yhat, dim = 1)[1]\n",
        "            correct = torch.sum(yhat_max == y)\n",
        "            size = x.shape[0]            \n",
        "            accs.append(100*(correct/size).data.item())\n",
        "        print('UC Epoch ',epoch,\"Train Accuracy: \",torch.mean(torch.FloatTensor(accs)).data.item())\n",
        "        acc_tracker.append(torch.mean(torch.FloatTensor(accs)).data.item())\n",
        "        epoch_tracker.append(epoch)\n",
        "        loss_tracker.append(losses)\n",
        "    return model, epoch_tracker, loss_tracker,acc_tracker\n",
        "def avg_UC_test(mtype,runs,model=None):\n",
        "    model1 = get_model(mtype=mtype,load=True)\n",
        "    if mtype=='MAMLnk':\n",
        "        model1 = model\n",
        "    test_acc,test_topk = [], [] \n",
        "    for _ in range(runs):\n",
        "        model2= copy.deepcopy(model1.to('cpu')).to(device)\n",
        "        UC_MAML_learning_rate = 0.0006\n",
        "        UC_CNN_learning_rate = 0.0006\n",
        "        UC_epochs = 3\n",
        "        UC_batch_size = 32\n",
        "        UCtrain_loader,UCtest_loader = UC_get_data()\n",
        "        model2.fce = nn.Linear(1024, 21)\n",
        "        model2 = model2.to(device)\n",
        "        model2, epoch_tracker, CNN_Aug_loss_tracker,CNN_AUG_acc_tracker = UC_train(model1=model2, trainloader=UCtrain_loader, epochs=UC_epochs, lr=UC_CNN_learning_rate)\n",
        "        acc,topk =make_test(model=model2, testloader=UCtest_loader,get_worse=False)\n",
        "        test_acc.append(acc)\n",
        "        test_topk.append(topk)\n",
        "    print(mtype + 'Accuracy on UC as an avg of ',runs,\": \",np.mean(test_acc))\n",
        "    print(mtype + 'TopK on UC as an avg of ',runs,\": \",np.mean(test_topk))"
      ],
      "execution_count": 28,
      "outputs": []
    },
    {
      "cell_type": "code",
      "metadata": {
        "id": "_7zMruiyLtXs",
        "colab": {
          "base_uri": "https://localhost:8080/"
        },
        "outputId": "606be7a4-def0-4717-b600-f53346c326ac"
      },
      "source": [
        "mtype='MAML'\n",
        "model = get_model(mtype=mtype,load=True)\n",
        "\n",
        "if Freeze:\n",
        "    for param in model.parameters():\n",
        "        param.requires_grad = False\n",
        "\n",
        "model.fce = nn.Linear(1024, 21)\n",
        "model = model.to(device)\n",
        "#model.save('UC'+mtype)\n",
        "\n",
        "model, epoch_tracker, MAML_loss_tracker, MAML_acc_tracker = UC_train(model1=model, trainloader=UCtrain_loader, epochs=UC_epochs, lr=UC_MAML_learning_rate)"
      ],
      "execution_count": 29,
      "outputs": [
        {
          "output_type": "stream",
          "text": [
            "loading...\n"
          ],
          "name": "stdout"
        },
        {
          "output_type": "stream",
          "text": [
            "/usr/local/lib/python3.7/dist-packages/ipykernel_launcher.py:69: UserWarning: To copy construct from a tensor, it is recommended to use sourceTensor.clone().detach() or sourceTensor.clone().detach().requires_grad_(True), rather than torch.tensor(sourceTensor).\n"
          ],
          "name": "stderr"
        },
        {
          "output_type": "stream",
          "text": [
            "UC Epoch  1 Train Accuracy:  63.16964340209961\n",
            "UC Epoch  2 Train Accuracy:  72.32142639160156\n",
            "UC Epoch  3 Train Accuracy:  82.36607360839844\n"
          ],
          "name": "stdout"
        }
      ]
    },
    {
      "cell_type": "code",
      "metadata": {
        "id": "wepsXFE7LtRj",
        "colab": {
          "base_uri": "https://localhost:8080/"
        },
        "outputId": "746d8f9d-d062-438c-9bd4-98c8cfee345b"
      },
      "source": [
        "acc,topk = make_test(model=model, testloader=UCtest_loader,get_worse=False)\n",
        "avg_UC_test('MAML',20)\n"
      ],
      "execution_count": 30,
      "outputs": [
        {
          "output_type": "stream",
          "text": [
            "Test Accuracy:  65.98558044433594\n",
            "Test Top3 Accuracy:  85.69711303710938\n",
            "loading...\n"
          ],
          "name": "stdout"
        },
        {
          "output_type": "stream",
          "text": [
            "/usr/local/lib/python3.7/dist-packages/ipykernel_launcher.py:69: UserWarning: To copy construct from a tensor, it is recommended to use sourceTensor.clone().detach() or sourceTensor.clone().detach().requires_grad_(True), rather than torch.tensor(sourceTensor).\n"
          ],
          "name": "stderr"
        },
        {
          "output_type": "stream",
          "text": [
            "UC Epoch  1 Train Accuracy:  62.27678680419922\n",
            "UC Epoch  2 Train Accuracy:  79.91071319580078\n",
            "UC Epoch  3 Train Accuracy:  88.39286041259766\n",
            "Test Accuracy:  64.54326629638672\n",
            "Test Top3 Accuracy:  85.15625\n"
          ],
          "name": "stdout"
        },
        {
          "output_type": "stream",
          "text": [
            "/usr/local/lib/python3.7/dist-packages/ipykernel_launcher.py:69: UserWarning: To copy construct from a tensor, it is recommended to use sourceTensor.clone().detach() or sourceTensor.clone().detach().requires_grad_(True), rather than torch.tensor(sourceTensor).\n"
          ],
          "name": "stderr"
        },
        {
          "output_type": "stream",
          "text": [
            "UC Epoch  1 Train Accuracy:  60.9375\n",
            "UC Epoch  2 Train Accuracy:  77.90178680419922\n",
            "UC Epoch  3 Train Accuracy:  88.39286041259766\n",
            "Test Accuracy:  61.89904022216797\n",
            "Test Top3 Accuracy:  83.29326629638672\n"
          ],
          "name": "stdout"
        },
        {
          "output_type": "stream",
          "text": [
            "/usr/local/lib/python3.7/dist-packages/ipykernel_launcher.py:69: UserWarning: To copy construct from a tensor, it is recommended to use sourceTensor.clone().detach() or sourceTensor.clone().detach().requires_grad_(True), rather than torch.tensor(sourceTensor).\n"
          ],
          "name": "stderr"
        },
        {
          "output_type": "stream",
          "text": [
            "UC Epoch  1 Train Accuracy:  54.46428680419922\n",
            "UC Epoch  2 Train Accuracy:  72.99107360839844\n",
            "UC Epoch  3 Train Accuracy:  85.26786041259766\n",
            "Test Accuracy:  58.293270111083984\n",
            "Test Top3 Accuracy:  84.49519348144531\n"
          ],
          "name": "stdout"
        },
        {
          "output_type": "stream",
          "text": [
            "/usr/local/lib/python3.7/dist-packages/ipykernel_launcher.py:69: UserWarning: To copy construct from a tensor, it is recommended to use sourceTensor.clone().detach() or sourceTensor.clone().detach().requires_grad_(True), rather than torch.tensor(sourceTensor).\n"
          ],
          "name": "stderr"
        },
        {
          "output_type": "stream",
          "text": [
            "UC Epoch  1 Train Accuracy:  60.26785659790039\n",
            "UC Epoch  2 Train Accuracy:  74.33036041259766\n",
            "UC Epoch  3 Train Accuracy:  92.41071319580078\n",
            "Test Accuracy:  63.28125\n",
            "Test Top3 Accuracy:  85.87740325927734\n"
          ],
          "name": "stdout"
        },
        {
          "output_type": "stream",
          "text": [
            "/usr/local/lib/python3.7/dist-packages/ipykernel_launcher.py:69: UserWarning: To copy construct from a tensor, it is recommended to use sourceTensor.clone().detach() or sourceTensor.clone().detach().requires_grad_(True), rather than torch.tensor(sourceTensor).\n"
          ],
          "name": "stderr"
        },
        {
          "output_type": "stream",
          "text": [
            "UC Epoch  1 Train Accuracy:  63.83928680419922\n",
            "UC Epoch  2 Train Accuracy:  75.44642639160156\n",
            "UC Epoch  3 Train Accuracy:  86.16071319580078\n",
            "Test Accuracy:  59.97595977783203\n",
            "Test Top3 Accuracy:  82.99279022216797\n"
          ],
          "name": "stdout"
        },
        {
          "output_type": "stream",
          "text": [
            "/usr/local/lib/python3.7/dist-packages/ipykernel_launcher.py:69: UserWarning: To copy construct from a tensor, it is recommended to use sourceTensor.clone().detach() or sourceTensor.clone().detach().requires_grad_(True), rather than torch.tensor(sourceTensor).\n"
          ],
          "name": "stderr"
        },
        {
          "output_type": "stream",
          "text": [
            "UC Epoch  1 Train Accuracy:  58.03571319580078\n",
            "UC Epoch  2 Train Accuracy:  77.45536041259766\n",
            "UC Epoch  3 Train Accuracy:  85.49107360839844\n",
            "Test Accuracy:  63.16105651855469\n",
            "Test Top3 Accuracy:  85.27644348144531\n"
          ],
          "name": "stdout"
        },
        {
          "output_type": "stream",
          "text": [
            "/usr/local/lib/python3.7/dist-packages/ipykernel_launcher.py:69: UserWarning: To copy construct from a tensor, it is recommended to use sourceTensor.clone().detach() or sourceTensor.clone().detach().requires_grad_(True), rather than torch.tensor(sourceTensor).\n"
          ],
          "name": "stderr"
        },
        {
          "output_type": "stream",
          "text": [
            "UC Epoch  1 Train Accuracy:  58.25893020629883\n",
            "UC Epoch  2 Train Accuracy:  79.46428680419922\n",
            "UC Epoch  3 Train Accuracy:  84.82142639160156\n",
            "Test Accuracy:  59.375\n",
            "Test Top3 Accuracy:  83.77404022216797\n"
          ],
          "name": "stdout"
        },
        {
          "output_type": "stream",
          "text": [
            "/usr/local/lib/python3.7/dist-packages/ipykernel_launcher.py:69: UserWarning: To copy construct from a tensor, it is recommended to use sourceTensor.clone().detach() or sourceTensor.clone().detach().requires_grad_(True), rather than torch.tensor(sourceTensor).\n"
          ],
          "name": "stderr"
        },
        {
          "output_type": "stream",
          "text": [
            "UC Epoch  1 Train Accuracy:  63.39285659790039\n",
            "UC Epoch  2 Train Accuracy:  77.67857360839844\n",
            "UC Epoch  3 Train Accuracy:  85.26786041259766\n",
            "Test Accuracy:  62.5\n",
            "Test Top3 Accuracy:  86.41826629638672\n"
          ],
          "name": "stdout"
        },
        {
          "output_type": "stream",
          "text": [
            "/usr/local/lib/python3.7/dist-packages/ipykernel_launcher.py:69: UserWarning: To copy construct from a tensor, it is recommended to use sourceTensor.clone().detach() or sourceTensor.clone().detach().requires_grad_(True), rather than torch.tensor(sourceTensor).\n"
          ],
          "name": "stderr"
        },
        {
          "output_type": "stream",
          "text": [
            "UC Epoch  1 Train Accuracy:  60.49106979370117\n",
            "UC Epoch  2 Train Accuracy:  76.5625\n",
            "UC Epoch  3 Train Accuracy:  88.16963958740234\n",
            "Test Accuracy:  63.40144348144531\n",
            "Test Top3 Accuracy:  86.41826629638672\n"
          ],
          "name": "stdout"
        },
        {
          "output_type": "stream",
          "text": [
            "/usr/local/lib/python3.7/dist-packages/ipykernel_launcher.py:69: UserWarning: To copy construct from a tensor, it is recommended to use sourceTensor.clone().detach() or sourceTensor.clone().detach().requires_grad_(True), rather than torch.tensor(sourceTensor).\n"
          ],
          "name": "stderr"
        },
        {
          "output_type": "stream",
          "text": [
            "UC Epoch  1 Train Accuracy:  54.24106979370117\n",
            "UC Epoch  2 Train Accuracy:  79.01786041259766\n",
            "UC Epoch  3 Train Accuracy:  86.16071319580078\n",
            "Test Accuracy:  63.04086685180664\n",
            "Test Top3 Accuracy:  84.61538696289062\n"
          ],
          "name": "stdout"
        },
        {
          "output_type": "stream",
          "text": [
            "/usr/local/lib/python3.7/dist-packages/ipykernel_launcher.py:69: UserWarning: To copy construct from a tensor, it is recommended to use sourceTensor.clone().detach() or sourceTensor.clone().detach().requires_grad_(True), rather than torch.tensor(sourceTensor).\n"
          ],
          "name": "stderr"
        },
        {
          "output_type": "stream",
          "text": [
            "UC Epoch  1 Train Accuracy:  65.625\n",
            "UC Epoch  2 Train Accuracy:  74.33036041259766\n",
            "UC Epoch  3 Train Accuracy:  88.16963958740234\n",
            "Test Accuracy:  63.82211685180664\n",
            "Test Top3 Accuracy:  85.33654022216797\n"
          ],
          "name": "stdout"
        },
        {
          "output_type": "stream",
          "text": [
            "/usr/local/lib/python3.7/dist-packages/ipykernel_launcher.py:69: UserWarning: To copy construct from a tensor, it is recommended to use sourceTensor.clone().detach() or sourceTensor.clone().detach().requires_grad_(True), rather than torch.tensor(sourceTensor).\n"
          ],
          "name": "stderr"
        },
        {
          "output_type": "stream",
          "text": [
            "UC Epoch  1 Train Accuracy:  59.375\n",
            "UC Epoch  2 Train Accuracy:  80.13392639160156\n",
            "UC Epoch  3 Train Accuracy:  83.92857360839844\n",
            "Test Accuracy:  61.418270111083984\n",
            "Test Top3 Accuracy:  84.19470977783203\n"
          ],
          "name": "stdout"
        },
        {
          "output_type": "stream",
          "text": [
            "/usr/local/lib/python3.7/dist-packages/ipykernel_launcher.py:69: UserWarning: To copy construct from a tensor, it is recommended to use sourceTensor.clone().detach() or sourceTensor.clone().detach().requires_grad_(True), rather than torch.tensor(sourceTensor).\n"
          ],
          "name": "stderr"
        },
        {
          "output_type": "stream",
          "text": [
            "UC Epoch  1 Train Accuracy:  62.27678680419922\n",
            "UC Epoch  2 Train Accuracy:  79.24107360839844\n",
            "UC Epoch  3 Train Accuracy:  87.27678680419922\n",
            "Test Accuracy:  63.94230651855469\n",
            "Test Top3 Accuracy:  85.99759674072266\n"
          ],
          "name": "stdout"
        },
        {
          "output_type": "stream",
          "text": [
            "/usr/local/lib/python3.7/dist-packages/ipykernel_launcher.py:69: UserWarning: To copy construct from a tensor, it is recommended to use sourceTensor.clone().detach() or sourceTensor.clone().detach().requires_grad_(True), rather than torch.tensor(sourceTensor).\n"
          ],
          "name": "stderr"
        },
        {
          "output_type": "stream",
          "text": [
            "UC Epoch  1 Train Accuracy:  55.35714340209961\n",
            "UC Epoch  2 Train Accuracy:  81.69642639160156\n",
            "UC Epoch  3 Train Accuracy:  89.73213958740234\n",
            "Test Accuracy:  63.88220977783203\n",
            "Test Top3 Accuracy:  85.21634674072266\n"
          ],
          "name": "stdout"
        },
        {
          "output_type": "stream",
          "text": [
            "/usr/local/lib/python3.7/dist-packages/ipykernel_launcher.py:69: UserWarning: To copy construct from a tensor, it is recommended to use sourceTensor.clone().detach() or sourceTensor.clone().detach().requires_grad_(True), rather than torch.tensor(sourceTensor).\n"
          ],
          "name": "stderr"
        },
        {
          "output_type": "stream",
          "text": [
            "UC Epoch  1 Train Accuracy:  60.71428680419922\n",
            "UC Epoch  2 Train Accuracy:  71.42857360839844\n",
            "UC Epoch  3 Train Accuracy:  82.58928680419922\n",
            "Test Accuracy:  61.658653259277344\n",
            "Test Top3 Accuracy:  84.19470977783203\n"
          ],
          "name": "stdout"
        },
        {
          "output_type": "stream",
          "text": [
            "/usr/local/lib/python3.7/dist-packages/ipykernel_launcher.py:69: UserWarning: To copy construct from a tensor, it is recommended to use sourceTensor.clone().detach() or sourceTensor.clone().detach().requires_grad_(True), rather than torch.tensor(sourceTensor).\n"
          ],
          "name": "stderr"
        },
        {
          "output_type": "stream",
          "text": [
            "UC Epoch  1 Train Accuracy:  61.16071319580078\n",
            "UC Epoch  2 Train Accuracy:  81.25\n",
            "UC Epoch  3 Train Accuracy:  92.63392639160156\n",
            "Test Accuracy:  62.92067337036133\n",
            "Test Top3 Accuracy:  85.27644348144531\n"
          ],
          "name": "stdout"
        },
        {
          "output_type": "stream",
          "text": [
            "/usr/local/lib/python3.7/dist-packages/ipykernel_launcher.py:69: UserWarning: To copy construct from a tensor, it is recommended to use sourceTensor.clone().detach() or sourceTensor.clone().detach().requires_grad_(True), rather than torch.tensor(sourceTensor).\n"
          ],
          "name": "stderr"
        },
        {
          "output_type": "stream",
          "text": [
            "UC Epoch  1 Train Accuracy:  54.46428680419922\n",
            "UC Epoch  2 Train Accuracy:  71.42857360839844\n",
            "UC Epoch  3 Train Accuracy:  87.5\n",
            "Test Accuracy:  60.75720977783203\n",
            "Test Top3 Accuracy:  84.73558044433594\n"
          ],
          "name": "stdout"
        },
        {
          "output_type": "stream",
          "text": [
            "/usr/local/lib/python3.7/dist-packages/ipykernel_launcher.py:69: UserWarning: To copy construct from a tensor, it is recommended to use sourceTensor.clone().detach() or sourceTensor.clone().detach().requires_grad_(True), rather than torch.tensor(sourceTensor).\n"
          ],
          "name": "stderr"
        },
        {
          "output_type": "stream",
          "text": [
            "UC Epoch  1 Train Accuracy:  58.92856979370117\n",
            "UC Epoch  2 Train Accuracy:  77.23213958740234\n",
            "UC Epoch  3 Train Accuracy:  88.39286041259766\n",
            "Test Accuracy:  60.096153259277344\n",
            "Test Top3 Accuracy:  86.53845977783203\n"
          ],
          "name": "stdout"
        },
        {
          "output_type": "stream",
          "text": [
            "/usr/local/lib/python3.7/dist-packages/ipykernel_launcher.py:69: UserWarning: To copy construct from a tensor, it is recommended to use sourceTensor.clone().detach() or sourceTensor.clone().detach().requires_grad_(True), rather than torch.tensor(sourceTensor).\n"
          ],
          "name": "stderr"
        },
        {
          "output_type": "stream",
          "text": [
            "UC Epoch  1 Train Accuracy:  59.59821319580078\n",
            "UC Epoch  2 Train Accuracy:  82.36607360839844\n",
            "UC Epoch  3 Train Accuracy:  83.48213958740234\n",
            "Test Accuracy:  63.10095977783203\n",
            "Test Top3 Accuracy:  86.17788696289062\n"
          ],
          "name": "stdout"
        },
        {
          "output_type": "stream",
          "text": [
            "/usr/local/lib/python3.7/dist-packages/ipykernel_launcher.py:69: UserWarning: To copy construct from a tensor, it is recommended to use sourceTensor.clone().detach() or sourceTensor.clone().detach().requires_grad_(True), rather than torch.tensor(sourceTensor).\n"
          ],
          "name": "stderr"
        },
        {
          "output_type": "stream",
          "text": [
            "UC Epoch  1 Train Accuracy:  60.71428680419922\n",
            "UC Epoch  2 Train Accuracy:  73.21428680419922\n",
            "UC Epoch  3 Train Accuracy:  86.38392639160156\n",
            "Test Accuracy:  62.800479888916016\n",
            "Test Top3 Accuracy:  85.99759674072266\n",
            "MAMLAccuracy on UC as an avg of  20 :  62.19350929260254\n",
            "MAMLTopK on UC as an avg of  20 :  85.09915885925292\n"
          ],
          "name": "stdout"
        }
      ]
    },
    {
      "cell_type": "code",
      "metadata": {
        "id": "axX-Telin6aG",
        "colab": {
          "base_uri": "https://localhost:8080/"
        },
        "outputId": "e9555146-aa6d-4b99-b5c8-60ab91862d86"
      },
      "source": [
        "mtype='MAML2'\n",
        "model = get_model(mtype=mtype,load=True)\n",
        "\n",
        "if Freeze:\n",
        "    for param in model.parameters():\n",
        "        param.requires_grad = False\n",
        "\n",
        "model.fce = nn.Linear(1024, 21)\n",
        "model = model.to(device)\n",
        "#model.save('UC'+mtype)\n",
        "\n",
        "model, epoch_tracker, MAML_loss_tracker2,MAML2_acc_tracker = UC_train(model1=model, trainloader=UCtrain_loader, epochs=UC_epochs, lr=UC_MAML_learning_rate)"
      ],
      "execution_count": 31,
      "outputs": [
        {
          "output_type": "stream",
          "text": [
            "loading...\n"
          ],
          "name": "stdout"
        },
        {
          "output_type": "stream",
          "text": [
            "/usr/local/lib/python3.7/dist-packages/ipykernel_launcher.py:69: UserWarning: To copy construct from a tensor, it is recommended to use sourceTensor.clone().detach() or sourceTensor.clone().detach().requires_grad_(True), rather than torch.tensor(sourceTensor).\n"
          ],
          "name": "stderr"
        },
        {
          "output_type": "stream",
          "text": [
            "UC Epoch  1 Train Accuracy:  65.625\n",
            "UC Epoch  2 Train Accuracy:  84.82142639160156\n",
            "UC Epoch  3 Train Accuracy:  89.0625\n"
          ],
          "name": "stdout"
        }
      ]
    },
    {
      "cell_type": "code",
      "metadata": {
        "id": "zLxbuvaOfMK5",
        "colab": {
          "base_uri": "https://localhost:8080/"
        },
        "outputId": "5aea7108-afea-4ac2-8f08-2e660b7d2a63"
      },
      "source": [
        "acc,topk =make_test(model=model, testloader=UCtest_loader,get_worse=False)\n",
        "avg_UC_test('MAML2',20)"
      ],
      "execution_count": 32,
      "outputs": [
        {
          "output_type": "stream",
          "text": [
            "Test Accuracy:  64.90384674072266\n",
            "Test Top3 Accuracy:  86.35816955566406\n",
            "loading...\n"
          ],
          "name": "stdout"
        },
        {
          "output_type": "stream",
          "text": [
            "/usr/local/lib/python3.7/dist-packages/ipykernel_launcher.py:69: UserWarning: To copy construct from a tensor, it is recommended to use sourceTensor.clone().detach() or sourceTensor.clone().detach().requires_grad_(True), rather than torch.tensor(sourceTensor).\n"
          ],
          "name": "stderr"
        },
        {
          "output_type": "stream",
          "text": [
            "UC Epoch  1 Train Accuracy:  64.95536041259766\n",
            "UC Epoch  2 Train Accuracy:  79.6875\n",
            "UC Epoch  3 Train Accuracy:  90.84821319580078\n",
            "Test Accuracy:  63.64182662963867\n",
            "Test Top3 Accuracy:  86.83894348144531\n"
          ],
          "name": "stdout"
        },
        {
          "output_type": "stream",
          "text": [
            "/usr/local/lib/python3.7/dist-packages/ipykernel_launcher.py:69: UserWarning: To copy construct from a tensor, it is recommended to use sourceTensor.clone().detach() or sourceTensor.clone().detach().requires_grad_(True), rather than torch.tensor(sourceTensor).\n"
          ],
          "name": "stderr"
        },
        {
          "output_type": "stream",
          "text": [
            "UC Epoch  1 Train Accuracy:  61.16071319580078\n",
            "UC Epoch  2 Train Accuracy:  82.36607360839844\n",
            "UC Epoch  3 Train Accuracy:  95.3125\n",
            "Test Accuracy:  64.30288696289062\n",
            "Test Top3 Accuracy:  86.53845977783203\n"
          ],
          "name": "stdout"
        },
        {
          "output_type": "stream",
          "text": [
            "/usr/local/lib/python3.7/dist-packages/ipykernel_launcher.py:69: UserWarning: To copy construct from a tensor, it is recommended to use sourceTensor.clone().detach() or sourceTensor.clone().detach().requires_grad_(True), rather than torch.tensor(sourceTensor).\n"
          ],
          "name": "stderr"
        },
        {
          "output_type": "stream",
          "text": [
            "UC Epoch  1 Train Accuracy:  63.61606979370117\n",
            "UC Epoch  2 Train Accuracy:  84.375\n",
            "UC Epoch  3 Train Accuracy:  89.95536041259766\n",
            "Test Accuracy:  64.48316955566406\n",
            "Test Top3 Accuracy:  86.23798370361328\n"
          ],
          "name": "stdout"
        },
        {
          "output_type": "stream",
          "text": [
            "/usr/local/lib/python3.7/dist-packages/ipykernel_launcher.py:69: UserWarning: To copy construct from a tensor, it is recommended to use sourceTensor.clone().detach() or sourceTensor.clone().detach().requires_grad_(True), rather than torch.tensor(sourceTensor).\n"
          ],
          "name": "stderr"
        },
        {
          "output_type": "stream",
          "text": [
            "UC Epoch  1 Train Accuracy:  63.39285659790039\n",
            "UC Epoch  2 Train Accuracy:  88.61607360839844\n",
            "UC Epoch  3 Train Accuracy:  90.84821319580078\n",
            "Test Accuracy:  68.99038696289062\n",
            "Test Top3 Accuracy:  86.95913696289062\n"
          ],
          "name": "stdout"
        },
        {
          "output_type": "stream",
          "text": [
            "/usr/local/lib/python3.7/dist-packages/ipykernel_launcher.py:69: UserWarning: To copy construct from a tensor, it is recommended to use sourceTensor.clone().detach() or sourceTensor.clone().detach().requires_grad_(True), rather than torch.tensor(sourceTensor).\n"
          ],
          "name": "stderr"
        },
        {
          "output_type": "stream",
          "text": [
            "UC Epoch  1 Train Accuracy:  70.75892639160156\n",
            "UC Epoch  2 Train Accuracy:  81.69642639160156\n",
            "UC Epoch  3 Train Accuracy:  91.96428680419922\n",
            "Test Accuracy:  62.800479888916016\n",
            "Test Top3 Accuracy:  86.11779022216797\n"
          ],
          "name": "stdout"
        },
        {
          "output_type": "stream",
          "text": [
            "/usr/local/lib/python3.7/dist-packages/ipykernel_launcher.py:69: UserWarning: To copy construct from a tensor, it is recommended to use sourceTensor.clone().detach() or sourceTensor.clone().detach().requires_grad_(True), rather than torch.tensor(sourceTensor).\n"
          ],
          "name": "stderr"
        },
        {
          "output_type": "stream",
          "text": [
            "UC Epoch  1 Train Accuracy:  66.51786041259766\n",
            "UC Epoch  2 Train Accuracy:  81.47321319580078\n",
            "UC Epoch  3 Train Accuracy:  94.41963958740234\n",
            "Test Accuracy:  65.08413696289062\n",
            "Test Top3 Accuracy:  85.33654022216797\n"
          ],
          "name": "stdout"
        },
        {
          "output_type": "stream",
          "text": [
            "/usr/local/lib/python3.7/dist-packages/ipykernel_launcher.py:69: UserWarning: To copy construct from a tensor, it is recommended to use sourceTensor.clone().detach() or sourceTensor.clone().detach().requires_grad_(True), rather than torch.tensor(sourceTensor).\n"
          ],
          "name": "stderr"
        },
        {
          "output_type": "stream",
          "text": [
            "UC Epoch  1 Train Accuracy:  63.16964340209961\n",
            "UC Epoch  2 Train Accuracy:  84.82142639160156\n",
            "UC Epoch  3 Train Accuracy:  93.97321319580078\n",
            "Test Accuracy:  65.92548370361328\n",
            "Test Top3 Accuracy:  87.31970977783203\n"
          ],
          "name": "stdout"
        },
        {
          "output_type": "stream",
          "text": [
            "/usr/local/lib/python3.7/dist-packages/ipykernel_launcher.py:69: UserWarning: To copy construct from a tensor, it is recommended to use sourceTensor.clone().detach() or sourceTensor.clone().detach().requires_grad_(True), rather than torch.tensor(sourceTensor).\n"
          ],
          "name": "stderr"
        },
        {
          "output_type": "stream",
          "text": [
            "UC Epoch  1 Train Accuracy:  66.74107360839844\n",
            "UC Epoch  2 Train Accuracy:  83.48213958740234\n",
            "UC Epoch  3 Train Accuracy:  89.95536041259766\n",
            "Test Accuracy:  66.04566955566406\n",
            "Test Top3 Accuracy:  87.74038696289062\n"
          ],
          "name": "stdout"
        },
        {
          "output_type": "stream",
          "text": [
            "/usr/local/lib/python3.7/dist-packages/ipykernel_launcher.py:69: UserWarning: To copy construct from a tensor, it is recommended to use sourceTensor.clone().detach() or sourceTensor.clone().detach().requires_grad_(True), rather than torch.tensor(sourceTensor).\n"
          ],
          "name": "stderr"
        },
        {
          "output_type": "stream",
          "text": [
            "UC Epoch  1 Train Accuracy:  66.07142639160156\n",
            "UC Epoch  2 Train Accuracy:  87.72321319580078\n",
            "UC Epoch  3 Train Accuracy:  89.50892639160156\n",
            "Test Accuracy:  63.88220977783203\n",
            "Test Top3 Accuracy:  85.45673370361328\n"
          ],
          "name": "stdout"
        },
        {
          "output_type": "stream",
          "text": [
            "/usr/local/lib/python3.7/dist-packages/ipykernel_launcher.py:69: UserWarning: To copy construct from a tensor, it is recommended to use sourceTensor.clone().detach() or sourceTensor.clone().detach().requires_grad_(True), rather than torch.tensor(sourceTensor).\n"
          ],
          "name": "stderr"
        },
        {
          "output_type": "stream",
          "text": [
            "UC Epoch  1 Train Accuracy:  66.96428680419922\n",
            "UC Epoch  2 Train Accuracy:  81.69642639160156\n",
            "UC Epoch  3 Train Accuracy:  90.625\n",
            "Test Accuracy:  63.82211685180664\n",
            "Test Top3 Accuracy:  86.71875\n"
          ],
          "name": "stdout"
        },
        {
          "output_type": "stream",
          "text": [
            "/usr/local/lib/python3.7/dist-packages/ipykernel_launcher.py:69: UserWarning: To copy construct from a tensor, it is recommended to use sourceTensor.clone().detach() or sourceTensor.clone().detach().requires_grad_(True), rather than torch.tensor(sourceTensor).\n"
          ],
          "name": "stderr"
        },
        {
          "output_type": "stream",
          "text": [
            "UC Epoch  1 Train Accuracy:  64.73213958740234\n",
            "UC Epoch  2 Train Accuracy:  82.36607360839844\n",
            "UC Epoch  3 Train Accuracy:  93.30357360839844\n",
            "Test Accuracy:  64.60336303710938\n",
            "Test Top3 Accuracy:  86.83894348144531\n"
          ],
          "name": "stdout"
        },
        {
          "output_type": "stream",
          "text": [
            "/usr/local/lib/python3.7/dist-packages/ipykernel_launcher.py:69: UserWarning: To copy construct from a tensor, it is recommended to use sourceTensor.clone().detach() or sourceTensor.clone().detach().requires_grad_(True), rather than torch.tensor(sourceTensor).\n"
          ],
          "name": "stderr"
        },
        {
          "output_type": "stream",
          "text": [
            "UC Epoch  1 Train Accuracy:  69.64286041259766\n",
            "UC Epoch  2 Train Accuracy:  85.26786041259766\n",
            "UC Epoch  3 Train Accuracy:  95.53571319580078\n",
            "Test Accuracy:  67.06730651855469\n",
            "Test Top3 Accuracy:  87.01923370361328\n"
          ],
          "name": "stdout"
        },
        {
          "output_type": "stream",
          "text": [
            "/usr/local/lib/python3.7/dist-packages/ipykernel_launcher.py:69: UserWarning: To copy construct from a tensor, it is recommended to use sourceTensor.clone().detach() or sourceTensor.clone().detach().requires_grad_(True), rather than torch.tensor(sourceTensor).\n"
          ],
          "name": "stderr"
        },
        {
          "output_type": "stream",
          "text": [
            "UC Epoch  1 Train Accuracy:  66.29463958740234\n",
            "UC Epoch  2 Train Accuracy:  85.49107360839844\n",
            "UC Epoch  3 Train Accuracy:  92.1875\n",
            "Test Accuracy:  63.64182662963867\n",
            "Test Top3 Accuracy:  87.74038696289062\n"
          ],
          "name": "stdout"
        },
        {
          "output_type": "stream",
          "text": [
            "/usr/local/lib/python3.7/dist-packages/ipykernel_launcher.py:69: UserWarning: To copy construct from a tensor, it is recommended to use sourceTensor.clone().detach() or sourceTensor.clone().detach().requires_grad_(True), rather than torch.tensor(sourceTensor).\n"
          ],
          "name": "stderr"
        },
        {
          "output_type": "stream",
          "text": [
            "UC Epoch  1 Train Accuracy:  68.97321319580078\n",
            "UC Epoch  2 Train Accuracy:  84.59821319580078\n",
            "UC Epoch  3 Train Accuracy:  95.75892639160156\n",
            "Test Accuracy:  64.24279022216797\n",
            "Test Top3 Accuracy:  85.81730651855469\n"
          ],
          "name": "stdout"
        },
        {
          "output_type": "stream",
          "text": [
            "/usr/local/lib/python3.7/dist-packages/ipykernel_launcher.py:69: UserWarning: To copy construct from a tensor, it is recommended to use sourceTensor.clone().detach() or sourceTensor.clone().detach().requires_grad_(True), rather than torch.tensor(sourceTensor).\n"
          ],
          "name": "stderr"
        },
        {
          "output_type": "stream",
          "text": [
            "UC Epoch  1 Train Accuracy:  60.9375\n",
            "UC Epoch  2 Train Accuracy:  83.70536041259766\n",
            "UC Epoch  3 Train Accuracy:  93.30357360839844\n",
            "Test Accuracy:  64.42308044433594\n",
            "Test Top3 Accuracy:  87.68029022216797\n"
          ],
          "name": "stdout"
        },
        {
          "output_type": "stream",
          "text": [
            "/usr/local/lib/python3.7/dist-packages/ipykernel_launcher.py:69: UserWarning: To copy construct from a tensor, it is recommended to use sourceTensor.clone().detach() or sourceTensor.clone().detach().requires_grad_(True), rather than torch.tensor(sourceTensor).\n"
          ],
          "name": "stderr"
        },
        {
          "output_type": "stream",
          "text": [
            "UC Epoch  1 Train Accuracy:  66.96428680419922\n",
            "UC Epoch  2 Train Accuracy:  87.05357360839844\n",
            "UC Epoch  3 Train Accuracy:  96.42857360839844\n",
            "Test Accuracy:  63.581729888916016\n",
            "Test Top3 Accuracy:  85.51683044433594\n"
          ],
          "name": "stdout"
        },
        {
          "output_type": "stream",
          "text": [
            "/usr/local/lib/python3.7/dist-packages/ipykernel_launcher.py:69: UserWarning: To copy construct from a tensor, it is recommended to use sourceTensor.clone().detach() or sourceTensor.clone().detach().requires_grad_(True), rather than torch.tensor(sourceTensor).\n"
          ],
          "name": "stderr"
        },
        {
          "output_type": "stream",
          "text": [
            "UC Epoch  1 Train Accuracy:  70.53571319580078\n",
            "UC Epoch  2 Train Accuracy:  80.80357360839844\n",
            "UC Epoch  3 Train Accuracy:  89.28571319580078\n",
            "Test Accuracy:  62.07932662963867\n",
            "Test Top3 Accuracy:  85.69711303710938\n"
          ],
          "name": "stdout"
        },
        {
          "output_type": "stream",
          "text": [
            "/usr/local/lib/python3.7/dist-packages/ipykernel_launcher.py:69: UserWarning: To copy construct from a tensor, it is recommended to use sourceTensor.clone().detach() or sourceTensor.clone().detach().requires_grad_(True), rather than torch.tensor(sourceTensor).\n"
          ],
          "name": "stderr"
        },
        {
          "output_type": "stream",
          "text": [
            "UC Epoch  1 Train Accuracy:  61.83035659790039\n",
            "UC Epoch  2 Train Accuracy:  83.03571319580078\n",
            "UC Epoch  3 Train Accuracy:  91.29463958740234\n",
            "Test Accuracy:  64.36298370361328\n",
            "Test Top3 Accuracy:  86.29808044433594\n"
          ],
          "name": "stdout"
        },
        {
          "output_type": "stream",
          "text": [
            "/usr/local/lib/python3.7/dist-packages/ipykernel_launcher.py:69: UserWarning: To copy construct from a tensor, it is recommended to use sourceTensor.clone().detach() or sourceTensor.clone().detach().requires_grad_(True), rather than torch.tensor(sourceTensor).\n"
          ],
          "name": "stderr"
        },
        {
          "output_type": "stream",
          "text": [
            "UC Epoch  1 Train Accuracy:  65.40178680419922\n",
            "UC Epoch  2 Train Accuracy:  81.91963958740234\n",
            "UC Epoch  3 Train Accuracy:  89.95536041259766\n",
            "Test Accuracy:  65.86538696289062\n",
            "Test Top3 Accuracy:  87.86058044433594\n"
          ],
          "name": "stdout"
        },
        {
          "output_type": "stream",
          "text": [
            "/usr/local/lib/python3.7/dist-packages/ipykernel_launcher.py:69: UserWarning: To copy construct from a tensor, it is recommended to use sourceTensor.clone().detach() or sourceTensor.clone().detach().requires_grad_(True), rather than torch.tensor(sourceTensor).\n"
          ],
          "name": "stderr"
        },
        {
          "output_type": "stream",
          "text": [
            "UC Epoch  1 Train Accuracy:  63.83928680419922\n",
            "UC Epoch  2 Train Accuracy:  80.13392639160156\n",
            "UC Epoch  3 Train Accuracy:  90.84821319580078\n",
            "Test Accuracy:  61.83894348144531\n",
            "Test Top3 Accuracy:  86.17788696289062\n",
            "MAML2Accuracy on UC as an avg of  20 :  64.53425521850586\n",
            "MAML2TopK on UC as an avg of  20 :  86.59555435180664\n"
          ],
          "name": "stdout"
        }
      ]
    },
    {
      "cell_type": "code",
      "metadata": {
        "id": "C3wzx32o7fD-"
      },
      "source": [
        "# mtype='MAMLnk'\n",
        "# model = modelnk\n",
        "\n",
        "# if Freeze:\n",
        "#     # for param in model.parameters():\n",
        "#         param.requires_grad = False\n",
        "\n",
        "# model.fce = nn.Linear(1024, 21)\n",
        "# model = model.to(device)\n",
        "\n",
        "# modelnk, epoch_tracker, MAMLnk_loss_tracker, MAMLnk_acc_tracker = UC_train(model1=modelnk, trainloader=UCtrain_loader, epochs=UC_epochs, lr=UC_MAML_learning_rate)"
      ],
      "execution_count": 33,
      "outputs": []
    },
    {
      "cell_type": "code",
      "metadata": {
        "id": "r0XSuYyJn82R"
      },
      "source": [
        "# acc,topk =make_test(model=modelnk, testloader=UCtest_loader,get_worse=False)\n",
        "# avg_UC_test('MAMLnk',20,model=modelnk)"
      ],
      "execution_count": 34,
      "outputs": []
    },
    {
      "cell_type": "code",
      "metadata": {
        "id": "11SceGJmLtO3",
        "colab": {
          "base_uri": "https://localhost:8080/"
        },
        "outputId": "dbe45f5c-12d4-4177-e93c-04f8f1621b73"
      },
      "source": [
        "mtype='CNN'\n",
        "model = get_model(mtype=mtype,load=True)\n",
        "\n",
        "if Freeze:\n",
        "    for param in model.parameters():\n",
        "        param.requires_grad = False\n",
        "\n",
        "model.fce = nn.Linear(1024, 21)\n",
        "model = model.to(device)\n",
        "#model.save('UC'+mtype)\n",
        "\n",
        "model, epoch_tracker, CNN_loss_tracker,CNN_acc_tracker = UC_train(model1=model, trainloader=UCtrain_loader, epochs=UC_epochs, lr=UC_CNN_learning_rate)"
      ],
      "execution_count": 35,
      "outputs": [
        {
          "output_type": "stream",
          "text": [
            "loading...\n"
          ],
          "name": "stdout"
        },
        {
          "output_type": "stream",
          "text": [
            "/usr/local/lib/python3.7/dist-packages/ipykernel_launcher.py:69: UserWarning: To copy construct from a tensor, it is recommended to use sourceTensor.clone().detach() or sourceTensor.clone().detach().requires_grad_(True), rather than torch.tensor(sourceTensor).\n"
          ],
          "name": "stderr"
        },
        {
          "output_type": "stream",
          "text": [
            "UC Epoch  1 Train Accuracy:  79.01786041259766\n",
            "UC Epoch  2 Train Accuracy:  93.75\n",
            "UC Epoch  3 Train Accuracy:  96.875\n"
          ],
          "name": "stdout"
        }
      ]
    },
    {
      "cell_type": "code",
      "metadata": {
        "id": "tueMpx6iLs3O",
        "colab": {
          "base_uri": "https://localhost:8080/"
        },
        "outputId": "5dd1a6b7-76e9-40f1-ea11-abd8d1ad0e7c"
      },
      "source": [
        "acc,topk = make_test(model=model, testloader=UCtest_loader,get_worse=False)\n",
        "avg_UC_test('CNN',20)"
      ],
      "execution_count": 36,
      "outputs": [
        {
          "output_type": "stream",
          "text": [
            "Test Accuracy:  43.87019348144531\n",
            "Test Top3 Accuracy:  67.72836303710938\n",
            "loading...\n"
          ],
          "name": "stdout"
        },
        {
          "output_type": "stream",
          "text": [
            "/usr/local/lib/python3.7/dist-packages/ipykernel_launcher.py:69: UserWarning: To copy construct from a tensor, it is recommended to use sourceTensor.clone().detach() or sourceTensor.clone().detach().requires_grad_(True), rather than torch.tensor(sourceTensor).\n"
          ],
          "name": "stderr"
        },
        {
          "output_type": "stream",
          "text": [
            "UC Epoch  1 Train Accuracy:  77.90178680419922\n",
            "UC Epoch  2 Train Accuracy:  95.75892639160156\n",
            "UC Epoch  3 Train Accuracy:  99.77678680419922\n",
            "Test Accuracy:  47.355770111083984\n",
            "Test Top3 Accuracy:  68.75\n"
          ],
          "name": "stdout"
        },
        {
          "output_type": "stream",
          "text": [
            "/usr/local/lib/python3.7/dist-packages/ipykernel_launcher.py:69: UserWarning: To copy construct from a tensor, it is recommended to use sourceTensor.clone().detach() or sourceTensor.clone().detach().requires_grad_(True), rather than torch.tensor(sourceTensor).\n"
          ],
          "name": "stderr"
        },
        {
          "output_type": "stream",
          "text": [
            "UC Epoch  1 Train Accuracy:  77.90178680419922\n",
            "UC Epoch  2 Train Accuracy:  98.66071319580078\n",
            "UC Epoch  3 Train Accuracy:  98.21428680419922\n",
            "Test Accuracy:  46.153846740722656\n",
            "Test Top3 Accuracy:  70.61298370361328\n"
          ],
          "name": "stdout"
        },
        {
          "output_type": "stream",
          "text": [
            "/usr/local/lib/python3.7/dist-packages/ipykernel_launcher.py:69: UserWarning: To copy construct from a tensor, it is recommended to use sourceTensor.clone().detach() or sourceTensor.clone().detach().requires_grad_(True), rather than torch.tensor(sourceTensor).\n"
          ],
          "name": "stderr"
        },
        {
          "output_type": "stream",
          "text": [
            "UC Epoch  1 Train Accuracy:  81.02678680419922\n",
            "UC Epoch  2 Train Accuracy:  97.54463958740234\n",
            "UC Epoch  3 Train Accuracy:  99.77678680419922\n",
            "Test Accuracy:  47.596153259277344\n",
            "Test Top3 Accuracy:  68.75\n"
          ],
          "name": "stdout"
        },
        {
          "output_type": "stream",
          "text": [
            "/usr/local/lib/python3.7/dist-packages/ipykernel_launcher.py:69: UserWarning: To copy construct from a tensor, it is recommended to use sourceTensor.clone().detach() or sourceTensor.clone().detach().requires_grad_(True), rather than torch.tensor(sourceTensor).\n"
          ],
          "name": "stderr"
        },
        {
          "output_type": "stream",
          "text": [
            "UC Epoch  1 Train Accuracy:  74.55357360839844\n",
            "UC Epoch  2 Train Accuracy:  97.09821319580078\n",
            "UC Epoch  3 Train Accuracy:  100.0\n",
            "Test Accuracy:  46.814903259277344\n",
            "Test Top3 Accuracy:  69.05048370361328\n"
          ],
          "name": "stdout"
        },
        {
          "output_type": "stream",
          "text": [
            "/usr/local/lib/python3.7/dist-packages/ipykernel_launcher.py:69: UserWarning: To copy construct from a tensor, it is recommended to use sourceTensor.clone().detach() or sourceTensor.clone().detach().requires_grad_(True), rather than torch.tensor(sourceTensor).\n"
          ],
          "name": "stderr"
        },
        {
          "output_type": "stream",
          "text": [
            "UC Epoch  1 Train Accuracy:  79.24107360839844\n",
            "UC Epoch  2 Train Accuracy:  96.875\n",
            "UC Epoch  3 Train Accuracy:  100.0\n",
            "Test Accuracy:  45.73317337036133\n",
            "Test Top3 Accuracy:  70.49279022216797\n"
          ],
          "name": "stdout"
        },
        {
          "output_type": "stream",
          "text": [
            "/usr/local/lib/python3.7/dist-packages/ipykernel_launcher.py:69: UserWarning: To copy construct from a tensor, it is recommended to use sourceTensor.clone().detach() or sourceTensor.clone().detach().requires_grad_(True), rather than torch.tensor(sourceTensor).\n"
          ],
          "name": "stderr"
        },
        {
          "output_type": "stream",
          "text": [
            "UC Epoch  1 Train Accuracy:  75.44642639160156\n",
            "UC Epoch  2 Train Accuracy:  93.97321319580078\n",
            "UC Epoch  3 Train Accuracy:  98.21428680419922\n",
            "Test Accuracy:  42.72836685180664\n",
            "Test Top3 Accuracy:  69.17066955566406\n"
          ],
          "name": "stdout"
        },
        {
          "output_type": "stream",
          "text": [
            "/usr/local/lib/python3.7/dist-packages/ipykernel_launcher.py:69: UserWarning: To copy construct from a tensor, it is recommended to use sourceTensor.clone().detach() or sourceTensor.clone().detach().requires_grad_(True), rather than torch.tensor(sourceTensor).\n"
          ],
          "name": "stderr"
        },
        {
          "output_type": "stream",
          "text": [
            "UC Epoch  1 Train Accuracy:  76.33928680419922\n",
            "UC Epoch  2 Train Accuracy:  94.64286041259766\n",
            "UC Epoch  3 Train Accuracy:  96.20536041259766\n",
            "Test Accuracy:  41.64663314819336\n",
            "Test Top3 Accuracy:  66.70673370361328\n"
          ],
          "name": "stdout"
        },
        {
          "output_type": "stream",
          "text": [
            "/usr/local/lib/python3.7/dist-packages/ipykernel_launcher.py:69: UserWarning: To copy construct from a tensor, it is recommended to use sourceTensor.clone().detach() or sourceTensor.clone().detach().requires_grad_(True), rather than torch.tensor(sourceTensor).\n"
          ],
          "name": "stderr"
        },
        {
          "output_type": "stream",
          "text": [
            "UC Epoch  1 Train Accuracy:  73.66071319580078\n",
            "UC Epoch  2 Train Accuracy:  92.85713958740234\n",
            "UC Epoch  3 Train Accuracy:  99.55357360839844\n",
            "Test Accuracy:  43.449520111083984\n",
            "Test Top3 Accuracy:  68.93029022216797\n"
          ],
          "name": "stdout"
        },
        {
          "output_type": "stream",
          "text": [
            "/usr/local/lib/python3.7/dist-packages/ipykernel_launcher.py:69: UserWarning: To copy construct from a tensor, it is recommended to use sourceTensor.clone().detach() or sourceTensor.clone().detach().requires_grad_(True), rather than torch.tensor(sourceTensor).\n"
          ],
          "name": "stderr"
        },
        {
          "output_type": "stream",
          "text": [
            "UC Epoch  1 Train Accuracy:  79.91071319580078\n",
            "UC Epoch  2 Train Accuracy:  96.42857360839844\n",
            "UC Epoch  3 Train Accuracy:  100.0\n",
            "Test Accuracy:  46.09375\n",
            "Test Top3 Accuracy:  69.77163696289062\n"
          ],
          "name": "stdout"
        },
        {
          "output_type": "stream",
          "text": [
            "/usr/local/lib/python3.7/dist-packages/ipykernel_launcher.py:69: UserWarning: To copy construct from a tensor, it is recommended to use sourceTensor.clone().detach() or sourceTensor.clone().detach().requires_grad_(True), rather than torch.tensor(sourceTensor).\n"
          ],
          "name": "stderr"
        },
        {
          "output_type": "stream",
          "text": [
            "UC Epoch  1 Train Accuracy:  73.66071319580078\n",
            "UC Epoch  2 Train Accuracy:  95.53571319580078\n",
            "UC Epoch  3 Train Accuracy:  97.99107360839844\n",
            "Test Accuracy:  42.96875\n",
            "Test Top3 Accuracy:  67.06730651855469\n"
          ],
          "name": "stdout"
        },
        {
          "output_type": "stream",
          "text": [
            "/usr/local/lib/python3.7/dist-packages/ipykernel_launcher.py:69: UserWarning: To copy construct from a tensor, it is recommended to use sourceTensor.clone().detach() or sourceTensor.clone().detach().requires_grad_(True), rather than torch.tensor(sourceTensor).\n"
          ],
          "name": "stderr"
        },
        {
          "output_type": "stream",
          "text": [
            "UC Epoch  1 Train Accuracy:  72.09821319580078\n",
            "UC Epoch  2 Train Accuracy:  96.875\n",
            "UC Epoch  3 Train Accuracy:  98.21428680419922\n",
            "Test Accuracy:  42.42788314819336\n",
            "Test Top3 Accuracy:  68.44951629638672\n"
          ],
          "name": "stdout"
        },
        {
          "output_type": "stream",
          "text": [
            "/usr/local/lib/python3.7/dist-packages/ipykernel_launcher.py:69: UserWarning: To copy construct from a tensor, it is recommended to use sourceTensor.clone().detach() or sourceTensor.clone().detach().requires_grad_(True), rather than torch.tensor(sourceTensor).\n"
          ],
          "name": "stderr"
        },
        {
          "output_type": "stream",
          "text": [
            "UC Epoch  1 Train Accuracy:  75.0\n",
            "UC Epoch  2 Train Accuracy:  95.98213958740234\n",
            "UC Epoch  3 Train Accuracy:  99.10713958740234\n",
            "Test Accuracy:  45.252403259277344\n",
            "Test Top3 Accuracy:  71.57451629638672\n"
          ],
          "name": "stdout"
        },
        {
          "output_type": "stream",
          "text": [
            "/usr/local/lib/python3.7/dist-packages/ipykernel_launcher.py:69: UserWarning: To copy construct from a tensor, it is recommended to use sourceTensor.clone().detach() or sourceTensor.clone().detach().requires_grad_(True), rather than torch.tensor(sourceTensor).\n"
          ],
          "name": "stderr"
        },
        {
          "output_type": "stream",
          "text": [
            "UC Epoch  1 Train Accuracy:  77.67857360839844\n",
            "UC Epoch  2 Train Accuracy:  94.64286041259766\n",
            "UC Epoch  3 Train Accuracy:  97.76786041259766\n",
            "Test Accuracy:  43.50961685180664\n",
            "Test Top3 Accuracy:  70.91345977783203\n"
          ],
          "name": "stdout"
        },
        {
          "output_type": "stream",
          "text": [
            "/usr/local/lib/python3.7/dist-packages/ipykernel_launcher.py:69: UserWarning: To copy construct from a tensor, it is recommended to use sourceTensor.clone().detach() or sourceTensor.clone().detach().requires_grad_(True), rather than torch.tensor(sourceTensor).\n"
          ],
          "name": "stderr"
        },
        {
          "output_type": "stream",
          "text": [
            "UC Epoch  1 Train Accuracy:  79.6875\n",
            "UC Epoch  2 Train Accuracy:  97.09821319580078\n",
            "UC Epoch  3 Train Accuracy:  97.54463958740234\n",
            "Test Accuracy:  44.831729888916016\n",
            "Test Top3 Accuracy:  68.75\n"
          ],
          "name": "stdout"
        },
        {
          "output_type": "stream",
          "text": [
            "/usr/local/lib/python3.7/dist-packages/ipykernel_launcher.py:69: UserWarning: To copy construct from a tensor, it is recommended to use sourceTensor.clone().detach() or sourceTensor.clone().detach().requires_grad_(True), rather than torch.tensor(sourceTensor).\n"
          ],
          "name": "stderr"
        },
        {
          "output_type": "stream",
          "text": [
            "UC Epoch  1 Train Accuracy:  77.00892639160156\n",
            "UC Epoch  2 Train Accuracy:  97.09821319580078\n",
            "UC Epoch  3 Train Accuracy:  99.55357360839844\n",
            "Test Accuracy:  46.69470977783203\n",
            "Test Top3 Accuracy:  70.91345977783203\n"
          ],
          "name": "stdout"
        },
        {
          "output_type": "stream",
          "text": [
            "/usr/local/lib/python3.7/dist-packages/ipykernel_launcher.py:69: UserWarning: To copy construct from a tensor, it is recommended to use sourceTensor.clone().detach() or sourceTensor.clone().detach().requires_grad_(True), rather than torch.tensor(sourceTensor).\n"
          ],
          "name": "stderr"
        },
        {
          "output_type": "stream",
          "text": [
            "UC Epoch  1 Train Accuracy:  75.22321319580078\n",
            "UC Epoch  2 Train Accuracy:  98.21428680419922\n",
            "UC Epoch  3 Train Accuracy:  100.0\n",
            "Test Accuracy:  44.050479888916016\n",
            "Test Top3 Accuracy:  70.43269348144531\n"
          ],
          "name": "stdout"
        },
        {
          "output_type": "stream",
          "text": [
            "/usr/local/lib/python3.7/dist-packages/ipykernel_launcher.py:69: UserWarning: To copy construct from a tensor, it is recommended to use sourceTensor.clone().detach() or sourceTensor.clone().detach().requires_grad_(True), rather than torch.tensor(sourceTensor).\n"
          ],
          "name": "stderr"
        },
        {
          "output_type": "stream",
          "text": [
            "UC Epoch  1 Train Accuracy:  77.45536041259766\n",
            "UC Epoch  2 Train Accuracy:  96.20536041259766\n",
            "UC Epoch  3 Train Accuracy:  100.0\n",
            "Test Accuracy:  46.75480651855469\n",
            "Test Top3 Accuracy:  70.07211303710938\n"
          ],
          "name": "stdout"
        },
        {
          "output_type": "stream",
          "text": [
            "/usr/local/lib/python3.7/dist-packages/ipykernel_launcher.py:69: UserWarning: To copy construct from a tensor, it is recommended to use sourceTensor.clone().detach() or sourceTensor.clone().detach().requires_grad_(True), rather than torch.tensor(sourceTensor).\n"
          ],
          "name": "stderr"
        },
        {
          "output_type": "stream",
          "text": [
            "UC Epoch  1 Train Accuracy:  74.33036041259766\n",
            "UC Epoch  2 Train Accuracy:  94.86607360839844\n",
            "UC Epoch  3 Train Accuracy:  100.0\n",
            "Test Accuracy:  45.19230651855469\n",
            "Test Top3 Accuracy:  69.05048370361328\n"
          ],
          "name": "stdout"
        },
        {
          "output_type": "stream",
          "text": [
            "/usr/local/lib/python3.7/dist-packages/ipykernel_launcher.py:69: UserWarning: To copy construct from a tensor, it is recommended to use sourceTensor.clone().detach() or sourceTensor.clone().detach().requires_grad_(True), rather than torch.tensor(sourceTensor).\n"
          ],
          "name": "stderr"
        },
        {
          "output_type": "stream",
          "text": [
            "UC Epoch  1 Train Accuracy:  79.24107360839844\n",
            "UC Epoch  2 Train Accuracy:  95.3125\n",
            "UC Epoch  3 Train Accuracy:  100.0\n",
            "Test Accuracy:  45.19230651855469\n",
            "Test Top3 Accuracy:  68.99038696289062\n"
          ],
          "name": "stdout"
        },
        {
          "output_type": "stream",
          "text": [
            "/usr/local/lib/python3.7/dist-packages/ipykernel_launcher.py:69: UserWarning: To copy construct from a tensor, it is recommended to use sourceTensor.clone().detach() or sourceTensor.clone().detach().requires_grad_(True), rather than torch.tensor(sourceTensor).\n"
          ],
          "name": "stderr"
        },
        {
          "output_type": "stream",
          "text": [
            "UC Epoch  1 Train Accuracy:  71.65178680419922\n",
            "UC Epoch  2 Train Accuracy:  91.74107360839844\n",
            "UC Epoch  3 Train Accuracy:  98.21428680419922\n",
            "Test Accuracy:  46.45432662963867\n",
            "Test Top3 Accuracy:  68.62980651855469\n",
            "CNNAccuracy on UC as an avg of  20 :  45.04507179260254\n",
            "CNNTopK on UC as an avg of  20 :  69.3539665222168\n"
          ],
          "name": "stdout"
        }
      ]
    },
    {
      "cell_type": "code",
      "metadata": {
        "id": "SDoGbeQ0KA4y",
        "colab": {
          "base_uri": "https://localhost:8080/"
        },
        "outputId": "7593c4a4-c143-4cb2-d412-1155ead3557a"
      },
      "source": [
        "mtype='CNN_Aug'\n",
        "model = get_model(mtype=mtype,load=True)\n",
        "\n",
        "if Freeze:\n",
        "    for param in model.parameters():\n",
        "        param.requires_grad = False\n",
        "\n",
        "model.fce = nn.Linear(1024, 21)\n",
        "model = model.to(device)\n",
        "#model.save('UC'+mtype)\n",
        "\n",
        "model, epoch_tracker, CNN_Aug_loss_tracker,CNN_AUG_acc_tracker = UC_train(model1=model, trainloader=UCtrain_loader, epochs=UC_epochs, lr=UC_CNN_learning_rate)"
      ],
      "execution_count": 37,
      "outputs": [
        {
          "output_type": "stream",
          "text": [
            "loading...\n"
          ],
          "name": "stdout"
        },
        {
          "output_type": "stream",
          "text": [
            "/usr/local/lib/python3.7/dist-packages/ipykernel_launcher.py:69: UserWarning: To copy construct from a tensor, it is recommended to use sourceTensor.clone().detach() or sourceTensor.clone().detach().requires_grad_(True), rather than torch.tensor(sourceTensor).\n"
          ],
          "name": "stderr"
        },
        {
          "output_type": "stream",
          "text": [
            "UC Epoch  1 Train Accuracy:  70.08928680419922\n",
            "UC Epoch  2 Train Accuracy:  80.35713958740234\n",
            "UC Epoch  3 Train Accuracy:  91.96428680419922\n"
          ],
          "name": "stdout"
        }
      ]
    },
    {
      "cell_type": "code",
      "metadata": {
        "id": "ZwNe13xWKAri",
        "colab": {
          "base_uri": "https://localhost:8080/"
        },
        "outputId": "1b6b74fe-abfc-464a-a9b5-2359e1f84355"
      },
      "source": [
        "acc,topk=make_test(model=model, testloader=UCtest_loader,get_worse=False)"
      ],
      "execution_count": 38,
      "outputs": [
        {
          "output_type": "stream",
          "text": [
            "Test Accuracy:  69.77163696289062\n",
            "Test Top3 Accuracy:  89.96394348144531\n"
          ],
          "name": "stdout"
        }
      ]
    },
    {
      "cell_type": "code",
      "metadata": {
        "id": "PD5NUS3wLtKv",
        "colab": {
          "base_uri": "https://localhost:8080/",
          "height": 1000
        },
        "outputId": "71f1009f-fa7f-4c66-a89c-5e6e0e86c18a"
      },
      "source": [
        "basic_train_plot(epoch_tracker, MAML_loss_tracker, CNN_Aug_loss_tracker, CNN_loss_tracker,MAML_loss_tracker2)\n",
        "avg_UC_test('CNN_Aug',20)"
      ],
      "execution_count": 39,
      "outputs": [
        {
          "output_type": "display_data",
          "data": {
            "image/png": "[encoded data removed]",
            "text/plain": [
              "<Figure size 1080x576 with 1 Axes>"
            ]
          },
          "metadata": {
            "tags": [],
            "needs_background": "light"
          }
        },
        {
          "output_type": "stream",
          "text": [
            "loading...\n"
          ],
          "name": "stdout"
        },
        {
          "output_type": "stream",
          "text": [
            "/usr/local/lib/python3.7/dist-packages/ipykernel_launcher.py:69: UserWarning: To copy construct from a tensor, it is recommended to use sourceTensor.clone().detach() or sourceTensor.clone().detach().requires_grad_(True), rather than torch.tensor(sourceTensor).\n"
          ],
          "name": "stderr"
        },
        {
          "output_type": "stream",
          "text": [
            "UC Epoch  1 Train Accuracy:  56.91964340209961\n",
            "UC Epoch  2 Train Accuracy:  77.00892639160156\n",
            "UC Epoch  3 Train Accuracy:  92.63392639160156\n",
            "Test Accuracy:  68.81009674072266\n",
            "Test Top3 Accuracy:  89.96394348144531\n"
          ],
          "name": "stdout"
        },
        {
          "output_type": "stream",
          "text": [
            "/usr/local/lib/python3.7/dist-packages/ipykernel_launcher.py:69: UserWarning: To copy construct from a tensor, it is recommended to use sourceTensor.clone().detach() or sourceTensor.clone().detach().requires_grad_(True), rather than torch.tensor(sourceTensor).\n"
          ],
          "name": "stderr"
        },
        {
          "output_type": "stream",
          "text": [
            "UC Epoch  1 Train Accuracy:  62.94643020629883\n",
            "UC Epoch  2 Train Accuracy:  78.34821319580078\n",
            "UC Epoch  3 Train Accuracy:  89.73213958740234\n",
            "Test Accuracy:  65.44470977783203\n",
            "Test Top3 Accuracy:  88.10095977783203\n"
          ],
          "name": "stdout"
        },
        {
          "output_type": "stream",
          "text": [
            "/usr/local/lib/python3.7/dist-packages/ipykernel_launcher.py:69: UserWarning: To copy construct from a tensor, it is recommended to use sourceTensor.clone().detach() or sourceTensor.clone().detach().requires_grad_(True), rather than torch.tensor(sourceTensor).\n"
          ],
          "name": "stderr"
        },
        {
          "output_type": "stream",
          "text": [
            "UC Epoch  1 Train Accuracy:  67.41071319580078\n",
            "UC Epoch  2 Train Accuracy:  83.03571319580078\n",
            "UC Epoch  3 Train Accuracy:  87.27678680419922\n",
            "Test Accuracy:  68.75\n",
            "Test Top3 Accuracy:  89.54326629638672\n"
          ],
          "name": "stdout"
        },
        {
          "output_type": "stream",
          "text": [
            "/usr/local/lib/python3.7/dist-packages/ipykernel_launcher.py:69: UserWarning: To copy construct from a tensor, it is recommended to use sourceTensor.clone().detach() or sourceTensor.clone().detach().requires_grad_(True), rather than torch.tensor(sourceTensor).\n"
          ],
          "name": "stderr"
        },
        {
          "output_type": "stream",
          "text": [
            "UC Epoch  1 Train Accuracy:  63.39285659790039\n",
            "UC Epoch  2 Train Accuracy:  81.47321319580078\n",
            "UC Epoch  3 Train Accuracy:  92.85713958740234\n",
            "Test Accuracy:  67.24759674072266\n",
            "Test Top3 Accuracy:  86.83894348144531\n"
          ],
          "name": "stdout"
        },
        {
          "output_type": "stream",
          "text": [
            "/usr/local/lib/python3.7/dist-packages/ipykernel_launcher.py:69: UserWarning: To copy construct from a tensor, it is recommended to use sourceTensor.clone().detach() or sourceTensor.clone().detach().requires_grad_(True), rather than torch.tensor(sourceTensor).\n"
          ],
          "name": "stderr"
        },
        {
          "output_type": "stream",
          "text": [
            "UC Epoch  1 Train Accuracy:  63.83928680419922\n",
            "UC Epoch  2 Train Accuracy:  84.82142639160156\n",
            "UC Epoch  3 Train Accuracy:  92.1875\n",
            "Test Accuracy:  66.34615325927734\n",
            "Test Top3 Accuracy:  87.43990325927734\n"
          ],
          "name": "stdout"
        },
        {
          "output_type": "stream",
          "text": [
            "/usr/local/lib/python3.7/dist-packages/ipykernel_launcher.py:69: UserWarning: To copy construct from a tensor, it is recommended to use sourceTensor.clone().detach() or sourceTensor.clone().detach().requires_grad_(True), rather than torch.tensor(sourceTensor).\n"
          ],
          "name": "stderr"
        },
        {
          "output_type": "stream",
          "text": [
            "UC Epoch  1 Train Accuracy:  63.83928680419922\n",
            "UC Epoch  2 Train Accuracy:  83.70536041259766\n",
            "UC Epoch  3 Train Accuracy:  89.95536041259766\n",
            "Test Accuracy:  68.38941955566406\n",
            "Test Top3 Accuracy:  89.30288696289062\n"
          ],
          "name": "stdout"
        },
        {
          "output_type": "stream",
          "text": [
            "/usr/local/lib/python3.7/dist-packages/ipykernel_launcher.py:69: UserWarning: To copy construct from a tensor, it is recommended to use sourceTensor.clone().detach() or sourceTensor.clone().detach().requires_grad_(True), rather than torch.tensor(sourceTensor).\n"
          ],
          "name": "stderr"
        },
        {
          "output_type": "stream",
          "text": [
            "UC Epoch  1 Train Accuracy:  65.84821319580078\n",
            "UC Epoch  2 Train Accuracy:  81.47321319580078\n",
            "UC Epoch  3 Train Accuracy:  93.30357360839844\n",
            "Test Accuracy:  67.24759674072266\n",
            "Test Top3 Accuracy:  87.86058044433594\n"
          ],
          "name": "stdout"
        },
        {
          "output_type": "stream",
          "text": [
            "/usr/local/lib/python3.7/dist-packages/ipykernel_launcher.py:69: UserWarning: To copy construct from a tensor, it is recommended to use sourceTensor.clone().detach() or sourceTensor.clone().detach().requires_grad_(True), rather than torch.tensor(sourceTensor).\n"
          ],
          "name": "stderr"
        },
        {
          "output_type": "stream",
          "text": [
            "UC Epoch  1 Train Accuracy:  67.63392639160156\n",
            "UC Epoch  2 Train Accuracy:  79.6875\n",
            "UC Epoch  3 Train Accuracy:  87.27678680419922\n",
            "Test Accuracy:  68.87019348144531\n",
            "Test Top3 Accuracy:  87.92066955566406\n"
          ],
          "name": "stdout"
        },
        {
          "output_type": "stream",
          "text": [
            "/usr/local/lib/python3.7/dist-packages/ipykernel_launcher.py:69: UserWarning: To copy construct from a tensor, it is recommended to use sourceTensor.clone().detach() or sourceTensor.clone().detach().requires_grad_(True), rather than torch.tensor(sourceTensor).\n"
          ],
          "name": "stderr"
        },
        {
          "output_type": "stream",
          "text": [
            "UC Epoch  1 Train Accuracy:  63.39285659790039\n",
            "UC Epoch  2 Train Accuracy:  81.47321319580078\n",
            "UC Epoch  3 Train Accuracy:  89.28571319580078\n",
            "Test Accuracy:  67.42788696289062\n",
            "Test Top3 Accuracy:  88.94230651855469\n"
          ],
          "name": "stdout"
        },
        {
          "output_type": "stream",
          "text": [
            "/usr/local/lib/python3.7/dist-packages/ipykernel_launcher.py:69: UserWarning: To copy construct from a tensor, it is recommended to use sourceTensor.clone().detach() or sourceTensor.clone().detach().requires_grad_(True), rather than torch.tensor(sourceTensor).\n"
          ],
          "name": "stderr"
        },
        {
          "output_type": "stream",
          "text": [
            "UC Epoch  1 Train Accuracy:  62.27678680419922\n",
            "UC Epoch  2 Train Accuracy:  81.69642639160156\n",
            "UC Epoch  3 Train Accuracy:  87.72321319580078\n",
            "Test Accuracy:  65.80529022216797\n",
            "Test Top3 Accuracy:  88.64183044433594\n"
          ],
          "name": "stdout"
        },
        {
          "output_type": "stream",
          "text": [
            "/usr/local/lib/python3.7/dist-packages/ipykernel_launcher.py:69: UserWarning: To copy construct from a tensor, it is recommended to use sourceTensor.clone().detach() or sourceTensor.clone().detach().requires_grad_(True), rather than torch.tensor(sourceTensor).\n"
          ],
          "name": "stderr"
        },
        {
          "output_type": "stream",
          "text": [
            "UC Epoch  1 Train Accuracy:  64.50892639160156\n",
            "UC Epoch  2 Train Accuracy:  79.46428680419922\n",
            "UC Epoch  3 Train Accuracy:  92.63392639160156\n",
            "Test Accuracy:  65.20433044433594\n",
            "Test Top3 Accuracy:  85.81730651855469\n"
          ],
          "name": "stdout"
        },
        {
          "output_type": "stream",
          "text": [
            "/usr/local/lib/python3.7/dist-packages/ipykernel_launcher.py:69: UserWarning: To copy construct from a tensor, it is recommended to use sourceTensor.clone().detach() or sourceTensor.clone().detach().requires_grad_(True), rather than torch.tensor(sourceTensor).\n"
          ],
          "name": "stderr"
        },
        {
          "output_type": "stream",
          "text": [
            "UC Epoch  1 Train Accuracy:  66.74107360839844\n",
            "UC Epoch  2 Train Accuracy:  82.14286041259766\n",
            "UC Epoch  3 Train Accuracy:  85.9375\n",
            "Test Accuracy:  67.72836303710938\n",
            "Test Top3 Accuracy:  89.66345977783203\n"
          ],
          "name": "stdout"
        },
        {
          "output_type": "stream",
          "text": [
            "/usr/local/lib/python3.7/dist-packages/ipykernel_launcher.py:69: UserWarning: To copy construct from a tensor, it is recommended to use sourceTensor.clone().detach() or sourceTensor.clone().detach().requires_grad_(True), rather than torch.tensor(sourceTensor).\n"
          ],
          "name": "stderr"
        },
        {
          "output_type": "stream",
          "text": [
            "UC Epoch  1 Train Accuracy:  67.41071319580078\n",
            "UC Epoch  2 Train Accuracy:  79.6875\n",
            "UC Epoch  3 Train Accuracy:  89.50892639160156\n",
            "Test Accuracy:  65.625\n",
            "Test Top3 Accuracy:  88.94230651855469\n"
          ],
          "name": "stdout"
        },
        {
          "output_type": "stream",
          "text": [
            "/usr/local/lib/python3.7/dist-packages/ipykernel_launcher.py:69: UserWarning: To copy construct from a tensor, it is recommended to use sourceTensor.clone().detach() or sourceTensor.clone().detach().requires_grad_(True), rather than torch.tensor(sourceTensor).\n"
          ],
          "name": "stderr"
        },
        {
          "output_type": "stream",
          "text": [
            "UC Epoch  1 Train Accuracy:  64.28571319580078\n",
            "UC Epoch  2 Train Accuracy:  81.47321319580078\n",
            "UC Epoch  3 Train Accuracy:  90.625\n",
            "Test Accuracy:  68.81009674072266\n",
            "Test Top3 Accuracy:  88.46154022216797\n"
          ],
          "name": "stdout"
        },
        {
          "output_type": "stream",
          "text": [
            "/usr/local/lib/python3.7/dist-packages/ipykernel_launcher.py:69: UserWarning: To copy construct from a tensor, it is recommended to use sourceTensor.clone().detach() or sourceTensor.clone().detach().requires_grad_(True), rather than torch.tensor(sourceTensor).\n"
          ],
          "name": "stderr"
        },
        {
          "output_type": "stream",
          "text": [
            "UC Epoch  1 Train Accuracy:  68.52678680419922\n",
            "UC Epoch  2 Train Accuracy:  83.48213958740234\n",
            "UC Epoch  3 Train Accuracy:  89.50892639160156\n",
            "Test Accuracy:  64.78365325927734\n",
            "Test Top3 Accuracy:  87.43990325927734\n"
          ],
          "name": "stdout"
        },
        {
          "output_type": "stream",
          "text": [
            "/usr/local/lib/python3.7/dist-packages/ipykernel_launcher.py:69: UserWarning: To copy construct from a tensor, it is recommended to use sourceTensor.clone().detach() or sourceTensor.clone().detach().requires_grad_(True), rather than torch.tensor(sourceTensor).\n"
          ],
          "name": "stderr"
        },
        {
          "output_type": "stream",
          "text": [
            "UC Epoch  1 Train Accuracy:  66.51786041259766\n",
            "UC Epoch  2 Train Accuracy:  85.71428680419922\n",
            "UC Epoch  3 Train Accuracy:  89.95536041259766\n",
            "Test Accuracy:  65.86538696289062\n",
            "Test Top3 Accuracy:  87.92066955566406\n"
          ],
          "name": "stdout"
        },
        {
          "output_type": "stream",
          "text": [
            "/usr/local/lib/python3.7/dist-packages/ipykernel_launcher.py:69: UserWarning: To copy construct from a tensor, it is recommended to use sourceTensor.clone().detach() or sourceTensor.clone().detach().requires_grad_(True), rather than torch.tensor(sourceTensor).\n"
          ],
          "name": "stderr"
        },
        {
          "output_type": "stream",
          "text": [
            "UC Epoch  1 Train Accuracy:  66.96428680419922\n",
            "UC Epoch  2 Train Accuracy:  82.58928680419922\n",
            "UC Epoch  3 Train Accuracy:  88.16963958740234\n",
            "Test Accuracy:  67.60816955566406\n",
            "Test Top3 Accuracy:  89.0625\n"
          ],
          "name": "stdout"
        },
        {
          "output_type": "stream",
          "text": [
            "/usr/local/lib/python3.7/dist-packages/ipykernel_launcher.py:69: UserWarning: To copy construct from a tensor, it is recommended to use sourceTensor.clone().detach() or sourceTensor.clone().detach().requires_grad_(True), rather than torch.tensor(sourceTensor).\n"
          ],
          "name": "stderr"
        },
        {
          "output_type": "stream",
          "text": [
            "UC Epoch  1 Train Accuracy:  68.08036041259766\n",
            "UC Epoch  2 Train Accuracy:  81.02678680419922\n",
            "UC Epoch  3 Train Accuracy:  86.60713958740234\n",
            "Test Accuracy:  66.70673370361328\n",
            "Test Top3 Accuracy:  88.76201629638672\n"
          ],
          "name": "stdout"
        },
        {
          "output_type": "stream",
          "text": [
            "/usr/local/lib/python3.7/dist-packages/ipykernel_launcher.py:69: UserWarning: To copy construct from a tensor, it is recommended to use sourceTensor.clone().detach() or sourceTensor.clone().detach().requires_grad_(True), rather than torch.tensor(sourceTensor).\n"
          ],
          "name": "stderr"
        },
        {
          "output_type": "stream",
          "text": [
            "UC Epoch  1 Train Accuracy:  65.40178680419922\n",
            "UC Epoch  2 Train Accuracy:  78.34821319580078\n",
            "UC Epoch  3 Train Accuracy:  90.625\n",
            "Test Accuracy:  68.99038696289062\n",
            "Test Top3 Accuracy:  89.00240325927734\n"
          ],
          "name": "stdout"
        },
        {
          "output_type": "stream",
          "text": [
            "/usr/local/lib/python3.7/dist-packages/ipykernel_launcher.py:69: UserWarning: To copy construct from a tensor, it is recommended to use sourceTensor.clone().detach() or sourceTensor.clone().detach().requires_grad_(True), rather than torch.tensor(sourceTensor).\n"
          ],
          "name": "stderr"
        },
        {
          "output_type": "stream",
          "text": [
            "UC Epoch  1 Train Accuracy:  64.50892639160156\n",
            "UC Epoch  2 Train Accuracy:  77.67857360839844\n",
            "UC Epoch  3 Train Accuracy:  86.83036041259766\n",
            "Test Accuracy:  66.70673370361328\n",
            "Test Top3 Accuracy:  87.07933044433594\n",
            "CNN_AugAccuracy on UC as an avg of  20 :  67.11838989257812\n",
            "CNN_AugTopK on UC as an avg of  20 :  88.33533630371093\n"
          ],
          "name": "stdout"
        }
      ]
    },
    {
      "cell_type": "code",
      "metadata": {
        "id": "n__DqwZ3sG5y"
      },
      "source": [
        "\n"
      ],
      "execution_count": 39,
      "outputs": []
    },
    {
      "cell_type": "markdown",
      "metadata": {
        "id": "SoCj5Wd8XuK_"
      },
      "source": [
        "## Thoughts on UC\n",
        "\n",
        "\n",
        "It is incrediably easy to overfit to UC mercer if we train each optimization scheme from sctrach as shown below. Since We know afte training on RESIC and then trasnfer learning on UC, we can say the model training on RESIC learned important features of the schenes that would otherwise not have been learned if it was just UC. Now when comparing optimization schemes, we can examine the testing accuracy of UC after training on RESIC and say which model's weights were primed for fast learning and fast adaption.\n"
      ]
    },
    {
      "cell_type": "code",
      "metadata": {
        "id": "UvBt7aOwYkWs",
        "colab": {
          "base_uri": "https://localhost:8080/"
        },
        "outputId": "84530303-517c-449a-e3a6-52979666562c"
      },
      "source": [
        "def fresh_train_UC(mtype,load):\n",
        "    model = get_model(mtype=mtype,load=load)\n",
        "    UC_MAML_learning_rate = 0.0006\n",
        "    UC_CNN_learning_rate = 0.0006\n",
        "    UC_epochs = 3\n",
        "    UC_batch_size = 32\n",
        "    UCtrain_loader,UCtest_loader = UC_get_data()\n",
        "    model.fce = nn.Linear(1024, 21)\n",
        "    model = model.to(device)\n",
        "    #model.save('UC'+mtype)\n",
        "    if mtype == 'CNN':\n",
        "        print(mtype)\n",
        "        model, epoch_tracker, CNN_Aug_loss_tracker,acc = UC_train(model1=model, trainloader=UCtrain_loader, epochs=UC_epochs, lr=UC_CNN_learning_rate)\n",
        "        acc,topk = make_test(model=model, testloader=UCtest_loader,get_worse=False)\n",
        "    elif mtype == \"MAML\":\n",
        "        print(mtype)\n",
        "        model, _, _, _, _=  train(UC_epochs, UC_CNN_learning_rate, UC_CNN_learning_rate, UCtrain_loader, UCtest_loader, c_dim, mtype, augs=True)\n",
        "        acc,topk = make_test(model=model, testloader=UCtest_loader,get_worse=False)\n",
        "\n",
        "    elif mtype == 'MAML2':\n",
        "        print(mtype)\n",
        "        model, _, _, _, _, =  train2(UC_epochs, UC_CNN_learning_rate, UC_CNN_learning_rate, UCtrain_loader, UCtest_loader, c_dim, mtype)\n",
        "        acc,topk = make_test(model=model, testloader=UCtest_loader,get_worse=False)\n",
        "        return acc\n",
        "    elif mtype == 'MAMLnk':\n",
        "        print(mtype)\n",
        "        Params= Params = {'nways': 32, 'kshots': 1, 'in_channels': 3, 'hidden_size': 2, \n",
        "                  'innerStep': UC_MAML_learning_rate, 'MetaLR': UC_MAML_learning_rate, 'number_of_tasks': 32,\n",
        "                  'Order': False, 'outerVSinner': 1, 'epoch': UC_epochs, 'aug': True,\n",
        "                   'num_classes': 45}\n",
        "        model,_,_,_,_,_ =trainMAML(mtype,model,UCtrain_loader,Params,val_loader,print_stride,nwaykshot=False)\n",
        "        acc,topk = make_test(model=model, testloader=UCtest_loader,get_worse=False)\n",
        "\n",
        "CNN_acc = fresh_train_UC('CNN',load=False)\n",
        "MAML_acc = fresh_train_UC('MAML',load=False)\n",
        "MAML2_acc = fresh_train_UC('MAML2',load=False)\n",
        "# MAMLnk_acc = fresh_train_UC('MAMLnk',load=False) dont run this get \"CUDA error: device-side assert triggered\" error, I think above calls demonstrate it enough how easy it is to overfit to the data with the best 3 models\n",
        "\n",
        "\n",
        "    "
      ],
      "execution_count": 40,
      "outputs": [
        {
          "output_type": "stream",
          "text": [
            "CNN\n"
          ],
          "name": "stdout"
        },
        {
          "output_type": "stream",
          "text": [
            "/usr/local/lib/python3.7/dist-packages/ipykernel_launcher.py:69: UserWarning: To copy construct from a tensor, it is recommended to use sourceTensor.clone().detach() or sourceTensor.clone().detach().requires_grad_(True), rather than torch.tensor(sourceTensor).\n"
          ],
          "name": "stderr"
        },
        {
          "output_type": "stream",
          "text": [
            "UC Epoch  1 Train Accuracy:  77.90178680419922\n",
            "UC Epoch  2 Train Accuracy:  95.53571319580078\n",
            "UC Epoch  3 Train Accuracy:  98.66071319580078\n",
            "Test Accuracy:  30.528846740722656\n",
            "Test Top3 Accuracy:  53.78605651855469\n",
            "MAML\n"
          ],
          "name": "stdout"
        },
        {
          "output_type": "stream",
          "text": [
            "/usr/local/lib/python3.7/dist-packages/ipykernel_launcher.py:69: UserWarning: To copy construct from a tensor, it is recommended to use sourceTensor.clone().detach() or sourceTensor.clone().detach().requires_grad_(True), rather than torch.tensor(sourceTensor).\n"
          ],
          "name": "stderr"
        },
        {
          "output_type": "stream",
          "text": [
            "saving...\n",
            "Test Accuracy:  6.490384578704834\n",
            "Test Top3 Accuracy:  17.668270111083984\n",
            "MAML2\n",
            "MAML2\n"
          ],
          "name": "stdout"
        },
        {
          "output_type": "stream",
          "text": [
            "/usr/local/lib/python3.7/dist-packages/ipykernel_launcher.py:69: UserWarning: To copy construct from a tensor, it is recommended to use sourceTensor.clone().detach() or sourceTensor.clone().detach().requires_grad_(True), rather than torch.tensor(sourceTensor).\n"
          ],
          "name": "stderr"
        },
        {
          "output_type": "stream",
          "text": [
            "saving...\n",
            "Test Accuracy:  9.014423370361328\n",
            "Test Top3 Accuracy:  14.543269157409668\n"
          ],
          "name": "stdout"
        }
      ]
    },
    {
      "cell_type": "markdown",
      "metadata": {
        "id": "JXxfK9_tGzcS"
      },
      "source": [
        "# MAML second order on traditonal dataloader, tuned to best performance by hand "
      ]
    },
    {
      "cell_type": "code",
      "metadata": {
        "id": "EIhC34FzQ6ym",
        "colab": {
          "base_uri": "https://localhost:8080/",
          "height": 404
        },
        "outputId": "41dd8096-90ca-4cc5-c5d6-3be53ff4160f"
      },
      "source": [
        "mtype='MAML'\n",
        "\n",
        "Params = {'nways': 32, 'kshots': 1, 'in_channels': 3, 'hidden_size': 2, \n",
        "                  'innerStep': .00005*5/24, 'MetaLR': .006*5/48, 'number_of_tasks': 32,\n",
        "                  'Order': False, 'outerVSinner': 1, 'epoch': n_epochs, 'aug': True,\n",
        "                   'num_classes': 45}\n",
        "model = get_meta_model(Params,load=False)\n",
        "\n",
        "train_loader, val_loader, test_loader, c_dim, classes = get_data(dir=dir, mtype=mtype)\n",
        "mtype='MAMLnk'\n",
        "model.to(device)\n",
        "if First_Train: modelnk, epoch_tracker, MAML_nk_loss_tracker, MAML_nk_val_accs, MAML_nk_val_topks, MAML_nk_train_acc = trainMAML(mtype,\n",
        "                                                                                              model,\n",
        "                                                                                              train_loader,\n",
        "                                                                                              Params,\n",
        "                                                                                              val_loader, \n",
        "                                                                                               print_stride1=print_stride\n",
        "                                                                                              )\n",
        "else: \n",
        "    model = get_model(mtype)\n",
        "    MAML_nk_loss_tracker=np.load(dir+mtype+'_loss_tracker.npy')\n",
        "    MAML_nk_val_topks=np.load(dir+mtype+'_val_topks.npy')\n",
        "    MAML_nk_val_accs=np.load(dir+mtype+'_val_accs.npy')\n",
        "acc,topk=make_test(model=modelnk, testloader=test_loader)\n",
        "avg_UC_test('MAMLnk',20,model=modelnk)"
      ],
      "execution_count": 41,
      "outputs": [
        {
          "output_type": "error",
          "ename": "RuntimeError",
          "evalue": "ignored",
          "traceback": [
            "\u001b[0;31m---------------------------------------------------------------------------\u001b[0m",
            "\u001b[0;31mRuntimeError\u001b[0m                              Traceback (most recent call last)",
            "\u001b[0;32m<ipython-input-41-a00d9bc0a60e>\u001b[0m in \u001b[0;36m<module>\u001b[0;34m()\u001b[0m\n\u001b[1;32m     15\u001b[0m                                                                                               \u001b[0mParams\u001b[0m\u001b[0;34m,\u001b[0m\u001b[0;34m\u001b[0m\u001b[0;34m\u001b[0m\u001b[0m\n\u001b[1;32m     16\u001b[0m                                                                                               \u001b[0mval_loader\u001b[0m\u001b[0;34m,\u001b[0m\u001b[0;34m\u001b[0m\u001b[0;34m\u001b[0m\u001b[0m\n\u001b[0;32m---> 17\u001b[0;31m                                                                                                \u001b[0mprint_stride1\u001b[0m\u001b[0;34m=\u001b[0m\u001b[0mprint_stride\u001b[0m\u001b[0;34m\u001b[0m\u001b[0;34m\u001b[0m\u001b[0m\n\u001b[0m\u001b[1;32m     18\u001b[0m                                                                                               )\n\u001b[1;32m     19\u001b[0m \u001b[0;32melse\u001b[0m\u001b[0;34m:\u001b[0m\u001b[0;34m\u001b[0m\u001b[0;34m\u001b[0m\u001b[0m\n",
            "\u001b[0;32m<ipython-input-11-e530f4d07c04>\u001b[0m in \u001b[0;36mtrainMAML\u001b[0;34m(mtype, model, train_tasks, Params, val_loader, print_stride1, nwaykshot, trainset, train_labels)\u001b[0m\n\u001b[1;32m     19\u001b[0m     \u001b[0;32mfor\u001b[0m \u001b[0mepoch\u001b[0m \u001b[0;32min\u001b[0m \u001b[0mrange\u001b[0m\u001b[0;34m(\u001b[0m\u001b[0;36m1\u001b[0m\u001b[0;34m,\u001b[0m \u001b[0mParams\u001b[0m\u001b[0;34m[\u001b[0m\u001b[0;34m'epoch'\u001b[0m\u001b[0;34m]\u001b[0m\u001b[0;34m+\u001b[0m\u001b[0;36m1\u001b[0m\u001b[0;34m)\u001b[0m\u001b[0;34m:\u001b[0m\u001b[0;34m\u001b[0m\u001b[0;34m\u001b[0m\u001b[0m\n\u001b[1;32m     20\u001b[0m \u001b[0;34m\u001b[0m\u001b[0m\n\u001b[0;32m---> 21\u001b[0;31m         \u001b[0mtracc\u001b[0m\u001b[0;34m,\u001b[0m \u001b[0mtrlosses\u001b[0m\u001b[0;34m=\u001b[0m \u001b[0mlooptrain\u001b[0m\u001b[0;34m(\u001b[0m\u001b[0mParams\u001b[0m\u001b[0;34m,\u001b[0m\u001b[0mmodel\u001b[0m\u001b[0;34m,\u001b[0m\u001b[0mtrain_tasks\u001b[0m\u001b[0;34m,\u001b[0m\u001b[0mnwaykshot\u001b[0m\u001b[0;34m,\u001b[0m\u001b[0mtrainset\u001b[0m\u001b[0;34m=\u001b[0m\u001b[0mtrainset\u001b[0m\u001b[0;34m,\u001b[0m\u001b[0mtrain_labels\u001b[0m\u001b[0;34m=\u001b[0m \u001b[0mtrain_labels\u001b[0m\u001b[0;34m)\u001b[0m\u001b[0;34m\u001b[0m\u001b[0;34m\u001b[0m\u001b[0m\n\u001b[0m\u001b[1;32m     22\u001b[0m \u001b[0;34m\u001b[0m\u001b[0m\n\u001b[1;32m     23\u001b[0m         \u001b[0mtrainacc\u001b[0m\u001b[0;34m.\u001b[0m\u001b[0mappend\u001b[0m\u001b[0;34m(\u001b[0m\u001b[0mtracc\u001b[0m\u001b[0;34m)\u001b[0m\u001b[0;34m\u001b[0m\u001b[0;34m\u001b[0m\u001b[0m\n",
            "\u001b[0;32m<ipython-input-11-e530f4d07c04>\u001b[0m in \u001b[0;36mlooptrain\u001b[0;34m(Params, model, train_loader, nwaykshot, trainset, train_labels)\u001b[0m\n\u001b[1;32m     76\u001b[0m         \u001b[0mtrain_logit\u001b[0m \u001b[0;34m=\u001b[0m \u001b[0mmodel\u001b[0m\u001b[0;34m(\u001b[0m\u001b[0mx_inner\u001b[0m\u001b[0;34m)\u001b[0m\u001b[0;34m\u001b[0m\u001b[0;34m\u001b[0m\u001b[0m\n\u001b[1;32m     77\u001b[0m         \u001b[0minner_loss\u001b[0m \u001b[0;34m=\u001b[0m \u001b[0mF\u001b[0m\u001b[0;34m.\u001b[0m\u001b[0mcross_entropy\u001b[0m\u001b[0;34m(\u001b[0m\u001b[0mtrain_logit\u001b[0m\u001b[0;34m,\u001b[0m \u001b[0my_inner\u001b[0m\u001b[0;34m)\u001b[0m\u001b[0;34m\u001b[0m\u001b[0;34m\u001b[0m\u001b[0m\n\u001b[0;32m---> 78\u001b[0;31m         \u001b[0mloss_amount\u001b[0m \u001b[0;34m+=\u001b[0m \u001b[0minner_loss\u001b[0m\u001b[0;34m.\u001b[0m\u001b[0mitem\u001b[0m\u001b[0;34m(\u001b[0m\u001b[0;34m)\u001b[0m\u001b[0;34m\u001b[0m\u001b[0;34m\u001b[0m\u001b[0m\n\u001b[0m\u001b[1;32m     79\u001b[0m         \u001b[0mmodel\u001b[0m\u001b[0;34m.\u001b[0m\u001b[0mzero_grad\u001b[0m\u001b[0;34m(\u001b[0m\u001b[0;34m)\u001b[0m\u001b[0;34m\u001b[0m\u001b[0;34m\u001b[0m\u001b[0m\n\u001b[1;32m     80\u001b[0m         params = gradient_update_parameters(model,\n",
            "\u001b[0;31mRuntimeError\u001b[0m: CUDA error: device-side assert triggered"
          ]
        }
      ]
    },
    {
      "cell_type": "code",
      "metadata": {
        "id": "lRpAlZP-SCku"
      },
      "source": [
        ""
      ],
      "execution_count": null,
      "outputs": []
    },
    {
      "cell_type": "markdown",
      "metadata": {
        "id": "zA3yMR-xR2R1"
      },
      "source": [
        ""
      ]
    },
    {
      "cell_type": "markdown",
      "metadata": {
        "id": "cYy7Fn7DHFIs"
      },
      "source": [
        "first order maml with 16 task inner loop l2 reg on n way k shot data, best learning rates normalized by batch size "
      ]
    },
    {
      "cell_type": "code",
      "metadata": {
        "id": "N7hsvDAoGyw2"
      },
      "source": [
        "mtype='MAML2'\n",
        "Params['nways']=5\n",
        "Params['number_of_tasks']=32\n",
        "train_loader, val_loader, test_loader, c_dim, classes, ytrain = get_data(dir=dir, mtype=mtype,nwaykshot=True)\n",
        "if First_Train: model, MAML_loss_tracker2, MAML_val_topks2, MAML_val_accs2, epoch_tracker, = train2(n_epochs, \n",
        "                                                                                                    .00045*Params['nways']/batch_size, \n",
        "                                                                                                    .0001/8*Params['nways']/batch_size,\n",
        "                                                                                                    train_loader, \n",
        "                                                                                                    val_loader, \n",
        "                                                                                                    c_dim, mtype,\n",
        "                                                                                                    print_stride1 = print_stride,\n",
        "                                                                                                    trainset= train_loader, \n",
        "                                                                                                    nwaykshot=True , \n",
        "                                                                                                    train_labels = ytrain,\n",
        "                                                                                                    Params=Params)\n",
        "else: \n",
        "    model = get_model(mtype)\n",
        "    MAML_loss_tracker2=np.load(dir+mtype+'_loss_tracker.npy')\n",
        "    MAML_val_topks2=np.load(dir+mtype+'_val_topks.npy')\n",
        "    MAML_val_accs2=np.load(dir+mtype+'_val_accs.npy')\n",
        "avg_UC_test(mtype,20)"
      ],
      "execution_count": null,
      "outputs": []
    },
    {
      "cell_type": "markdown",
      "metadata": {
        "id": "3F5BOpX07VDA"
      },
      "source": [
        "## Scrap Work Area \n",
        "\n",
        "---"
      ]
    },
    {
      "cell_type": "code",
      "metadata": {
        "id": "Y6y3pEe-0e2O"
      },
      "source": [
        "#GRAD DIAGNOSTICS\n",
        "'''\n",
        "print(\"PARAMS YOU ARE CHECKING\")\n",
        "for pA, pB in zip(CNN.parameters(), CNN1.parameters()):\n",
        "  print((pA == pB).all())\n",
        "print(\"GRAD YOU ARE CHECKING\")\n",
        "for pA, pB in zip(CNN.parameters(), CNN1.parameters()):\n",
        "  print((pA.grad == pB.grad))\n",
        "'''"
      ],
      "execution_count": null,
      "outputs": []
    },
    {
      "cell_type": "code",
      "metadata": {
        "id": "XSdAAONZe1Y_"
      },
      "source": [
        "# def trainmodel(dir,mtype,n_epochs,learning_rate_1,learning_rate_2):\n",
        "#     train_loader, val_loader, test_loader, c_dim, classes = get_data(dir=dir, mtype=mtype)\n",
        "#     make_example(train_loader=train_loader, classes=classes)\n",
        "#     if mtype=='CNN' or mtype == \"MAML\":\n",
        "#         model, loss_tracker, val_topk_tracker, val_acc_tracker, epoch_tracker = train(n_epochs=n_epochs, \n",
        "#                                                                     learning_rate=learning_rate_1, \n",
        "#                                                                     learning_rate1=learning_rate_2, \n",
        "#                                                                     train_loader=train_loader, \n",
        "#                                                                     val_loader=val_loader, \n",
        "#                                                                     c_dim=c_dim, \n",
        "#                                                                     mtype=mtype,print_stride1=1)\n",
        "#     elif mtype == 'MAML2'\n",
        "#          model, loss_tracker, val_topk_tracker, val_acc_tracker, epoch_tracker = train2(n_epochs=n_epochs, \n",
        "#                                                                     learning_rate=learning_rate_1, \n",
        "#                                                                     learning_rate1=learning_rate_2, \n",
        "#                                                                     train_loader=train_loader, \n",
        "#                                                                     val_loader=val_loader, \n",
        "#                                                                     c_dim=c_dim, \n",
        "#                                                                     mtype=mtype,print_stride1=1)\n",
        "#     return model,test_loader,loss_tracker,val_topk_tracker,val_acc_tracker,epoch_tracker\n",
        "\n",
        "# def AVG_n_model(dir,mtype,n_epochs,learning_rate_1,learning_rate_2,runs=5,UC_or_RES):\n",
        "#     list_loss_tracker,list_val_topk_tracker,list_val_acc_tracker,testacc,testtopk = [],[],[],[],[]\n",
        "#     for _ in range(runs):\n",
        "#         if UC_or_RES=='RES'\n",
        "#             model,test_loader,loss_tracker,val_topk_tracker,val_acc_tracker,epoch_tracker = trainmodel(dir,mtype,n_epochs,learning_rate_1,learning_rate_2)\n",
        "#             list_loss_tracker.append(loss_tracker)\n",
        "#             list_val_topk_tracker.append(val_topk_tracker)\n",
        "#             list_val_acc_tracker.append(val_acc_tracker)\n",
        "\n",
        "#             test_acc, test_topk  = make_test(model,test_loader)\n",
        "#             testacc.append(test_acc)\n",
        "#             testtopk.append(test_topk)\n",
        "#         else:\n",
        "#             testacc1 , testtopk1 = fresh_train_UC(mtype,load=True)\n",
        "#             testacc.append(testacc1)\n",
        "#             testtopk.append(testtopk1)\n",
        "\n",
        "\n",
        "#     avg_loss = numpy.mean(numpy.array(list_loss_tracker), axis=0)\n",
        "#     avg_valtopk = numpy.mean(numpy.array(list_val_topk_tracker), axis=0)\n",
        "#     avg_valacc = numpy.mean(numpy.array(val_acc_tracker), axis=0)\n",
        "    \n",
        "#     test__valacc = numpy.mean(numpy.array(testacc), axis=0)\n",
        "#     test___valacc = numpy.mean(numpy.array(testtopk), axis=0)\n",
        "\n",
        "#     return avg_loss,avg_valtopk,avg_valacc,test__valacc,test___valacc\n",
        "\n",
        "\n",
        "\n",
        "\n",
        "\n",
        "    \n"
      ],
      "execution_count": null,
      "outputs": []
    }
  ]
}