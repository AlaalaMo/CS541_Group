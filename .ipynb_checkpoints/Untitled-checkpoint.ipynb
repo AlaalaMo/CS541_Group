{
 "cells": [
  {
   "cell_type": "code",
   "execution_count": 1,
   "metadata": {},
   "outputs": [],
   "source": [
    "import torch\n",
    "import torch.functional as F\n",
    "import arches\n",
    "import random\n",
    "import numpy as np\n",
    "\n",
    "from sklearn.model_selection import train_test_split\n",
    "\n",
    "device = torch.device('cuda' if torch.cuda.is_available() else 'cpu')"
   ]
  },
  {
   "cell_type": "code",
   "execution_count": 2,
   "metadata": {},
   "outputs": [
    {
     "data": {
      "text/plain": [
       "<All keys matched successfully>"
      ]
     },
     "execution_count": 2,
     "metadata": {},
     "output_type": "execute_result"
    }
   ],
   "source": [
    "# Load the model here\n",
    "AE = arches.Autoencoder(250)\n",
    "\n",
    "model_path = 'aug_True_zdim_250_epo_250_tsize_0.25_AE.pt'\n",
    "AE.load_state_dict(torch.load('trained_models/' + model_path))"
   ]
  },
  {
   "cell_type": "code",
   "execution_count": 3,
   "metadata": {},
   "outputs": [],
   "source": [
    "np.random.seed(1)\n",
    "random.seed(1)\n",
    "\n",
    "data = np.load('data/RESISC45_images_96.npy')\n",
    "labels = np.load('data/RESISC45_classes.npy')\n",
    "\n",
    "test_size = 0.25\n",
    "xtrain, xtest, ytrain, ytest = train_test_split(data, labels, test_size = test_size, stratify = labels)\n",
    "\n",
    "\n",
    "np.save('data/RESISC45_images_train.npy', xtrain)\n",
    "np.save('data/RESISC45_labels_train.npy', ytrain)\n",
    "np.save('data/RESISC45_images_test.npy', xtest)\n",
    "np.save('data/RESISC45_labels_test.npy', ytest)\n"
   ]
  },
  {
   "cell_type": "code",
   "execution_count": 4,
   "metadata": {},
   "outputs": [
    {
     "name": "stdout",
     "output_type": "stream",
     "text": [
      "Training data shape:  (23625, 96, 96, 3)\n",
      "Testing data shape:  (23625,)\n",
      "Num Classes (45,)\n"
     ]
    }
   ],
   "source": [
    "train_data = np.load('data/RESISC45_images_train.npy')\n",
    "train_labels = np.load('data/RESISC45_labels_train.npy')\n",
    "\n",
    "test_data = np.load('data/RESISC45_images_test.npy')\n",
    "test_labels = np.load('data/RESISC45_labels_test.npy')\n",
    "\n",
    "classes = np.load('data/RESISC45_class_names.npy')\n",
    "\n",
    "print('Training data shape: ', train_data.shape)\n",
    "print('Testing data shape: ', train_labels.shape)\n",
    "print('Num Classes', classes.shape)"
   ]
  },
  {
   "cell_type": "code",
   "execution_count": 5,
   "metadata": {
    "scrolled": false
   },
   "outputs": [
    {
     "name": "stdout",
     "output_type": "stream",
     "text": [
      "tensor(0, dtype=torch.uint8) tensor(255, dtype=torch.uint8)\n",
      "torch.Size([500, 250])\n",
      "torch.Size([500, 250])\n",
      "torch.Size([500, 250]) torch.Size([500])\n"
     ]
    },
    {
     "name": "stderr",
     "output_type": "stream",
     "text": [
      "C:\\Users\\Alex\\AppData\\Roaming\\Python\\Python38\\site-packages\\sklearn\\model_selection\\_split.py:670: UserWarning: The least populated class in y has only 3 members, which is less than n_splits=5.\n",
      "  warnings.warn((\"The least populated class in y has only %d\"\n"
     ]
    },
    {
     "name": "stdout",
     "output_type": "stream",
     "text": [
      "RFC:  {'criterion': 'entropy', 'max_depth': 25, 'min_samples_split': 2, 'n_estimators': 250}\n",
      "0.12 0.08827412645741772 0.09092066970158862\n"
     ]
    }
   ],
   "source": [
    "from latent_predictor import fit_optim_predictor\n",
    "\n",
    "fit_optim_predictor(AE, train_data, train_labels, test_data, test_labels)"
   ]
  },
  {
   "cell_type": "code",
   "execution_count": null,
   "metadata": {},
   "outputs": [],
   "source": []
  },
  {
   "cell_type": "code",
   "execution_count": 6,
   "metadata": {},
   "outputs": [
    {
     "data": {
      "text/plain": [
       "False"
      ]
     },
     "execution_count": 6,
     "metadata": {},
     "output_type": "execute_result"
    }
   ],
   "source": [
    "import os\n",
    "os.path.isfile('dne.pt')"
   ]
  },
  {
   "cell_type": "code",
   "execution_count": 7,
   "metadata": {},
   "outputs": [
    {
     "ename": "SyntaxError",
     "evalue": "invalid syntax (<ipython-input-7-798673d020b2>, line 2)",
     "output_type": "error",
     "traceback": [
      "\u001b[1;36m  File \u001b[1;32m\"<ipython-input-7-798673d020b2>\"\u001b[1;36m, line \u001b[1;32m2\u001b[0m\n\u001b[1;33m    0.06 0.05185955562287617 0.033525738603080814\u001b[0m\n\u001b[1;37m         ^\u001b[0m\n\u001b[1;31mSyntaxError\u001b[0m\u001b[1;31m:\u001b[0m invalid syntax\n"
     ]
    }
   ],
   "source": [
    "RFC:  {'criterion': 'gini', 'max_depth': 10, 'max_features': 'auto', 'min_samples_split': 28}\n",
    "0.06 0.05185955562287617 0.033525738603080814\n",
    "\n",
    "RFC:  {'fit_intercept': 1}\n",
    "0.102 0.043411417983343525 0.09935486978341876\n",
    "\n",
    "RFC:  {'criterion': 'entropy', 'max_depth': 25, 'min_samples_split': 2, 'n_estimators': 250}\n",
    "0.12 0.08827412645741772 0.09092066970158862"
   ]
  }
 ],
 "metadata": {
  "kernelspec": {
   "display_name": "Python 3",
   "language": "python",
   "name": "python3"
  },
  "language_info": {
   "codemirror_mode": {
    "name": "ipython",
    "version": 3
   },
   "file_extension": ".py",
   "mimetype": "text/x-python",
   "name": "python",
   "nbconvert_exporter": "python",
   "pygments_lexer": "ipython3",
   "version": "3.8.3"
  }
 },
 "nbformat": 4,
 "nbformat_minor": 4
}
