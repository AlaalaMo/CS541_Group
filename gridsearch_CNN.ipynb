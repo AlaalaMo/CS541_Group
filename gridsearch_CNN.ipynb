{
 "cells": [
  {
   "cell_type": "code",
   "execution_count": 1,
   "metadata": {},
   "outputs": [],
   "source": [
    "import CNN_256\n",
    "import torch"
   ]
  },
  {
   "cell_type": "code",
   "execution_count": null,
   "metadata": {
    "scrolled": true
   },
   "outputs": [
    {
     "name": "stderr",
     "output_type": "stream",
     "text": [
      "C:\\Users\\Alex\\Documents\\CS541_Group\\CNN_256.py:100: UserWarning: To copy construct from a tensor, it is recommended to use sourceTensor.clone().detach() or sourceTensor.clone().detach().requires_grad_(True), rather than torch.tensor(sourceTensor).\n",
      "  xtest = torch.tensor(test_data).permute(0,3,1,2)\n",
      "C:\\Users\\Alex\\Documents\\CS541_Group\\CNN_256.py:184: UserWarning: To copy construct from a tensor, it is recommended to use sourceTensor.clone().detach() or sourceTensor.clone().detach().requires_grad_(True), rather than torch.tensor(sourceTensor).\n",
      "  labels = torch.nn.functional.one_hot(torch.tensor(labels).to(torch.int64), num_classes = c_dim)\n",
      "C:\\conda\\lib\\site-packages\\torchvision\\transforms\\functional_tensor.py:876: UserWarning: Argument fill/fillcolor is not supported for Tensor input. Fill value is zero\n",
      "  warnings.warn(\"Argument fill/fillcolor is not supported for Tensor input. Fill value is zero\")\n"
     ]
    }
   ],
   "source": [
    "bs_list = [4, 8, 16, 32]\n",
    "epo_list = [5, 10, 15, 20, 25]\n",
    "lr_list = [0.0002, 0.0004, 0.0008, 0.0016]\n",
    "aug_list = [True]\n",
    "\n",
    "val_acc_mat = torch.zeros((len(bs_list), len(epo_list), len(lr_list), len(aug_list)))\n",
    "top3_val_acc_mat = torch.zeros((len(bs_list), len(epo_list), len(lr_list), len(aug_list)))\n",
    "\n",
    "for bsi in range(len(bs_list)):\n",
    "    \n",
    "    for epoi in range(len(epo_list)):\n",
    "        \n",
    "        for lri in range(len(lr_list)):\n",
    "            \n",
    "            for augi in range(len(aug_list)):\n",
    "                \n",
    "                val_acc, top3_val_acc = CNN_256.run_experiment(bs_list[bsi], \n",
    "                                                                  epo_list[epoi], \n",
    "                                                                  lr_list[lri], \n",
    "                                                                  aug_list[augi])\n",
    "                \n",
    "                val_acc_mat[bsi, epoi, lri, augi] = val_acc\n",
    "                top3_val_acc_mat[bsi, epoi, lri, augi] = top3_val_acc"
   ]
  },
  {
   "cell_type": "code",
   "execution_count": null,
   "metadata": {},
   "outputs": [],
   "source": [
    "torch.save(val_acc_mat, 'val_acc_mat_noAUG.pt')\n",
    "torch.save(top3_val_acc_mat, 'top3_val_acc_mat_noAUG.pt')"
   ]
  },
  {
   "cell_type": "code",
   "execution_count": null,
   "metadata": {},
   "outputs": [],
   "source": [
    "32 15 0.0008 False\n",
    "32.982337951660156 54.87432098388672\n",
    "\n",
    "32 5 0.0016 False\n",
    "42.37432098388672 65.69293212890625"
   ]
  }
 ],
 "metadata": {
  "kernelspec": {
   "display_name": "Python 3",
   "language": "python",
   "name": "python3"
  },
  "language_info": {
   "codemirror_mode": {
    "name": "ipython",
    "version": 3
   },
   "file_extension": ".py",
   "mimetype": "text/x-python",
   "name": "python",
   "nbconvert_exporter": "python",
   "pygments_lexer": "ipython3",
   "version": "3.8.3"
  }
 },
 "nbformat": 4,
 "nbformat_minor": 4
}
