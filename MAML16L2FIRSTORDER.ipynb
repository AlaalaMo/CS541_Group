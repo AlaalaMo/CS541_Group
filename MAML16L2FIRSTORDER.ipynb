{
  "nbformat": 4,
  "nbformat_minor": 0,
  "metadata": {
    "accelerator": "GPU",
    "colab": {
      "name": "MAML16L2FIRSTORDER.ipynb",
      "provenance": [],
      "collapsed_sections": []
    },
    "kernelspec": {
      "display_name": "Python 3",
      "name": "python3"
    },
    "language_info": {
      "name": "python"
    }
  },
  "cells": [
    {
      "cell_type": "markdown",
      "metadata": {
        "id": "p3M5AQyC7Wak"
      },
      "source": [
        "#QUINCY HERSHEY - ALEX MOORE - ADAM DICHIARA - SCOTT TANG - VINCENT FILARDI\n",
        "#CS541 Project: MAML CNN\n",
        "---\n"
      ]
    },
    {
      "cell_type": "code",
      "metadata": {
        "colab": {
          "base_uri": "https://localhost:8080/"
        },
        "id": "LCohvm9g0gZS",
        "outputId": "554d7c12-9a9d-492e-cf06-8d7449fb5e2e"
      },
      "source": [
        "from google.colab import drive\n",
        "drive.mount('/content/drive')"
      ],
      "execution_count": 1,
      "outputs": [
        {
          "output_type": "stream",
          "text": [
            "Drive already mounted at /content/drive; to attempt to forcibly remount, call drive.mount(\"/content/drive\", force_remount=True).\n"
          ],
          "name": "stdout"
        }
      ]
    },
    {
      "cell_type": "code",
      "metadata": {
        "id": "7sENfvlY5AUU"
      },
      "source": [
        "import random\n",
        "from collections import OrderedDict\n",
        "import copy\n",
        "import numpy as np\n",
        "import matplotlib.pyplot as plt\n",
        "import itertools\n",
        "import torch\n",
        "import torch.nn as nn\n",
        "import torch.nn.functional as F\n",
        "import torch.optim as optim\n",
        "import torchvision.transforms as transforms\n",
        "import torchvision\n",
        "from sklearn.model_selection import train_test_split\n",
        "from torch.utils.data import Dataset, DataLoader\n",
        "\n",
        "dir = '/content/drive/MyDrive/Project/'\n",
        "device = torch.device('cuda' if torch.cuda.is_available() else 'cpu')"
      ],
      "execution_count": 2,
      "outputs": []
    },
    {
      "cell_type": "code",
      "metadata": {
        "id": "0gSVc8AH0nN-"
      },
      "source": [
        ""
      ],
      "execution_count": 2,
      "outputs": []
    },
    {
      "cell_type": "markdown",
      "metadata": {
        "id": "Qydxx8m5Nreh"
      },
      "source": [
        "## RESISC45\n",
        "\n",
        "---"
      ]
    },
    {
      "cell_type": "code",
      "metadata": {
        "id": "BfMUUIpq5Ps6"
      },
      "source": [
        "np.random.seed(1)\n",
        "random.seed(1)\n",
        "test_size = 0.8\n",
        "val_size = 0.2\n",
        "batch_size = 32\n",
        "MAML_learning_rate1 = 0.00045\n",
        "MAML_learning_rate2 = 0.0001\n",
        "alpha= 0\n",
        "CNN_learning_rate = 0.0006\n",
        "n_epochs = 20\n",
        "freeze=False\n",
        "First_Train = True\n",
        "bce_loss = nn.BCELoss()\n",
        "order=True\n",
        "reptile=True"
      ],
      "execution_count": 3,
      "outputs": []
    },
    {
      "cell_type": "code",
      "metadata": {
        "id": "5CAjypAqQYwU"
      },
      "source": [
        "class CustomTensorDataset(Dataset):\n",
        "\n",
        "    def __init__(self, images, labels, transform=None):\n",
        "        self.images = images\n",
        "        self.labels = labels\n",
        "        self.transform=transform\n",
        "\n",
        "    def __getitem__(self, index):\n",
        "        X = self.images[index]\n",
        "        y = self.labels[index]\n",
        "        return X, y\n",
        "\n",
        "    def __len__(self):\n",
        "        return len(self.images)\n",
        "\n",
        "def make_dataset(x, y):\n",
        "    x = torch.tensor(x).permute(0,3,1,2)\n",
        "    y = torch.tensor(y)\n",
        "    dset = CustomTensorDataset(x, y)\n",
        "    return dset"
      ],
      "execution_count": 4,
      "outputs": []
    },
    {
      "cell_type": "code",
      "metadata": {
        "id": "240INoPLKeOx"
      },
      "source": [
        "def get_data(dir, mtype):\n",
        "    if mtype=='MAML': batch_n = batch_size*2\n",
        "    else: batch_n = batch_size\n",
        "\n",
        "    data = np.load(dir+'data/RESISC45_images_96.npy')\n",
        "    labels = np.load(dir+'data/RESISC45_classes.npy')\n",
        "    classes = np.load(dir+'data/RESISC45_class_names.npy')\n",
        "\n",
        "    #img_size = train_data.shape[2]\n",
        "    c_dim = classes.shape[0]\n",
        "\n",
        "    train_data, test_data, train_labels, test_labels = train_test_split(data, labels, test_size = test_size, stratify = labels)\n",
        "\n",
        "    xtrain, xval, ytrain, yval = train_test_split(train_data, train_labels, test_size = val_size)\n",
        "\n",
        "    trainset = make_dataset(xtrain,ytrain)\n",
        "    train_loader = DataLoader(trainset, batch_size=int(batch_n), shuffle=True)\n",
        "\n",
        "    valset = make_dataset(xval, yval)\n",
        "    val_loader = torch.utils.data.DataLoader(valset, batch_n, drop_last = True, shuffle=True)\n",
        "\n",
        "    testset = make_dataset(test_data, test_labels)\n",
        "    test_loader = torch.utils.data.DataLoader(testset, batch_n, drop_last = True, shuffle=True)\n",
        "\n",
        "    return train_loader, val_loader, test_loader, c_dim, classes"
      ],
      "execution_count": 5,
      "outputs": []
    },
    {
      "cell_type": "code",
      "metadata": {
        "id": "euJKRHjg62sI"
      },
      "source": [
        "class Conv_Pred(nn.Module):\n",
        "    def __init__(self):\n",
        "        super(Conv_Pred, self).__init__()\n",
        "        \n",
        "        self.conv1 = nn.Conv2d(3, 32, 4, 2, 1) # Input: (batch_size, 3, img_size, img_size)\n",
        "        self.conv2 = nn.Conv2d(32, 64, 4, 2, 1, bias = False)\n",
        "        self.conv2_bn = nn.BatchNorm2d(64)\n",
        "        self.conv3 = nn.Conv2d(64, 128, 4, 2, 1, bias = False)\n",
        "        self.conv3_bn = nn.BatchNorm2d(128)\n",
        "        self.conv4 = nn.Conv2d(128, 256, 4, 2, 1, bias = False)\n",
        "        self.conv4_bn = nn.BatchNorm2d(256)\n",
        "        self.conv5 = nn.Conv2d(256, 512, 4, 2, 1, bias = False)\n",
        "        self.conv5_bn = nn.BatchNorm2d(512)\n",
        "        self.conv6 = nn.Conv2d(512, 1024, 4, 2, 1, bias = False)\n",
        "        self.conv6_bn = nn.BatchNorm2d(1024)\n",
        "        \n",
        "        self.fce = nn.Linear(1024, 45)\n",
        "\n",
        "\n",
        "    def weight_init(self):\n",
        "        for m in self._modules:\n",
        "            normal_init(self._modules[m])\n",
        "\n",
        "    def forward(self, x):\n",
        "        x = x/127.5 - 1.0\n",
        "        x = F.relu(self.conv1(x), 0.2)\n",
        "        x = F.relu(self.conv2_bn(self.conv2(x)))\n",
        "        x = F.relu(self.conv3_bn(self.conv3(x)))\n",
        "        x = F.relu(self.conv4_bn(self.conv4(x)))\n",
        "        x = F.relu(self.conv5_bn(self.conv5(x)))\n",
        "        x = F.relu(self.conv6_bn(self.conv6(x)))\n",
        "\n",
        "        z = nn.Softmax(dim=1)(self.fce(x.squeeze()))\n",
        "\n",
        "        return z\n",
        "\n",
        "    def save(self, name):\n",
        "        print('saving...')\n",
        "        torch.save({\n",
        "            'model_state_dict': self.state_dict() #,\n",
        "            #'optimizer_state_dict': self.optimizer.state_dict(),\n",
        "            }, dir+'/test/'+name+'_8task.pt')\n",
        "\n",
        "    def load(self, name):\n",
        "        print('loading...')\n",
        "        checkpoint = torch.load(dir+'/test/'+name+'_8task.pt')\n",
        "        self.load_state_dict(checkpoint['model_state_dict'])\n",
        "        #self.optimizer.load_state_dict(checkpoint['optimizer_state_dict'])\n",
        "\n",
        "def get_model(mtype, lr=0.0006, train=True,firsttrain=True):\n",
        "    model = Conv_Pred().to(device)\n",
        "    model.weight_init()\n",
        "    if not firsttrain:\n",
        "        try: model.load(mtype)\n",
        "        except: pass\n",
        "    if train == True:\n",
        "        model.train()\n",
        "    else:\n",
        "        model.eval()\n",
        "    return model\n",
        "\n",
        "\n",
        "def normal_init(m):\n",
        "    if isinstance(m, nn.ConvTranspose2d) or isinstance(m, nn.Conv2d):\n",
        "        m.weight.data.normal_(0.0, 0.02)\n",
        "\n",
        "def one_hot_embedding(labels, dims):\n",
        "    labels = torch.nn.functional.one_hot(torch.tensor(labels).to(torch.int64), num_classes = dims)\n",
        "    return torch.squeeze(labels)\n",
        "\n",
        "def accuracy_topk(output, target, topk=(3,)):\n",
        "    #https://forums.fast.ai/t/return-top-k-accuracy/27658\n",
        "    \"\"\"Computes the precision@k for the specified values of k\"\"\"\n",
        "    maxk = max(topk)\n",
        "    batch_size = target.size(0)\n",
        "\n",
        "    _, pred = output.topk(maxk, 1, True, True)\n",
        "    pred = pred.t()\n",
        "    correct = pred.eq(target.reshape(1, -1).expand_as(pred))\n",
        "\n",
        "    res = []\n",
        "    for k in topk:\n",
        "        correct_k = correct[:k].reshape(-1).float().sum(0, keepdim=True)\n",
        "        res.append(correct_k.mul_(100.0 / batch_size))\n",
        "    return res[0]"
      ],
      "execution_count": 6,
      "outputs": []
    },
    {
      "cell_type": "code",
      "metadata": {
        "id": "a0JZD2K589Mw"
      },
      "source": [
        "#augmentation_functions.py\n",
        "\n",
        "class addGaussianNoise(object):\n",
        "    def __init__(self, mean=0.0, std=1.0, p=0.5):\n",
        "        self.mean = torch.tensor(mean).to(device)\n",
        "        self.std = torch.tensor(std).to(device)\n",
        "        self.p = p\n",
        "      \n",
        "    def __call__(self, img):\n",
        "        if torch.rand(1).item() < self.p:\n",
        "            return img + torch.randn(img.size(), device = device) * self.std + self.mean\n",
        "        return img\n",
        "        \n",
        "    def __repr__(self):\n",
        "        return self.__class__.__name__ + '(mean={0}, std={1}, p={2})'.format(self.mean, self.std, self.p)\n",
        "\n",
        "def applyAugs(img_batch, task_idx, num_augs=7):\n",
        "    # returns augmented batch of images based on task index (0:128)\n",
        "    # currently based on exactly 7 transforms \n",
        "\n",
        "    transform_list = [transforms.RandomHorizontalFlip(p=0.99),\n",
        "                      transforms.RandomVerticalFlip(p=0.99),\n",
        "                      transforms.RandomRotation(359.0, fill=0.5),\n",
        "                      transforms.RandomPerspective(distortion_scale=0.1, p=0.99, fill=0.5),\n",
        "                      transforms.RandomResizedCrop(96,\n",
        "                                                   scale=(0.5, 1.0),\n",
        "                                                   ratio=(0.8, 1.0)),\n",
        "                                                   #interpolation=transforms.InterpolationMode.BILINEAR),\n",
        "                      addGaussianNoise(std=0.1, p=0.99),\n",
        "                      # transforms.ColorJitter(saturation=4.0, hue=0.01),\n",
        "                      transforms.ColorJitter(brightness=0.5, contrast=0.9)\n",
        "                      # ,transforms.GaussianBlur(9, sigma=(0.01, 2.0))\n",
        "                      ]\n",
        "       \n",
        "    tasklist = list(itertools.product([0, 1], repeat=num_augs))\n",
        "    current_augs = tasklist[task_idx]\n",
        "\n",
        "    task_transforms = [transform_list[i] for i,x in enumerate(current_augs) if x==1]\n",
        "    transform = torchvision.transforms.Compose(task_transforms)\n",
        "    img_batch = transform(img_batch)\n",
        "    return img_batch\n",
        "\n",
        "def getAugmentationTransforms(task_idx, num_augs=7):\n",
        "    # returns transforms.Compose function of transforms based on task index (0:128)\n",
        "    # currently based on exactly 7 transforms \n",
        "\n",
        "    transform_list = [transforms.RandomHorizontalFlip(p=0.99),\n",
        "                      transforms.RandomVerticalFlip(p=0.99),\n",
        "                      transforms.RandomRotation(359.0, fill=0.5),\n",
        "                      transforms.RandomPerspective(distortion_scale=0.1, p=0.99, fill=0.5),\n",
        "                      transforms.RandomResizedCrop(256,\n",
        "                                                   scale=(0.5, 1.0),\n",
        "                                                   ratio=(1.0, 1.0),\n",
        "                                                   interpolation=transforms.InterpolationMode.BILINEAR),\n",
        "                      addGaussianNoise(std=0.1, p=0.99),\n",
        "                      # transforms.ColorJitter(saturation=4.0, hue=0.01),\n",
        "                      transforms.ColorJitter(brightness=0.5, contrast=0.9)\n",
        "                      # ,transforms.GaussianBlur(9, sigma=(0.01, 2.0))\n",
        "                      ]\n",
        "       \n",
        "    tasklist = list(itertools.product([0, 1], repeat=num_augs))\n",
        "    current_augs = tasklist[task_idx]\n",
        "\n",
        "    task_transforms = [transform_list[i] for i,x in enumerate(current_augs) if x==1]\n",
        "    transform = torchvision.transforms.Compose(task_transforms)\n",
        "\n",
        "    return transform\n",
        "\n",
        "# utility functions\n",
        "# images must be normalized and converted to torch shape before augmentations (3,h,w)\n",
        "# converted to numpy shape for displaying (h,w,3)\n",
        "\n",
        "def normalizeImages(x):\n",
        "  x = x/255.\n",
        "  return x\n",
        "\n",
        "def convertToTorch(x):\n",
        "  x = np.moveaxis(x, 3, 1)\n",
        "  x = torch.as_tensor(x)\n",
        "  return x\n",
        "\n",
        "def convertToNumpy(x):\n",
        "  # convert back to format for displaying\n",
        "  x = x.numpy()\n",
        "  x = np.moveaxis(x, 1, 3)  \n",
        "  return x"
      ],
      "execution_count": 7,
      "outputs": []
    },
    {
      "cell_type": "code",
      "metadata": {
        "id": "5ykjpav_7GRG"
      },
      "source": [
        "# def train(n_epochs, learning_rate, learning_rate1, train_loader, val_loader, c_dim, mtype):\n",
        "#     epoch_tracker, loss_tracker, val_accs, val_topks = [], [], [], []\n",
        "#     i = 0\n",
        "#     tasks = 128\n",
        "#     print_stride = n_epochs // 10\n",
        "\n",
        "#     model = get_model(mtype=mtype)\n",
        "#     if mtype=='MAML' and not order:\n",
        "#         model_optimizer = optim.Adam(model.parameters(), lr = learning_rate)\n",
        "#         n=1\n",
        "#     elif order:\n",
        "#         n=16\n",
        "#         model_optimizer = optim.Adam(model.parameters(), lr = learning_rate,weight_decay=0)\n",
        "\n",
        "#     else:\n",
        "#         model_optimizer = optim.Adam(model.parameters(), lr = learning_rate1)\n",
        "#         n=1\n",
        "#     for epoch in range(1, n_epochs+1):\n",
        "\n",
        "#         losses = []\n",
        "#         j=0\n",
        "#         TasksInOuterSum = n\n",
        "#         pred_loss=torch.tensor(0.)\n",
        "#         model3=copy.deepcopy(model).to(device)## we will store all the grads here in this model it will act as a container\n",
        "#         for param in model3.parameters(): param.grad = torch.zeros_like(param,dtype=torch.float, requires_grad=True,device=device).float() ## set grads equal to o\n",
        "\n",
        "#         for X, y in train_loader:\n",
        "#             i = torch.randint(high=127, size=(1, 1)).item()\n",
        "#             y = one_hot_embedding(y, c_dim).float().to(device)\n",
        "\n",
        "#             if mtype=='MAML':\n",
        "#                 ## I added support for having the outer loop contain multiple tasks, it has been cited by Cheasea finn, \n",
        "#                 #the creator of MAML for fast adaption this is where the model does the most work the outerloop, so we will back load it with 256 images instead of 32\n",
        "#                 # This will be done by doing the update of the j variable is a multiple of n, for instance if n is = 8 in the code see line  so we get 8*32=256 images all form same tasks as the inner loop per outer update\n",
        "\n",
        "#                 ## start inner loop\n",
        "#                 ## with first order we update the models weights after each inner loop to prevent the hessian update\n",
        "#                 ## We wish to find a good intiiallzation point for all tasks so this inner loop should either have a small learning rate or a regularizer\n",
        "#                 ## I will use a regulizer to enforce some closeness to the initial point, note te more images we have in the outer loop update step the further we will be \n",
        "#                 ## from the initialization point, ideally maml without any apoximation calls aims to acheive this\n",
        "                \n",
        "#                 ## get logits with the loss for the inner loop\n",
        "#                 model1 = copy.deepcopy(model).to(device)\n",
        "#                 model1_optimizer = optim.Adam(model1.parameters(), lr = learning_rate1,weight_decay =alpha)\n",
        "                \n",
        "#                 X = applyAugs(X.float().clone().to(device), int(i))\n",
        "#                 task_batch1 = X[:int(X.shape[0]/2)].float().clone().to(device)\n",
        "#                 task_batch2 = X[int(X.shape[0]/2):].float().clone().to(device) ## now each batch\n",
        "#                 y1 = y[:int(y.shape[0]/2)].float().clone().to(device)\n",
        "#                 y2 = y[int(y.shape[0]/2):].float().clone().to(device)    ## I put the aug here to make sure that outer and inner loop train on same task as in the MAML paper\n",
        "#                 for param in model1.parameters(): param.grad = None\n",
        "#                 for param in model.parameters(): param.grad = None\n",
        "\n",
        "#                 inner_logit = model1(task_batch1)\n",
        "#                 inner_loss = bce_loss(inner_logit, y1)\n",
        "#                 inner_loss.backward() ## innner backwards\n",
        "#                 model1_optimizer.step() ## inner loss update not on orginal model\n",
        "#                 losses += [inner_loss.item()]\n",
        "#                 if reptile==True:\n",
        "#                     for k in range(2): ## do 1+4 inner updates, choose 4 since convienint, 1 since the one outside\n",
        "#                         xi,yi = next(iter(train_loader))\n",
        "#                         xi = applyAugs(X.float().clone().to(device), int(i))\n",
        "#                         task_batch1 = xi[:int(xi.shape[0]/2)].float().clone().to(device)\n",
        "#                         task_batch2 = xi[int(xi.shape[0]/2):].float().clone().to(device) ## now each batch\n",
        "#                         y1i = yi[:int(yi.shape[0]/2)].float().clone().to(device)\n",
        "#                         y2i = yi[int(yi.shape[0]/2):].float().clone().to(device)    ## I put the aug here to make sure that outer and inner loop train on same task as in the MAML paper\n",
        "#                         for param in model1.parameters(): param.grad = None\n",
        "#                         inner_logit = model1(task_batch1)\n",
        "#                         inner_loss = bce_loss(inner_logit, y1)\n",
        "#                         inner_loss.backward()\n",
        "#                         model1_optimizer.step()\n",
        "#                         model1_optimizer.zero_grad()\n",
        "#                         ##second innder loop itteration and fourth too\n",
        "#                         inner_logit = model1(task_batch2)\n",
        "#                         inner_loss = bce_loss(inner_logit, y2)\n",
        "#                         inner_loss.backward()\n",
        "#                         model1_optimizer.step()\n",
        "#                         model1_optimizer.zero_grad()\n",
        "#                 for param in model.parameters(): param.grad = None\n",
        "#                 for param in model1.parameters(): param.grad = None\n",
        "\n",
        "#                 ## now with the updated_params dict we will take outerloop without updating the params on the inner loop\n",
        "#                 outer_logit =  model1(task_batch2) ## get outer logits  with inner loss's params\n",
        "#                 outer_loss = bce_loss(outer_logit,y2)\n",
        "#                 outer_loss.backward()\n",
        "\n",
        "#                 if reptile == True:\n",
        "#                     for m1, m2,m3 in zip(model.parameters(), model3.parameters(),model3.parameters()): ## add weights to container\n",
        "#                         m3 = (m2 - m1).div(5) ## 5 is for the number of steps in inner loop, in essence we in, we avg the inner loops\n",
        "#                 else:\n",
        "#                     for m1, m2 in zip(model3.named_parameters(), model1.named_parameters()): ## add weights to container\n",
        "#                         m1[1].grad = m1[1].grad + m2[1].grad.clone()/TasksInOuterSum ## 8 is for the number of baths for non reptile inner loops, we avg the inner loops, wheather right or wrong this constant it is absorbed in the LR for the outer step\n",
        "\n",
        "#                 ## we will now update the model after seeing our n tasks with j%n\n",
        "#                 ## time to clone\n",
        "#                 if j%TasksInOuterSum ==0:\n",
        "#                     if reptile:\n",
        "#                         for m1, m2 in zip(model.parameters(), model3.parameters()):\n",
        "#                             m1 = m1 + (m2).div(TasksInOuterSum)\n",
        "#                     else:    \n",
        "#                         for m1, m2 in zip(model.named_parameters(), model3.named_parameters()):\n",
        "#                             m1[1].grad = m2[1].grad.clone()\n",
        "#                         ## do the update here\n",
        "#                         model_optimizer.step()\n",
        "#                     for param in model.parameters(): param.grad = None\n",
        "#                     for param in model1.parameters(): param.grad = None\n",
        "#                     if reptile:\n",
        "#                         model3=copy.deepcopy(model).to(device)## we will store all the grads here in this model it will act as a container\n",
        "#                         for param in model3.parameters(): param.grad = None ## in reptile it keeps intial weights of the model post update\n",
        "#                         ## we will store all the grads here in this model it will act as a container\n",
        "#                     else:\n",
        "#                         for param in model3.parameters(): param.grad = torch.zeros_like(param,dtype=torch.float, requires_grad=True,device=device).float() ## set grads equal to o\n",
        "#                 losses += [outer_loss.item()]\n",
        "    \n",
        "#             else: \n",
        "              \n",
        "#                 X = X.float().clone().to(device)\n",
        "#                 t = np.random.randint(tasks)\n",
        "#                 task_batch = applyAugs(X, t).to(device)\n",
        "\n",
        "#                 for param in model.parameters(): param.grad = None\n",
        "\n",
        "#                 yhat = model(task_batch)\n",
        "#                 pred_loss = bce_loss(yhat, y)\n",
        "#                 pred_loss.backward()\n",
        "#                 ## moved these inside, We only wish to do it for the cnn\n",
        "#                 model_optimizer.step()\n",
        "#             losses += [pred_loss.item()]\n",
        "            \n",
        "        \n",
        "#         if epoch % print_stride == 0:\n",
        "#             print('Epoch {} - loss: {:.3f}'.format((epoch), torch.mean(torch.FloatTensor(losses))))\n",
        "\n",
        "#             loss_tracker.append(torch.mean(torch.FloatTensor(losses)))\n",
        "            \n",
        "#             with torch.no_grad():\n",
        "#                 accs, actk = [], []\n",
        "#                 for x, y in val_loader:\n",
        "#                     x, y = x.to(device).float(), y.to(device).float()\n",
        "#                     yhat = model(x)\n",
        "                    \n",
        "#                     yhat_max = torch.max(yhat, dim = 1)[1]\n",
        "                    \n",
        "#                     correct = torch.sum(yhat_max == y)\n",
        "#                     size = x.shape[0]\n",
        "\n",
        "#                     acc_topk = accuracy_topk(yhat, y)\n",
        "#                     actk.append(acc_topk.data.item())\n",
        "                    \n",
        "#                     accs.append(100*(correct/size).data.item())\n",
        "\n",
        "#                 print('Validation Accuracy: ', torch.mean(torch.FloatTensor(accs)).data.item())\n",
        "#                 print('Validation Top3 Accuracy: ', torch.mean(torch.FloatTensor(actk)).data.item())\n",
        "                \n",
        "#             val_accs.append(torch.mean(torch.FloatTensor(accs)))\n",
        "#             val_topks.append(torch.mean(torch.FloatTensor(actk)))\n",
        "#             epoch_tracker.append(epoch)\n",
        "                \n",
        "          \n",
        "\n",
        "#     model.save(mtype)\n",
        "\n",
        "#     return val_accs,val_topks\n",
        "np.random.seed(1)\n",
        "random.seed(1)\n",
        "test_size = 0.8\n",
        "val_size = 0.2\n",
        "batch_size = 32\n",
        "MAML_learning_rate1 = 0.00045\n",
        "MAML_learning_rate2 = 0.0001\n",
        "alpha= .08\n",
        "CNN_learning_rate = 0.0006\n",
        "n_epochs = 80\n",
        "freeze=False\n",
        "First_Train = True ## note added to not load in params, always set to true in the get_model fucntion\n",
        "bce_loss = nn.BCELoss()\n",
        "order=True\n",
        "mtype='MAML'\n",
        "def train2(n_epochs, learning_rate, learning_rate1, train_loader, val_loader, c_dim, mtype):\n",
        "    epoch_tracker, loss_tracker, val_accs, val_topks = [], [], [], []\n",
        "    i = 0\n",
        "    tasks = 128\n",
        "    print_stride = n_epochs // 10\n",
        "\n",
        "    model = get_model(mtype=mtype)\n",
        "    if mtype=='MAML' and not order:\n",
        "        model_optimizer = optim.Adam(model.parameters(), lr = learning_rate)\n",
        "        n=1\n",
        "    elif order:\n",
        "        n=16\n",
        "        model_optimizer = optim.Adam(model.parameters(), lr = learning_rate,weight_decay=0)\n",
        "\n",
        "    else:\n",
        "        model_optimizer = optim.Adam(model.parameters(), lr = learning_rate1)\n",
        "        n=1\n",
        "    for epoch in range(1, n_epochs+1):\n",
        "\n",
        "        losses = []\n",
        "        j=0\n",
        "        TasksInOuterSum = n\n",
        "        pred_loss=torch.tensor(0.)\n",
        "        model3=copy.deepcopy(model).to(device)## we will store all the grads here in this model it will act as a container\n",
        "        for param in model3.parameters(): param.grad = torch.zeros_like(param,dtype=torch.float, requires_grad=True,device=device).float() ## set grads equal to o\n",
        "\n",
        "        for X, y in train_loader:\n",
        "            i = torch.randint(high=127, size=(1, 1)).item()\n",
        "            y = one_hot_embedding(y, c_dim).float().to(device)\n",
        "\n",
        "            if mtype=='MAML':\n",
        "                ## I added support for having the outer loop contain multiple tasks, it has been cited by Cheasea finn, \n",
        "                #the creator of MAML for fast adaption this is where the model does the most work the outerloop, so we will back load it with 256 images instead of 32\n",
        "                # This will be done by doing the update of the j variable is a multiple of n, for instance if n is = 8 in the code see line  so we get 8*32=256 images all form same tasks as the inner loop per outer update\n",
        "                X = applyAugs(X.float().clone().to(device), int(i))## I put the aug here to make sure that outer and inner loop train on same task as in the MAML paper\n",
        "\n",
        "                ## data prep for inner and outer loop\n",
        "                task_batch1 = X[:int(X.shape[0]/2)].float().clone().to(device)\n",
        "                task_batch2 = X[int(X.shape[0]/2):].float().clone().to(device) ## now each batch\n",
        "                y1 = y[:int(y.shape[0]/2)].float().clone().to(device)\n",
        "                y2 = y[int(y.shape[0]/2):].float().clone().to(device)\n",
        "                ## start inner loop\n",
        "                ## with first order we update the models weights after each inner loop to prevent the hessian update\n",
        "                ## We wish to find a good intiiallzation point for all tasks so this inner loop should either have a small learning rate or a regularizer\n",
        "                ## I will use a regulizer to enforce some closeness to the initial point, note te more images we have in the outer loop update step the further we will be \n",
        "                ## from the initialization point, ideally maml without any apoximation calls aims to acheive this\n",
        "                \n",
        "                ## get logits with the loss for the inner loop\n",
        "                model1 = copy.deepcopy(model).to(device)\n",
        "                model1_optimizer = optim.Adam(model1.parameters(), lr = learning_rate1,weight_decay =alpha)\n",
        "\n",
        "                for param in model.parameters(): param.grad = None\n",
        "                for param in model1.parameters(): param.grad = None\n",
        "\n",
        "                inner_logit = model1(task_batch1)\n",
        "                inner_loss = bce_loss(inner_logit, y1)\n",
        "                inner_loss.backward() ## innner backwards\n",
        "                model1_optimizer.step() ## inner loss update not on orginal model\n",
        "                losses += [inner_loss.item()]\n",
        "\n",
        "                for param in model.parameters(): param.grad = None\n",
        "                for param in model1.parameters(): param.grad = None\n",
        "\n",
        "                ## now with the updated_params dict we will take outerloop without updating the params on the inner loop\n",
        "                outer_logit =  model1(task_batch2) ## get outer logits  with inner loss's params\n",
        "                outer_loss = bce_loss(outer_logit,y2)\n",
        "                outer_loss.backward()\n",
        "\n",
        "                for m1, m2 in zip(model3.named_parameters(), model1.named_parameters()): ## add weights to container\n",
        "                    m1[1].grad = m1[1].grad + m2[1].grad.clone()/8\n",
        "\n",
        "                ## we will now update the model after seeing our n tasks with j%n\n",
        "                ## time to clone\n",
        "                if j%TasksInOuterSum ==0:\n",
        "                    for m1, m2 in zip(model.named_parameters(), model3.named_parameters()):\n",
        "                        m1[1].grad = m2[1].grad.clone()\n",
        "                    ## do the update here\n",
        "                    model_optimizer.step()\n",
        "                    for param in model.parameters(): param.grad = None\n",
        "                    for param in model1.parameters(): param.grad = None\n",
        "                    for param in model3.parameters(): param.grad = torch.zeros_like(param,dtype=torch.float, requires_grad=True,device=device).float() ## set grads equal to o\n",
        "                losses += [outer_loss.item()]\n",
        "    \n",
        "            else: \n",
        "              \n",
        "                X = X.float().clone().to(device)\n",
        "                t = np.random.randint(tasks)\n",
        "                task_batch = applyAugs(X, t).to(device)\n",
        "\n",
        "                for param in model.parameters(): param.grad = None\n",
        "\n",
        "                yhat = model(task_batch)\n",
        "                pred_loss = bce_loss(yhat, y)\n",
        "                pred_loss.backward()\n",
        "                ## moved these inside, We only wish to do it for the cnn\n",
        "                model_optimizer.step()\n",
        "            losses += [pred_loss.item()]\n",
        "            \n",
        "        \n",
        "        print('Epoch {} - loss: {:.3f}'.format((epoch), torch.mean(torch.FloatTensor(losses))))\n",
        "\n",
        "        loss_tracker.append(torch.mean(torch.FloatTensor(losses)))\n",
        "        \n",
        "        with torch.no_grad():\n",
        "            accs, actk = [], []\n",
        "            for x, y in val_loader:\n",
        "                x, y = x.to(device).float(), y.to(device).float()\n",
        "                yhat = model(x)\n",
        "                \n",
        "                yhat_max = torch.max(yhat, dim = 1)[1]\n",
        "                \n",
        "                correct = torch.sum(yhat_max == y)\n",
        "                size = x.shape[0]\n",
        "\n",
        "                acc_topk = accuracy_topk(yhat, y)\n",
        "                actk.append(acc_topk.data.item())\n",
        "                \n",
        "                accs.append(100*(correct/size).data.item())\n",
        "\n",
        "            print('Validation Accuracy: ', torch.mean(torch.FloatTensor(accs)).data.item())\n",
        "            print('Validation Top3 Accuracy: ', torch.mean(torch.FloatTensor(actk)).data.item())\n",
        "            \n",
        "        val_accs.append(torch.mean(torch.FloatTensor(accs)))\n",
        "        val_topks.append(torch.mean(torch.FloatTensor(actk)))\n",
        "        epoch_tracker.append(epoch)\n",
        "                \n",
        "    if order==True:\n",
        "        mtype1= mtype + '16task'      \n",
        "    np.save(dir+'/test/'+mtype1+'_loss_tracker_task.npy', loss_tracker) \n",
        "    np.save(dir+'/test/'+mtype1+'_val_topks_task.npy', val_topks)\n",
        "    np.save(dir+'/test/'+mtype1+'_val_accs_task.npy', val_accs)\n",
        "    np.save(dir+'/test/epoch_tracker_task.npy', epoch_tracker)\n",
        "    model.save(mtype)\n",
        "\n",
        "    return model, loss_tracker, val_topks, val_accs, epoch_tracker"
      ],
      "execution_count": 8,
      "outputs": []
    },
    {
      "cell_type": "code",
      "metadata": {
        "id": "qXe2IDIA6wws"
      },
      "source": [
        "def make_example(train_loader, classes):\n",
        "    print('Shape of a batch of images: ', next(iter(train_loader))[0].shape)\n",
        "    print('Shape of a batch of labels: ', next(iter(train_loader))[1].shape)\n",
        "\n",
        "    first_samp = next(iter(train_loader))[0][0] #get first sample in first batch\n",
        "    plt.imshow(first_samp.permute(1,2,0)/255) #show it\n",
        "\n",
        "    name = next(iter(train_loader))[1][0].data.item()\n",
        "    print(name, classes[name])\n",
        "    return first_samp\n",
        "\n",
        "def make_train_plot(MAML_loss_tracker, CNN_loss_tracker, MAML_val_accs, CNN_val_accs, MAML_val_topks, CNN_val_topks, epoch_tracker):\n",
        "    #plt.plot(epoch_tracker, MAML_loss_tracker, label = 'MAML train loss')\n",
        "    #plt.plot(epoch_tracker, CNN_loss_tracker, label = 'CNN train loss')\n",
        "    plt.plot(epoch_tracker, MAML_val_accs, label = 'MAML val acc')\n",
        "    plt.plot(epoch_tracker, CNN_val_accs, label = 'CNN val acc')\n",
        "    plt.plot(epoch_tracker, MAML_val_topks, label = 'MAML val top3')\n",
        "    plt.plot(epoch_tracker, CNN_val_topks, label = 'CNN_val top3')\n",
        "    plt.legend(loc = 'best')\n",
        "    plt.show()\n",
        "\n",
        "def make_two_plots(epoch_tracker, MAML_loss_tracker, CNN_loss_tracker, MAML_val_accs, CNN_val_accs):\n",
        "    fig, (ax1, ax2) = plt.subplots(1,2)\n",
        "    ax1.plot(epoch_tracker, MAML_loss_tracker, label = 'MAML train loss')\n",
        "    ax1.plot(epoch_tracker, CNN_loss_tracker, label = 'CNN train loss')\n",
        "    ax1.legend(loc = 'best')\n",
        "    ax2.plot(epoch_tracker, MAML_val_accs, label = 'MAML val acc')\n",
        "    ax2.plot(epoch_tracker, CNN_val_accs, label = 'CNN val acc')\n",
        "    ax2.legend(loc = 'best')\n",
        "    plt.tight_layout()\n",
        "    plt.show()\n",
        "\n",
        "def basic_train_plot(epoch_tracker, MAML_loss_tracker, CNN_loss_tracker):\n",
        "    plt.plot(epoch_tracker, MAML_loss_tracker, label = 'MAML train loss')\n",
        "    plt.plot(epoch_tracker, CNN_loss_tracker, label = 'CNN train loss')\n",
        "    plt.legend(loc = 'best')\n",
        "    plt.show()\n",
        "\n",
        "def make_test(model, testloader):\n",
        "    with torch.no_grad():\n",
        "        model.eval()\n",
        "        accs, topks = [], []\n",
        "        for x, y in testloader:\n",
        "            x, y = x.to(device).float(), y.to(device).float()\n",
        "            yhat = model(x)\n",
        "            yhat_max = torch.max(yhat, dim = 1)[1]\n",
        "            correct = torch.sum(yhat_max == y)\n",
        "            size = x.shape[0]\n",
        "            acc_topk = accuracy_topk(yhat, y)\n",
        "\n",
        "            topks.append(acc_topk.data.item())\n",
        "            accs.append(100*(correct/size).data.item())\n",
        "\n",
        "        print('Test Accuracy: ', torch.mean(torch.FloatTensor(accs)).data.item())\n",
        "        print('Test Top3 Accuracy: ', torch.mean(torch.FloatTensor(topks)).data.item())\n",
        "    return accs,topks\n"
      ],
      "execution_count": 9,
      "outputs": []
    },
    {
      "cell_type": "code",
      "metadata": {
        "id": "pS3tbbPGD_zJ"
      },
      "source": [
        "def make_example(train_loader, classes):\n",
        "    #print('Shape of a batch of images: ', next(iter(train_loader))[0].shape)\n",
        "    #print('Shape of a batch of labels: ', next(iter(train_loader))[1].shape)\n",
        "\n",
        "    first_samp = next(iter(train_loader)) #get first sample in first batch\n",
        "    img, name = first_samp[0][0], first_samp[1][0]\n",
        "    plt.imshow(img.permute(1,2,0)/255)\n",
        "\n",
        "    print(name, classes[name])\n",
        "def getvalErr(model,val_loader):\n",
        "    val_accs = []\n",
        "    val_topks = []\n",
        "    with torch.no_grad():\n",
        "        accs, actk = [], []\n",
        "        device = torch.device('cuda' if torch.cuda.is_available() else 'cpu')\n",
        "        for x, y in val_loader:\n",
        "            x, y = x.to(device).float(), y.to(device).long()\n",
        "            yhat = model(x)\n",
        "            yhat_max = torch.max(yhat, dim=1)[1]\n",
        "            correct = torch.sum(yhat_max == y)\n",
        "            size = x.shape[0]\n",
        "            acc_topk = accuracy_topk(yhat, y)\n",
        "            actk.append(acc_topk.data.item())\n",
        "            valcc = 100*(correct / size).data.item()\n",
        "            accs.append(valcc)\n",
        "    return torch.mean(torch.FloatTensor(accs)).data.item(), 100*torch.mean(torch.FloatTensor(actk)).data.item()"
      ],
      "execution_count": 10,
      "outputs": []
    },
    {
      "cell_type": "markdown",
      "metadata": {
        "id": "1gftKXCpdiY6"
      },
      "source": [
        "## RESISC MAML\n",
        "\n",
        "---"
      ]
    },
    {
      "cell_type": "code",
      "metadata": {
        "colab": {
          "base_uri": "https://localhost:8080/",
          "height": 285
        },
        "id": "cayrPooZMLQJ",
        "outputId": "1db8060a-3501-468c-e2b3-fc93e3403dcf"
      },
      "source": [
        "mtype='MAML'\n",
        "train_loader, val_loader, test_loader, c_dim, classes = get_data(dir=dir, mtype=mtype)\n",
        "\n",
        "make_example(train_loader=train_loader, classes=classes)"
      ],
      "execution_count": 11,
      "outputs": [
        {
          "output_type": "stream",
          "text": [
            "tensor(34, dtype=torch.int32) runway\n"
          ],
          "name": "stdout"
        },
        {
          "output_type": "display_data",
          "data": {
            "image/png": "[encoded data removed]",
            "text/plain": [
              "<Figure size 432x288 with 1 Axes>"
            ]
          },
          "metadata": {
            "tags": [],
            "needs_background": "light"
          }
        }
      ]
    },
    {
      "cell_type": "code",
      "metadata": {
        "colab": {
          "base_uri": "https://localhost:8080/"
        },
        "id": "iVVcU3nK69gl",
        "outputId": "1dcebc27-dd0b-4cf0-ede6-304f3a974902"
      },
      "source": [
        "np.random.seed(1)\n",
        "random.seed(1)\n",
        "test_size = 0.8\n",
        "val_size = 0.2\n",
        "batch_size = 32\n",
        "MAML_learning_rate1 = 0.00045\n",
        "MAML_learning_rate2 = 0.0001\n",
        "alpha= .08\n",
        "CNN_learning_rate = 0.0006\n",
        "n_epochs = 80\n",
        "freeze=False\n",
        "First_Train = True ## note added to not load in params, always set to true in the get_model fucntion\n",
        "bce_loss = nn.BCELoss()\n",
        "order=True\n",
        "mtype='MAML'\n",
        "if First_Train: model, MAML_loss_tracker, MAML_val_topks, MAML_val_accs, epoch_tracker = train2(n_epochs=n_epochs, \n",
        "                                                                learning_rate=MAML_learning_rate1, \n",
        "                                                                learning_rate1=CNN_learning_rate, \n",
        "                                                                train_loader=train_loader, \n",
        "                                                                val_loader=val_loader, \n",
        "                                                                c_dim=c_dim, \n",
        "                                                                mtype=mtype)\n",
        "else: \n",
        "    model = get_model(mtype)\n",
        "    MAML_loss_tracker=np.load(dir+'/test/MAML_loss_tracker.npy')\n",
        "    MAML_val_topks=np.load(dir+'/test/MAML_val_topks.npy')\n",
        "    MAML_val_accs=np.load(dir+'/test/MAML_val_accs.npy')\n",
        "    epoch_tracker=np.load(dir+'/test/'+'epoch_tracker.npy')"
      ],
      "execution_count": 12,
      "outputs": [
        {
          "output_type": "stream",
          "text": [
            "/usr/local/lib/python3.7/dist-packages/ipykernel_launcher.py:68: UserWarning: To copy construct from a tensor, it is recommended to use sourceTensor.clone().detach() or sourceTensor.clone().detach().requires_grad_(True), rather than torch.tensor(sourceTensor).\n"
          ],
          "name": "stderr"
        },
        {
          "output_type": "stream",
          "text": [
            "Epoch 1 - loss: 0.068\n",
            "Validation Accuracy:  15.789473533630371\n",
            "Validation Top3 Accuracy:  30.921052932739258\n",
            "Epoch 2 - loss: 0.065\n",
            "Validation Accuracy:  14.0625\n",
            "Validation Top3 Accuracy:  33.05921173095703\n",
            "Epoch 3 - loss: 0.065\n",
            "Validation Accuracy:  21.710525512695312\n",
            "Validation Top3 Accuracy:  41.1184196472168\n",
            "Epoch 4 - loss: 0.063\n",
            "Validation Accuracy:  24.7532901763916\n",
            "Validation Top3 Accuracy:  44.078948974609375\n",
            "Epoch 5 - loss: 0.062\n",
            "Validation Accuracy:  25.822368621826172\n",
            "Validation Top3 Accuracy:  47.779605865478516\n",
            "Epoch 6 - loss: 0.063\n",
            "Validation Accuracy:  24.424341201782227\n",
            "Validation Top3 Accuracy:  48.355262756347656\n",
            "Epoch 7 - loss: 0.061\n",
            "Validation Accuracy:  24.7532901763916\n",
            "Validation Top3 Accuracy:  47.203948974609375\n",
            "Epoch 8 - loss: 0.063\n",
            "Validation Accuracy:  28.3717098236084\n",
            "Validation Top3 Accuracy:  51.5625\n",
            "Epoch 9 - loss: 0.061\n",
            "Validation Accuracy:  25.822368621826172\n",
            "Validation Top3 Accuracy:  49.095394134521484\n",
            "Epoch 10 - loss: 0.062\n",
            "Validation Accuracy:  29.851974487304688\n",
            "Validation Top3 Accuracy:  52.71381759643555\n",
            "Epoch 11 - loss: 0.060\n",
            "Validation Accuracy:  26.3157901763916\n",
            "Validation Top3 Accuracy:  50.57565689086914\n",
            "Epoch 12 - loss: 0.060\n",
            "Validation Accuracy:  28.865131378173828\n",
            "Validation Top3 Accuracy:  52.796051025390625\n",
            "Epoch 13 - loss: 0.060\n",
            "Validation Accuracy:  31.0032901763916\n",
            "Validation Top3 Accuracy:  56.82565689086914\n",
            "Epoch 14 - loss: 0.059\n",
            "Validation Accuracy:  33.05921173095703\n",
            "Validation Top3 Accuracy:  54.769737243652344\n",
            "Epoch 15 - loss: 0.059\n",
            "Validation Accuracy:  29.111841201782227\n",
            "Validation Top3 Accuracy:  52.96052551269531\n",
            "Epoch 16 - loss: 0.059\n",
            "Validation Accuracy:  34.292762756347656\n",
            "Validation Top3 Accuracy:  59.12828826904297\n",
            "Epoch 17 - loss: 0.058\n",
            "Validation Accuracy:  37.171051025390625\n",
            "Validation Top3 Accuracy:  60.032894134521484\n",
            "Epoch 18 - loss: 0.056\n",
            "Validation Accuracy:  37.74671173095703\n",
            "Validation Top3 Accuracy:  59.21052551269531\n",
            "Epoch 19 - loss: 0.059\n",
            "Validation Accuracy:  35.77302551269531\n",
            "Validation Top3 Accuracy:  58.470394134521484\n",
            "Epoch 20 - loss: 0.059\n",
            "Validation Accuracy:  38.980262756347656\n",
            "Validation Top3 Accuracy:  64.0625\n",
            "Epoch 21 - loss: 0.056\n",
            "Validation Accuracy:  38.48684310913086\n",
            "Validation Top3 Accuracy:  62.582237243652344\n",
            "Epoch 22 - loss: 0.059\n",
            "Validation Accuracy:  39.391448974609375\n",
            "Validation Top3 Accuracy:  61.34868240356445\n",
            "Epoch 23 - loss: 0.060\n",
            "Validation Accuracy:  37.417762756347656\n",
            "Validation Top3 Accuracy:  61.842105865478516\n",
            "Epoch 24 - loss: 0.057\n",
            "Validation Accuracy:  39.63815689086914\n",
            "Validation Top3 Accuracy:  61.019737243652344\n",
            "Epoch 25 - loss: 0.057\n",
            "Validation Accuracy:  40.46052551269531\n",
            "Validation Top3 Accuracy:  62.25328826904297\n",
            "Epoch 26 - loss: 0.054\n",
            "Validation Accuracy:  40.296051025390625\n",
            "Validation Top3 Accuracy:  64.55592346191406\n",
            "Epoch 27 - loss: 0.057\n",
            "Validation Accuracy:  41.36513137817383\n",
            "Validation Top3 Accuracy:  66.03618621826172\n",
            "Epoch 28 - loss: 0.051\n",
            "Validation Accuracy:  39.63815689086914\n",
            "Validation Top3 Accuracy:  65.21381378173828\n",
            "Epoch 29 - loss: 0.057\n",
            "Validation Accuracy:  41.282894134521484\n",
            "Validation Top3 Accuracy:  65.78947448730469\n",
            "Epoch 30 - loss: 0.058\n",
            "Validation Accuracy:  42.76315689086914\n",
            "Validation Top3 Accuracy:  67.43421173095703\n",
            "Epoch 31 - loss: 0.054\n",
            "Validation Accuracy:  43.2565803527832\n",
            "Validation Top3 Accuracy:  68.09210205078125\n",
            "Epoch 32 - loss: 0.053\n",
            "Validation Accuracy:  39.967105865478516\n",
            "Validation Top3 Accuracy:  64.6381607055664\n",
            "Epoch 33 - loss: 0.057\n",
            "Validation Accuracy:  42.92763137817383\n",
            "Validation Top3 Accuracy:  67.1875\n",
            "Epoch 34 - loss: 0.054\n",
            "Validation Accuracy:  44.73684310913086\n",
            "Validation Top3 Accuracy:  69.07894897460938\n",
            "Epoch 35 - loss: 0.056\n",
            "Validation Accuracy:  43.99671173095703\n",
            "Validation Top3 Accuracy:  68.58552551269531\n",
            "Epoch 36 - loss: 0.052\n",
            "Validation Accuracy:  44.90131759643555\n",
            "Validation Top3 Accuracy:  70.97039794921875\n",
            "Epoch 37 - loss: 0.052\n",
            "Validation Accuracy:  44.73684310913086\n",
            "Validation Top3 Accuracy:  69.07894897460938\n",
            "Epoch 38 - loss: 0.052\n",
            "Validation Accuracy:  46.13486862182617\n",
            "Validation Top3 Accuracy:  71.0526351928711\n",
            "Epoch 39 - loss: 0.054\n",
            "Validation Accuracy:  43.832237243652344\n",
            "Validation Top3 Accuracy:  70.47697448730469\n",
            "Epoch 40 - loss: 0.050\n",
            "Validation Accuracy:  46.875\n",
            "Validation Top3 Accuracy:  71.54605102539062\n",
            "Epoch 41 - loss: 0.052\n",
            "Validation Accuracy:  47.3684196472168\n",
            "Validation Top3 Accuracy:  72.8618392944336\n",
            "Epoch 42 - loss: 0.053\n",
            "Validation Accuracy:  47.779605865478516\n",
            "Validation Top3 Accuracy:  72.4506607055664\n",
            "Epoch 43 - loss: 0.053\n",
            "Validation Accuracy:  46.957237243652344\n",
            "Validation Top3 Accuracy:  73.10855102539062\n",
            "Epoch 44 - loss: 0.055\n",
            "Validation Accuracy:  48.27302551269531\n",
            "Validation Top3 Accuracy:  72.6973648071289\n",
            "Epoch 45 - loss: 0.052\n",
            "Validation Accuracy:  47.28618240356445\n",
            "Validation Top3 Accuracy:  70.97039794921875\n",
            "Epoch 46 - loss: 0.054\n",
            "Validation Accuracy:  49.75328826904297\n",
            "Validation Top3 Accuracy:  72.20394897460938\n",
            "Epoch 47 - loss: 0.052\n",
            "Validation Accuracy:  48.60197448730469\n",
            "Validation Top3 Accuracy:  73.4375\n",
            "Epoch 48 - loss: 0.053\n",
            "Validation Accuracy:  49.42434310913086\n",
            "Validation Top3 Accuracy:  74.34210205078125\n",
            "Epoch 49 - loss: 0.054\n",
            "Validation Accuracy:  49.671051025390625\n",
            "Validation Top3 Accuracy:  73.84868621826172\n",
            "Epoch 50 - loss: 0.049\n",
            "Validation Accuracy:  52.467105865478516\n",
            "Validation Top3 Accuracy:  75.90460205078125\n",
            "Epoch 51 - loss: 0.056\n",
            "Validation Accuracy:  53.28947448730469\n",
            "Validation Top3 Accuracy:  76.39802551269531\n",
            "Epoch 52 - loss: 0.048\n",
            "Validation Accuracy:  52.87828826904297\n",
            "Validation Top3 Accuracy:  75.16447448730469\n",
            "Epoch 53 - loss: 0.052\n",
            "Validation Accuracy:  51.72697448730469\n",
            "Validation Top3 Accuracy:  75.7401351928711\n",
            "Epoch 54 - loss: 0.052\n",
            "Validation Accuracy:  50.98684310913086\n",
            "Validation Top3 Accuracy:  74.4243392944336\n",
            "Epoch 55 - loss: 0.048\n",
            "Validation Accuracy:  52.467105865478516\n",
            "Validation Top3 Accuracy:  75.16447448730469\n",
            "Epoch 56 - loss: 0.051\n",
            "Validation Accuracy:  55.592105865478516\n",
            "Validation Top3 Accuracy:  78.125\n",
            "Epoch 57 - loss: 0.052\n",
            "Validation Accuracy:  51.891448974609375\n",
            "Validation Top3 Accuracy:  75.0\n",
            "Epoch 58 - loss: 0.051\n",
            "Validation Accuracy:  56.08552551269531\n",
            "Validation Top3 Accuracy:  78.125\n",
            "Epoch 59 - loss: 0.047\n",
            "Validation Accuracy:  56.907894134521484\n",
            "Validation Top3 Accuracy:  78.45394897460938\n",
            "Epoch 60 - loss: 0.053\n",
            "Validation Accuracy:  54.93421173095703\n",
            "Validation Top3 Accuracy:  77.5493392944336\n",
            "Epoch 61 - loss: 0.051\n",
            "Validation Accuracy:  51.891448974609375\n",
            "Validation Top3 Accuracy:  76.06907653808594\n",
            "Epoch 62 - loss: 0.047\n",
            "Validation Accuracy:  52.96052551269531\n",
            "Validation Top3 Accuracy:  77.71381378173828\n",
            "Epoch 63 - loss: 0.051\n",
            "Validation Accuracy:  55.345394134521484\n",
            "Validation Top3 Accuracy:  76.97368621826172\n",
            "Epoch 64 - loss: 0.047\n",
            "Validation Accuracy:  56.907894134521484\n",
            "Validation Top3 Accuracy:  79.85197448730469\n",
            "Epoch 65 - loss: 0.050\n",
            "Validation Accuracy:  58.3059196472168\n",
            "Validation Top3 Accuracy:  80.34539794921875\n",
            "Epoch 66 - loss: 0.051\n",
            "Validation Accuracy:  54.44078826904297\n",
            "Validation Top3 Accuracy:  78.9473648071289\n",
            "Epoch 67 - loss: 0.048\n",
            "Validation Accuracy:  56.578948974609375\n",
            "Validation Top3 Accuracy:  80.5098648071289\n",
            "Epoch 68 - loss: 0.051\n",
            "Validation Accuracy:  59.457237243652344\n",
            "Validation Top3 Accuracy:  82.48355102539062\n",
            "Epoch 69 - loss: 0.051\n",
            "Validation Accuracy:  57.97697448730469\n",
            "Validation Top3 Accuracy:  80.6743392944336\n",
            "Epoch 70 - loss: 0.053\n",
            "Validation Accuracy:  55.83881759643555\n",
            "Validation Top3 Accuracy:  80.59210205078125\n",
            "Epoch 71 - loss: 0.048\n",
            "Validation Accuracy:  58.8815803527832\n",
            "Validation Top3 Accuracy:  81.16776275634766\n",
            "Epoch 72 - loss: 0.046\n",
            "Validation Accuracy:  58.79934310913086\n",
            "Validation Top3 Accuracy:  82.40131378173828\n",
            "Epoch 73 - loss: 0.047\n",
            "Validation Accuracy:  56.00328826904297\n",
            "Validation Top3 Accuracy:  78.7006607055664\n",
            "Epoch 74 - loss: 0.050\n",
            "Validation Accuracy:  56.907894134521484\n",
            "Validation Top3 Accuracy:  79.60526275634766\n",
            "Epoch 75 - loss: 0.049\n",
            "Validation Accuracy:  56.167762756347656\n",
            "Validation Top3 Accuracy:  79.60526275634766\n",
            "Epoch 76 - loss: 0.047\n",
            "Validation Accuracy:  56.66118240356445\n",
            "Validation Top3 Accuracy:  81.90789794921875\n",
            "Epoch 77 - loss: 0.046\n",
            "Validation Accuracy:  59.8684196472168\n",
            "Validation Top3 Accuracy:  83.47039794921875\n",
            "Epoch 78 - loss: 0.048\n",
            "Validation Accuracy:  59.046051025390625\n",
            "Validation Top3 Accuracy:  81.41447448730469\n",
            "Epoch 79 - loss: 0.045\n",
            "Validation Accuracy:  58.141448974609375\n",
            "Validation Top3 Accuracy:  81.49671173095703\n",
            "Epoch 80 - loss: 0.048\n",
            "Validation Accuracy:  59.046051025390625\n",
            "Validation Top3 Accuracy:  80.34539794921875\n",
            "saving...\n"
          ],
          "name": "stdout"
        }
      ]
    },
    {
      "cell_type": "code",
      "metadata": {
        "id": "mWdiT2447L9q",
        "colab": {
          "base_uri": "https://localhost:8080/"
        },
        "outputId": "7ee112dd-741b-497e-c2d6-fcf2a9df2094"
      },
      "source": [
        "make_test(model=model, testloader=test_loader)[1][1] ## just get the print statements  not the list"
      ],
      "execution_count": 13,
      "outputs": [
        {
          "output_type": "stream",
          "text": [
            "Test Accuracy:  60.066795349121094\n",
            "Test Top3 Accuracy:  81.30963897705078\n"
          ],
          "name": "stdout"
        },
        {
          "output_type": "execute_result",
          "data": {
            "text/plain": [
              "87.5"
            ]
          },
          "metadata": {
            "tags": []
          },
          "execution_count": 13
        }
      ]
    },
    {
      "cell_type": "markdown",
      "metadata": {
        "id": "NMcY3zQPdrJK"
      },
      "source": [
        "## RESISC CNN\n",
        "\n",
        "---"
      ]
    },
    {
      "cell_type": "code",
      "metadata": {
        "id": "YBrfnYVfdd5e"
      },
      "source": [
        ""
      ],
      "execution_count": 13,
      "outputs": []
    },
    {
      "cell_type": "code",
      "metadata": {
        "id": "O5LMBVyhddUP"
      },
      "source": [
        ""
      ],
      "execution_count": 13,
      "outputs": []
    },
    {
      "cell_type": "markdown",
      "metadata": {
        "id": "unkZk4GZuimF"
      },
      "source": [
        "## RESISC CHARTS\n",
        "\n",
        "---"
      ]
    },
    {
      "cell_type": "code",
      "metadata": {
        "id": "_IMop6hcddro"
      },
      "source": [
        ""
      ],
      "execution_count": 13,
      "outputs": []
    },
    {
      "cell_type": "code",
      "metadata": {
        "id": "5xuIEVAefw70"
      },
      "source": [
        "def getvalErr(model,val_loader):\n",
        "    val_accs = []\n",
        "    val_topks = []\n",
        "    with torch.no_grad():\n",
        "        accs, actk = [], []\n",
        "        device = torch.device('cuda' if torch.cuda.is_available() else 'cpu')\n",
        "        for x, y in val_loader:\n",
        "            x, y = x.to(device).float(), y.to(device).long()\n",
        "            yhat = model(x)\n",
        "            yhat_max = torch.max(yhat, dim=1)[1]\n",
        "            correct = torch.sum(yhat_max == y)\n",
        "            size = x.shape[0]\n",
        "            acc_topk = accuracy_topk(yhat, y)\n",
        "            actk.append(acc_topk.data.item())\n",
        "            valcc = 100*(correct / size).data.item()\n",
        "            accs.append(valcc)\n",
        "    return torch.mean(torch.FloatTensor(accs)).data.item(), 100*torch.mean(torch.FloatTensor(actk)).data.item()"
      ],
      "execution_count": 14,
      "outputs": []
    },
    {
      "cell_type": "code",
      "metadata": {
        "id": "4LZNyxMlddjY"
      },
      "source": [
        ""
      ],
      "execution_count": 14,
      "outputs": []
    },
    {
      "cell_type": "markdown",
      "metadata": {
        "id": "Ofi4ngKHLmtn"
      },
      "source": [
        "## UC MERCED\n",
        "\n",
        "---"
      ]
    },
    {
      "cell_type": "code",
      "metadata": {
        "id": "TYDwEsFrLtbJ"
      },
      "source": [
        "UC_MAML_learning_rate = 0.0006\n",
        "UC_CNN_learning_rate = 0.0006\n",
        "UC_epochs = 3\n",
        "UC_batch_size = 32\n",
        "UC_data = np.load(dir+'data/UCMerced_images96.npy')\n",
        "UC_labels = np.load(dir+'/data/UCMerced_classes.npy')\n",
        "UC_classes = np.load(dir+'data/UCMerced_class_names.npy')\n",
        "\n",
        "UC_train_data, UC_test_data, UC_train_labels, UC_test_labels = train_test_split(UC_data, UC_labels, test_size = 0.8, stratify = UC_labels)\n",
        "\n",
        "UCtrainset = make_dataset(UC_train_data, UC_train_labels)\n",
        "UCtrain_loader = DataLoader(UCtrainset, batch_size=int(batch_size), shuffle=True)\n",
        "\n",
        "UCtestset = make_dataset(UC_test_data, UC_test_labels)\n",
        "UCtest_loader = torch.utils.data.DataLoader(UCtestset, batch_size, drop_last = True, shuffle=True)"
      ],
      "execution_count": 15,
      "outputs": []
    },
    {
      "cell_type": "code",
      "metadata": {
        "id": "4Du65kG5tVef"
      },
      "source": [
        "def UC_train(model, trainloader, epochs=3, lr=0.0006):\n",
        "    epoch_tracker, loss_tracker, val_accs, val_topks = [], [], [], []\n",
        "    #model.load('UC')\n",
        "    model.train()\n",
        "    accs=0\n",
        "    actk=0\n",
        "    optimizer = optim.Adam(model.parameters(), lr = lr)\n",
        "    for epoch in range(1, epochs+1):\n",
        "        losses = 0\n",
        "        for X, y in trainloader:\n",
        "            y = one_hot_embedding(y.to(device), len(UC_classes)).float()\n",
        "            X = X.float().to(device)\n",
        "            for param in model.parameters(): param.grad = None\n",
        "            yhat = model(X)\n",
        "            pred_loss = bce_loss(yhat, y)\n",
        "            pred_loss.backward()\n",
        "            optimizer.step()\n",
        "            losses += pred_loss.item()\n",
        "\n",
        "        epoch_tracker.append(epoch)\n",
        "        loss_tracker.append(losses)\n",
        "        accs,actk = getvalErr(model,trainloader)\n",
        "        val_accs.append(accs)\n",
        "        val_topks.append(actk)\n",
        "        print('Validation Accuracy: ', accs)\n",
        "        print('Validation Top3 Accuracy: ', actk)\n",
        "\n",
        "        \n",
        "  \n",
        "    return model, epoch_tracker, loss_tracker, val_accs, val_topks"
      ],
      "execution_count": 16,
      "outputs": []
    },
    {
      "cell_type": "code",
      "metadata": {
        "id": "_7zMruiyLtXs",
        "colab": {
          "base_uri": "https://localhost:8080/"
        },
        "outputId": "2dbb7590-8db4-4204-90ed-d4f2b78c6690"
      },
      "source": [
        "mtype='MAML'\n",
        "# model = get_model(mtype=mtype,firsttrain=False)\n",
        "\n",
        "model62 = model\n",
        "if freeze:\n",
        "    for param in model.parameters():\n",
        "        param.requires_grad = False\n",
        "\n",
        "model.fce = nn.Linear(1024, 21)\n",
        "model = model.to(device)\n",
        "#model.save('UC'+mtype)\n",
        "/\n",
        "model, epoch_tracker, MAML_loss_tracker,MAML_val_accs, MAML_val_topks = UC_train(model=model62, trainloader=UCtrain_loader, epochs=UC_epochs, lr=UC_MAML_learning_rate)"
      ],
      "execution_count": 17,
      "outputs": [
        {
          "output_type": "stream",
          "text": [
            "/usr/local/lib/python3.7/dist-packages/ipykernel_launcher.py:68: UserWarning: To copy construct from a tensor, it is recommended to use sourceTensor.clone().detach() or sourceTensor.clone().detach().requires_grad_(True), rather than torch.tensor(sourceTensor).\n"
          ],
          "name": "stderr"
        },
        {
          "output_type": "stream",
          "text": [
            "Validation Accuracy:  71.20536041259766\n",
            "Validation Top3 Accuracy:  9263.392639160156\n",
            "Validation Accuracy:  88.83928680419922\n",
            "Validation Top3 Accuracy:  9754.463958740234\n",
            "Validation Accuracy:  94.64286041259766\n",
            "Validation Top3 Accuracy:  9754.463958740234\n"
          ],
          "name": "stdout"
        }
      ]
    },
    {
      "cell_type": "code",
      "metadata": {
        "id": "wepsXFE7LtRj",
        "colab": {
          "base_uri": "https://localhost:8080/"
        },
        "outputId": "46ae28e1-9ee0-4042-c95a-3ca1c907adb7"
      },
      "source": [
        "make_test(model=model, testloader=UCtest_loader)[1][1]"
      ],
      "execution_count": 18,
      "outputs": [
        {
          "output_type": "stream",
          "text": [
            "Test Accuracy:  72.41586303710938\n",
            "Test Top3 Accuracy:  91.64663696289062\n"
          ],
          "name": "stdout"
        },
        {
          "output_type": "execute_result",
          "data": {
            "text/plain": [
              "96.875"
            ]
          },
          "metadata": {
            "tags": []
          },
          "execution_count": 18
        }
      ]
    },
    {
      "cell_type": "code",
      "metadata": {
        "id": "11SceGJmLtO3"
      },
      "source": [
        ""
      ],
      "execution_count": 18,
      "outputs": []
    },
    {
      "cell_type": "code",
      "metadata": {
        "id": "tueMpx6iLs3O"
      },
      "source": [
        ""
      ],
      "execution_count": 18,
      "outputs": []
    },
    {
      "cell_type": "code",
      "metadata": {
        "id": "PD5NUS3wLtKv"
      },
      "source": [
        ""
      ],
      "execution_count": 18,
      "outputs": []
    },
    {
      "cell_type": "code",
      "metadata": {
        "id": "FHdq0aNxn3vO"
      },
      "source": [
        ""
      ],
      "execution_count": 18,
      "outputs": []
    },
    {
      "cell_type": "markdown",
      "metadata": {
        "id": "3F5BOpX07VDA"
      },
      "source": [
        "## Scrap Work Area \n",
        "\n",
        "---"
      ]
    },
    {
      "cell_type": "code",
      "metadata": {
        "id": "Y6y3pEe-0e2O",
        "colab": {
          "base_uri": "https://localhost:8080/",
          "height": 69
        },
        "outputId": "a35852c9-73ae-424a-fa99-e179391d52e4"
      },
      "source": [
        "#GRAD DIAGNOSTICS\n",
        "'''\n",
        "print(\"PARAMS YOU ARE CHECKING\")\n",
        "for pA, pB in zip(CNN.parameters(), CNN1.parameters()):\n",
        "  print((pA == pB).all())\n",
        "print(\"GRAD YOU ARE CHECKING\")\n",
        "for pA, pB in zip(CNN.parameters(), CNN1.parameters()):\n",
        "  print((pA.grad == pB.grad))\n",
        "'''"
      ],
      "execution_count": 19,
      "outputs": [
        {
          "output_type": "execute_result",
          "data": {
            "application/vnd.google.colaboratory.intrinsic+json": {
              "type": "string"
            },
            "text/plain": [
              "'\\nprint(\"PARAMS YOU ARE CHECKING\")\\nfor pA, pB in zip(CNN.parameters(), CNN1.parameters()):\\n  print((pA == pB).all())\\nprint(\"GRAD YOU ARE CHECKING\")\\nfor pA, pB in zip(CNN.parameters(), CNN1.parameters()):\\n  print((pA.grad == pB.grad))\\n'"
            ]
          },
          "metadata": {
            "tags": []
          },
          "execution_count": 19
        }
      ]
    },
    {
      "cell_type": "code",
      "metadata": {
        "id": "toXk130Zoql0",
        "colab": {
          "base_uri": "https://localhost:8080/"
        },
        "outputId": "0bbfe203-15b9-4c09-f2c9-9e89890c2f40"
      },
      "source": [
        "def get_worst_task(model,val_loader):\n",
        "    bytaskListACCDICT = dict.fromkeys(range(128),0)\n",
        "    i=0\n",
        "    for x,y in val_loader:\n",
        "        actk,accs = [], []\n",
        "        x = applyAugs(x.float().clone().to(device), int(i%128))## I put the aug here to make sure that outer and inner loop train on same task as in the MAML paper\n",
        "        y = y.float().clone().to(device)\n",
        "        yhat = model(x) \n",
        "        yhat_max = torch.max(yhat, dim = 1)[1]\n",
        "        correct = torch.sum(yhat_max == y)\n",
        "        size = x.shape[0]\n",
        "        acc_topk = accuracy_topk(yhat, y)\n",
        "        actk.append(acc_topk.data.item())\n",
        "        \n",
        "        accs.append(100*(correct/size).data.item())\n",
        "        bytaskListACCDICT[i]+=100*(correct/size).data.item()\n",
        "        i+=1\n",
        "    worstTASKid = min(bytaskListACCDICT, key=bytaskListACCDICT.get)\n",
        "    bestTASKid = max(bytaskListACCDICT, key=bytaskListACCDICT.get)\n",
        "\n",
        "    print(bytaskListACCDICT)\n",
        "    return (bytaskListACCDICT[worstTASKid],worstTASKid), (bytaskListACCDICT[bestTASKid],bestTASKid)\n",
        "\n",
        "worst,best = get_worst_task(get_model('MAML'),val_loader)\n",
        "print(best,'= (acc percent correct,taskID) for best ')\n",
        "print(worst,'= (acc percent correct,taskID) for worst ')\n",
        "## plug into visulaizer and show best and worse task\n",
        "## note not all entires of the dict are plugged in since the cal loader only has 1260 examples and so 19 batches\n",
        "## use on a larger dataset fill in loader argument\n",
        "print(val_loader.dataset.images.shape[0])"
      ],
      "execution_count": 20,
      "outputs": [
        {
          "output_type": "stream",
          "text": [
            "{0: 6.25, 1: 0.0, 2: 3.125, 3: 6.25, 4: 0.0, 5: 4.6875, 6: 0.0, 7: 4.6875, 8: 4.6875, 9: 4.6875, 10: 1.5625, 11: 1.5625, 12: 3.125, 13: 3.125, 14: 4.6875, 15: 1.5625, 16: 0.0, 17: 3.125, 18: 0.0, 19: 0, 20: 0, 21: 0, 22: 0, 23: 0, 24: 0, 25: 0, 26: 0, 27: 0, 28: 0, 29: 0, 30: 0, 31: 0, 32: 0, 33: 0, 34: 0, 35: 0, 36: 0, 37: 0, 38: 0, 39: 0, 40: 0, 41: 0, 42: 0, 43: 0, 44: 0, 45: 0, 46: 0, 47: 0, 48: 0, 49: 0, 50: 0, 51: 0, 52: 0, 53: 0, 54: 0, 55: 0, 56: 0, 57: 0, 58: 0, 59: 0, 60: 0, 61: 0, 62: 0, 63: 0, 64: 0, 65: 0, 66: 0, 67: 0, 68: 0, 69: 0, 70: 0, 71: 0, 72: 0, 73: 0, 74: 0, 75: 0, 76: 0, 77: 0, 78: 0, 79: 0, 80: 0, 81: 0, 82: 0, 83: 0, 84: 0, 85: 0, 86: 0, 87: 0, 88: 0, 89: 0, 90: 0, 91: 0, 92: 0, 93: 0, 94: 0, 95: 0, 96: 0, 97: 0, 98: 0, 99: 0, 100: 0, 101: 0, 102: 0, 103: 0, 104: 0, 105: 0, 106: 0, 107: 0, 108: 0, 109: 0, 110: 0, 111: 0, 112: 0, 113: 0, 114: 0, 115: 0, 116: 0, 117: 0, 118: 0, 119: 0, 120: 0, 121: 0, 122: 0, 123: 0, 124: 0, 125: 0, 126: 0, 127: 0}\n",
            "(6.25, 0) = (acc percent correct,taskID) for best \n",
            "(0.0, 1) = (acc percent correct,taskID) for worst \n",
            "1260\n"
          ],
          "name": "stdout"
        }
      ]
    },
    {
      "cell_type": "code",
      "metadata": {
        "id": "NKN4DlCCP27r"
      },
      "source": [
        ""
      ],
      "execution_count": 20,
      "outputs": []
    },
    {
      "cell_type": "code",
      "metadata": {
        "id": "NsLNArvyQN5M",
        "colab": {
          "base_uri": "https://localhost:8080/"
        },
        "outputId": "686abd7e-b4c0-4ede-d848-7863885f3a45"
      },
      "source": [
        "if First_Train: model, MAML_loss_tracker, MAML_val_topks, MAML_val_accs, epoch_tracker = train2(n_epochs=n_epochs, \n",
        "                                                                learning_rate=MAML_learning_rate1, \n",
        "                                                                learning_rate1=MAML_learning_rate2, \n",
        "                                                                train_loader=train_loader, \n",
        "                                                                val_loader=val_loader, \n",
        "                                                                c_dim=c_dim, \n",
        "                                                                mtype=mtype)\n",
        "else: \n",
        "    model = get_model(mtype)\n",
        "    MAML_loss_tracker=np.load(dir+'/test/MAML_loss_tracker.npy')\n",
        "    MAML_val_topks=np.load(dir+'/test/MAML_val_topks.npy')\n",
        "    MAML_val_accs=np.load(dir+'/test/MAML_val_accs.npy')\n",
        "    epoch_tracker=np.load(dir+'/test/'+'epoch_tracker.npy')\n",
        "print(\"don't trust this models BCE loss \")\n"
      ],
      "execution_count": null,
      "outputs": [
        {
          "output_type": "stream",
          "text": [
            "/usr/local/lib/python3.7/dist-packages/ipykernel_launcher.py:68: UserWarning: To copy construct from a tensor, it is recommended to use sourceTensor.clone().detach() or sourceTensor.clone().detach().requires_grad_(True), rather than torch.tensor(sourceTensor).\n"
          ],
          "name": "stderr"
        },
        {
          "output_type": "stream",
          "text": [
            "Epoch 1 - loss: 0.067\n",
            "Validation Accuracy:  16.776315689086914\n",
            "Validation Top3 Accuracy:  34.8684196472168\n",
            "Epoch 2 - loss: 0.065\n",
            "Validation Accuracy:  19.736841201782227\n",
            "Validation Top3 Accuracy:  37.417762756347656\n",
            "Epoch 3 - loss: 0.063\n",
            "Validation Accuracy:  23.519737243652344\n",
            "Validation Top3 Accuracy:  45.8059196472168\n",
            "Epoch 4 - loss: 0.062\n",
            "Validation Accuracy:  20.394737243652344\n",
            "Validation Top3 Accuracy:  40.707237243652344\n",
            "Epoch 5 - loss: 0.062\n",
            "Validation Accuracy:  23.273025512695312\n",
            "Validation Top3 Accuracy:  45.88815689086914\n",
            "Epoch 6 - loss: 0.062\n",
            "Validation Accuracy:  27.05592155456543\n",
            "Validation Top3 Accuracy:  48.766448974609375\n",
            "Epoch 7 - loss: 0.060\n",
            "Validation Accuracy:  25.904605865478516\n",
            "Validation Top3 Accuracy:  48.108551025390625\n",
            "Epoch 8 - loss: 0.065\n",
            "Validation Accuracy:  27.302631378173828\n",
            "Validation Top3 Accuracy:  48.9309196472168\n",
            "Epoch 9 - loss: 0.060\n",
            "Validation Accuracy:  30.098684310913086\n",
            "Validation Top3 Accuracy:  55.016448974609375\n",
            "Epoch 10 - loss: 0.061\n",
            "Validation Accuracy:  31.661184310913086\n",
            "Validation Top3 Accuracy:  52.796051025390625\n",
            "Epoch 11 - loss: 0.060\n",
            "Validation Accuracy:  26.726974487304688\n",
            "Validation Top3 Accuracy:  50.98684310913086\n",
            "Epoch 12 - loss: 0.059\n",
            "Validation Accuracy:  28.61842155456543\n",
            "Validation Top3 Accuracy:  53.94736862182617\n",
            "Epoch 13 - loss: 0.060\n",
            "Validation Accuracy:  33.79934310913086\n",
            "Validation Top3 Accuracy:  55.83881759643555\n",
            "Epoch 14 - loss: 0.058\n",
            "Validation Accuracy:  28.453947067260742\n",
            "Validation Top3 Accuracy:  49.671051025390625\n",
            "Epoch 15 - loss: 0.058\n",
            "Validation Accuracy:  32.07236862182617\n",
            "Validation Top3 Accuracy:  54.52302551269531\n",
            "Epoch 16 - loss: 0.060\n",
            "Validation Accuracy:  34.78618240356445\n",
            "Validation Top3 Accuracy:  57.3190803527832\n",
            "Epoch 17 - loss: 0.059\n",
            "Validation Accuracy:  35.11513137817383\n",
            "Validation Top3 Accuracy:  57.3190803527832\n",
            "Epoch 18 - loss: 0.058\n",
            "Validation Accuracy:  37.417762756347656\n",
            "Validation Top3 Accuracy:  58.96381759643555\n",
            "Epoch 19 - loss: 0.059\n",
            "Validation Accuracy:  34.703948974609375\n",
            "Validation Top3 Accuracy:  58.38815689086914\n",
            "Epoch 20 - loss: 0.057\n",
            "Validation Accuracy:  37.66447448730469\n",
            "Validation Top3 Accuracy:  62.0065803527832\n",
            "Epoch 21 - loss: 0.057\n",
            "Validation Accuracy:  39.47368240356445\n",
            "Validation Top3 Accuracy:  65.37828826904297\n",
            "Epoch 22 - loss: 0.057\n",
            "Validation Accuracy:  35.608551025390625\n",
            "Validation Top3 Accuracy:  59.8684196472168\n",
            "Epoch 23 - loss: 0.058\n",
            "Validation Accuracy:  38.48684310913086\n",
            "Validation Top3 Accuracy:  63.157894134521484\n",
            "Epoch 24 - loss: 0.057\n",
            "Validation Accuracy:  39.22697448730469\n",
            "Validation Top3 Accuracy:  63.24013137817383\n",
            "Epoch 25 - loss: 0.056\n",
            "Validation Accuracy:  41.03618240356445\n",
            "Validation Top3 Accuracy:  64.72039794921875\n",
            "Epoch 26 - loss: 0.057\n",
            "Validation Accuracy:  37.828948974609375\n",
            "Validation Top3 Accuracy:  62.417762756347656\n",
            "Epoch 27 - loss: 0.056\n",
            "Validation Accuracy:  41.77631759643555\n",
            "Validation Top3 Accuracy:  65.21381378173828\n",
            "Epoch 28 - loss: 0.055\n",
            "Validation Accuracy:  41.36513137817383\n",
            "Validation Top3 Accuracy:  65.46052551269531\n",
            "Epoch 29 - loss: 0.058\n",
            "Validation Accuracy:  44.73684310913086\n",
            "Validation Top3 Accuracy:  69.24342346191406\n",
            "Epoch 30 - loss: 0.053\n",
            "Validation Accuracy:  44.90131759643555\n",
            "Validation Top3 Accuracy:  68.09210205078125\n",
            "Epoch 31 - loss: 0.055\n",
            "Validation Accuracy:  44.407894134521484\n",
            "Validation Top3 Accuracy:  68.83223724365234\n",
            "Epoch 32 - loss: 0.055\n",
            "Validation Accuracy:  45.14802551269531\n",
            "Validation Top3 Accuracy:  68.83223724365234\n",
            "Epoch 33 - loss: 0.053\n",
            "Validation Accuracy:  45.641448974609375\n",
            "Validation Top3 Accuracy:  70.39473724365234\n",
            "Epoch 34 - loss: 0.057\n",
            "Validation Accuracy:  43.17434310913086\n",
            "Validation Top3 Accuracy:  67.43421173095703\n",
            "Epoch 35 - loss: 0.055\n",
            "Validation Accuracy:  45.72368240356445\n",
            "Validation Top3 Accuracy:  70.64144897460938\n",
            "Epoch 36 - loss: 0.054\n",
            "Validation Accuracy:  43.75\n",
            "Validation Top3 Accuracy:  68.50328826904297\n",
            "Epoch 37 - loss: 0.054\n",
            "Validation Accuracy:  43.50328826904297\n",
            "Validation Top3 Accuracy:  65.37828826904297\n",
            "Epoch 38 - loss: 0.055\n",
            "Validation Accuracy:  46.875\n",
            "Validation Top3 Accuracy:  69.07894897460938\n",
            "Epoch 39 - loss: 0.052\n",
            "Validation Accuracy:  47.203948974609375\n",
            "Validation Top3 Accuracy:  70.55921173095703\n",
            "Epoch 40 - loss: 0.054\n",
            "Validation Accuracy:  43.17434310913086\n",
            "Validation Top3 Accuracy:  68.1743392944336\n",
            "Epoch 41 - loss: 0.059\n",
            "Validation Accuracy:  47.03947448730469\n",
            "Validation Top3 Accuracy:  71.62828826904297\n",
            "Epoch 42 - loss: 0.052\n",
            "Validation Accuracy:  46.217105865478516\n",
            "Validation Top3 Accuracy:  70.55921173095703\n",
            "Epoch 43 - loss: 0.051\n",
            "Validation Accuracy:  47.203948974609375\n",
            "Validation Top3 Accuracy:  71.21710205078125\n",
            "Epoch 44 - loss: 0.055\n",
            "Validation Accuracy:  47.45065689086914\n",
            "Validation Top3 Accuracy:  72.36842346191406\n",
            "Epoch 45 - loss: 0.051\n",
            "Validation Accuracy:  45.06578826904297\n",
            "Validation Top3 Accuracy:  70.72368621826172\n",
            "Epoch 46 - loss: 0.054\n",
            "Validation Accuracy:  46.217105865478516\n",
            "Validation Top3 Accuracy:  72.03947448730469\n",
            "Epoch 47 - loss: 0.053\n",
            "Validation Accuracy:  51.233551025390625\n",
            "Validation Top3 Accuracy:  73.93092346191406\n",
            "Epoch 48 - loss: 0.051\n",
            "Validation Accuracy:  47.61513137817383\n",
            "Validation Top3 Accuracy:  71.54605102539062\n",
            "Epoch 49 - loss: 0.054\n",
            "Validation Accuracy:  47.28618240356445\n",
            "Validation Top3 Accuracy:  70.97039794921875\n",
            "Epoch 50 - loss: 0.050\n",
            "Validation Accuracy:  48.9309196472168\n",
            "Validation Top3 Accuracy:  72.6151351928711\n",
            "Epoch 51 - loss: 0.056\n",
            "Validation Accuracy:  49.01315689086914\n",
            "Validation Top3 Accuracy:  72.94407653808594\n",
            "Epoch 52 - loss: 0.051\n",
            "Validation Accuracy:  48.9309196472168\n",
            "Validation Top3 Accuracy:  73.68421173095703\n",
            "Epoch 53 - loss: 0.050\n",
            "Validation Accuracy:  51.39802551269531\n",
            "Validation Top3 Accuracy:  75.0\n",
            "Epoch 54 - loss: 0.054\n"
          ],
          "name": "stdout"
        }
      ]
    },
    {
      "cell_type": "code",
      "metadata": {
        "id": "3vLl-4WVQdHt"
      },
      "source": [
        "make_test(model=model, testloader=test_loader)\n"
      ],
      "execution_count": null,
      "outputs": []
    },
    {
      "cell_type": "code",
      "metadata": {
        "id": "fNoL2Fs0ao9a"
      },
      "source": [
        "np.random.seed(1)\n",
        "random.seed(1)\n",
        "test_size = 0.8\n",
        "val_size = 0.2\n",
        "batch_size = 32\n",
        "MAML_learning_rate1 = 0.0006\n",
        "MAML_learning_rate2 = 0.0001\n",
        "alpha= .08\n",
        "CNN_learning_rate = 0.0006\n",
        "n_epochs = 3\n",
        "freeze=False\n",
        "First_Train = True ## note added to not load in params, always set to true in the get_model fucntion\n",
        "bce_loss = nn.BCELoss()\n",
        "order=False\n",
        "mtype='CNN'"
      ],
      "execution_count": null,
      "outputs": []
    },
    {
      "cell_type": "code",
      "metadata": {
        "id": "gN8Ajk6HP-p6"
      },
      "source": [
        ""
      ],
      "execution_count": null,
      "outputs": []
    }
  ]
}