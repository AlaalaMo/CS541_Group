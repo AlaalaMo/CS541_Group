{
  "nbformat": 4,
  "nbformat_minor": 0,
  "metadata": {
    "colab": {
      "name": "MAML_and_CNN.ipynb",
      "provenance": [],
      "collapsed_sections": [],
      "toc_visible": true
    },
    "kernelspec": {
      "name": "python3",
      "display_name": "Python 3"
    },
    "language_info": {
      "name": "python"
    },
    "accelerator": "GPU"
  },
  "cells": [
    {
      "cell_type": "markdown",
      "metadata": {
        "id": "p3M5AQyC7Wak"
      },
      "source": [
        "#QUINCY HERSHEY - ALEX MOORE - ADAM DICHIARA - SCOTT TANG - VINCENT FILARDI\n",
        "#CS541 Project: MAML CNN\n",
        "---\n"
      ]
    },
    {
      "cell_type": "code",
      "metadata": {
        "id": "7sENfvlY5AUU"
      },
      "source": [
        "import random\n",
        "import copy\n",
        "import numpy as np\n",
        "import matplotlib.pyplot as plt\n",
        "import itertools\n",
        "import torch\n",
        "import torch.nn as nn\n",
        "import torch.nn.functional as F\n",
        "import torch.optim as optim\n",
        "import torchvision.transforms as transforms\n",
        "import torchvision\n",
        "from sklearn.model_selection import train_test_split\n",
        "from torch.utils.data import Dataset, DataLoader\n",
        "\n",
        "dir = '/content/drive/MyDrive/'\n",
        "device = torch.device('cuda' if torch.cuda.is_available() else 'cpu')"
      ],
      "execution_count": 1,
      "outputs": []
    },
    {
      "cell_type": "markdown",
      "metadata": {
        "id": "Qydxx8m5Nreh"
      },
      "source": [
        "## RESISC45\n",
        "\n",
        "---"
      ]
    },
    {
      "cell_type": "code",
      "metadata": {
        "id": "BfMUUIpq5Ps6"
      },
      "source": [
        "np.random.seed(1)\n",
        "random.seed(1)\n",
        "test_size = 0.8\n",
        "val_size = 0.2\n",
        "batch_size = 32 #MAKE IT EVEN\n",
        "MAML_learning_rate1 = 0.0006\n",
        "MAML_learning_rate2 = 0.0006\n",
        "CNN_learning_rate = 0.0006\n",
        "n_epochs = 50\n",
        "bce_loss = nn.BCELoss()"
      ],
      "execution_count": 2,
      "outputs": []
    },
    {
      "cell_type": "code",
      "metadata": {
        "id": "5CAjypAqQYwU"
      },
      "source": [
        "class CustomTensorDataset(Dataset):\n",
        "\n",
        "    def __init__(self, images, labels, transform=None):\n",
        "        self.images = images\n",
        "        self.labels = labels\n",
        "        self.transform=transform\n",
        "\n",
        "    def __getitem__(self, index):\n",
        "        X = self.images[index]\n",
        "        y = self.labels[index]\n",
        "        return X, y\n",
        "\n",
        "    def __len__(self):\n",
        "        return len(self.images)\n",
        "\n",
        "def make_dataset(x, y):\n",
        "    x = torch.tensor(x).permute(0,3,1,2)\n",
        "    y = torch.tensor(y)\n",
        "    dset = CustomTensorDataset(x, y)\n",
        "    return dset"
      ],
      "execution_count": 3,
      "outputs": []
    },
    {
      "cell_type": "code",
      "metadata": {
        "id": "240INoPLKeOx"
      },
      "source": [
        "def get_data(dir, mtype):\n",
        "    if mtype=='MAML': batch_n = batch_size*2\n",
        "    else: batch_n = batch_size\n",
        "\n",
        "    data = np.load(dir+'RESISC45_images_96.npy')\n",
        "    labels = np.load(dir+'RESISC45_classes.npy')\n",
        "    classes = np.load(dir+'RESISC45_class_names.npy')\n",
        "\n",
        "    #img_size = train_data.shape[2]\n",
        "    c_dim = classes.shape[0]\n",
        "\n",
        "    train_data, test_data, train_labels, test_labels = train_test_split(data, labels, test_size = test_size, stratify = labels)\n",
        "\n",
        "    xtrain, xval, ytrain, yval = train_test_split(train_data, train_labels, test_size = val_size)\n",
        "\n",
        "    trainset = make_dataset(xtrain,ytrain)\n",
        "    train_loader = DataLoader(trainset, batch_size=int(batch_n), shuffle=True)\n",
        "\n",
        "    valset = make_dataset(xval, yval)\n",
        "    val_loader = torch.utils.data.DataLoader(valset, batch_n, drop_last = True, shuffle=True)\n",
        "\n",
        "    testset = make_dataset(test_data, test_labels)\n",
        "    test_loader = torch.utils.data.DataLoader(testset, batch_n, drop_last = True, shuffle=True)\n",
        "\n",
        "    return train_loader, val_loader, test_loader, c_dim"
      ],
      "execution_count": 4,
      "outputs": []
    },
    {
      "cell_type": "code",
      "metadata": {
        "id": "euJKRHjg62sI"
      },
      "source": [
        "class Conv_Pred(nn.Module):\n",
        "    def __init__(self):\n",
        "        super(Conv_Pred, self).__init__()\n",
        "        \n",
        "        self.conv1 = nn.Conv2d(3, 32, 4, 2, 1) # Input: (batch_size, 3, img_size, img_size)\n",
        "        self.conv2 = nn.Conv2d(32, 64, 4, 2, 1, bias = False)\n",
        "        self.conv2_bn = nn.BatchNorm2d(64)\n",
        "        self.conv3 = nn.Conv2d(64, 128, 4, 2, 1, bias = False)\n",
        "        self.conv3_bn = nn.BatchNorm2d(128)\n",
        "        self.conv4 = nn.Conv2d(128, 256, 4, 2, 1, bias = False)\n",
        "        self.conv4_bn = nn.BatchNorm2d(256)\n",
        "        self.conv5 = nn.Conv2d(256, 512, 4, 2, 1, bias = False)\n",
        "        self.conv5_bn = nn.BatchNorm2d(512)\n",
        "        self.conv6 = nn.Conv2d(512, 1024, 4, 2, 1, bias = False)\n",
        "        self.conv6_bn = nn.BatchNorm2d(1024)\n",
        "        \n",
        "        self.fce = nn.Linear(1024, 45)\n",
        "\n",
        "\n",
        "    def weight_init(self):\n",
        "        for m in self._modules:\n",
        "            normal_init(self._modules[m])\n",
        "\n",
        "    def forward(self, x):\n",
        "        x = x/127.5 - 1.0\n",
        "        x = F.relu(self.conv1(x), 0.2)\n",
        "        x = F.relu(self.conv2_bn(self.conv2(x)))\n",
        "        x = F.relu(self.conv3_bn(self.conv3(x)))\n",
        "        x = F.relu(self.conv4_bn(self.conv4(x)))\n",
        "        x = F.relu(self.conv5_bn(self.conv5(x)))\n",
        "        x = F.relu(self.conv6_bn(self.conv6(x)))\n",
        "\n",
        "        z = nn.Softmax(dim=1)(self.fce(x.squeeze()))\n",
        "\n",
        "        return z\n",
        "\n",
        "    def save(self, name):\n",
        "        print('saving...')\n",
        "        torch.save({\n",
        "            'model_state_dict': self.state_dict() #,\n",
        "            #'optimizer_state_dict': self.optimizer.state_dict(),\n",
        "        }, dir+name+'.pt')\n",
        "\n",
        "    def load(self, name):\n",
        "        print('loading...')\n",
        "        checkpoint = torch.load(dir+name+'.pt')\n",
        "        self.load_state_dict(checkpoint['model_state_dict'])\n",
        "        #self.optimizer.load_state_dict(checkpoint['optimizer_state_dict'])\n",
        "\n",
        "def get_model(mtype, lr=0.0006, train=True):\n",
        "    model = Conv_Pred().to(device)\n",
        "    model.weight_init()\n",
        "    try: model.load(mtype)\n",
        "    except: pass\n",
        "    if train == True:\n",
        "        model.train()\n",
        "    else:\n",
        "        model.eval()\n",
        "    return model\n",
        "\n",
        "\n",
        "def normal_init(m):\n",
        "    if isinstance(m, nn.ConvTranspose2d) or isinstance(m, nn.Conv2d):\n",
        "        m.weight.data.normal_(0.0, 0.02)\n",
        "\n",
        "def one_hot_embedding(labels, dims):\n",
        "    labels = torch.nn.functional.one_hot(torch.tensor(labels).to(torch.int64), num_classes = dims)\n",
        "    return torch.squeeze(labels)\n",
        "\n",
        "def accuracy_topk(output, target, topk=(3,)):\n",
        "    #https://forums.fast.ai/t/return-top-k-accuracy/27658\n",
        "    \"\"\"Computes the precision@k for the specified values of k\"\"\"\n",
        "    maxk = max(topk)\n",
        "    batch_size = target.size(0)\n",
        "\n",
        "    _, pred = output.topk(maxk, 1, True, True)\n",
        "    pred = pred.t()\n",
        "    correct = pred.eq(target.reshape(1, -1).expand_as(pred))\n",
        "\n",
        "    res = []\n",
        "    for k in topk:\n",
        "        correct_k = correct[:k].reshape(-1).float().sum(0, keepdim=True)\n",
        "        res.append(correct_k.mul_(100.0 / batch_size))\n",
        "    return res[0]"
      ],
      "execution_count": 5,
      "outputs": []
    },
    {
      "cell_type": "code",
      "metadata": {
        "id": "a0JZD2K589Mw"
      },
      "source": [
        "#augmentation_functions.py\n",
        "\n",
        "class addGaussianNoise(object):\n",
        "    def __init__(self, mean=0.0, std=1.0, p=0.5):\n",
        "        self.mean = torch.tensor(mean).to(device)\n",
        "        self.std = torch.tensor(std).to(device)\n",
        "        self.p = p\n",
        "      \n",
        "    def __call__(self, img):\n",
        "        if torch.rand(1).item() < self.p:\n",
        "            return img + torch.randn(img.size(), device = device) * self.std + self.mean\n",
        "        return img\n",
        "        \n",
        "    def __repr__(self):\n",
        "        return self.__class__.__name__ + '(mean={0}, std={1}, p={2})'.format(self.mean, self.std, self.p)\n",
        "\n",
        "def applyAugs(img_batch, task_idx, num_augs=7):\n",
        "    # returns augmented batch of images based on task index (0:128)\n",
        "    # currently based on exactly 7 transforms \n",
        "\n",
        "    transform_list = [transforms.RandomHorizontalFlip(p=0.99),\n",
        "                      transforms.RandomVerticalFlip(p=0.99),\n",
        "                      transforms.RandomRotation(359.0, fill=0.5),\n",
        "                      transforms.RandomPerspective(distortion_scale=0.1, p=0.99, fill=0.5),\n",
        "                      transforms.RandomResizedCrop(96,\n",
        "                                                   scale=(0.5, 1.0),\n",
        "                                                   ratio=(0.8, 1.0)),\n",
        "                                                   #interpolation=transforms.InterpolationMode.BILINEAR),\n",
        "                      addGaussianNoise(std=0.1, p=0.99),\n",
        "                      # transforms.ColorJitter(saturation=4.0, hue=0.01),\n",
        "                      transforms.ColorJitter(brightness=0.5, contrast=0.9)\n",
        "                      # ,transforms.GaussianBlur(9, sigma=(0.01, 2.0))\n",
        "                      ]\n",
        "       \n",
        "    tasklist = list(itertools.product([0, 1], repeat=num_augs))\n",
        "    current_augs = tasklist[task_idx]\n",
        "\n",
        "    task_transforms = [transform_list[i] for i,x in enumerate(current_augs) if x==1]\n",
        "    transform = torchvision.transforms.Compose(task_transforms)\n",
        "    img_batch = transform(img_batch)\n",
        "    return img_batch\n",
        "\n",
        "def getAugmentationTransforms(task_idx, num_augs=7):\n",
        "    # returns transforms.Compose function of transforms based on task index (0:128)\n",
        "    # currently based on exactly 7 transforms \n",
        "\n",
        "    transform_list = [transforms.RandomHorizontalFlip(p=0.99),\n",
        "                      transforms.RandomVerticalFlip(p=0.99),\n",
        "                      transforms.RandomRotation(359.0, fill=0.5),\n",
        "                      transforms.RandomPerspective(distortion_scale=0.1, p=0.99, fill=0.5),\n",
        "                      transforms.RandomResizedCrop(256,\n",
        "                                                   scale=(0.5, 1.0),\n",
        "                                                   ratio=(1.0, 1.0),\n",
        "                                                   interpolation=transforms.InterpolationMode.BILINEAR),\n",
        "                      addGaussianNoise(std=0.1, p=0.99),\n",
        "                      # transforms.ColorJitter(saturation=4.0, hue=0.01),\n",
        "                      transforms.ColorJitter(brightness=0.5, contrast=0.9)\n",
        "                      # ,transforms.GaussianBlur(9, sigma=(0.01, 2.0))\n",
        "                      ]\n",
        "       \n",
        "    tasklist = list(itertools.product([0, 1], repeat=num_augs))\n",
        "    current_augs = tasklist[task_idx]\n",
        "\n",
        "    task_transforms = [transform_list[i] for i,x in enumerate(current_augs) if x==1]\n",
        "    transform = torchvision.transforms.Compose(task_transforms)\n",
        "\n",
        "    return transform\n",
        "\n",
        "# utility functions\n",
        "# images must be normalized and converted to torch shape before augmentations (3,h,w)\n",
        "# converted to numpy shape for displaying (h,w,3)\n",
        "\n",
        "def normalizeImages(x):\n",
        "  x = x/255.\n",
        "  return x\n",
        "\n",
        "def convertToTorch(x):\n",
        "  x = np.moveaxis(x, 3, 1)\n",
        "  x = torch.as_tensor(x)\n",
        "  return x\n",
        "\n",
        "def convertToNumpy(x):\n",
        "  # convert back to format for displaying\n",
        "  x = x.numpy()\n",
        "  x = np.moveaxis(x, 1, 3)  \n",
        "  return x"
      ],
      "execution_count": 6,
      "outputs": []
    },
    {
      "cell_type": "code",
      "metadata": {
        "id": "5ykjpav_7GRG"
      },
      "source": [
        "def train(n_epochs, learning_rate, learning_rate1, train_loader, val_loader, c_dim, mtype):\n",
        "    epoch_tracker, loss_tracker, val_accs, val_topks = [], [], [], []\n",
        "    i = 0\n",
        "    tasks = 128\n",
        "    print_stride = n_epochs // 5\n",
        "\n",
        "    model = get_model(mtype=mtype)\n",
        "    model_optimizer = optim.Adam(model.parameters(), lr = learning_rate)\n",
        "\n",
        "    for epoch in range(1, n_epochs+1):\n",
        "\n",
        "        losses = []\n",
        "\n",
        "        for X, y in train_loader:\n",
        "\n",
        "            y = one_hot_embedding(y, c_dim).float().to(device)\n",
        "\n",
        "            if mtype=='MAML':\n",
        "\n",
        "                X1 = X[:int(X.shape[0]/2)].float().clone().to(device)\n",
        "                X2 = X[int(X.shape[0]/2):].float().clone().to(device)\n",
        "                y1 = y[:int(y.shape[0]/2)].float().clone().to(device)\n",
        "                y2 = y[int(y.shape[0]/2):].float().clone().to(device)\n",
        "\n",
        "                task_batch1 = applyAugs(X1, int(i%tasks)).to(device)\n",
        "                task_batch2 = applyAugs(X2, int(i%tasks)).to(device)\n",
        "                i += 1\n",
        "\n",
        "                model1 = copy.deepcopy(model).to(device)\n",
        "                model1_optimizer = optim.Adam(model1.parameters(), lr = learning_rate1)\n",
        "\n",
        "                for param in model.parameters(): param.grad = None\n",
        "                for param in model1.parameters(): param.grad = None\n",
        "\n",
        "                yhat = model1(task_batch1)\n",
        "                pred_loss = bce_loss(yhat, y1)\n",
        "                pred_loss.backward()\n",
        "\n",
        "                model1_optimizer.step()\n",
        "\n",
        "                losses += [pred_loss.item()]\n",
        "                for param in model.parameters(): param.grad = None\n",
        "                for param in model1.parameters(): param.grad = None\n",
        "\n",
        "                yhat = model1(task_batch2)\n",
        "                pred_loss = bce_loss(yhat, y2)\n",
        "                pred_loss.backward()\n",
        "\n",
        "                for m1, m2 in zip(model.named_parameters(), model1.named_parameters()):\n",
        "                    m1[1].grad = m2[1].grad.clone()\n",
        "            else: \n",
        "              \n",
        "                X = X.float().clone().to(device)\n",
        "                t = np.random.randint(tasks)\n",
        "                task_batch = applyAugs(X, t).to(device)\n",
        "\n",
        "                for param in model.parameters(): param.grad = None\n",
        "\n",
        "                yhat = model(task_batch)\n",
        "                pred_loss = bce_loss(yhat, y)\n",
        "                pred_loss.backward()\n",
        "\n",
        "            model_optimizer.step()\n",
        "\n",
        "            losses += [pred_loss.item()]\n",
        "            \n",
        "        \n",
        "        if epoch % print_stride == 0:\n",
        "            print('Epoch {} - loss: {:.3f}'.format((epoch), torch.mean(torch.FloatTensor(losses))))\n",
        "\n",
        "            loss_tracker.append(torch.mean(torch.FloatTensor(losses)))\n",
        "            \n",
        "            with torch.no_grad():\n",
        "                accs, actk = [], []\n",
        "                for x, y in val_loader:\n",
        "                    x, y = x.to(device).float(), y.to(device).float()\n",
        "                    yhat = model(x)\n",
        "                    \n",
        "                    yhat_max = torch.max(yhat, dim = 1)[1]\n",
        "                    \n",
        "                    correct = torch.sum(yhat_max == y)\n",
        "                    size = x.shape[0]\n",
        "                    \n",
        "                    acc_topk = accuracy_topk(yhat, y)\n",
        "                    actk.append(acc_topk.data.item())\n",
        "                    \n",
        "                    accs.append(100*(correct/size).data.item())\n",
        "\n",
        "                print('Validation Accuracy: ', torch.mean(torch.FloatTensor(accs)).data.item())\n",
        "                print('Validation Top3 Accuracy: ', torch.mean(torch.FloatTensor(actk)).data.item())\n",
        "                \n",
        "            val_accs.append(torch.mean(torch.FloatTensor(accs)))\n",
        "            val_topks.append(torch.mean(torch.FloatTensor(actk)))\n",
        "            epoch_tracker.append(epoch)\n",
        "          \n",
        "    np.save(dir+mtype+'_loss_tracker.npy', loss_tracker) \n",
        "    np.save(dir+mtype+'_val_topks.npy', val_topks)\n",
        "    np.save(dir+mtype+'_val_accs.npy', val_accs)\n",
        "    model.save(mtype)\n",
        "\n",
        "    return model, loss_tracker, val_topks, val_accs, epoch_tracker"
      ],
      "execution_count": 7,
      "outputs": []
    },
    {
      "cell_type": "code",
      "metadata": {
        "id": "qXe2IDIA6wws"
      },
      "source": [
        "def make_example(train_loader):\n",
        "    print('Shape of a batch of images: ', next(iter(train_loader))[0].shape)\n",
        "    print('Shape of a batch of labels: ', next(iter(train_loader))[1].shape)\n",
        "\n",
        "    first_samp = next(iter(train_loader))[0][0] #get first sample in first batch\n",
        "    plt.imshow(first_samp.permute(1,2,0)/255) #show it\n",
        "\n",
        "def make_train_plot(MAML_loss_tracker, CNN_loss_tracker, MAML_val_accs, CNN_val_accs, MAML_val_topks, CNN_val_topks, epoch_tracker):\n",
        "    #plt.plot(epoch_tracker, MAML_loss_tracker, label = 'MAML train loss')\n",
        "    #plt.plot(epoch_tracker, CNN_loss_tracker, label = 'CNN train loss')\n",
        "    plt.plot(epoch_tracker, MAML_val_accs, label = 'MAML val acc')\n",
        "    plt.plot(epoch_tracker, CNN_val_accs, label = 'CNN val acc')\n",
        "    plt.plot(epoch_tracker, MAML_val_topks, label = 'MAML val top3')\n",
        "    plt.plot(epoch_tracker, CNN_val_topks, label = 'CNN_val top3')\n",
        "    plt.legend(loc = 'best')\n",
        "    plt.show()\n",
        "\n",
        "def make_two_plots(epoch_tracker, MAML_loss_tracker, CNN_loss_tracker, MAML_val_accs, CNN_val_accs):\n",
        "    fig, (ax1, ax2) = plt.subplots(1,2)\n",
        "    ax1.plot(epoch_tracker, MAML_loss_tracker, label = 'MAML train loss')\n",
        "    ax1.plot(epoch_tracker, CNN_loss_tracker, label = 'CNN train loss')\n",
        "    ax1.legend(loc = 'best')\n",
        "    ax2.plot(epoch_tracker, MAML_val_accs, label = 'MAML val acc')\n",
        "    ax2.plot(epoch_tracker, CNN_val_accs, label = 'CNN val acc')\n",
        "    ax2.legend(loc = 'best')\n",
        "    plt.tight_layout()\n",
        "    plt.show()\n",
        "\n",
        "def basic_train_plot(epoch_tracker, MAML_loss_tracker, CNN_loss_tracker):\n",
        "    plt.plot(epoch_tracker, MAML_loss_tracker, label = 'MAML train loss')\n",
        "    plt.plot(epoch_tracker, CNN_loss_tracker, label = 'CNN train loss')\n",
        "    plt.legend(loc = 'best')\n",
        "    plt.show()\n",
        "\n",
        "def make_test(model, testloader):\n",
        "    with torch.no_grad():\n",
        "        model.eval()\n",
        "        accs, topks = [], []\n",
        "        for x, y in testloader:\n",
        "            x, y = x.to(device).float(), y.to(device).float()\n",
        "            yhat = model(x)\n",
        "\n",
        "            yhat_max = torch.max(yhat, dim = 1)[1]\n",
        "\n",
        "            correct = torch.sum(yhat_max == y)\n",
        "            size = x.shape[0]\n",
        "            acc_topk = accuracy_topk(yhat, y)\n",
        "\n",
        "            topks.append(acc_topk.data.item())\n",
        "            accs.append(100*(correct/size).data.item())\n",
        "\n",
        "        print('Test Accuracy: ', torch.mean(torch.FloatTensor(accs)).data.item())\n",
        "        print('Test Top3 Accuracy: ', torch.mean(torch.FloatTensor(topks)).data.item())\n"
      ],
      "execution_count": 8,
      "outputs": []
    },
    {
      "cell_type": "markdown",
      "metadata": {
        "id": "1gftKXCpdiY6"
      },
      "source": [
        "## RESISC MAML\n",
        "\n",
        "---"
      ]
    },
    {
      "cell_type": "code",
      "metadata": {
        "colab": {
          "base_uri": "https://localhost:8080/",
          "height": 302
        },
        "id": "cayrPooZMLQJ",
        "outputId": "75140bea-d2c5-489b-a344-7b180ae569ee"
      },
      "source": [
        "mtype='MAML'\n",
        "train_loader, val_loader, test_loader, c_dim = get_data(dir=dir, mtype=mtype)\n",
        "\n",
        "make_example(train_loader=train_loader)"
      ],
      "execution_count": 9,
      "outputs": [
        {
          "output_type": "stream",
          "text": [
            "Shape of a batch of images:  torch.Size([64, 3, 96, 96])\n",
            "Shape of a batch of labels:  torch.Size([64])\n"
          ],
          "name": "stdout"
        },
        {
          "output_type": "display_data",
          "data": {
            "image/png": "[encoded data removed]",
            "text/plain": [
              "<Figure size 432x288 with 1 Axes>"
            ]
          },
          "metadata": {
            "tags": [],
            "needs_background": "light"
          }
        }
      ]
    },
    {
      "cell_type": "code",
      "metadata": {
        "id": "iVVcU3nK69gl",
        "colab": {
          "base_uri": "https://localhost:8080/"
        },
        "outputId": "5db3d614-7fdc-42f3-84d9-78723828569a"
      },
      "source": [
        "model, MAML_loss_tracker, MAML_val_topks, MAML_val_accs, epoch_tracker = train(n_epochs=n_epochs, \n",
        "                                                                learning_rate=MAML_learning_rate1, \n",
        "                                                                learning_rate1=MAML_learning_rate2, \n",
        "                                                                train_loader=train_loader, \n",
        "                                                                val_loader=val_loader, \n",
        "                                                                c_dim=c_dim, \n",
        "                                                                mtype=mtype)"
      ],
      "execution_count": 10,
      "outputs": [
        {
          "output_type": "stream",
          "text": [
            "loading...\n"
          ],
          "name": "stdout"
        },
        {
          "output_type": "stream",
          "text": [
            "/usr/local/lib/python3.7/dist-packages/ipykernel_launcher.py:67: UserWarning: To copy construct from a tensor, it is recommended to use sourceTensor.clone().detach() or sourceTensor.clone().detach().requires_grad_(True), rather than torch.tensor(sourceTensor).\n"
          ],
          "name": "stderr"
        },
        {
          "output_type": "stream",
          "text": [
            "Epoch 10 - loss: 0.094\n",
            "Validation Accuracy:  22.203947067260742\n",
            "Validation Top3 Accuracy:  44.078948974609375\n",
            "Epoch 20 - loss: 0.089\n",
            "Validation Accuracy:  29.851974487304688\n",
            "Validation Top3 Accuracy:  56.49671173095703\n",
            "Epoch 30 - loss: 0.085\n",
            "Validation Accuracy:  37.91118240356445\n",
            "Validation Top3 Accuracy:  62.828948974609375\n",
            "Epoch 40 - loss: 0.082\n",
            "Validation Accuracy:  40.37828826904297\n",
            "Validation Top3 Accuracy:  67.43421173095703\n",
            "Epoch 50 - loss: 0.080\n",
            "Validation Accuracy:  44.654605865478516\n",
            "Validation Top3 Accuracy:  68.33881378173828\n",
            "saving...\n"
          ],
          "name": "stdout"
        }
      ]
    },
    {
      "cell_type": "code",
      "metadata": {
        "colab": {
          "base_uri": "https://localhost:8080/"
        },
        "id": "mWdiT2447L9q",
        "outputId": "e982d135-ce4a-474a-81a5-02f1ca998aae"
      },
      "source": [
        "make_test(model=model, testloader=test_loader)"
      ],
      "execution_count": 11,
      "outputs": [
        {
          "output_type": "stream",
          "text": [
            "Test Accuracy:  47.49125289916992\n",
            "Test Top3 Accuracy:  71.89885711669922\n"
          ],
          "name": "stdout"
        }
      ]
    },
    {
      "cell_type": "markdown",
      "metadata": {
        "id": "NMcY3zQPdrJK"
      },
      "source": [
        "## RESISC CNN\n",
        "\n",
        "---"
      ]
    },
    {
      "cell_type": "code",
      "metadata": {
        "colab": {
          "base_uri": "https://localhost:8080/"
        },
        "id": "YBrfnYVfdd5e",
        "outputId": "ba047f21-7102-4c8c-a7a6-b652b1fa21c2"
      },
      "source": [
        "mtype='CNN'\n",
        "train_loader, val_loader, test_loader, c_dim = get_data(dir=dir, mtype=mtype)\n",
        "\n",
        "model, CNN_loss_tracker, CNN_val_topks, CNN_val_accs, epoch_tracker = train(n_epochs=n_epochs, \n",
        "                                                                learning_rate=CNN_learning_rate, \n",
        "                                                                learning_rate1=CNN_learning_rate, \n",
        "                                                                train_loader=train_loader, \n",
        "                                                                val_loader=val_loader, \n",
        "                                                                c_dim=c_dim, \n",
        "                                                                mtype=mtype)"
      ],
      "execution_count": 12,
      "outputs": [
        {
          "output_type": "stream",
          "text": [
            "loading...\n"
          ],
          "name": "stdout"
        },
        {
          "output_type": "stream",
          "text": [
            "/usr/local/lib/python3.7/dist-packages/ipykernel_launcher.py:67: UserWarning: To copy construct from a tensor, it is recommended to use sourceTensor.clone().detach() or sourceTensor.clone().detach().requires_grad_(True), rather than torch.tensor(sourceTensor).\n"
          ],
          "name": "stderr"
        },
        {
          "output_type": "stream",
          "text": [
            "Epoch 10 - loss: 0.088\n",
            "Validation Accuracy:  34.05448532104492\n",
            "Validation Top3 Accuracy:  59.13461685180664\n",
            "Epoch 20 - loss: 0.084\n",
            "Validation Accuracy:  41.346153259277344\n",
            "Validation Top3 Accuracy:  66.26602935791016\n",
            "Epoch 30 - loss: 0.076\n",
            "Validation Accuracy:  50.88140869140625\n",
            "Validation Top3 Accuracy:  74.03845977783203\n",
            "Epoch 40 - loss: 0.071\n",
            "Validation Accuracy:  57.53205108642578\n",
            "Validation Top3 Accuracy:  79.32691955566406\n",
            "Epoch 50 - loss: 0.065\n",
            "Validation Accuracy:  58.894229888916016\n",
            "Validation Top3 Accuracy:  81.00961303710938\n",
            "saving...\n"
          ],
          "name": "stdout"
        }
      ]
    },
    {
      "cell_type": "code",
      "metadata": {
        "colab": {
          "base_uri": "https://localhost:8080/"
        },
        "id": "O5LMBVyhddUP",
        "outputId": "7f6c2b25-2604-49a3-a27a-035563fe648a"
      },
      "source": [
        "make_test(model=model, testloader=test_loader)"
      ],
      "execution_count": 13,
      "outputs": [
        {
          "output_type": "stream",
          "text": [
            "Test Accuracy:  62.543678283691406\n",
            "Test Top3 Accuracy:  83.78335571289062\n"
          ],
          "name": "stdout"
        }
      ]
    },
    {
      "cell_type": "markdown",
      "metadata": {
        "id": "unkZk4GZuimF"
      },
      "source": [
        "## RESISC CHARTS\n",
        "\n",
        "---"
      ]
    },
    {
      "cell_type": "code",
      "metadata": {
        "colab": {
          "base_uri": "https://localhost:8080/",
          "height": 265
        },
        "id": "_IMop6hcddro",
        "outputId": "123d8bcd-55f8-414d-ca01-f3e827142064"
      },
      "source": [
        "make_train_plot(MAML_loss_tracker, CNN_loss_tracker, MAML_val_accs, CNN_val_accs, MAML_val_topks, CNN_val_topks, epoch_tracker)"
      ],
      "execution_count": 14,
      "outputs": [
        {
          "output_type": "display_data",
          "data": {
            "image/png": "[encoded data removed]",
            "text/plain": [
              "<Figure size 432x288 with 1 Axes>"
            ]
          },
          "metadata": {
            "tags": [],
            "needs_background": "light"
          }
        }
      ]
    },
    {
      "cell_type": "code",
      "metadata": {
        "colab": {
          "base_uri": "https://localhost:8080/",
          "height": 297
        },
        "id": "4LZNyxMlddjY",
        "outputId": "35895598-6be3-44ce-a556-70aa3ef0bb4d"
      },
      "source": [
        "make_two_plots(epoch_tracker, MAML_loss_tracker, CNN_loss_tracker, MAML_val_accs, CNN_val_accs)"
      ],
      "execution_count": 15,
      "outputs": [
        {
          "output_type": "display_data",
          "data": {
            "image/png": "[encoded data removed]",
            "text/plain": [
              "<Figure size 432x288 with 2 Axes>"
            ]
          },
          "metadata": {
            "tags": [],
            "needs_background": "light"
          }
        }
      ]
    },
    {
      "cell_type": "markdown",
      "metadata": {
        "id": "Ofi4ngKHLmtn"
      },
      "source": [
        "## UC MERCED\n",
        "\n",
        "---"
      ]
    },
    {
      "cell_type": "code",
      "metadata": {
        "id": "TYDwEsFrLtbJ"
      },
      "source": [
        "UC_MAML_learning_rate = 0.0006\n",
        "UC_CNN_learning_rate = 0.0006\n",
        "UC_epochs = 3\n",
        "UC_batch_size = 32\n",
        "\n",
        "UC_data = np.load(dir+'UCMerced_images_96.npy')\n",
        "UC_labels = np.load(dir+'UCMerced_classes.npy')\n",
        "UC_classes = np.load(dir+'UCMerced_class_names.npy')\n",
        "\n",
        "UC_train_data, UC_test_data, UC_train_labels, UC_test_labels = train_test_split(UC_data, UC_labels, test_size = 0.8, stratify = UC_labels)\n",
        "\n",
        "UCtrainset = make_dataset(UC_train_data, UC_train_labels)\n",
        "UCtrain_loader = DataLoader(UCtrainset, batch_size=int(batch_size), shuffle=True)\n",
        "\n",
        "UCtestset = make_dataset(UC_test_data, UC_test_labels)\n",
        "UCtest_loader = torch.utils.data.DataLoader(UCtestset, batch_size, drop_last = True, shuffle=True)"
      ],
      "execution_count": 16,
      "outputs": []
    },
    {
      "cell_type": "code",
      "metadata": {
        "id": "4Du65kG5tVef"
      },
      "source": [
        "def UC_train(model, trainloader, epochs=3, lr=0.0006):\n",
        "    loss_tracker, epoch_tracker = [], []\n",
        "    #model.load('UC')\n",
        "    model.train()\n",
        "    optimizer = optim.Adam(model.parameters(), lr = lr)\n",
        "    for epoch in range(1, epochs+1):\n",
        "        losses = 0\n",
        "        for X, y in trainloader:\n",
        "            y = one_hot_embedding(y.to(device), len(UC_classes)).float()\n",
        "            X = X.float().to(device)\n",
        "            for param in model.parameters(): param.grad = None\n",
        "            yhat = model(X)\n",
        "            pred_loss = bce_loss(yhat, y)\n",
        "            pred_loss.backward()\n",
        "            optimizer.step()\n",
        "            losses += pred_loss.item()\n",
        "        epoch_tracker.append(epoch)\n",
        "        loss_tracker.append(losses)\n",
        "        print(losses)\n",
        "    return model, epoch_tracker, loss_tracker    "
      ],
      "execution_count": 17,
      "outputs": []
    },
    {
      "cell_type": "code",
      "metadata": {
        "colab": {
          "base_uri": "https://localhost:8080/"
        },
        "id": "_7zMruiyLtXs",
        "outputId": "f5339d88-d775-4bed-ec45-8a4ca4ab8e51"
      },
      "source": [
        "mtype='MAML'\n",
        "model = get_model(mtype=mtype)\n",
        "\n",
        "model.fce = nn.Linear(1024, 21)\n",
        "model = model.to(device)\n",
        "#model.save('UC'+mtype)\n",
        "\n",
        "model, epoch_tracker, MAML_loss_tracker = UC_train(model=model, trainloader=UCtrain_loader, epochs=UC_epochs, lr=UC_MAML_learning_rate)"
      ],
      "execution_count": 18,
      "outputs": [
        {
          "output_type": "stream",
          "text": [
            "loading...\n"
          ],
          "name": "stdout"
        },
        {
          "output_type": "stream",
          "text": [
            "/usr/local/lib/python3.7/dist-packages/ipykernel_launcher.py:67: UserWarning: To copy construct from a tensor, it is recommended to use sourceTensor.clone().detach() or sourceTensor.clone().detach().requires_grad_(True), rather than torch.tensor(sourceTensor).\n"
          ],
          "name": "stderr"
        },
        {
          "output_type": "stream",
          "text": [
            "2.2969346791505814\n",
            "1.4827948957681656\n",
            "1.0555850304663181\n"
          ],
          "name": "stdout"
        }
      ]
    },
    {
      "cell_type": "code",
      "metadata": {
        "colab": {
          "base_uri": "https://localhost:8080/"
        },
        "id": "wepsXFE7LtRj",
        "outputId": "bc97ce8e-264b-4adf-c81c-342fcfdfc4d5"
      },
      "source": [
        "make_test(model=model, testloader=UCtest_loader)\n"
      ],
      "execution_count": 19,
      "outputs": [
        {
          "output_type": "stream",
          "text": [
            "Test Accuracy:  58.47355651855469\n",
            "Test Top3 Accuracy:  82.27163696289062\n"
          ],
          "name": "stdout"
        }
      ]
    },
    {
      "cell_type": "code",
      "metadata": {
        "id": "11SceGJmLtO3",
        "colab": {
          "base_uri": "https://localhost:8080/"
        },
        "outputId": "4ee86709-ce25-4d3b-8590-11765988f1b4"
      },
      "source": [
        "mtype='CNN'\n",
        "model = get_model(mtype=mtype)\n",
        "\n",
        "model.fce = nn.Linear(1024, 21)\n",
        "model = model.to(device)\n",
        "#model.save('UC'+mtype)\n",
        "\n",
        "model, epoch_tracker, CNN_loss_tracker = UC_train(model=model, trainloader=UCtrain_loader, epochs=UC_epochs, lr=UC_CNN_learning_rate)"
      ],
      "execution_count": 20,
      "outputs": [
        {
          "output_type": "stream",
          "text": [
            "loading...\n"
          ],
          "name": "stdout"
        },
        {
          "output_type": "stream",
          "text": [
            "/usr/local/lib/python3.7/dist-packages/ipykernel_launcher.py:67: UserWarning: To copy construct from a tensor, it is recommended to use sourceTensor.clone().detach() or sourceTensor.clone().detach().requires_grad_(True), rather than torch.tensor(sourceTensor).\n"
          ],
          "name": "stderr"
        },
        {
          "output_type": "stream",
          "text": [
            "2.3433056622743607\n",
            "1.4233698099851608\n",
            "0.9734639562666416\n"
          ],
          "name": "stdout"
        }
      ]
    },
    {
      "cell_type": "code",
      "metadata": {
        "id": "tueMpx6iLs3O",
        "colab": {
          "base_uri": "https://localhost:8080/"
        },
        "outputId": "3c6c97dc-9f3a-42b5-b248-ad2972694dd5"
      },
      "source": [
        "make_test(model=model, testloader=UCtest_loader)"
      ],
      "execution_count": 21,
      "outputs": [
        {
          "output_type": "stream",
          "text": [
            "Test Accuracy:  68.32933044433594\n",
            "Test Top3 Accuracy:  90.56490325927734\n"
          ],
          "name": "stdout"
        }
      ]
    },
    {
      "cell_type": "code",
      "metadata": {
        "id": "PD5NUS3wLtKv",
        "colab": {
          "base_uri": "https://localhost:8080/",
          "height": 268
        },
        "outputId": "6fb26959-e08e-4ca0-ae31-51432f6c3b67"
      },
      "source": [
        "basic_train_plot(epoch_tracker, MAML_loss_tracker, CNN_loss_tracker)"
      ],
      "execution_count": 22,
      "outputs": [
        {
          "output_type": "display_data",
          "data": {
            "image/png": "[encoded data removed]",
            "text/plain": [
              "<Figure size 432x288 with 1 Axes>"
            ]
          },
          "metadata": {
            "tags": [],
            "needs_background": "light"
          }
        }
      ]
    },
    {
      "cell_type": "markdown",
      "metadata": {
        "id": "3F5BOpX07VDA"
      },
      "source": [
        "## Scrap Work Area \n",
        "\n",
        "---"
      ]
    },
    {
      "cell_type": "code",
      "metadata": {
        "id": "Y6y3pEe-0e2O",
        "colab": {
          "base_uri": "https://localhost:8080/",
          "height": 52
        },
        "outputId": "7e9d84d6-4e23-4a01-8e96-7c8a4a33a8c3"
      },
      "source": [
        "#GRAD DIAGNOSTICS\n",
        "'''\n",
        "print(\"PARAMS YOU ARE CHECKING\")\n",
        "for pA, pB in zip(CNN.parameters(), CNN1.parameters()):\n",
        "  print((pA == pB).all())\n",
        "print(\"GRAD YOU ARE CHECKING\")\n",
        "for pA, pB in zip(CNN.parameters(), CNN1.parameters()):\n",
        "  print((pA.grad == pB.grad))\n",
        "'''"
      ],
      "execution_count": 23,
      "outputs": [
        {
          "output_type": "execute_result",
          "data": {
            "application/vnd.google.colaboratory.intrinsic+json": {
              "type": "string"
            },
            "text/plain": [
              "'\\nprint(\"PARAMS YOU ARE CHECKING\")\\nfor pA, pB in zip(CNN.parameters(), CNN1.parameters()):\\n  print((pA == pB).all())\\nprint(\"GRAD YOU ARE CHECKING\")\\nfor pA, pB in zip(CNN.parameters(), CNN1.parameters()):\\n  print((pA.grad == pB.grad))\\n'"
            ]
          },
          "metadata": {
            "tags": []
          },
          "execution_count": 23
        }
      ]
    }
  ]
}