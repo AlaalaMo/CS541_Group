{
  "nbformat": 4,
  "nbformat_minor": 0,
  "metadata": {
    "colab": {
      "name": "colabMAMLipynb",
      "provenance": [],
      "collapsed_sections": [],
      "machine_shape": "hm"
    },
    "kernelspec": {
      "name": "python3",
      "display_name": "Python 3"
    },
    "language_info": {
      "name": "python"
    },
    "accelerator": "GPU"
  },
  "cells": [
    {
      "cell_type": "code",
      "metadata": {
        "id": "qHAOTHHLZxD6",
        "colab": {
          "base_uri": "https://localhost:8080/"
        },
        "outputId": "e6c789be-2895-4e45-9dcf-56e1a5f20c80"
      },
      "source": [
        "# !pip install learn2learn\n",
        "# !pip install torchmeta\n",
        "\n",
        "import torch\n",
        "import utils\n",
        "import model as MODEL\n",
        "import train as TRAIN\n",
        "import matplotlib.pyplot as plt\n",
        "import epoch\n",
        "from google.colab import drive\n",
        "import random\n",
        "drive.mount('/content/drive')\n",
        "\n",
        "device = torch.device('cuda' if torch.cuda.is_available() else 'cpu')\n",
        "device = torch.device('cuda' if torch.cuda.is_available() else 'cpu')\n",
        "if __name__ == '__main__':\n",
        "    Quincy = False ## set true to run Quincy's model\n",
        "    Alex = False\n",
        "    if Quincy ==True: ## param search in this file doe snot support this \n",
        "        Params = {'datasize':96,'nways':32,'kshots':1,'in_channels':3,\n",
        "                'num_classes':45,'hidden_size':2, \"innerStep\":.0006,\n",
        "                'MetaLR':.0006,\"number_of_tasks\":1, \"Order\":True,\"outerVSinner\": 1,\n",
        "                \"epoch\":50,'aug':True, 'trainvalSplit':.2,'traintestSplit': .8, 'Quincy':True, 'Alex':False,'mercer':False,'transferLR':.003,'freeze':True,'path':'/content/drive/MyDrive/'}\n",
        "    elif Alex == True: ### only run the CNN with augs\n",
        "        Params = {'datasize':96,'nways':32,'kshots':1,'in_channels':3,\n",
        "                'num_classes':45,'hidden_size':2, \"innerStep\":0.0001, ## <- Lr right there\n",
        "                'MetaLR':.0006,\"number_of_tasks\":1, \"Order\":True,\"outerVSinner\": 1,\n",
        "                \"epoch\":50,'aug':True, 'trainvalSplit':.2,'traintestSplit': .8, 'Quincy':False, 'Alex':True,'mercer':False,'transferLR':.003,'freeze':True,'path':'/content/drive/MyDrive/'}\n",
        "    else:\n",
        "        Params = {'datasize': 96, 'nways': 5, 'kshots': 1, 'in_channels': 3, 'num_classes': 45,\n",
        "                  'hidden_size': 2, 'innerStep': 0.001, 'MetaLR': 0.0005, 'number_of_tasks': 2,\n",
        "                  'Order': True, 'outerVSinner': 1, 'epoch': 50, 'aug': True, 'Img_size': 96, \n",
        "                  'bs': 32, 'c_dim': 45, 'trainsz': 4725, 'trainvalSplit': 0.2, 'traintestSplit': 0.8, \n",
        "                  'Quincy': False, 'Alex': False, 'DataSeenPerEpoch': 4720,'mercer':False,'transferLR':.003,'freeze':True,'path':'/content/drive/MyDrive/'}\n",
        "    # print('Getting data')\n",
        "    Params['path']= '/content/drive/MyDrive/'\n",
        "    train_tasks,val_loader,test_loader,Params=utils.colabgetdata(Params)"
      ],
      "execution_count": null,
      "outputs": [
        {
          "output_type": "stream",
          "text": [
            "Drive already mounted at /content/drive; to attempt to forcibly remount, call drive.mount(\"/content/drive\", force_remount=True).\n"
          ],
          "name": "stdout"
        }
      ]
    },
    {
      "cell_type": "code",
      "metadata": {
        "id": "FKh1nlD0bZog"
      },
      "source": [
        "## example run\n",
        "Params, trainacc, trainloss, valacc, valtopk = epoch.epochthrough(train_tasks,Params,val_loader)\n",
        "merParams, mertrainacc, mertrainloss, mervalacc, mervaltopk = epoch.epochMercer(Params,ptfilepath='/content/drive/MyDrive/Project/genMAML.pt')\n",
        "## need to make plots\n",
        "\n",
        "# epochRES = [range(trainacc)]\n",
        "# repochMC = [range(mertrainacc)]\n",
        "# uteils.make_train_plot(trainacc, CNN_loss_tracker, MAML_val_accs, CNN_val_accs, MAML_val_topks, CNN_val_topks, epoch_tracker,Params):"
      ],
      "execution_count": null,
      "outputs": []
    },
    {
      "cell_type": "code",
      "metadata": {
        "id": "fY-dwyrrhovK"
      },
      "source": [
        "loss_rate = valacc[-1]\n",
        "reduce = [True,False]\n",
        "nwayss =[32,5]\n",
        "for i in reduce:\n",
        "    Params['Order']=i\n",
        "    for tasknum in range(4): ## number of tasks inside each outer loop\n",
        "        Params[\"number_of_tasks\"] = int(2**tasknum)\n",
        "        for InoutRatio in range(2): ## ratio of data in outer loop of task to one of the data in tasks right now it is 1:1, 2:1, 3:1\n",
        "            Params['outerVSinner'] = InoutRatio+1\n",
        "            for nwayys in nwayss:\n",
        "                Params['nways']=nwayys\n",
        "                Params['innerStep'] = .0005\n",
        "                Params['MetaLR'] = .001\n",
        "                for meta in range(5):## learning rates\n",
        "                    Params['MetaLR'] *=(random.uniform(.25,1.25))\n",
        "                    for innLR in range(5):\n",
        "                        Params[\"innerStep\"] *=(random.uniform(.25,1.25))\n",
        "                        model = MODEL.ConvolutionalNeuralNetwork(Params)\n",
        "                        model = model.to(device)\n",
        "                        Atrain = 0\n",
        "                        Ltrain  =0\n",
        "                        Aval = 0\n",
        "                        Akval = 0\n",
        "                        for i in range(Params['epoch']):\n",
        "                            Atrain, Ltrain = TRAIN.train(model, train_tasks,Params, val_loader)\n",
        "                            Aval, Akval = utils.getvalErr(model, val_loader)\n",
        "                            if ((i <= 4) and Aval < .2): ## not to waste time stop early\n",
        "                                break\n",
        "                            if Aval > loss_rate: ## if our val is better then what we had save it\n",
        "                                print(\"found one better\")\n",
        "                                print(loss_rate)\n",
        "                                print(Params)\n",
        "                                torch.save(model, '/content/drive/MyDrive/Project/genMAML.pt')\n",
        "                                dict = {'Training loss': Ltrain, \"Training Error Rate\": Atrain, \"Validation topk\": Akval,\n",
        "                                        \"Validation Error Rate\": Aval}\n",
        "                                tofile = {**dict, **Params}\n",
        "                                with open('/content/drive/MyDrive/Project/BestSoFar.txt', 'a') as f:\n",
        "                                    print(tofile, file=f)\n",
        "                                    loss_rate = dict[\"Validation Error Rate\"]"
      ],
      "execution_count": null,
      "outputs": []
    },
    {
      "cell_type": "code",
      "metadata": {
        "id": "qiu2vRK1kTXr"
      },
      "source": [
        ""
      ],
      "execution_count": null,
      "outputs": []
    }
  ]
}