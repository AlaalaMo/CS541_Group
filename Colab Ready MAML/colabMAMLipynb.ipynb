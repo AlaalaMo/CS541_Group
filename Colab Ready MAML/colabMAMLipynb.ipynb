{
  "nbformat": 4,
  "nbformat_minor": 0,
  "metadata": {
    "colab": {
      "name": "colabMAMLipynb",
      "provenance": [],
      "collapsed_sections": [],
      "toc_visible": true,
      "machine_shape": "hm"
    },
    "kernelspec": {
      "name": "python3",
      "display_name": "Python 3"
    },
    "language_info": {
      "name": "python"
    },
    "accelerator": "GPU"
  },
  "cells": [
    {
      "cell_type": "code",
      "metadata": {
        "id": "qHAOTHHLZxD6",
        "colab": {
          "base_uri": "https://localhost:8080/"
        },
        "outputId": "a0e49eec-f5e9-44a8-e7cd-641326f3a775"
      },
      "source": [
        "# !pip install learn2learn\n",
        "# !pip install torchmeta\n",
        "import warnings\n",
        "warnings.filterwarnings(\"ignore\")\n",
        "import torch\n",
        "import utils\n",
        "import model as MODEL\n",
        "import train as TRAIN\n",
        "import matplotlib.pyplot as plt\n",
        "import epoch\n",
        "from google.colab import drive\n",
        "import time\n",
        "import random\n",
        "drive.mount('/content/drive')\n",
        "\n",
        "device = torch.device('cuda' if torch.cuda.is_available() else 'cpu')\n",
        "device = torch.device('cuda' if torch.cuda.is_available() else 'cpu')\n",
        "if __name__ == '__main__':\n",
        "    Quincy = False ## set true to run Quincy's model\n",
        "    if Quincy ==True: ## param search in this file doe snot support this \n",
        "        Params = {'datasize':96,'nways':32,'kshots':1,'in_channels':3,\n",
        "                'num_classes':45,'hidden_size':2, \"innerStep\":.0006,\n",
        "                'MetaLR':.0006,\"number_of_tasks\":1, \"Order\":True,\"outerVSinner\": 1,\n",
        "                \"epoch\":50,'aug':True, 'trainvalSplit':.2,'traintestSplit': .8, 'Quincy':True, 'Alex':False,'mercer':False,'transferLR':.0006,'freeze':True,'path':'/content/drive/MyDrive/'}\n",
        "    else:\n",
        "        Params = {'datasize': 96, 'nways': 5, 'kshots': 1, 'in_channels': 3, 'num_classes': 45,\n",
        "                  'hidden_size': 2, 'innerStep': 0.001, 'MetaLR': 0.0005, 'number_of_tasks': 2,\n",
        "                  'Order': False, 'outerVSinner': 1, 'epoch': 20, 'aug': True, 'Img_size': 96, \n",
        "                  'bs': 32, 'c_dim': 45, 'trainsz': 4725, 'trainvalSplit': 0.2, 'traintestSplit': 0.8, \n",
        "                  'Quincy': False, 'Alex': False, 'DataSeenPerEpoch': 4720,'mercer':False,'transferLR':.0006,'freeze':False,'path':'/content/drive/MyDrive/'}\n",
        "    # print('Getting data')\n",
        "    Params['path']= '/content/drive/MyDrive/'\n",
        "    train_tasks,val_loader,test_loader,Params,trainset,ytrain=utils.colabgetdata(Params)\n",
        "    \n"
      ],
      "execution_count": 1,
      "outputs": [
        {
          "output_type": "stream",
          "text": [
            "Drive already mounted at /content/drive; to attempt to forcibly remount, call drive.mount(\"/content/drive\", force_remount=True).\n"
          ],
          "name": "stdout"
        }
      ]
    },
    {
      "cell_type": "code",
      "metadata": {
        "id": "FKh1nlD0bZog",
        "colab": {
          "base_uri": "https://localhost:8080/",
          "height": 1000
        },
        "outputId": "421e33d7-37ac-4015-c2ce-356488aa9837"
      },
      "source": [
        "Params= {'Training loss': 222.16639709472656, 'Training Error Rate': 0.3610169589519501, 'Validation topk': 0.5713140964508057, 'Validation Error Rate': 0.37419870495796204, 'onEpoch': 19, 'datasize': 96, 'nways': 5, 'kshots': 1, 'in_channels': 3, 'num_classes': 45, 'hidden_size': 2, 'innerStep': 3.3113e-05, 'MetaLR': 0.0001, 'number_of_tasks': 4, 'Order': False, 'outerVSinner': 1, 'epoch': 80, 'aug': True, 'Img_size': 96, 'bs': 32, 'c_dim': 45, 'trainsz': 4725, 'trainvalSplit': 0.2, 'traintestSplit': 0.8, 'Quincy': False, 'Alex': False, 'DataSeenPerEpoch': 4720, 'mercer': False, 'transferLR': 0.0006, 'freeze': False, 'path': '/content/drive/MyDrive/'}\n",
        "train_tasks,val_loader,test_loader,Params,trainset,ytrain=utils.colabgetdata(Params)\n",
        "\n",
        "Params, trainacc, trainloss, valacc, valtopk,model10 = epoch.epochthrough(train_tasks,Params,val_loader,test_loader)\n",
        "testacc,testtopk = utils.getvalErr(model10,test_loader)\n",
        "print('test acc: ', testacc,\" testtopk: \",testtopk)\n",
        "Params['mercer']=True\n",
        "# Params\n",
        "merParams, mertrainacc, mertrainloss, mervalacc, mervaltopk = epoch.epochMercer(Params,ptfilepath='/content/drive/MyDrive/Project/genMAML.pt')"
      ],
      "execution_count": 2,
      "outputs": [
        {
          "output_type": "stream",
          "text": [
            "epoch: 0 val accuracy:  13.621794700622559  topk:  29.887819290161133\n",
            "epoch: 1 val accuracy:  18.75  topk:  35.41666567325592\n",
            "epoch: 2 val accuracy:  18.269229888916016  topk:  38.942307233810425\n",
            "epoch: 3 val accuracy:  19.55128288269043  topk:  38.942307233810425\n",
            "epoch: 4 val accuracy:  20.83333396911621  topk:  41.34615361690521\n",
            "epoch: 5 val accuracy:  23.076923370361328  topk:  43.349358439445496\n",
            "epoch: 6 val accuracy:  25.320512771606445  topk:  45.993590354919434\n",
            "epoch: 7 val accuracy:  24.038461685180664  topk:  47.516027092933655\n",
            "epoch: 8 val accuracy:  29.086538314819336  topk:  48.076921701431274\n",
            "epoch: 9 val accuracy:  27.48397445678711  topk:  49.27884638309479\n",
            "epoch: 10 val accuracy:  27.7243595123291  topk:  49.03846085071564\n",
            "epoch: 11 val accuracy:  30.769229888916016  topk:  52.483975887298584\n",
            "epoch: 12 val accuracy:  29.647436141967773  topk:  52.40384340286255\n",
            "epoch: 13 val accuracy:  29.40705108642578  topk:  51.682692766189575\n",
            "epoch: 14 val accuracy:  30.128204345703125  topk:  54.48718070983887\n",
            "epoch: 15 val accuracy:  31.6506404876709  topk:  55.68910241127014\n",
            "epoch: 16 val accuracy:  33.09294891357422  topk:  54.326921701431274\n",
            "epoch: 17 val accuracy:  32.93269348144531  topk:  54.40705418586731\n",
            "epoch: 18 val accuracy:  33.012821197509766  topk:  56.81089758872986\n",
            "epoch: 19 val accuracy:  34.855770111083984  topk:  56.08974099159241\n",
            "epoch: 20 val accuracy:  34.77564239501953  topk:  56.97115659713745\n",
            "epoch: 21 val accuracy:  32.93269348144531  topk:  55.608975887298584\n",
            "epoch: 22 val accuracy:  36.05769348144531  topk:  58.25320482254028\n",
            "epoch: 23 val accuracy:  35.33654022216797  topk:  57.692307233810425\n",
            "epoch: 24 val accuracy:  35.41666793823242  topk:  58.8942289352417\n",
            "epoch: 25 val accuracy:  34.855770111083984  topk:  58.25320482254028\n",
            "epoch: 26 val accuracy:  35.1762809753418  topk:  57.05128312110901\n",
            "epoch: 27 val accuracy:  36.21794891357422  topk:  59.05448794364929\n",
            "epoch: 28 val accuracy:  37.25961685180664  topk:  58.974361419677734\n",
            "epoch: 29 val accuracy:  37.17948532104492  topk:  59.69551205635071\n",
            "epoch: 30 val accuracy:  37.5  topk:  60.016024112701416\n",
            "epoch: 31 val accuracy:  37.339744567871094  topk:  60.97756624221802\n",
            "epoch: 32 val accuracy:  39.18269348144531  topk:  62.33974099159241\n",
            "epoch: 33 val accuracy:  38.94230651855469  topk:  61.45833134651184\n",
            "epoch: 34 val accuracy:  37.74038314819336  topk:  61.37820482254028\n",
            "epoch: 35 val accuracy:  38.862178802490234  topk:  62.33974099159241\n",
            "epoch: 36 val accuracy:  38.54166793823242  topk:  60.97756624221802\n",
            "epoch: 37 val accuracy:  38.54166793823242  topk:  61.618590354919434\n",
            "epoch: 38 val accuracy:  39.58333206176758  topk:  63.54166865348816\n",
            "epoch: 39 val accuracy:  41.4262809753418  topk:  63.06089758872986\n",
            "epoch: 40 val accuracy:  40.22435760498047  topk:  61.77884340286255\n",
            "epoch: 41 val accuracy:  39.74359130859375  topk:  62.5\n",
            "epoch: 42 val accuracy:  37.980770111083984  topk:  62.25961446762085\n",
            "epoch: 43 val accuracy:  39.98397445678711  topk:  62.74038553237915\n",
            "epoch: 44 val accuracy:  40.94551467895508  topk:  64.18269276618958\n",
            "epoch: 45 val accuracy:  41.105770111083984  topk:  63.22115659713745\n",
            "epoch: 46 val accuracy:  41.02564239501953  topk:  64.50320482254028\n",
            "epoch: 47 val accuracy:  40.86538314819336  topk:  62.58012652397156\n",
            "epoch: 48 val accuracy:  40.625  topk:  63.22115659713745\n",
            "epoch: 49 val accuracy:  41.82692337036133  topk:  65.46474099159241\n",
            "epoch: 50 val accuracy:  41.18589782714844  topk:  64.66346383094788\n",
            "epoch: 51 val accuracy:  42.78845977783203  topk:  65.38461446762085\n",
            "epoch: 52 val accuracy:  42.54807662963867  topk:  66.18589758872986\n",
            "epoch: 53 val accuracy:  42.387821197509766  topk:  65.46474099159241\n",
            "epoch: 54 val accuracy:  41.987178802490234  topk:  64.74359035491943\n",
            "epoch: 55 val accuracy:  39.903846740722656  topk:  63.381409645080566\n",
            "epoch: 56 val accuracy:  42.387821197509766  topk:  65.30448794364929\n",
            "epoch: 57 val accuracy:  42.14743423461914  topk:  65.70512652397156\n",
            "epoch: 58 val accuracy:  42.22756576538086  topk:  66.42628312110901\n",
            "epoch: 59 val accuracy:  42.14743423461914  topk:  64.26281929016113\n",
            "epoch: 60 val accuracy:  42.30769348144531  topk:  64.66346383094788\n",
            "epoch: 61 val accuracy:  42.86859130859375  topk:  65.46474099159241\n",
            "epoch: 62 val accuracy:  43.10897445678711  topk:  65.54487347602844\n",
            "epoch: 63 val accuracy:  43.42948532104492  topk:  65.70512652397156\n",
            "epoch: 64 val accuracy:  44.15064239501953  topk:  65.86538553237915\n",
            "epoch: 65 val accuracy:  43.42948532104492  topk:  66.02563858032227\n",
            "epoch: 66 val accuracy:  43.589744567871094  topk:  65.30448794364929\n",
            "epoch: 67 val accuracy:  42.78845977783203  topk:  65.46474099159241\n",
            "epoch: 68 val accuracy:  42.9487190246582  topk:  65.86538553237915\n",
            "epoch: 69 val accuracy:  44.39102554321289  topk:  67.94871687889099\n",
            "epoch: 70 val accuracy:  43.910255432128906  topk:  67.14743375778198\n",
            "epoch: 71 val accuracy:  43.269229888916016  topk:  66.02563858032227\n",
            "epoch: 72 val accuracy:  45.67307662963867  topk:  67.14743375778198\n",
            "epoch: 73 val accuracy:  43.75  topk:  66.18589758872986\n",
            "epoch: 74 val accuracy:  44.5512809753418  topk:  66.50640964508057\n",
            "epoch: 75 val accuracy:  43.99038314819336  topk:  66.58653616905212\n",
            "epoch: 76 val accuracy:  44.07051467895508  topk:  67.30769276618958\n",
            "epoch: 77 val accuracy:  43.910255432128906  topk:  67.06730723381042\n",
            "epoch: 78 val accuracy:  44.471153259277344  topk:  65.70512652397156\n",
            "epoch: 79 val accuracy:  43.34935760498047  topk:  65.625\n"
          ],
          "name": "stdout"
        },
        {
          "output_type": "display_data",
          "data": {
            "image/png": "[encoded data removed]",
            "text/plain": [
              "<Figure size 432x288 with 1 Axes>"
            ]
          },
          "metadata": {
            "tags": [],
            "needs_background": "light"
          }
        },
        {
          "output_type": "stream",
          "text": [
            "test acc:  42.804954528808594  testtopk:  64.73554372787476\n",
            "test acc:  42.804954528808594  testtopk:  64.73554372787476\n",
            "UCmercer\n",
            "doing Alex's model\n",
            "epoch: 0 val accuracy:  32.8125  topk:  59.375\n",
            "epoch: 1 val accuracy:  25.0  topk:  57.8125\n",
            "epoch: 2 val accuracy:  37.5  topk:  59.375\n"
          ],
          "name": "stdout"
        },
        {
          "output_type": "display_data",
          "data": {
            "image/png": "[encoded data removed]",
            "text/plain": [
              "<Figure size 432x288 with 1 Axes>"
            ]
          },
          "metadata": {
            "tags": [],
            "needs_background": "light"
          }
        },
        {
          "output_type": "stream",
          "text": [
            "test acc:  37.86057662963867  testtopk:  66.28605723381042\n"
          ],
          "name": "stdout"
        }
      ]
    },
    {
      "cell_type": "code",
      "metadata": {
        "id": "thu9VMfPpVvx"
      },
      "source": [
        ""
      ],
      "execution_count": 3,
      "outputs": []
    },
    {
      "cell_type": "code",
      "metadata": {
        "id": "DpifHiOlTR8F"
      },
      "source": [
        "Tune=False\n",
        "if Tune:\n",
        "    loss_rate = .38141\n",
        "    min_rate = .12\n",
        "    reduce = [False,True]\n",
        "    nwayss =[5,32]\n",
        "    j = 0\n",
        "    Params['DataSeenPerEpoch']\n",
        "    # outF = open(\"/content/drive/MyDrive/Project/progress.txt\", \"w\")\n",
        "    # outF.write(str(0))\n",
        "    # outF.close()\n",
        "    Params['Alex']=False\n",
        "    Params['Quincy']=False\n",
        "    Params = {'datasize': 96, 'nways': 5, 'kshots': 1, 'in_channels': 3, 'num_classes': 45,\n",
        "                    'hidden_size': 2, 'innerStep': 0.001, 'MetaLR': 0.0005, 'number_of_tasks': 2,\n",
        "                    'Order': False, 'outerVSinner': 1, 'epoch': 20, 'aug': True, 'Img_size': 96, \n",
        "                    'bs': 32, 'c_dim': 45, 'trainsz': 4725, 'trainvalSplit': 0.2, 'traintestSplit': 0.8, \n",
        "                    'Quincy': False, 'Alex': False, 'DataSeenPerEpoch': 4720,'mercer':False,'transferLR':.0006,'freeze':False,'path':'/content/drive/MyDrive/'}"
      ],
      "execution_count": null,
      "outputs": []
    },
    {
      "cell_type": "code",
      "metadata": {
        "id": "fY-dwyrrhovK"
      },
      "source": [
        "if Tune:\n",
        "    for rule in reduce:\n",
        "        Params['Order']=rule\n",
        "        for tasknum in range(2): ## number of tasks inside each outer loop\n",
        "            Params[\"number_of_tasks\"] = int(4**(tasknum+2))\n",
        "            if tasknum == 2:\n",
        "                Params[\"number_of_tasks\"] = 1\n",
        "            for InoutRatio in range(2): ## ratio of data in outer loop of task to one of the data in tasks right now it is 1:1, 2:1, 3:1\n",
        "                Params['outerVSinner'] = InoutRatio+1\n",
        "                for nwayys in nwayss:\n",
        "                    Params['nways']=nwayys\n",
        "                    train_tasks = utils.taskStructure(trainset,Params,ytrain)\n",
        "                    for innLR in torch.logspace(-2,-5.1,6):\n",
        "                        Params['innerStep'] = innLR\n",
        "                        for meta in torch.logspace(-2,-5.1,6):## learning rates\n",
        "                            Params['MetaLR'] = meta\n",
        "                            LAtrain, LLtrain, LAval, LAkval = [], [], [], []\n",
        "                            j+=1\n",
        "                            readF = open(\"/content/drive/MyDrive/Project/progress.txt\", \"r\")\n",
        "                            k = int(readF.readline())\n",
        "                            readF.close()\n",
        "                            if  k>j:\n",
        "                                continue\n",
        "                            model = MODEL.ConvolutionalNeuralNetwork(Params)\n",
        "                            model = model.to(device)\n",
        "                            for i in range(Params['epoch']):\n",
        "                                Atrain, Ltrain = TRAIN.train(model, train_tasks,Params, val_loader)\n",
        "                                Aval, Akval = utils.getvalErr(model, val_loader)\n",
        "                                LAtrain.append(Atrain)\n",
        "                                LLtrain.append(Ltrain)\n",
        "                                LAval.append(Aval)\n",
        "                                LAkval.append(Akval)\n",
        "                                outF = open(\"/content/drive/MyDrive/Project/progress.txt\", \"w\")\n",
        "                                outF.write(str(j))\n",
        "                                outF.close()\n",
        "                                if (((i == 3) or (i==10)) and Aval < min_rate): ## not to waste time stop early\n",
        "                                    break\n",
        "                            if max(LAval) > loss_rate: ## if our val is better then what we had save it\n",
        "                                print(\"found one better\")\n",
        "                                print(loss_rate)\n",
        "                                print(Params)\n",
        "                                torch.save(model, '/content/drive/MyDrive/Project/genMAML.pt')\n",
        "                                dict = {'Training loss': Ltrain, \"Training Error Rate\": Atrain, \"Validation topk\": Akval,\n",
        "                                        \"Validation Error Rate\": Aval, \"onEpoch\":i}\n",
        "                                tofile = {**dict, **Params}\n",
        "                                with open('/content/drive/MyDrive/Project/BestSoFar.txt', 'a') as f:\n",
        "                                    print(tofile, file=f)\n",
        "                                    loss_rate = LAval[-1]\n",
        "                                    min_rate = LAval[2]\n",
        "\n",
        "                    del train_tasks"
      ],
      "execution_count": null,
      "outputs": []
    },
    {
      "cell_type": "code",
      "metadata": {
        "id": "qiu2vRK1kTXr"
      },
      "source": [
        "Params = {'datasize': 96, 'nways': 5, 'kshots': 1, 'in_channels': 3, 'num_classes': 45,\n",
        "                  'hidden_size': 2, 'innerStep': 0.00005, 'MetaLR': 0.0006, 'number_of_tasks': 2,\n",
        "                  'Order': False, 'outerVSinner': 128, 'epoch': 20, 'aug': True, 'Img_size': 96, \n",
        "                  'bs': 32, 'c_dim': 45, 'trainsz': 4725, 'trainvalSplit': 0.2, 'traintestSplit': 0.8, \n",
        "                  'Quincy': True, 'Alex': False, 'DataSeenPerEpoch': 4720,'mercer':False,'transferLR':.0006,'freeze':False,'path':'/content/drive/MyDrive/'}\n",
        "    # print('Getting data')"
      ],
      "execution_count": null,
      "outputs": []
    }
  ]
}