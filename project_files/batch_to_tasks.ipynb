{
 "cells": [
  {
   "cell_type": "code",
   "execution_count": 2,
   "metadata": {
    "id": "EbTkUprLIz9G"
   },
   "outputs": [],
   "source": [
    "import numpy as np\n",
    "import matplotlib.pyplot as plt\n",
    "\n",
    "import cv2\n",
    "import os\n",
    "import itertools\n",
    "\n",
    "import torch\n",
    "import torch.nn as nn\n",
    "import torch.optim as optim\n",
    "import torchvision\n",
    "import torchvision.models as models\n",
    "from torchvision import transforms\n",
    "import copy\n",
    "\n",
    "import random\n",
    "import time\n",
    "\n",
    "device = torch.device(\"cuda:0\" if torch.cuda.is_available() else \"cpu\")"
   ]
  },
  {
   "cell_type": "code",
   "execution_count": 7,
   "metadata": {
    "colab": {
     "base_uri": "https://localhost:8080/"
    },
    "id": "3P-Hlw2OJeUc",
    "outputId": "9a7761f6-0f6f-4826-ec88-c9cedfe129d5"
   },
   "outputs": [],
   "source": [
    "# Colab specific cells\n",
    "\n",
    "# torch.manual_seed(42)\n",
    "\n",
    "# Get sample image from Google Drive and load it for debugging. Will need to\n",
    "# modify code to deal with mini-batch of RGB image.\n",
    "#from google.colab import drive\n",
    "#drive.mount('/gdrive', force_remount=True)\n",
    "# In Google Drive, create a shortcut link of the shared Project folder so that it appears in your root Google Drive directory\n",
    "# i.e., Right Click Project folder: \"Add Shortcut to Drive\"\n",
    "\n",
    "#%cd '/gdrive/MyDrive/Project/'\n",
    "#%ls\n"
   ]
  },
  {
   "cell_type": "code",
   "execution_count": 18,
   "metadata": {
    "colab": {
     "base_uri": "https://localhost:8080/"
    },
    "id": "7AlXorlebOvZ",
    "outputId": "fbf8859b-1776-46df-8c0e-cbe2f9dbf50c"
   },
   "outputs": [
    {
     "name": "stdout",
     "output_type": "stream",
     "text": [
      "Training data shape:  (31500, 256, 256, 3)\n",
      "Testing data shape:  (31500,)\n",
      "Num Classes (45,)\n"
     ]
    }
   ],
   "source": [
    "# Data should be in a dir named 'data/'\n",
    "data = np.load('data/RESISC45_images.npy')\n",
    "labels = np.load('data/RESISC45_classes.npy')\n",
    "classes = np.load('data/RESISC45_class_names.npy')\n",
    "\n",
    "print('Training data shape: ', data.shape)\n",
    "print('Testing data shape: ', labels.shape)\n",
    "print('Num Classes', classes.shape)\n",
    "\n",
    "img_size = 256"
   ]
  },
  {
   "cell_type": "code",
   "execution_count": 24,
   "metadata": {},
   "outputs": [
    {
     "name": "stdout",
     "output_type": "stream",
     "text": [
      "128\n"
     ]
    }
   ],
   "source": [
    "\n",
    "# Create full-factorial combination of the augmentations. Each\n",
    "# one will be a \"task.\" Each augmentation will only have 2 levels (on and off).\n",
    "# Hence, there will be 512 tasks if there are 9 augs with 2 levels each.\n",
    "\n",
    "# First, set number of augmentations per task.\n",
    "numAugs = 7\n",
    "augTasks = list(itertools.product([0, 1], repeat=numAugs))\n",
    "\n",
    "# Please note that augTasks is in counting order: we may have to sample from it later\n",
    "#print(augTasks)\n",
    "print(len(augTasks))\n",
    "\n",
    "transform_list = [transforms.RandomHorizontalFlip(), \n",
    "            transforms.RandomVerticalFlip(1.0),\n",
    "            transforms.RandomHorizontalFlip(1.0),\n",
    "            transforms.RandomPerspective(distortion_scale=0.1, p=1.0, fill=0.5),\n",
    "            transforms.RandomResizedCrop(img_size // 1.08),\n",
    "            transforms.ColorJitter(saturation=4.0, hue=0.01),\n",
    "            transforms.ColorJitter(brightness=0.5, contrast=0.9)]\n",
    "\n",
    "def task_batch_transformer(batch, task_list):\n",
    "    # Task list is a list of lists: num_tasks, task_inds\n",
    "    batch_list = []\n",
    "    for task_vec in task_list:\n",
    "        tbatch = batch.copy()\n",
    "        \n",
    "        # For each index of the single task-vector ([0,0,1,0,1,0,0] for example), do the index transform \n",
    "        for task_i in range(len(task_vec)):\n",
    "            if task_vec[task_i] == 1:\n",
    "                tbatch = transform_list[task_i](tbatch)\n",
    "                \n",
    "        batch_list.append(tbatch)\n",
    "        \n",
    "    return batch_list, task_list # List of image batches and their corresponding tasks"
   ]
  },
  {
   "cell_type": "code",
   "execution_count": 37,
   "metadata": {},
   "outputs": [
    {
     "name": "stdout",
     "output_type": "stream",
     "text": [
      "(8, 256, 256, 3)\n",
      "0 255\n",
      "<class 'numpy.ndarray'>\n",
      "(8, 3, 256, 256)\n"
     ]
    },
    {
     "ename": "TypeError",
     "evalue": "Cannot handle this data type: (1, 1, 256, 256), |u1",
     "output_type": "error",
     "traceback": [
      "\u001b[1;31m---------------------------------------------------------------------------\u001b[0m",
      "\u001b[1;31mKeyError\u001b[0m                                  Traceback (most recent call last)",
      "\u001b[1;32mC:\\conda\\lib\\site-packages\\PIL\\Image.py\u001b[0m in \u001b[0;36mfromarray\u001b[1;34m(obj, mode)\u001b[0m\n\u001b[0;32m   2748\u001b[0m         \u001b[1;32mtry\u001b[0m\u001b[1;33m:\u001b[0m\u001b[1;33m\u001b[0m\u001b[1;33m\u001b[0m\u001b[0m\n\u001b[1;32m-> 2749\u001b[1;33m             \u001b[0mmode\u001b[0m\u001b[1;33m,\u001b[0m \u001b[0mrawmode\u001b[0m \u001b[1;33m=\u001b[0m \u001b[0m_fromarray_typemap\u001b[0m\u001b[1;33m[\u001b[0m\u001b[0mtypekey\u001b[0m\u001b[1;33m]\u001b[0m\u001b[1;33m\u001b[0m\u001b[1;33m\u001b[0m\u001b[0m\n\u001b[0m\u001b[0;32m   2750\u001b[0m         \u001b[1;32mexcept\u001b[0m \u001b[0mKeyError\u001b[0m \u001b[1;32mas\u001b[0m \u001b[0me\u001b[0m\u001b[1;33m:\u001b[0m\u001b[1;33m\u001b[0m\u001b[1;33m\u001b[0m\u001b[0m\n",
      "\u001b[1;31mKeyError\u001b[0m: ((1, 1, 256, 256), '|u1')",
      "\nThe above exception was the direct cause of the following exception:\n",
      "\u001b[1;31mTypeError\u001b[0m                                 Traceback (most recent call last)",
      "\u001b[1;32m<ipython-input-37-9c950bcca8cd>\u001b[0m in \u001b[0;36m<module>\u001b[1;34m\u001b[0m\n\u001b[0;32m     10\u001b[0m \u001b[1;32mfrom\u001b[0m \u001b[0mPIL\u001b[0m \u001b[1;32mimport\u001b[0m \u001b[0mImage\u001b[0m\u001b[1;33m\u001b[0m\u001b[1;33m\u001b[0m\u001b[0m\n\u001b[0;32m     11\u001b[0m \u001b[1;32mfrom\u001b[0m \u001b[0mmatplotlib\u001b[0m \u001b[1;32mimport\u001b[0m \u001b[0mcm\u001b[0m\u001b[1;33m\u001b[0m\u001b[1;33m\u001b[0m\u001b[0m\n\u001b[1;32m---> 12\u001b[1;33m \u001b[0mim\u001b[0m \u001b[1;33m=\u001b[0m \u001b[0mImage\u001b[0m\u001b[1;33m.\u001b[0m\u001b[0mfromarray\u001b[0m\u001b[1;33m(\u001b[0m\u001b[0mnp\u001b[0m\u001b[1;33m.\u001b[0m\u001b[0muint8\u001b[0m\u001b[1;33m(\u001b[0m\u001b[0mdata_batch\u001b[0m\u001b[1;33m)\u001b[0m\u001b[1;33m)\u001b[0m\u001b[1;33m\u001b[0m\u001b[1;33m\u001b[0m\u001b[0m\n\u001b[0m\u001b[0;32m     13\u001b[0m \u001b[1;33m\u001b[0m\u001b[0m\n\u001b[0;32m     14\u001b[0m \u001b[0mtask_batch\u001b[0m \u001b[1;33m=\u001b[0m \u001b[1;33m[\u001b[0m\u001b[1;33m[\u001b[0m\u001b[1;36m1\u001b[0m\u001b[1;33m,\u001b[0m\u001b[1;36m0\u001b[0m\u001b[1;33m,\u001b[0m\u001b[1;36m0\u001b[0m\u001b[1;33m,\u001b[0m\u001b[1;36m0\u001b[0m\u001b[1;33m,\u001b[0m\u001b[1;36m0\u001b[0m\u001b[1;33m,\u001b[0m\u001b[1;36m0\u001b[0m\u001b[1;33m,\u001b[0m\u001b[1;36m1\u001b[0m\u001b[1;33m]\u001b[0m\u001b[1;33m,\u001b[0m \u001b[1;33m[\u001b[0m\u001b[1;36m0\u001b[0m\u001b[1;33m,\u001b[0m\u001b[1;36m1\u001b[0m\u001b[1;33m,\u001b[0m\u001b[1;36m1\u001b[0m\u001b[1;33m,\u001b[0m\u001b[1;36m0\u001b[0m\u001b[1;33m,\u001b[0m\u001b[1;36m0\u001b[0m\u001b[1;33m,\u001b[0m\u001b[1;36m0\u001b[0m\u001b[1;33m,\u001b[0m\u001b[1;36m0\u001b[0m\u001b[1;33m]\u001b[0m\u001b[1;33m]\u001b[0m\u001b[1;33m\u001b[0m\u001b[1;33m\u001b[0m\u001b[0m\n",
      "\u001b[1;32mC:\\conda\\lib\\site-packages\\PIL\\Image.py\u001b[0m in \u001b[0;36mfromarray\u001b[1;34m(obj, mode)\u001b[0m\n\u001b[0;32m   2749\u001b[0m             \u001b[0mmode\u001b[0m\u001b[1;33m,\u001b[0m \u001b[0mrawmode\u001b[0m \u001b[1;33m=\u001b[0m \u001b[0m_fromarray_typemap\u001b[0m\u001b[1;33m[\u001b[0m\u001b[0mtypekey\u001b[0m\u001b[1;33m]\u001b[0m\u001b[1;33m\u001b[0m\u001b[1;33m\u001b[0m\u001b[0m\n\u001b[0;32m   2750\u001b[0m         \u001b[1;32mexcept\u001b[0m \u001b[0mKeyError\u001b[0m \u001b[1;32mas\u001b[0m \u001b[0me\u001b[0m\u001b[1;33m:\u001b[0m\u001b[1;33m\u001b[0m\u001b[1;33m\u001b[0m\u001b[0m\n\u001b[1;32m-> 2751\u001b[1;33m             \u001b[1;32mraise\u001b[0m \u001b[0mTypeError\u001b[0m\u001b[1;33m(\u001b[0m\u001b[1;34m\"Cannot handle this data type: %s, %s\"\u001b[0m \u001b[1;33m%\u001b[0m \u001b[0mtypekey\u001b[0m\u001b[1;33m)\u001b[0m \u001b[1;32mfrom\u001b[0m \u001b[0me\u001b[0m\u001b[1;33m\u001b[0m\u001b[1;33m\u001b[0m\u001b[0m\n\u001b[0m\u001b[0;32m   2752\u001b[0m     \u001b[1;32melse\u001b[0m\u001b[1;33m:\u001b[0m\u001b[1;33m\u001b[0m\u001b[1;33m\u001b[0m\u001b[0m\n\u001b[0;32m   2753\u001b[0m         \u001b[0mrawmode\u001b[0m \u001b[1;33m=\u001b[0m \u001b[0mmode\u001b[0m\u001b[1;33m\u001b[0m\u001b[1;33m\u001b[0m\u001b[0m\n",
      "\u001b[1;31mTypeError\u001b[0m: Cannot handle this data type: (1, 1, 256, 256), |u1"
     ]
    }
   ],
   "source": [
    "# Demonstration\n",
    "data_batch = data[0:8]\n",
    "\n",
    "task_batch = [[1,0,0,0,0,0,1], [0,1,1,0,0,0,0]]\n",
    "\n",
    "out = task_batch_transformer(data_batch, task_batch)"
   ]
  },
  {
   "cell_type": "code",
   "execution_count": null,
   "metadata": {},
   "outputs": [],
   "source": []
  },
  {
   "cell_type": "code",
   "execution_count": null,
   "metadata": {},
   "outputs": [],
   "source": [
    " # Below here is old code"
   ]
  },
  {
   "cell_type": "code",
   "execution_count": 8,
   "metadata": {
    "id": "DhwY3ieSJkqO"
   },
   "outputs": [],
   "source": [
    "\n",
    "class addGaussianNoise(object):\n",
    "    # Transform to add gaussian noise since PyTorch did not have one (that I know of).\n",
    "    def __init__(self, mean=0.0, std=1.0, p=0.5):\n",
    "        self.mean = mean\n",
    "        self.std = std\n",
    "        self.p = p\n",
    "      \n",
    "    def __call__(self, img):\n",
    "        if torch.rand(1).item() < self.p:\n",
    "            return img + torch.randn(img.size()) * self.std + self.mean\n",
    "        return img\n",
    "        \n",
    "    def __repr__(self):\n",
    "        return self.__class__.__name__ + '(mean={0}, std={1}, p={2})'.format(self.mean, self.std, self.p)\n",
    "\n"
   ]
  },
  {
   "cell_type": "code",
   "execution_count": 9,
   "metadata": {
    "id": "nkdPMMvRJlp2"
   },
   "outputs": [],
   "source": [
    "\n",
    "def composeAugs(params):\n",
    "    # Function to compose the augmentations, the order of which will be fixed.\n",
    "    # Some of these parameters are best guess and can be changed if we need to.\n",
    "    # For example, hue is set to have very very minor change because it can \n",
    "    # create false colors (green grass can become magenta). If the team decides\n",
    "    # that false colors are acceptable, we can change the hue parameter.\n",
    "    \n",
    "    # Scripting the transformations will not work here due to the inclusion of\n",
    "    # addGaussianNoise transform. Use transform composition instead.\n",
    "    \n",
    "\n",
    "\n",
    "    pHF, pVF, rotAng, pPersp, cropScale, pNoise, satVal, brightVal, contrastVal, blurSigma = params\n",
    "\n",
    "    imXforms = transforms.Compose([\n",
    "        transforms.RandomHorizontalFlip(p=pHF),\n",
    "        transforms.RandomVerticalFlip(p=pVF),\n",
    "        transforms.RandomRotation(rotAng, fill=0.5),\n",
    "        transforms.RandomPerspective(distortion_scale=0.1, p=pPersp, fill=0.5),\n",
    "        transforms.RandomResizedCrop(256,\n",
    "                                    scale=(cropScale, 1.0),\n",
    "                                    ratio=(1.0, 1.0),\n",
    "                                    interpolation=transforms.InterpolationMode.BILINEAR),\n",
    "        addGaussianNoise(std=0.1, p=pNoise),\n",
    "        transforms.ColorJitter(saturation=satVal, hue=0.01),\n",
    "        transforms.ColorJitter(brightness=brightVal, contrast=contrastVal),\n",
    "        transforms.GaussianBlur(9, sigma=blurSigma)\n",
    "        ])\n",
    "        \n",
    "    return imXforms\n",
    "\n"
   ]
  },
  {
   "cell_type": "code",
   "execution_count": 10,
   "metadata": {
    "id": "Lb4gUZzoU_fr"
   },
   "outputs": [],
   "source": [
    "\n",
    "# set augmentation parameters for input task\n",
    "def makeAugParams(task):\n",
    "    pHF = 0.99 if task[0] == 1 else 0.0\n",
    "    pVF = 0.99 if task[1] == 1 else 0.0\n",
    "    rotAng = 359.0 if task[2] == 1 else 0.0\n",
    "    pPersp = 0.99 if task[3] == 1 else 0.0\n",
    "    cropScale = 0.5 if task[4] == 1 else 1.0\n",
    "    pNoise = 0.99 if task[5] == 1 else 0.0\n",
    "    satVal = 4.0 if task[6] == 1 else 0.0\n",
    "    brightVal = 0.5 if task[7] == 1 else 0.0\n",
    "    contrastVal = 0.9 if task[7] == 1 else 0.0\n",
    "    blurSigma = (0.01, 2.0) if task[8] == 1 else 1e-9\n",
    "\n",
    "    return (pHF, pVF, rotAng, pPersp, cropScale, pNoise, \n",
    "            satVal, brightVal, contrastVal, blurSigma)\n",
    "    "
   ]
  },
  {
   "cell_type": "code",
   "execution_count": 12,
   "metadata": {
    "id": "TisyS9syQ6n4"
   },
   "outputs": [
    {
     "name": "stdout",
     "output_type": "stream",
     "text": [
      "[(0, 0, 0, 0, 0, 0, 0, 0, 0), (0, 0, 0, 0, 0, 0, 0, 0, 1), (0, 0, 0, 0, 0, 0, 0, 1, 0), (0, 0, 0, 0, 0, 0, 0, 1, 1), (0, 0, 0, 0, 0, 0, 1, 0, 0), (0, 0, 0, 0, 0, 0, 1, 0, 1), (0, 0, 0, 0, 0, 0, 1, 1, 0), (0, 0, 0, 0, 0, 0, 1, 1, 1), (0, 0, 0, 0, 0, 1, 0, 0, 0), (0, 0, 0, 0, 0, 1, 0, 0, 1), (0, 0, 0, 0, 0, 1, 0, 1, 0), (0, 0, 0, 0, 0, 1, 0, 1, 1), (0, 0, 0, 0, 0, 1, 1, 0, 0), (0, 0, 0, 0, 0, 1, 1, 0, 1), (0, 0, 0, 0, 0, 1, 1, 1, 0), (0, 0, 0, 0, 0, 1, 1, 1, 1), (0, 0, 0, 0, 1, 0, 0, 0, 0), (0, 0, 0, 0, 1, 0, 0, 0, 1), (0, 0, 0, 0, 1, 0, 0, 1, 0), (0, 0, 0, 0, 1, 0, 0, 1, 1), (0, 0, 0, 0, 1, 0, 1, 0, 0), (0, 0, 0, 0, 1, 0, 1, 0, 1), (0, 0, 0, 0, 1, 0, 1, 1, 0), (0, 0, 0, 0, 1, 0, 1, 1, 1), (0, 0, 0, 0, 1, 1, 0, 0, 0), (0, 0, 0, 0, 1, 1, 0, 0, 1), (0, 0, 0, 0, 1, 1, 0, 1, 0), (0, 0, 0, 0, 1, 1, 0, 1, 1), (0, 0, 0, 0, 1, 1, 1, 0, 0), (0, 0, 0, 0, 1, 1, 1, 0, 1), (0, 0, 0, 0, 1, 1, 1, 1, 0), (0, 0, 0, 0, 1, 1, 1, 1, 1), (0, 0, 0, 1, 0, 0, 0, 0, 0), (0, 0, 0, 1, 0, 0, 0, 0, 1), (0, 0, 0, 1, 0, 0, 0, 1, 0), (0, 0, 0, 1, 0, 0, 0, 1, 1), (0, 0, 0, 1, 0, 0, 1, 0, 0), (0, 0, 0, 1, 0, 0, 1, 0, 1), (0, 0, 0, 1, 0, 0, 1, 1, 0), (0, 0, 0, 1, 0, 0, 1, 1, 1), (0, 0, 0, 1, 0, 1, 0, 0, 0), (0, 0, 0, 1, 0, 1, 0, 0, 1), (0, 0, 0, 1, 0, 1, 0, 1, 0), (0, 0, 0, 1, 0, 1, 0, 1, 1), (0, 0, 0, 1, 0, 1, 1, 0, 0), (0, 0, 0, 1, 0, 1, 1, 0, 1), (0, 0, 0, 1, 0, 1, 1, 1, 0), (0, 0, 0, 1, 0, 1, 1, 1, 1), (0, 0, 0, 1, 1, 0, 0, 0, 0), (0, 0, 0, 1, 1, 0, 0, 0, 1), (0, 0, 0, 1, 1, 0, 0, 1, 0), (0, 0, 0, 1, 1, 0, 0, 1, 1), (0, 0, 0, 1, 1, 0, 1, 0, 0), (0, 0, 0, 1, 1, 0, 1, 0, 1), (0, 0, 0, 1, 1, 0, 1, 1, 0), (0, 0, 0, 1, 1, 0, 1, 1, 1), (0, 0, 0, 1, 1, 1, 0, 0, 0), (0, 0, 0, 1, 1, 1, 0, 0, 1), (0, 0, 0, 1, 1, 1, 0, 1, 0), (0, 0, 0, 1, 1, 1, 0, 1, 1), (0, 0, 0, 1, 1, 1, 1, 0, 0), (0, 0, 0, 1, 1, 1, 1, 0, 1), (0, 0, 0, 1, 1, 1, 1, 1, 0), (0, 0, 0, 1, 1, 1, 1, 1, 1), (0, 0, 1, 0, 0, 0, 0, 0, 0), (0, 0, 1, 0, 0, 0, 0, 0, 1), (0, 0, 1, 0, 0, 0, 0, 1, 0), (0, 0, 1, 0, 0, 0, 0, 1, 1), (0, 0, 1, 0, 0, 0, 1, 0, 0), (0, 0, 1, 0, 0, 0, 1, 0, 1), (0, 0, 1, 0, 0, 0, 1, 1, 0), (0, 0, 1, 0, 0, 0, 1, 1, 1), (0, 0, 1, 0, 0, 1, 0, 0, 0), (0, 0, 1, 0, 0, 1, 0, 0, 1), (0, 0, 1, 0, 0, 1, 0, 1, 0), (0, 0, 1, 0, 0, 1, 0, 1, 1), (0, 0, 1, 0, 0, 1, 1, 0, 0), (0, 0, 1, 0, 0, 1, 1, 0, 1), (0, 0, 1, 0, 0, 1, 1, 1, 0), (0, 0, 1, 0, 0, 1, 1, 1, 1), (0, 0, 1, 0, 1, 0, 0, 0, 0), (0, 0, 1, 0, 1, 0, 0, 0, 1), (0, 0, 1, 0, 1, 0, 0, 1, 0), (0, 0, 1, 0, 1, 0, 0, 1, 1), (0, 0, 1, 0, 1, 0, 1, 0, 0), (0, 0, 1, 0, 1, 0, 1, 0, 1), (0, 0, 1, 0, 1, 0, 1, 1, 0), (0, 0, 1, 0, 1, 0, 1, 1, 1), (0, 0, 1, 0, 1, 1, 0, 0, 0), (0, 0, 1, 0, 1, 1, 0, 0, 1), (0, 0, 1, 0, 1, 1, 0, 1, 0), (0, 0, 1, 0, 1, 1, 0, 1, 1), (0, 0, 1, 0, 1, 1, 1, 0, 0), (0, 0, 1, 0, 1, 1, 1, 0, 1), (0, 0, 1, 0, 1, 1, 1, 1, 0), (0, 0, 1, 0, 1, 1, 1, 1, 1), (0, 0, 1, 1, 0, 0, 0, 0, 0), (0, 0, 1, 1, 0, 0, 0, 0, 1), (0, 0, 1, 1, 0, 0, 0, 1, 0), (0, 0, 1, 1, 0, 0, 0, 1, 1), (0, 0, 1, 1, 0, 0, 1, 0, 0), (0, 0, 1, 1, 0, 0, 1, 0, 1), (0, 0, 1, 1, 0, 0, 1, 1, 0), (0, 0, 1, 1, 0, 0, 1, 1, 1), (0, 0, 1, 1, 0, 1, 0, 0, 0), (0, 0, 1, 1, 0, 1, 0, 0, 1), (0, 0, 1, 1, 0, 1, 0, 1, 0), (0, 0, 1, 1, 0, 1, 0, 1, 1), (0, 0, 1, 1, 0, 1, 1, 0, 0), (0, 0, 1, 1, 0, 1, 1, 0, 1), (0, 0, 1, 1, 0, 1, 1, 1, 0), (0, 0, 1, 1, 0, 1, 1, 1, 1), (0, 0, 1, 1, 1, 0, 0, 0, 0), (0, 0, 1, 1, 1, 0, 0, 0, 1), (0, 0, 1, 1, 1, 0, 0, 1, 0), (0, 0, 1, 1, 1, 0, 0, 1, 1), (0, 0, 1, 1, 1, 0, 1, 0, 0), (0, 0, 1, 1, 1, 0, 1, 0, 1), (0, 0, 1, 1, 1, 0, 1, 1, 0), (0, 0, 1, 1, 1, 0, 1, 1, 1), (0, 0, 1, 1, 1, 1, 0, 0, 0), (0, 0, 1, 1, 1, 1, 0, 0, 1), (0, 0, 1, 1, 1, 1, 0, 1, 0), (0, 0, 1, 1, 1, 1, 0, 1, 1), (0, 0, 1, 1, 1, 1, 1, 0, 0), (0, 0, 1, 1, 1, 1, 1, 0, 1), (0, 0, 1, 1, 1, 1, 1, 1, 0), (0, 0, 1, 1, 1, 1, 1, 1, 1), (0, 1, 0, 0, 0, 0, 0, 0, 0), (0, 1, 0, 0, 0, 0, 0, 0, 1), (0, 1, 0, 0, 0, 0, 0, 1, 0), (0, 1, 0, 0, 0, 0, 0, 1, 1), (0, 1, 0, 0, 0, 0, 1, 0, 0), (0, 1, 0, 0, 0, 0, 1, 0, 1), (0, 1, 0, 0, 0, 0, 1, 1, 0), (0, 1, 0, 0, 0, 0, 1, 1, 1), (0, 1, 0, 0, 0, 1, 0, 0, 0), (0, 1, 0, 0, 0, 1, 0, 0, 1), (0, 1, 0, 0, 0, 1, 0, 1, 0), (0, 1, 0, 0, 0, 1, 0, 1, 1), (0, 1, 0, 0, 0, 1, 1, 0, 0), (0, 1, 0, 0, 0, 1, 1, 0, 1), (0, 1, 0, 0, 0, 1, 1, 1, 0), (0, 1, 0, 0, 0, 1, 1, 1, 1), (0, 1, 0, 0, 1, 0, 0, 0, 0), (0, 1, 0, 0, 1, 0, 0, 0, 1), (0, 1, 0, 0, 1, 0, 0, 1, 0), (0, 1, 0, 0, 1, 0, 0, 1, 1), (0, 1, 0, 0, 1, 0, 1, 0, 0), (0, 1, 0, 0, 1, 0, 1, 0, 1), (0, 1, 0, 0, 1, 0, 1, 1, 0), (0, 1, 0, 0, 1, 0, 1, 1, 1), (0, 1, 0, 0, 1, 1, 0, 0, 0), (0, 1, 0, 0, 1, 1, 0, 0, 1), (0, 1, 0, 0, 1, 1, 0, 1, 0), (0, 1, 0, 0, 1, 1, 0, 1, 1), (0, 1, 0, 0, 1, 1, 1, 0, 0), (0, 1, 0, 0, 1, 1, 1, 0, 1), (0, 1, 0, 0, 1, 1, 1, 1, 0), (0, 1, 0, 0, 1, 1, 1, 1, 1), (0, 1, 0, 1, 0, 0, 0, 0, 0), (0, 1, 0, 1, 0, 0, 0, 0, 1), (0, 1, 0, 1, 0, 0, 0, 1, 0), (0, 1, 0, 1, 0, 0, 0, 1, 1), (0, 1, 0, 1, 0, 0, 1, 0, 0), (0, 1, 0, 1, 0, 0, 1, 0, 1), (0, 1, 0, 1, 0, 0, 1, 1, 0), (0, 1, 0, 1, 0, 0, 1, 1, 1), (0, 1, 0, 1, 0, 1, 0, 0, 0), (0, 1, 0, 1, 0, 1, 0, 0, 1), (0, 1, 0, 1, 0, 1, 0, 1, 0), (0, 1, 0, 1, 0, 1, 0, 1, 1), (0, 1, 0, 1, 0, 1, 1, 0, 0), (0, 1, 0, 1, 0, 1, 1, 0, 1), (0, 1, 0, 1, 0, 1, 1, 1, 0), (0, 1, 0, 1, 0, 1, 1, 1, 1), (0, 1, 0, 1, 1, 0, 0, 0, 0), (0, 1, 0, 1, 1, 0, 0, 0, 1), (0, 1, 0, 1, 1, 0, 0, 1, 0), (0, 1, 0, 1, 1, 0, 0, 1, 1), (0, 1, 0, 1, 1, 0, 1, 0, 0), (0, 1, 0, 1, 1, 0, 1, 0, 1), (0, 1, 0, 1, 1, 0, 1, 1, 0), (0, 1, 0, 1, 1, 0, 1, 1, 1), (0, 1, 0, 1, 1, 1, 0, 0, 0), (0, 1, 0, 1, 1, 1, 0, 0, 1), (0, 1, 0, 1, 1, 1, 0, 1, 0), (0, 1, 0, 1, 1, 1, 0, 1, 1), (0, 1, 0, 1, 1, 1, 1, 0, 0), (0, 1, 0, 1, 1, 1, 1, 0, 1), (0, 1, 0, 1, 1, 1, 1, 1, 0), (0, 1, 0, 1, 1, 1, 1, 1, 1), (0, 1, 1, 0, 0, 0, 0, 0, 0), (0, 1, 1, 0, 0, 0, 0, 0, 1), (0, 1, 1, 0, 0, 0, 0, 1, 0), (0, 1, 1, 0, 0, 0, 0, 1, 1), (0, 1, 1, 0, 0, 0, 1, 0, 0), (0, 1, 1, 0, 0, 0, 1, 0, 1), (0, 1, 1, 0, 0, 0, 1, 1, 0), (0, 1, 1, 0, 0, 0, 1, 1, 1), (0, 1, 1, 0, 0, 1, 0, 0, 0), (0, 1, 1, 0, 0, 1, 0, 0, 1), (0, 1, 1, 0, 0, 1, 0, 1, 0), (0, 1, 1, 0, 0, 1, 0, 1, 1), (0, 1, 1, 0, 0, 1, 1, 0, 0), (0, 1, 1, 0, 0, 1, 1, 0, 1), (0, 1, 1, 0, 0, 1, 1, 1, 0), (0, 1, 1, 0, 0, 1, 1, 1, 1), (0, 1, 1, 0, 1, 0, 0, 0, 0), (0, 1, 1, 0, 1, 0, 0, 0, 1), (0, 1, 1, 0, 1, 0, 0, 1, 0), (0, 1, 1, 0, 1, 0, 0, 1, 1), (0, 1, 1, 0, 1, 0, 1, 0, 0), (0, 1, 1, 0, 1, 0, 1, 0, 1), (0, 1, 1, 0, 1, 0, 1, 1, 0), (0, 1, 1, 0, 1, 0, 1, 1, 1), (0, 1, 1, 0, 1, 1, 0, 0, 0), (0, 1, 1, 0, 1, 1, 0, 0, 1), (0, 1, 1, 0, 1, 1, 0, 1, 0), (0, 1, 1, 0, 1, 1, 0, 1, 1), (0, 1, 1, 0, 1, 1, 1, 0, 0), (0, 1, 1, 0, 1, 1, 1, 0, 1), (0, 1, 1, 0, 1, 1, 1, 1, 0), (0, 1, 1, 0, 1, 1, 1, 1, 1), (0, 1, 1, 1, 0, 0, 0, 0, 0), (0, 1, 1, 1, 0, 0, 0, 0, 1), (0, 1, 1, 1, 0, 0, 0, 1, 0), (0, 1, 1, 1, 0, 0, 0, 1, 1), (0, 1, 1, 1, 0, 0, 1, 0, 0), (0, 1, 1, 1, 0, 0, 1, 0, 1), (0, 1, 1, 1, 0, 0, 1, 1, 0), (0, 1, 1, 1, 0, 0, 1, 1, 1), (0, 1, 1, 1, 0, 1, 0, 0, 0), (0, 1, 1, 1, 0, 1, 0, 0, 1), (0, 1, 1, 1, 0, 1, 0, 1, 0), (0, 1, 1, 1, 0, 1, 0, 1, 1), (0, 1, 1, 1, 0, 1, 1, 0, 0), (0, 1, 1, 1, 0, 1, 1, 0, 1), (0, 1, 1, 1, 0, 1, 1, 1, 0), (0, 1, 1, 1, 0, 1, 1, 1, 1), (0, 1, 1, 1, 1, 0, 0, 0, 0), (0, 1, 1, 1, 1, 0, 0, 0, 1), (0, 1, 1, 1, 1, 0, 0, 1, 0), (0, 1, 1, 1, 1, 0, 0, 1, 1), (0, 1, 1, 1, 1, 0, 1, 0, 0), (0, 1, 1, 1, 1, 0, 1, 0, 1), (0, 1, 1, 1, 1, 0, 1, 1, 0), (0, 1, 1, 1, 1, 0, 1, 1, 1), (0, 1, 1, 1, 1, 1, 0, 0, 0), (0, 1, 1, 1, 1, 1, 0, 0, 1), (0, 1, 1, 1, 1, 1, 0, 1, 0), (0, 1, 1, 1, 1, 1, 0, 1, 1), (0, 1, 1, 1, 1, 1, 1, 0, 0), (0, 1, 1, 1, 1, 1, 1, 0, 1), (0, 1, 1, 1, 1, 1, 1, 1, 0), (0, 1, 1, 1, 1, 1, 1, 1, 1), (1, 0, 0, 0, 0, 0, 0, 0, 0), (1, 0, 0, 0, 0, 0, 0, 0, 1), (1, 0, 0, 0, 0, 0, 0, 1, 0), (1, 0, 0, 0, 0, 0, 0, 1, 1), (1, 0, 0, 0, 0, 0, 1, 0, 0), (1, 0, 0, 0, 0, 0, 1, 0, 1), (1, 0, 0, 0, 0, 0, 1, 1, 0), (1, 0, 0, 0, 0, 0, 1, 1, 1), (1, 0, 0, 0, 0, 1, 0, 0, 0), (1, 0, 0, 0, 0, 1, 0, 0, 1), (1, 0, 0, 0, 0, 1, 0, 1, 0), (1, 0, 0, 0, 0, 1, 0, 1, 1), (1, 0, 0, 0, 0, 1, 1, 0, 0), (1, 0, 0, 0, 0, 1, 1, 0, 1), (1, 0, 0, 0, 0, 1, 1, 1, 0), (1, 0, 0, 0, 0, 1, 1, 1, 1), (1, 0, 0, 0, 1, 0, 0, 0, 0), (1, 0, 0, 0, 1, 0, 0, 0, 1), (1, 0, 0, 0, 1, 0, 0, 1, 0), (1, 0, 0, 0, 1, 0, 0, 1, 1), (1, 0, 0, 0, 1, 0, 1, 0, 0), (1, 0, 0, 0, 1, 0, 1, 0, 1), (1, 0, 0, 0, 1, 0, 1, 1, 0), (1, 0, 0, 0, 1, 0, 1, 1, 1), (1, 0, 0, 0, 1, 1, 0, 0, 0), (1, 0, 0, 0, 1, 1, 0, 0, 1), (1, 0, 0, 0, 1, 1, 0, 1, 0), (1, 0, 0, 0, 1, 1, 0, 1, 1), (1, 0, 0, 0, 1, 1, 1, 0, 0), (1, 0, 0, 0, 1, 1, 1, 0, 1), (1, 0, 0, 0, 1, 1, 1, 1, 0), (1, 0, 0, 0, 1, 1, 1, 1, 1), (1, 0, 0, 1, 0, 0, 0, 0, 0), (1, 0, 0, 1, 0, 0, 0, 0, 1), (1, 0, 0, 1, 0, 0, 0, 1, 0), (1, 0, 0, 1, 0, 0, 0, 1, 1), (1, 0, 0, 1, 0, 0, 1, 0, 0), (1, 0, 0, 1, 0, 0, 1, 0, 1), (1, 0, 0, 1, 0, 0, 1, 1, 0), (1, 0, 0, 1, 0, 0, 1, 1, 1), (1, 0, 0, 1, 0, 1, 0, 0, 0), (1, 0, 0, 1, 0, 1, 0, 0, 1), (1, 0, 0, 1, 0, 1, 0, 1, 0), (1, 0, 0, 1, 0, 1, 0, 1, 1), (1, 0, 0, 1, 0, 1, 1, 0, 0), (1, 0, 0, 1, 0, 1, 1, 0, 1), (1, 0, 0, 1, 0, 1, 1, 1, 0), (1, 0, 0, 1, 0, 1, 1, 1, 1), (1, 0, 0, 1, 1, 0, 0, 0, 0), (1, 0, 0, 1, 1, 0, 0, 0, 1), (1, 0, 0, 1, 1, 0, 0, 1, 0), (1, 0, 0, 1, 1, 0, 0, 1, 1), (1, 0, 0, 1, 1, 0, 1, 0, 0), (1, 0, 0, 1, 1, 0, 1, 0, 1), (1, 0, 0, 1, 1, 0, 1, 1, 0), (1, 0, 0, 1, 1, 0, 1, 1, 1), (1, 0, 0, 1, 1, 1, 0, 0, 0), (1, 0, 0, 1, 1, 1, 0, 0, 1), (1, 0, 0, 1, 1, 1, 0, 1, 0), (1, 0, 0, 1, 1, 1, 0, 1, 1), (1, 0, 0, 1, 1, 1, 1, 0, 0), (1, 0, 0, 1, 1, 1, 1, 0, 1), (1, 0, 0, 1, 1, 1, 1, 1, 0), (1, 0, 0, 1, 1, 1, 1, 1, 1), (1, 0, 1, 0, 0, 0, 0, 0, 0), (1, 0, 1, 0, 0, 0, 0, 0, 1), (1, 0, 1, 0, 0, 0, 0, 1, 0), (1, 0, 1, 0, 0, 0, 0, 1, 1), (1, 0, 1, 0, 0, 0, 1, 0, 0), (1, 0, 1, 0, 0, 0, 1, 0, 1), (1, 0, 1, 0, 0, 0, 1, 1, 0), (1, 0, 1, 0, 0, 0, 1, 1, 1), (1, 0, 1, 0, 0, 1, 0, 0, 0), (1, 0, 1, 0, 0, 1, 0, 0, 1), (1, 0, 1, 0, 0, 1, 0, 1, 0), (1, 0, 1, 0, 0, 1, 0, 1, 1), (1, 0, 1, 0, 0, 1, 1, 0, 0), (1, 0, 1, 0, 0, 1, 1, 0, 1), (1, 0, 1, 0, 0, 1, 1, 1, 0), (1, 0, 1, 0, 0, 1, 1, 1, 1), (1, 0, 1, 0, 1, 0, 0, 0, 0), (1, 0, 1, 0, 1, 0, 0, 0, 1), (1, 0, 1, 0, 1, 0, 0, 1, 0), (1, 0, 1, 0, 1, 0, 0, 1, 1), (1, 0, 1, 0, 1, 0, 1, 0, 0), (1, 0, 1, 0, 1, 0, 1, 0, 1), (1, 0, 1, 0, 1, 0, 1, 1, 0), (1, 0, 1, 0, 1, 0, 1, 1, 1), (1, 0, 1, 0, 1, 1, 0, 0, 0), (1, 0, 1, 0, 1, 1, 0, 0, 1), (1, 0, 1, 0, 1, 1, 0, 1, 0), (1, 0, 1, 0, 1, 1, 0, 1, 1), (1, 0, 1, 0, 1, 1, 1, 0, 0), (1, 0, 1, 0, 1, 1, 1, 0, 1), (1, 0, 1, 0, 1, 1, 1, 1, 0), (1, 0, 1, 0, 1, 1, 1, 1, 1), (1, 0, 1, 1, 0, 0, 0, 0, 0), (1, 0, 1, 1, 0, 0, 0, 0, 1), (1, 0, 1, 1, 0, 0, 0, 1, 0), (1, 0, 1, 1, 0, 0, 0, 1, 1), (1, 0, 1, 1, 0, 0, 1, 0, 0), (1, 0, 1, 1, 0, 0, 1, 0, 1), (1, 0, 1, 1, 0, 0, 1, 1, 0), (1, 0, 1, 1, 0, 0, 1, 1, 1), (1, 0, 1, 1, 0, 1, 0, 0, 0), (1, 0, 1, 1, 0, 1, 0, 0, 1), (1, 0, 1, 1, 0, 1, 0, 1, 0), (1, 0, 1, 1, 0, 1, 0, 1, 1), (1, 0, 1, 1, 0, 1, 1, 0, 0), (1, 0, 1, 1, 0, 1, 1, 0, 1), (1, 0, 1, 1, 0, 1, 1, 1, 0), (1, 0, 1, 1, 0, 1, 1, 1, 1), (1, 0, 1, 1, 1, 0, 0, 0, 0), (1, 0, 1, 1, 1, 0, 0, 0, 1), (1, 0, 1, 1, 1, 0, 0, 1, 0), (1, 0, 1, 1, 1, 0, 0, 1, 1), (1, 0, 1, 1, 1, 0, 1, 0, 0), (1, 0, 1, 1, 1, 0, 1, 0, 1), (1, 0, 1, 1, 1, 0, 1, 1, 0), (1, 0, 1, 1, 1, 0, 1, 1, 1), (1, 0, 1, 1, 1, 1, 0, 0, 0), (1, 0, 1, 1, 1, 1, 0, 0, 1), (1, 0, 1, 1, 1, 1, 0, 1, 0), (1, 0, 1, 1, 1, 1, 0, 1, 1), (1, 0, 1, 1, 1, 1, 1, 0, 0), (1, 0, 1, 1, 1, 1, 1, 0, 1), (1, 0, 1, 1, 1, 1, 1, 1, 0), (1, 0, 1, 1, 1, 1, 1, 1, 1), (1, 1, 0, 0, 0, 0, 0, 0, 0), (1, 1, 0, 0, 0, 0, 0, 0, 1), (1, 1, 0, 0, 0, 0, 0, 1, 0), (1, 1, 0, 0, 0, 0, 0, 1, 1), (1, 1, 0, 0, 0, 0, 1, 0, 0), (1, 1, 0, 0, 0, 0, 1, 0, 1), (1, 1, 0, 0, 0, 0, 1, 1, 0), (1, 1, 0, 0, 0, 0, 1, 1, 1), (1, 1, 0, 0, 0, 1, 0, 0, 0), (1, 1, 0, 0, 0, 1, 0, 0, 1), (1, 1, 0, 0, 0, 1, 0, 1, 0), (1, 1, 0, 0, 0, 1, 0, 1, 1), (1, 1, 0, 0, 0, 1, 1, 0, 0), (1, 1, 0, 0, 0, 1, 1, 0, 1), (1, 1, 0, 0, 0, 1, 1, 1, 0), (1, 1, 0, 0, 0, 1, 1, 1, 1), (1, 1, 0, 0, 1, 0, 0, 0, 0), (1, 1, 0, 0, 1, 0, 0, 0, 1), (1, 1, 0, 0, 1, 0, 0, 1, 0), (1, 1, 0, 0, 1, 0, 0, 1, 1), (1, 1, 0, 0, 1, 0, 1, 0, 0), (1, 1, 0, 0, 1, 0, 1, 0, 1), (1, 1, 0, 0, 1, 0, 1, 1, 0), (1, 1, 0, 0, 1, 0, 1, 1, 1), (1, 1, 0, 0, 1, 1, 0, 0, 0), (1, 1, 0, 0, 1, 1, 0, 0, 1), (1, 1, 0, 0, 1, 1, 0, 1, 0), (1, 1, 0, 0, 1, 1, 0, 1, 1), (1, 1, 0, 0, 1, 1, 1, 0, 0), (1, 1, 0, 0, 1, 1, 1, 0, 1), (1, 1, 0, 0, 1, 1, 1, 1, 0), (1, 1, 0, 0, 1, 1, 1, 1, 1), (1, 1, 0, 1, 0, 0, 0, 0, 0), (1, 1, 0, 1, 0, 0, 0, 0, 1), (1, 1, 0, 1, 0, 0, 0, 1, 0), (1, 1, 0, 1, 0, 0, 0, 1, 1), (1, 1, 0, 1, 0, 0, 1, 0, 0), (1, 1, 0, 1, 0, 0, 1, 0, 1), (1, 1, 0, 1, 0, 0, 1, 1, 0), (1, 1, 0, 1, 0, 0, 1, 1, 1), (1, 1, 0, 1, 0, 1, 0, 0, 0), (1, 1, 0, 1, 0, 1, 0, 0, 1), (1, 1, 0, 1, 0, 1, 0, 1, 0), (1, 1, 0, 1, 0, 1, 0, 1, 1), (1, 1, 0, 1, 0, 1, 1, 0, 0), (1, 1, 0, 1, 0, 1, 1, 0, 1), (1, 1, 0, 1, 0, 1, 1, 1, 0), (1, 1, 0, 1, 0, 1, 1, 1, 1), (1, 1, 0, 1, 1, 0, 0, 0, 0), (1, 1, 0, 1, 1, 0, 0, 0, 1), (1, 1, 0, 1, 1, 0, 0, 1, 0), (1, 1, 0, 1, 1, 0, 0, 1, 1), (1, 1, 0, 1, 1, 0, 1, 0, 0), (1, 1, 0, 1, 1, 0, 1, 0, 1), (1, 1, 0, 1, 1, 0, 1, 1, 0), (1, 1, 0, 1, 1, 0, 1, 1, 1), (1, 1, 0, 1, 1, 1, 0, 0, 0), (1, 1, 0, 1, 1, 1, 0, 0, 1), (1, 1, 0, 1, 1, 1, 0, 1, 0), (1, 1, 0, 1, 1, 1, 0, 1, 1), (1, 1, 0, 1, 1, 1, 1, 0, 0), (1, 1, 0, 1, 1, 1, 1, 0, 1), (1, 1, 0, 1, 1, 1, 1, 1, 0), (1, 1, 0, 1, 1, 1, 1, 1, 1), (1, 1, 1, 0, 0, 0, 0, 0, 0), (1, 1, 1, 0, 0, 0, 0, 0, 1), (1, 1, 1, 0, 0, 0, 0, 1, 0), (1, 1, 1, 0, 0, 0, 0, 1, 1), (1, 1, 1, 0, 0, 0, 1, 0, 0), (1, 1, 1, 0, 0, 0, 1, 0, 1), (1, 1, 1, 0, 0, 0, 1, 1, 0), (1, 1, 1, 0, 0, 0, 1, 1, 1), (1, 1, 1, 0, 0, 1, 0, 0, 0), (1, 1, 1, 0, 0, 1, 0, 0, 1), (1, 1, 1, 0, 0, 1, 0, 1, 0), (1, 1, 1, 0, 0, 1, 0, 1, 1), (1, 1, 1, 0, 0, 1, 1, 0, 0), (1, 1, 1, 0, 0, 1, 1, 0, 1), (1, 1, 1, 0, 0, 1, 1, 1, 0), (1, 1, 1, 0, 0, 1, 1, 1, 1), (1, 1, 1, 0, 1, 0, 0, 0, 0), (1, 1, 1, 0, 1, 0, 0, 0, 1), (1, 1, 1, 0, 1, 0, 0, 1, 0), (1, 1, 1, 0, 1, 0, 0, 1, 1), (1, 1, 1, 0, 1, 0, 1, 0, 0), (1, 1, 1, 0, 1, 0, 1, 0, 1), (1, 1, 1, 0, 1, 0, 1, 1, 0), (1, 1, 1, 0, 1, 0, 1, 1, 1), (1, 1, 1, 0, 1, 1, 0, 0, 0), (1, 1, 1, 0, 1, 1, 0, 0, 1), (1, 1, 1, 0, 1, 1, 0, 1, 0), (1, 1, 1, 0, 1, 1, 0, 1, 1), (1, 1, 1, 0, 1, 1, 1, 0, 0), (1, 1, 1, 0, 1, 1, 1, 0, 1), (1, 1, 1, 0, 1, 1, 1, 1, 0), (1, 1, 1, 0, 1, 1, 1, 1, 1), (1, 1, 1, 1, 0, 0, 0, 0, 0), (1, 1, 1, 1, 0, 0, 0, 0, 1), (1, 1, 1, 1, 0, 0, 0, 1, 0), (1, 1, 1, 1, 0, 0, 0, 1, 1), (1, 1, 1, 1, 0, 0, 1, 0, 0), (1, 1, 1, 1, 0, 0, 1, 0, 1), (1, 1, 1, 1, 0, 0, 1, 1, 0), (1, 1, 1, 1, 0, 0, 1, 1, 1), (1, 1, 1, 1, 0, 1, 0, 0, 0), (1, 1, 1, 1, 0, 1, 0, 0, 1), (1, 1, 1, 1, 0, 1, 0, 1, 0), (1, 1, 1, 1, 0, 1, 0, 1, 1), (1, 1, 1, 1, 0, 1, 1, 0, 0), (1, 1, 1, 1, 0, 1, 1, 0, 1), (1, 1, 1, 1, 0, 1, 1, 1, 0), (1, 1, 1, 1, 0, 1, 1, 1, 1), (1, 1, 1, 1, 1, 0, 0, 0, 0), (1, 1, 1, 1, 1, 0, 0, 0, 1), (1, 1, 1, 1, 1, 0, 0, 1, 0), (1, 1, 1, 1, 1, 0, 0, 1, 1), (1, 1, 1, 1, 1, 0, 1, 0, 0), (1, 1, 1, 1, 1, 0, 1, 0, 1), (1, 1, 1, 1, 1, 0, 1, 1, 0), (1, 1, 1, 1, 1, 0, 1, 1, 1), (1, 1, 1, 1, 1, 1, 0, 0, 0), (1, 1, 1, 1, 1, 1, 0, 0, 1), (1, 1, 1, 1, 1, 1, 0, 1, 0), (1, 1, 1, 1, 1, 1, 0, 1, 1), (1, 1, 1, 1, 1, 1, 1, 0, 0), (1, 1, 1, 1, 1, 1, 1, 0, 1), (1, 1, 1, 1, 1, 1, 1, 1, 0), (1, 1, 1, 1, 1, 1, 1, 1, 1)]\n"
     ]
    }
   ],
   "source": []
  },
  {
   "cell_type": "code",
   "execution_count": 13,
   "metadata": {
    "id": "4c0gzVp0fgBQ"
   },
   "outputs": [],
   "source": [
    "\n",
    "# select random task (for testing)\n",
    "# in actual implementation we would iterate (sample?) task list # \n",
    "current_task = augTasks[random.randint(0,512)]\n"
   ]
  },
  {
   "cell_type": "code",
   "execution_count": 16,
   "metadata": {
    "id": "n3MOG1bVuqWE"
   },
   "outputs": [],
   "source": [
    "\n",
    "# define augmentation transforms\n",
    "aug_params = makeAugParams(current_task)\n",
    "image_transforms = composeAugs(aug_params)\n"
   ]
  },
  {
   "cell_type": "code",
   "execution_count": 17,
   "metadata": {
    "id": "jQUaJ4DCi_EM"
   },
   "outputs": [],
   "source": [
    "\n",
    "# prepare a minibatch of images\n",
    "batch_size = 256\n",
    "\n",
    "d = data[0:batch_size]\n",
    "d = d / 255.0\n",
    "d = np.moveaxis(d, 3, 1)\n",
    "d = torch.as_tensor(d)\n"
   ]
  },
  {
   "cell_type": "code",
   "execution_count": 18,
   "metadata": {
    "colab": {
     "base_uri": "https://localhost:8080/"
    },
    "id": "EP2QqrUKoYQt",
    "outputId": "00b1ea32-d318-4c10-e660-0449ae5bb6dc"
   },
   "outputs": [
    {
     "name": "stdout",
     "output_type": "stream",
     "text": [
      "Time to transform batch of size 256: 18.569443\n"
     ]
    }
   ],
   "source": [
    "\n",
    "# transform minibatch of images\n",
    "t0 = time.time()\n",
    "transformed_batch = image_transforms(d)\n",
    "print(\"Time to transform batch of size {:d}: {:0f}\".format(len(d), time.time()-t0))\n"
   ]
  },
  {
   "cell_type": "code",
   "execution_count": null,
   "metadata": {
    "id": "Y65WpAQMogRv"
   },
   "outputs": [],
   "source": [
    "\n",
    "# plot sample of results\n",
    "from mpl_toolkits.axes_grid1 import ImageGrid\n",
    "\n",
    "transformed_batch = transformed_batch.numpy()\n",
    "transformed_batch = np.moveaxis(transformed_batch, 1, 3)\n",
    "\n",
    "fig = plt.figure(figsize=(15., 15.))\n",
    "grid = ImageGrid(fig, 111,  \n",
    "                 nrows_ncols=(4, 4),  \n",
    "                 axes_pad=0.1)\n",
    "\n",
    "for ax, im in zip(grid, transformed_batch[0:16]):\n",
    "    # Iterating over the grid returns the Axes.\n",
    "    ax.imshow(im)\n",
    "\n",
    "plt.show()\n",
    "\n",
    "del transformed_batch\n",
    "\n"
   ]
  },
  {
   "cell_type": "code",
   "execution_count": null,
   "metadata": {
    "id": "lEhe_6rxJUOs"
   },
   "outputs": [],
   "source": []
  }
 ],
 "metadata": {
  "accelerator": "GPU",
  "colab": {
   "collapsed_sections": [],
   "machine_shape": "hm",
   "name": "Scott Augmentations.ipynb",
   "provenance": []
  },
  "kernelspec": {
   "display_name": "Python 3",
   "language": "python",
   "name": "python3"
  },
  "language_info": {
   "codemirror_mode": {
    "name": "ipython",
    "version": 3
   },
   "file_extension": ".py",
   "mimetype": "text/x-python",
   "name": "python",
   "nbconvert_exporter": "python",
   "pygments_lexer": "ipython3",
   "version": "3.8.3"
  }
 },
 "nbformat": 4,
 "nbformat_minor": 1
}
