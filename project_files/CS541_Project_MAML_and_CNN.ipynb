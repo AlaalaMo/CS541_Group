{
  "nbformat": 4,
  "nbformat_minor": 0,
  "metadata": {
    "colab": {
      "name": "CS541_Project_MAML_and_CNN.ipynb",
      "provenance": [],
      "collapsed_sections": [],
      "machine_shape": "hm"
    },
    "kernelspec": {
      "name": "python3",
      "display_name": "Python 3"
    },
    "language_info": {
      "name": "python"
    },
    "accelerator": "GPU"
  },
  "cells": [
    {
      "cell_type": "markdown",
      "metadata": {
        "id": "p3M5AQyC7Wak"
      },
      "source": [
        "#QUINCY HERSHEY - ALEX MOORE - ADAM DICHIARA - SCOTT TANG - VINCENT FILARDI\n",
        "#CS541 Project: MAML CNN\n",
        "---\n"
      ]
    },
    {
      "cell_type": "code",
      "metadata": {
        "id": "7sENfvlY5AUU",
        "colab": {
          "base_uri": "https://localhost:8080/"
        },
        "outputId": "75c9382e-0c46-44f8-f7ee-dcbcc900d95a"
      },
      "source": [
        "!pip install learn2learn\n",
        "!pip install torchmeta\n",
        "\n",
        "import random\n",
        "import copy\n",
        "import numpy as np\n",
        "import matplotlib.pyplot as plt\n",
        "import itertools\n",
        "import torch\n",
        "import math\n",
        "import torch.nn as nn\n",
        "import torch.nn.functional as F\n",
        "import torch.optim as optim\n",
        "from torch.utils.data import Dataset, DataLoader\n",
        "import torchvision\n",
        "import torchvision.transforms as transforms\n",
        "from sklearn.model_selection import train_test_split\n",
        "from sklearn import metrics\n",
        "import seaborn as sns\n",
        "import learn2learn as l2l\n",
        "import torch.utils\n",
        "from torchmeta.modules import (MetaModule, MetaSequential, MetaConv2d,\n",
        "                               MetaBatchNorm2d, MetaLinear)\n",
        "from torchmeta.utils.gradient_based import gradient_update_parameters\n",
        "\n",
        "colab=True\n",
        "if colab:\n",
        "    from google.colab import drive\n",
        "    drive.mount('/content/drive')\n",
        "dir = '/content/drive/MyDrive/Project/data/'\n",
        "device = torch.device('cuda' if torch.cuda.is_available() else 'cpu')"
      ],
      "execution_count": 1,
      "outputs": [
        {
          "output_type": "stream",
          "text": [
            "Requirement already satisfied: learn2learn in /usr/local/lib/python3.7/dist-packages (0.1.5)\n",
            "Requirement already satisfied: gym>=0.14.0 in /usr/local/lib/python3.7/dist-packages (from learn2learn) (0.17.3)\n",
            "Requirement already satisfied: requests in /usr/local/lib/python3.7/dist-packages (from learn2learn) (2.23.0)\n",
            "Requirement already satisfied: pandas in /usr/local/lib/python3.7/dist-packages (from learn2learn) (1.1.5)\n",
            "Requirement already satisfied: numpy>=1.15.4 in /usr/local/lib/python3.7/dist-packages (from learn2learn) (1.19.5)\n",
            "Requirement already satisfied: tqdm in /usr/local/lib/python3.7/dist-packages (from learn2learn) (4.41.1)\n",
            "Requirement already satisfied: torch>=1.1.0 in /usr/local/lib/python3.7/dist-packages (from learn2learn) (1.8.1+cu101)\n",
            "Requirement already satisfied: torchvision>=0.3.0 in /usr/local/lib/python3.7/dist-packages (from learn2learn) (0.9.1+cu101)\n",
            "Requirement already satisfied: gsutil in /usr/local/lib/python3.7/dist-packages (from learn2learn) (4.61)\n",
            "Requirement already satisfied: pyglet<=1.5.0,>=1.4.0 in /usr/local/lib/python3.7/dist-packages (from gym>=0.14.0->learn2learn) (1.5.0)\n",
            "Requirement already satisfied: cloudpickle<1.7.0,>=1.2.0 in /usr/local/lib/python3.7/dist-packages (from gym>=0.14.0->learn2learn) (1.3.0)\n",
            "Requirement already satisfied: scipy in /usr/local/lib/python3.7/dist-packages (from gym>=0.14.0->learn2learn) (1.4.1)\n",
            "Requirement already satisfied: urllib3!=1.25.0,!=1.25.1,<1.26,>=1.21.1 in /usr/local/lib/python3.7/dist-packages (from requests->learn2learn) (1.24.3)\n",
            "Requirement already satisfied: certifi>=2017.4.17 in /usr/local/lib/python3.7/dist-packages (from requests->learn2learn) (2020.12.5)\n",
            "Requirement already satisfied: chardet<4,>=3.0.2 in /usr/local/lib/python3.7/dist-packages (from requests->learn2learn) (3.0.4)\n",
            "Requirement already satisfied: idna<3,>=2.5 in /usr/local/lib/python3.7/dist-packages (from requests->learn2learn) (2.10)\n",
            "Requirement already satisfied: python-dateutil>=2.7.3 in /usr/local/lib/python3.7/dist-packages (from pandas->learn2learn) (2.8.1)\n",
            "Requirement already satisfied: pytz>=2017.2 in /usr/local/lib/python3.7/dist-packages (from pandas->learn2learn) (2018.9)\n",
            "Requirement already satisfied: typing-extensions in /usr/local/lib/python3.7/dist-packages (from torch>=1.1.0->learn2learn) (3.7.4.3)\n",
            "Requirement already satisfied: pillow>=4.1.1 in /usr/local/lib/python3.7/dist-packages (from torchvision>=0.3.0->learn2learn) (7.1.2)\n",
            "Requirement already satisfied: google-reauth>=0.1.0 in /usr/local/lib/python3.7/dist-packages (from gsutil->learn2learn) (0.1.1)\n",
            "Requirement already satisfied: mock==2.0.0 in /usr/local/lib/python3.7/dist-packages (from gsutil->learn2learn) (2.0.0)\n",
            "Requirement already satisfied: httplib2>=0.18 in /usr/local/lib/python3.7/dist-packages (from gsutil->learn2learn) (0.19.1)\n",
            "Requirement already satisfied: monotonic>=1.4 in /usr/local/lib/python3.7/dist-packages (from gsutil->learn2learn) (1.6)\n",
            "Requirement already satisfied: fasteners>=0.14.1 in /usr/local/lib/python3.7/dist-packages (from gsutil->learn2learn) (0.16)\n",
            "Requirement already satisfied: crcmod>=1.7 in /usr/local/lib/python3.7/dist-packages (from gsutil->learn2learn) (1.7)\n",
            "Requirement already satisfied: pyOpenSSL>=0.13 in /usr/local/lib/python3.7/dist-packages (from gsutil->learn2learn) (20.0.1)\n",
            "Requirement already satisfied: argcomplete>=1.9.4 in /usr/local/lib/python3.7/dist-packages (from gsutil->learn2learn) (1.12.3)\n",
            "Requirement already satisfied: retry-decorator>=1.0.0 in /usr/local/lib/python3.7/dist-packages (from gsutil->learn2learn) (1.1.1)\n",
            "Requirement already satisfied: six>=1.12.0 in /usr/local/lib/python3.7/dist-packages (from gsutil->learn2learn) (1.15.0)\n",
            "Requirement already satisfied: gcs-oauth2-boto-plugin>=2.7 in /usr/local/lib/python3.7/dist-packages (from gsutil->learn2learn) (2.7)\n",
            "Requirement already satisfied: google-apitools>=0.5.30 in /usr/local/lib/python3.7/dist-packages (from gsutil->learn2learn) (0.5.32)\n",
            "Requirement already satisfied: future in /usr/local/lib/python3.7/dist-packages (from pyglet<=1.5.0,>=1.4.0->gym>=0.14.0->learn2learn) (0.16.0)\n",
            "Requirement already satisfied: pyu2f in /usr/local/lib/python3.7/dist-packages (from google-reauth>=0.1.0->gsutil->learn2learn) (0.1.5)\n",
            "Requirement already satisfied: pbr>=0.11 in /usr/local/lib/python3.7/dist-packages (from mock==2.0.0->gsutil->learn2learn) (5.6.0)\n",
            "Requirement already satisfied: pyparsing<3,>=2.4.2 in /usr/local/lib/python3.7/dist-packages (from httplib2>=0.18->gsutil->learn2learn) (2.4.7)\n",
            "Requirement already satisfied: cryptography>=3.2 in /usr/local/lib/python3.7/dist-packages (from pyOpenSSL>=0.13->gsutil->learn2learn) (3.4.7)\n",
            "Requirement already satisfied: importlib-metadata<5,>=0.23; python_version == \"3.7\" in /usr/local/lib/python3.7/dist-packages (from argcomplete>=1.9.4->gsutil->learn2learn) (3.10.1)\n",
            "Requirement already satisfied: oauth2client>=2.2.0 in /usr/local/lib/python3.7/dist-packages (from gcs-oauth2-boto-plugin>=2.7->gsutil->learn2learn) (4.1.3)\n",
            "Requirement already satisfied: boto>=2.29.1 in /usr/local/lib/python3.7/dist-packages (from gcs-oauth2-boto-plugin>=2.7->gsutil->learn2learn) (2.49.0)\n",
            "Requirement already satisfied: cffi>=1.12 in /usr/local/lib/python3.7/dist-packages (from cryptography>=3.2->pyOpenSSL>=0.13->gsutil->learn2learn) (1.14.5)\n",
            "Requirement already satisfied: zipp>=0.5 in /usr/local/lib/python3.7/dist-packages (from importlib-metadata<5,>=0.23; python_version == \"3.7\"->argcomplete>=1.9.4->gsutil->learn2learn) (3.4.1)\n",
            "Requirement already satisfied: pyasn1-modules>=0.0.5 in /usr/local/lib/python3.7/dist-packages (from oauth2client>=2.2.0->gcs-oauth2-boto-plugin>=2.7->gsutil->learn2learn) (0.2.8)\n",
            "Requirement already satisfied: rsa>=3.1.4 in /usr/local/lib/python3.7/dist-packages (from oauth2client>=2.2.0->gcs-oauth2-boto-plugin>=2.7->gsutil->learn2learn) (4.7.2)\n",
            "Requirement already satisfied: pyasn1>=0.1.7 in /usr/local/lib/python3.7/dist-packages (from oauth2client>=2.2.0->gcs-oauth2-boto-plugin>=2.7->gsutil->learn2learn) (0.4.8)\n",
            "Requirement already satisfied: pycparser in /usr/local/lib/python3.7/dist-packages (from cffi>=1.12->cryptography>=3.2->pyOpenSSL>=0.13->gsutil->learn2learn) (2.20)\n",
            "Requirement already satisfied: torchmeta in /usr/local/lib/python3.7/dist-packages (1.7.0)\n",
            "Requirement already satisfied: torch<1.9.0,>=1.4.0 in /usr/local/lib/python3.7/dist-packages (from torchmeta) (1.8.1+cu101)\n",
            "Requirement already satisfied: numpy>=1.14.0 in /usr/local/lib/python3.7/dist-packages (from torchmeta) (1.19.5)\n",
            "Requirement already satisfied: Pillow>=7.0.0 in /usr/local/lib/python3.7/dist-packages (from torchmeta) (7.1.2)\n",
            "Requirement already satisfied: ordered-set in /usr/local/lib/python3.7/dist-packages (from torchmeta) (4.0.2)\n",
            "Requirement already satisfied: requests in /usr/local/lib/python3.7/dist-packages (from torchmeta) (2.23.0)\n",
            "Requirement already satisfied: h5py in /usr/local/lib/python3.7/dist-packages (from torchmeta) (2.10.0)\n",
            "Requirement already satisfied: torchvision<0.10.0,>=0.5.0 in /usr/local/lib/python3.7/dist-packages (from torchmeta) (0.9.1+cu101)\n",
            "Requirement already satisfied: tqdm>=4.0.0 in /usr/local/lib/python3.7/dist-packages (from torchmeta) (4.41.1)\n",
            "Requirement already satisfied: typing-extensions in /usr/local/lib/python3.7/dist-packages (from torch<1.9.0,>=1.4.0->torchmeta) (3.7.4.3)\n",
            "Requirement already satisfied: certifi>=2017.4.17 in /usr/local/lib/python3.7/dist-packages (from requests->torchmeta) (2020.12.5)\n",
            "Requirement already satisfied: chardet<4,>=3.0.2 in /usr/local/lib/python3.7/dist-packages (from requests->torchmeta) (3.0.4)\n",
            "Requirement already satisfied: idna<3,>=2.5 in /usr/local/lib/python3.7/dist-packages (from requests->torchmeta) (2.10)\n",
            "Requirement already satisfied: urllib3!=1.25.0,!=1.25.1,<1.26,>=1.21.1 in /usr/local/lib/python3.7/dist-packages (from requests->torchmeta) (1.24.3)\n",
            "Requirement already satisfied: six in /usr/local/lib/python3.7/dist-packages (from h5py->torchmeta) (1.15.0)\n",
            "Drive already mounted at /content/drive; to attempt to forcibly remount, call drive.mount(\"/content/drive\", force_remount=True).\n"
          ],
          "name": "stdout"
        }
      ]
    },
    {
      "cell_type": "markdown",
      "metadata": {
        "id": "Qydxx8m5Nreh"
      },
      "source": [
        "## RESISC45\n",
        "\n",
        "---"
      ]
    },
    {
      "cell_type": "code",
      "metadata": {
        "id": "ILyzj825ovVU"
      },
      "source": [
        ""
      ],
      "execution_count": 1,
      "outputs": []
    },
    {
      "cell_type": "code",
      "metadata": {
        "id": "BfMUUIpq5Ps6"
      },
      "source": [
        "np.random.seed(1)\n",
        "random.seed(1)\n",
        "test_size = 0.8\n",
        "val_size = 0.2\n",
        "batch_size = 32\n",
        "MAML_learning_rate = 0.0006\n",
        "MAML_learning_rate = 0.0006\n",
        "CNN_learning_rate = 0.0006\n",
        "MAML2_learning_rate1=.00045\n",
        "MAML2_learning_rate2=0.0001/8\n",
        "n_epochs = 150\n",
        "print_stride = 10\n",
        "Freeze=False\n",
        "First_Train = True\n",
        "no_load = True\n",
        "bce_loss = nn.BCELoss()\n",
        "No_Overlap = False"
      ],
      "execution_count": 2,
      "outputs": []
    },
    {
      "cell_type": "code",
      "metadata": {
        "id": "5CAjypAqQYwU"
      },
      "source": [
        "class CustomTensorDataset(Dataset):\n",
        "\n",
        "    def __init__(self, images, labels, transform=None):\n",
        "        self.images = images\n",
        "        self.labels = labels\n",
        "        self.transform=transform\n",
        "\n",
        "    def __getitem__(self, index):\n",
        "        X = self.images[index]\n",
        "        y = self.labels[index]\n",
        "        return X, y\n",
        "\n",
        "    def __len__(self):\n",
        "        return len(self.images)\n",
        "\n",
        "def make_dataset(x, y):\n",
        "    x = torch.tensor(x).permute(0,3,1,2)\n",
        "    y = torch.tensor(y)\n",
        "    dset = CustomTensorDataset(x, y)\n",
        "    return dset"
      ],
      "execution_count": 3,
      "outputs": []
    },
    {
      "cell_type": "code",
      "metadata": {
        "id": "240INoPLKeOx"
      },
      "source": [
        "def get_data(dir, mtype,nwaykshot=False,No_Overlap=False):\n",
        "    if mtype=='MAML': batch_n = batch_size*2\n",
        "    else: batch_n = batch_size\n",
        "\n",
        "    data = np.load(dir+'RESISC45_images_96.npy')\n",
        "    labels = np.load(dir+'RESISC45_classes.npy')\n",
        "    classes = np.load(dir+'RESISC45_class_names.npy')\n",
        "    if No_Overlap:\n",
        "        scenes = ['airport',\n",
        "                  'basketball_court',\n",
        "                  'bridge',\n",
        "                  'church',\n",
        "                  'circular_farmland',\n",
        "                  'cloud',\n",
        "                  'commercial_area',\n",
        "                  'desert',\n",
        "                  'ground_track_field',\n",
        "                  'industrial_area',\n",
        "                  'island',\n",
        "                  'lake',\n",
        "                  'meadow',\n",
        "                  'mountain',\n",
        "                  'palace',\n",
        "                  'railway',\n",
        "                  'railway_station',\n",
        "                  'rectangular_farmland',\n",
        "                  'roundabout',\n",
        "                  'sea_ice',\n",
        "                  'ship',\n",
        "                  'snowberg',\n",
        "                  'stadium',\n",
        "                  'terrace',\n",
        "                  'thermal_power_station',\n",
        "                  'wetland']\n",
        "        mask = np.isin(classes, scenes)\n",
        "        classes = classes[mask]\n",
        "        filterset = np.arange(len(mask))[mask]\n",
        "        mask = np.isin(labels, filterset)\n",
        "        labels = labels[mask]\n",
        "        data = data[mask]\n",
        "        setlabs = list(set(labels))\n",
        "        labels = np.array([setlabs.index(x) for x in labels])\n",
        "    #img_size = train_data.shape[2]\n",
        "    c_dim = classes.shape[0]\n",
        "\n",
        "    train_data, test_data, train_labels, test_labels = train_test_split(data, labels, test_size = test_size, stratify = labels)\n",
        "\n",
        "    xtrain, xval, ytrain, yval = train_test_split(train_data, train_labels, test_size = val_size)\n",
        "    trainset = make_dataset(xtrain,ytrain)\n",
        "    train_loader = DataLoader(trainset, batch_size=int(batch_n), shuffle=True)\n",
        "\n",
        "    valset = make_dataset(xval, yval)\n",
        "    val_loader = torch.utils.data.DataLoader(valset, batch_n, drop_last = True, shuffle=True)\n",
        "\n",
        "    testset = make_dataset(test_data, test_labels)\n",
        "    test_loader = torch.utils.data.DataLoader(testset, batch_n, drop_last = True, shuffle=True)\n",
        "    if nwaykshot==True:\n",
        "        return trainset, val_loader, test_loader, c_dim, classes, ytrain\n",
        "    return train_loader, val_loader, test_loader, c_dim, classes\n",
        "def tasksplit_uneven(x,y,Params):\n",
        "    ## split inner and outer loop by incidies\n",
        "    skip =2 \n",
        "    idx = idx = torch.arange(start =1, end=x.shape[0]+1).bool()\n",
        "    idx[::skip] = False\n",
        "    x_inner = x[idx]\n",
        "    y_inner = y[idx]\n",
        "    x_outer = x[~idx]\n",
        "    y_outer = y[~idx]\n",
        "    return x_inner, x_outer, y_inner,y_outer"
      ],
      "execution_count": 4,
      "outputs": []
    },
    {
      "cell_type": "code",
      "metadata": {
        "id": "2XGWrhP0KSya"
      },
      "source": [
        "\n",
        "import learn2learn as l2l\n",
        "def taskStructure(dataset,Params,trainlabels): ## pass train into here\n",
        "    labels= {}\n",
        "    for i in range(Params['num_classes']):\n",
        "        labels[i] = [j for j, x in enumerate(trainlabels) if x == i]\n",
        "    metaDataset = l2l.data.MetaDataset(dataset,labels_to_indices=labels)\n",
        "    \n",
        "    transforms = [\n",
        "    ## need kshots*2 for inner and outer loop split accross each task\n",
        "        l2l.data.transforms.FusedNWaysKShots(metaDataset,n=Params['nways'],k=Params['kshots']*2,replacement=False),\n",
        "        l2l.data.transforms.LoadData(metaDataset),\n",
        "        l2l.data.transforms.ConsecutiveLabels(metaDataset)\n",
        "    ]\n",
        "    taskset = l2l.data.TaskDataset(metaDataset,\n",
        "                                   transforms,\n",
        "                                   num_tasks=len(dataset)/(Params['nways']*Params['kshots']*2))\n",
        "        \n",
        "    return taskset\n"
      ],
      "execution_count": 5,
      "outputs": []
    },
    {
      "cell_type": "code",
      "metadata": {
        "id": "euJKRHjg62sI"
      },
      "source": [
        "class Conv_Pred(nn.Module):\n",
        "    def __init__(self):\n",
        "        super(Conv_Pred, self).__init__()\n",
        "        \n",
        "        self.conv1 = nn.Conv2d(3, 32, 4, 2, 1) # Input: (batch_size, 3, img_size, img_size)\n",
        "        self.conv2 = nn.Conv2d(32, 64, 4, 2, 1, bias = False)\n",
        "        self.conv2_bn = nn.BatchNorm2d(64)\n",
        "        self.conv3 = nn.Conv2d(64, 128, 4, 2, 1, bias = False)\n",
        "        self.conv3_bn = nn.BatchNorm2d(128)\n",
        "        self.conv4 = nn.Conv2d(128, 256, 4, 2, 1, bias = False)\n",
        "        self.conv4_bn = nn.BatchNorm2d(256)\n",
        "        self.conv5 = nn.Conv2d(256, 512, 4, 2, 1, bias = False)\n",
        "        self.conv5_bn = nn.BatchNorm2d(512)\n",
        "        self.conv6 = nn.Conv2d(512, 1024, 4, 2, 1, bias = False)\n",
        "        self.conv6_bn = nn.BatchNorm2d(1024)\n",
        "        \n",
        "        self.fce = nn.Linear(1024, 45)\n",
        "\n",
        "\n",
        "    def weight_init(self):\n",
        "        for m in self._modules:\n",
        "            normal_init(self._modules[m])\n",
        "\n",
        "    def forward(self, x):\n",
        "        x = x/127.5 - 1.0\n",
        "        x = F.relu(self.conv1(x), 0.2)\n",
        "        x = F.relu(self.conv2_bn(self.conv2(x)))\n",
        "        x = F.relu(self.conv3_bn(self.conv3(x)))\n",
        "        x = F.relu(self.conv4_bn(self.conv4(x)))\n",
        "        x = F.relu(self.conv5_bn(self.conv5(x)))\n",
        "        x = F.relu(self.conv6_bn(self.conv6(x)))\n",
        "\n",
        "        z = nn.Softmax(dim=1)(self.fce(x.squeeze()))\n",
        "\n",
        "        return z\n",
        "\n",
        "    def save(self, name):\n",
        "        print('saving...')\n",
        "        torch.save({\n",
        "            'model_state_dict': self.state_dict() #,\n",
        "            #'optimizer_state_dict': self.optimizer.state_dict(),\n",
        "        }, dir+name+'.pt')\n",
        "\n",
        "    def load(self, name):\n",
        "        print('loading...')\n",
        "        checkpoint = torch.load(dir+name+'.pt')\n",
        "        self.load_state_dict(checkpoint['model_state_dict'])\n",
        "        #self.optimizer.load_state_dict(checkpoint['optimizer_state_dict'])\n",
        "\n",
        "\n",
        "def get_model(mtype, lr=0.0006, train=True,load=False):\n",
        "    model = Conv_Pred().to(device)\n",
        "    model.weight_init()\n",
        "    if load==True:\n",
        "        try: model.load(mtype)\n",
        "        except: pass\n",
        "    if train == True:\n",
        "        model.train()\n",
        "    else:\n",
        "        model.eval()\n",
        "    return model\n",
        "\n",
        "\n",
        "def normal_init(m):\n",
        "    if isinstance(m, nn.ConvTranspose2d) or isinstance(m, nn.Conv2d):\n",
        "        m.weight.data.normal_(0.0, 0.02)\n",
        "\n",
        "def one_hot_embedding(labels, dims):\n",
        "    labels = torch.nn.functional.one_hot(torch.tensor(labels).to(torch.int64), num_classes = dims)\n",
        "    return torch.squeeze(labels)\n",
        "\n",
        "def accuracy_topk(output, target, topk=(3,)):\n",
        "    #https://forums.fast.ai/t/return-top-k-accuracy/27658\n",
        "    \"\"\"Computes the precision@k for the specified values of k\"\"\"\n",
        "    maxk = max(topk)\n",
        "    batch_size = target.size(0)\n",
        "\n",
        "    _, pred = output.topk(maxk, 1, True, True)\n",
        "    pred = pred.t()\n",
        "    correct = pred.eq(target.reshape(1, -1).expand_as(pred))\n",
        "\n",
        "    res = []\n",
        "    for k in topk:\n",
        "        correct_k = correct[:k].reshape(-1).float().sum(0, keepdim=True)\n",
        "        res.append(correct_k.mul_(100.0 / batch_size))\n",
        "    return res[0]"
      ],
      "execution_count": 6,
      "outputs": []
    },
    {
      "cell_type": "code",
      "metadata": {
        "id": "s2EgNWGeVP7h"
      },
      "source": [
        "## for general MAML\n",
        "class ConvolutionalNeuralNetwork(MetaModule):\n",
        "    def __init__(self,Params,in_channels=3,out_features=45,hidden_size=2):\n",
        "        super(ConvolutionalNeuralNetwork, self).__init__()\n",
        "        self.in_channels = Params['in_channels']\n",
        "        self.out_features = Params['num_classes']\n",
        "        self.hidden_size = Params['hidden_size']\n",
        "\n",
        "        self.features  = MetaSequential(\n",
        "            MetaConv2d(in_channels,hidden_size**5,kernel_size=4,stride=2,padding=1),\n",
        "            nn.ReLU(),\n",
        "            MetaConv2d(hidden_size**5,hidden_size**6,kernel_size=4,stride=2,padding=1,bias=False),\n",
        "            MetaBatchNorm2d(hidden_size**6),\n",
        "            nn.ReLU(),\n",
        "            MetaConv2d(hidden_size ** 6, hidden_size ** 7, kernel_size=4, stride=2, padding=1, bias=False),\n",
        "            MetaBatchNorm2d(hidden_size**7),\n",
        "            nn.ReLU(),\n",
        "            MetaConv2d(hidden_size ** 7, hidden_size ** 8, kernel_size=4, stride=2, padding=1, bias=False),\n",
        "            MetaBatchNorm2d(hidden_size ** 8),\n",
        "            nn.ReLU(),\n",
        "            MetaConv2d(hidden_size ** 8, hidden_size ** 9, kernel_size=4, stride=2, padding=1, bias=False),\n",
        "            MetaBatchNorm2d(hidden_size ** 9),\n",
        "            nn.ReLU(),\n",
        "            MetaConv2d(hidden_size ** 9, hidden_size ** 10, kernel_size=4, stride=2, padding=1, bias=False),\n",
        "            MetaBatchNorm2d(hidden_size ** 10),\n",
        "            nn.ReLU(),\n",
        "        )\n",
        "        self.fce = MetaLinear(self.hidden_size**10, out_features)\n",
        "\n",
        "\n",
        "\n",
        "    def weight_init(self):\n",
        "        for m in self._modules:\n",
        "            normal_init(self._modules[m])\n",
        "    def forward(self, inputs, params=None):\n",
        "        features = self.features(inputs, params=self.get_subdict(params, 'features'))\n",
        "        features = features.view((features.size(0), -1))\n",
        "        logits = self.fce(features, params=self.get_subdict(params, 'classifier'))\n",
        "        return logits\n",
        "        \n",
        "    def save(self, name):\n",
        "        print('saving...')\n",
        "        torch.save({\n",
        "            'model_state_dict': self.state_dict() #,\n",
        "            #'optimizer_state_dict': self.optimizer.state_dict(),\n",
        "        }, dir+name+'.pt')\n",
        "\n",
        "    def load(self, name):\n",
        "        print('loading...')\n",
        "        checkpoint = torch.load(dir+name+'.pt')\n",
        "        self.load_state_dict(checkpoint['model_state_dict'])\n",
        "\n",
        "def get_meta_model(Params,train=True,load=False):\n",
        "    model = ConvolutionalNeuralNetwork(Params).to(device)\n",
        "    model.weight_init()\n",
        "    if load==True:\n",
        "        try: model.load(mtype)\n",
        "        except: pass\n",
        "    if train == True:\n",
        "        model.train()\n",
        "    else:\n",
        "        model.eval()\n",
        "    return model"
      ],
      "execution_count": 7,
      "outputs": []
    },
    {
      "cell_type": "code",
      "metadata": {
        "id": "a0JZD2K589Mw"
      },
      "source": [
        "#augmentation_functions.py\n",
        "\n",
        "class addGaussianNoise(object):\n",
        "    def __init__(self, mean=0.0, std=1.0, p=0.5):\n",
        "        self.mean = torch.tensor(mean).to(device)\n",
        "        self.std = torch.tensor(std).to(device)\n",
        "        self.p = p\n",
        "      \n",
        "    def __call__(self, img):\n",
        "        if torch.rand(1).item() < self.p:\n",
        "            return img + torch.randn(img.size(), device = device) * self.std + self.mean\n",
        "        return img\n",
        "        \n",
        "    def __repr__(self):\n",
        "        return self.__class__.__name__ + '(mean={0}, std={1}, p={2})'.format(self.mean, self.std, self.p)\n",
        "\n",
        "def applyAugs(img_batch, task_idx, num_augs=7):\n",
        "    # returns augmented batch of images based on task index (0:128)\n",
        "    # currently based on exactly 7 transforms \n",
        "\n",
        "    transform_list = [transforms.RandomHorizontalFlip(p=0.99),\n",
        "                      transforms.RandomVerticalFlip(p=0.99),\n",
        "                      transforms.RandomRotation(359.0, fill=0.5),\n",
        "                      transforms.RandomPerspective(distortion_scale=0.1, p=0.99, fill=0.5),\n",
        "                      transforms.RandomResizedCrop(96,\n",
        "                                                   scale=(0.5, 1.0),\n",
        "                                                   ratio=(0.8, 1.0)),\n",
        "                                                   #interpolation=transforms.InterpolationMode.BILINEAR),\n",
        "                      addGaussianNoise(std=0.1, p=0.99),\n",
        "                      # transforms.ColorJitter(saturation=4.0, hue=0.01),\n",
        "                      transforms.ColorJitter(brightness=0.5, contrast=0.9)\n",
        "                      # ,transforms.GaussianBlur(9, sigma=(0.01, 2.0))\n",
        "                      ]\n",
        "       \n",
        "    tasklist = list(itertools.product([0, 1], repeat=num_augs))\n",
        "    current_augs = tasklist[task_idx]\n",
        "\n",
        "    task_transforms = [transform_list[i] for i,x in enumerate(current_augs) if x==1]\n",
        "    transform = torchvision.transforms.Compose(task_transforms)\n",
        "    img_batch = transform(img_batch)\n",
        "    return img_batch\n",
        "\n",
        "def getAugmentationTransforms(task_idx, num_augs=7):\n",
        "    # returns transforms.Compose function of transforms based on task index (0:128)\n",
        "    # currently based on exactly 7 transforms \n",
        "\n",
        "    transform_list = [transforms.RandomHorizontalFlip(p=0.99),\n",
        "                      transforms.RandomVerticalFlip(p=0.99),\n",
        "                      transforms.RandomRotation(359.0, fill=0.5),\n",
        "                      transforms.RandomPerspective(distortion_scale=0.1, p=0.99, fill=0.5),\n",
        "                      transforms.RandomResizedCrop(256,\n",
        "                                                   scale=(0.5, 1.0),\n",
        "                                                   ratio=(1.0, 1.0),\n",
        "                                                   interpolation=transforms.InterpolationMode.BILINEAR),\n",
        "                      addGaussianNoise(std=0.1, p=0.99),\n",
        "                      # transforms.ColorJitter(saturation=4.0, hue=0.01),\n",
        "                      transforms.ColorJitter(brightness=0.5, contrast=0.9)\n",
        "                      # ,transforms.GaussianBlur(9, sigma=(0.01, 2.0))\n",
        "                      ]\n",
        "       \n",
        "    tasklist = list(itertools.product([0, 1], repeat=num_augs))\n",
        "    current_augs = tasklist[task_idx]\n",
        "\n",
        "    task_transforms = [transform_list[i] for i,x in enumerate(current_augs) if x==1]\n",
        "    transform = torchvision.transforms.Compose(task_transforms)\n",
        "\n",
        "    return transform\n",
        "\n",
        "# utility functions\n",
        "# images must be normalized and converted to torch shape before augmentations (3,h,w)\n",
        "# converted to numpy shape for displaying (h,w,3)\n",
        "\n",
        "def normalizeImages(x):\n",
        "  x = x/255.\n",
        "  return x\n",
        "\n",
        "def convertToTorch(x):\n",
        "  x = np.moveaxis(x, 3, 1)\n",
        "  x = torch.as_tensor(x)\n",
        "  return x\n",
        "\n",
        "def convertToNumpy(x):\n",
        "  # convert back to format for displaying\n",
        "  x = x.numpy()\n",
        "  x = np.moveaxis(x, 1, 3)  \n",
        "  return x"
      ],
      "execution_count": 8,
      "outputs": []
    },
    {
      "cell_type": "code",
      "metadata": {
        "id": "5ykjpav_7GRG"
      },
      "source": [
        "def train(n_epochs, learning_rate, learning_rate1, train_loader, val_loader, c_dim, mtype, augs=True, print_stride1=print_stride):\n",
        "    epoch_tracker, loss_tracker, val_accs, val_topks = [], [], [], []\n",
        "    i = 0\n",
        "    tasks = 128\n",
        "\n",
        "    model = get_model(mtype=mtype)\n",
        "    model_optimizer = optim.Adam(model.parameters(), lr = learning_rate)\n",
        "    for epoch in range(1, n_epochs+1):\n",
        "\n",
        "        losses = []\n",
        "\n",
        "        for X, y in train_loader:\n",
        "\n",
        "            y = one_hot_embedding(y, c_dim).float().to(device)\n",
        "\n",
        "            if mtype=='MAML':\n",
        "\n",
        "                X1 = X[:int(X.shape[0]/2)].float().clone().to(device)\n",
        "                X2 = X[int(X.shape[0]/2):].float().clone().to(device)\n",
        "                y1 = y[:int(y.shape[0]/2)].float().clone().to(device)\n",
        "                y2 = y[int(y.shape[0]/2):].float().clone().to(device)\n",
        "\n",
        "                task_batch1 = applyAugs(X1, int(i%tasks)).to(device)\n",
        "                task_batch2 = applyAugs(X2, int(i%tasks)).to(device)\n",
        "                i += 1\n",
        "\n",
        "                model1 = copy.deepcopy(model).to(device)\n",
        "                model1_optimizer = optim.Adam(model1.parameters(), lr = learning_rate1)\n",
        "\n",
        "                for param in model.parameters(): param.grad = None\n",
        "                for param in model1.parameters(): param.grad = None\n",
        "\n",
        "                yhat = model1(task_batch1)\n",
        "                pred_loss = bce_loss(yhat, y1)\n",
        "                pred_loss.backward()\n",
        "\n",
        "                model1_optimizer.step()\n",
        "\n",
        "                losses += [pred_loss.item()]\n",
        "                for param in model.parameters(): param.grad = None\n",
        "                for param in model1.parameters(): param.grad = None\n",
        "\n",
        "                yhat = model1(task_batch2)\n",
        "                pred_loss = bce_loss(yhat, y2)\n",
        "                pred_loss.backward()\n",
        "\n",
        "                for m1, m2 in zip(model.named_parameters(), model1.named_parameters()):\n",
        "                    m1[1].grad = m2[1].grad.clone()\n",
        "            else: \n",
        "              \n",
        "                X = X.float().clone().to(device)\n",
        "                t = np.random.randint(tasks)\n",
        "\n",
        "                if augs: X = applyAugs(X, t).to(device)\n",
        "\n",
        "                for param in model.parameters(): param.grad = None\n",
        "\n",
        "                yhat = model(X)\n",
        "                pred_loss = bce_loss(yhat, y)\n",
        "                pred_loss.backward()\n",
        "\n",
        "            model_optimizer.step()\n",
        "\n",
        "            losses += [pred_loss.item()]\n",
        "            \n",
        "        \n",
        "        if epoch % print_stride1 == 0:\n",
        "            print('Epoch {} - loss: {:.3f}'.format((epoch), torch.mean(torch.FloatTensor(losses))))\n",
        "\n",
        "            loss_tracker.append(torch.mean(torch.FloatTensor(losses)))\n",
        "            \n",
        "            with torch.no_grad():\n",
        "                accs, actk = [], []\n",
        "                for x, y in val_loader:\n",
        "                    x, y = x.to(device).float(), y.to(device).float()\n",
        "                    yhat = model(x)\n",
        "                    \n",
        "                    yhat_max = torch.max(yhat, dim = 1)[1]\n",
        "                    \n",
        "                    correct = torch.sum(yhat_max == y)\n",
        "                    size = x.shape[0]\n",
        "                    \n",
        "                    acc_topk = accuracy_topk(yhat, y)\n",
        "                    actk.append(acc_topk.data.item())\n",
        "                    \n",
        "                    accs.append(100*(correct/size).data.item())\n",
        "\n",
        "                print('Validation Accuracy: ', torch.mean(torch.FloatTensor(accs)).data.item())\n",
        "                print('Validation Top3 Accuracy: ', torch.mean(torch.FloatTensor(actk)).data.item())\n",
        "                \n",
        "            val_accs.append(torch.mean(torch.FloatTensor(accs)))\n",
        "            val_topks.append(torch.mean(torch.FloatTensor(actk)))\n",
        "            epoch_tracker.append(epoch)\n",
        "          \n",
        "    np.save(dir+mtype+'_loss_tracker.npy', loss_tracker) \n",
        "    np.save(dir+mtype+'_val_topks.npy', val_topks)\n",
        "    np.save(dir+mtype+'_val_accs.npy', val_accs)\n",
        "    np.save(dir+'epoch_tracker.npy', epoch_tracker)\n",
        "    model.save(mtype)\n",
        "\n",
        "    return model, loss_tracker, val_topks, val_accs, epoch_tracker\n",
        "\n"
      ],
      "execution_count": 9,
      "outputs": []
    },
    {
      "cell_type": "code",
      "metadata": {
        "id": "BRED1GMzkM_7"
      },
      "source": [
        "## MORE MMAML FEATURES N TASK BATCH SIZE AND REGULARIZIAING INNER LOOP TO MIDIGATE FIRST ORDER APROXIMATION\n",
        "def train2(n_epochs, learning_rate, learning_rate1, train_loader, val_loader, c_dim, mtype,print_stride1 = print_stride, trainset= None, nwaykshot=False , train_labels = None,Params=None):\n",
        "    epoch_tracker, loss_tracker, val_accs, val_topks = [], [], [], []\n",
        "    i = 0\n",
        "    tasks = 128\n",
        "    alpha=.008\n",
        "    print(mtype)\n",
        "    model = get_model(mtype=mtype)\n",
        "    model_optimizer = optim.Adam(model.parameters(), lr = learning_rate,weight_decay=0)\n",
        "    n=32\n",
        "    for epoch in range(1, n_epochs+1):\n",
        "        if nwaykshot==True:\n",
        "                train_loader = taskStructure(trainset,Params,train_labels)\n",
        "        losses = []\n",
        "        j=0\n",
        "        TasksInOuterSum = n\n",
        "        pred_loss=torch.tensor(0.)\n",
        "        model3=copy.deepcopy(model).to(device)## we will store all the grads here in this model it will act as a container\n",
        "        for param in model3.parameters(): param.grad = torch.zeros_like(param,dtype=torch.float, requires_grad=True,device=device).float() ## set grads equal to o\n",
        "\n",
        "        for X, y in train_loader:\n",
        "            i = torch.randint(high=127, size=(1, 1)).item()\n",
        "            y = one_hot_embedding(y, c_dim).float().to(device)\n",
        "\n",
        "            if mtype=='MAML2':\n",
        "                ## I added support for having the outer loop contain multiple tasks, it has been cited by Cheasea finn, \n",
        "                #the creator of MAML for fast adaption this is where the model does the most work the outerloop, so we will back load it with 256 images instead of 32\n",
        "                # This will be done by doing the update of the j variable is a multiple of n, for instance if n is = 8 in the code see line  so we get 8*32=256 images all form same tasks as the inner loop per outer update\n",
        "                X = applyAugs(X.float().clone().to(device), int(i))## I put the aug here to make sure that outer and inner loop train on same task as in the MAML paper\n",
        "\n",
        "                ## data prep for inner and outer loop\n",
        "                task_batch1 = X[:int(X.shape[0]/2)].float().clone().to(device)\n",
        "                task_batch2 = X[int(X.shape[0]/2):].float().clone().to(device) ## now each batch\n",
        "                y1 = y[:int(y.shape[0]/2)].float().clone().to(device)\n",
        "                y2 = y[int(y.shape[0]/2):].float().clone().to(device)\n",
        "                ## start inner loop\n",
        "                ## with first order we update the models weights after each inner loop to prevent the hessian update\n",
        "                ## We wish to find a good intiiallzation point for all tasks so this inner loop should either have a small learning rate or a regularizer\n",
        "                ## I will use a regulizer to enforce some closeness to the initial point, note te more images we have in the outer loop update step the further we will be \n",
        "                ## from the initialization point, ideally maml without any apoximation calls aims to acheive this\n",
        "                \n",
        "                ## get logits with the loss for the inner loop\n",
        "                model1 = copy.deepcopy(model).to(device)\n",
        "                model1_optimizer = optim.Adam(model1.parameters(), lr = learning_rate1,weight_decay =alpha)\n",
        "\n",
        "                for param in model.parameters(): param.grad = None\n",
        "                for param in model1.parameters(): param.grad = None\n",
        "\n",
        "                inner_logit = model1(task_batch1)\n",
        "                inner_loss = bce_loss(inner_logit, y1)\n",
        "                inner_loss.backward() ## innner backwards\n",
        "                model1_optimizer.step() ## inner loss update not on orginal model\n",
        "                losses += [inner_loss.item()]\n",
        "\n",
        "                for param in model.parameters(): param.grad = None\n",
        "                for param in model1.parameters(): param.grad = None\n",
        "\n",
        "                ## now with the updated_params dict we will take outerloop without updating the params on the inner loop\n",
        "                outer_logit =  model1(task_batch2) ## get outer logits  with inner loss's params\n",
        "                outer_loss = bce_loss(outer_logit,y2)\n",
        "                outer_loss.backward()\n",
        "\n",
        "                for m1, m2 in zip(model3.named_parameters(), model1.named_parameters()): ## add weights to container\n",
        "                    m1[1].grad = m1[1].grad + m2[1].grad.clone()\n",
        "\n",
        "                ## we will now update the model after seeing our n tasks with j%n\n",
        "                ## time to clone\n",
        "                if j%TasksInOuterSum ==0:\n",
        "                    for m1, m2 in zip(model.named_parameters(), model3.named_parameters()):\n",
        "                        m1[1].grad = m2[1].grad.clone()\n",
        "                    ## do the update here\n",
        "                    model_optimizer.step()\n",
        "                    for param in model.parameters(): param.grad = None\n",
        "                    for param in model1.parameters(): param.grad = None\n",
        "                    for param in model3.parameters(): param.grad = torch.zeros_like(param,dtype=torch.float, requires_grad=True,device=device).float() ## set grads equal to o\n",
        "                losses += [outer_loss.item()]\n",
        "    \n",
        "            else: \n",
        "              \n",
        "                X = X.float().clone().to(device)\n",
        "                t = np.random.randint(tasks)\n",
        "                task_batch = applyAugs(X, t).to(device)\n",
        "\n",
        "                for param in model.parameters(): param.grad = None\n",
        "\n",
        "                yhat = model(task_batch)\n",
        "                pred_loss = bce_loss(yhat, y)\n",
        "                pred_loss.backward()\n",
        "                ## moved these inside, We only wish to do it for the cnn\n",
        "                model_optimizer.step()\n",
        "            losses += [pred_loss.item()]\n",
        "            \n",
        "        \n",
        "        if epoch % print_stride1 == 0:\n",
        "\n",
        "            print('Epoch {} - loss: {:.3f}'.format((epoch), torch.mean(torch.FloatTensor(losses))))\n",
        "\n",
        "            loss_tracker.append(torch.mean(torch.FloatTensor(losses)))\n",
        "            \n",
        "            with torch.no_grad():\n",
        "                accs, actk = [], []\n",
        "                for x, y in val_loader:\n",
        "                    x, y = x.to(device).float(), y.to(device).float()\n",
        "                    yhat = model(x)\n",
        "                    \n",
        "                    yhat_max = torch.max(yhat, dim = 1)[1]\n",
        "                    \n",
        "                    correct = torch.sum(yhat_max == y)\n",
        "                    size = x.shape[0]\n",
        "\n",
        "                    acc_topk = accuracy_topk(yhat, y)\n",
        "                    actk.append(acc_topk.data.item())\n",
        "                    \n",
        "                    accs.append(100*(correct/size).data.item())\n",
        "\n",
        "            print('Validation Accuracy: ', torch.mean(torch.FloatTensor(accs)).data.item())\n",
        "            print('Validation Top3 Accuracy: ', torch.mean(torch.FloatTensor(actk)).data.item())\n",
        "            val_accs.append(torch.mean(torch.FloatTensor(accs)))\n",
        "            val_topks.append(torch.mean(torch.FloatTensor(actk)))\n",
        "            epoch_tracker.append(epoch)\n",
        "    np.save(dir+mtype+'_loss_tracker.npy', loss_tracker) \n",
        "    np.save(dir+mtype+'_val_topks.npy', val_topks)\n",
        "    np.save(dir+mtype+'_val_accs.npy', val_accs)\n",
        "    np.save(dir+'epoch_tracker.npy', epoch_tracker)\n",
        "    model.save(mtype)\n",
        "\n",
        "    return model, loss_tracker, val_topks, val_accs, epoch_tracker\n",
        "\n",
        "\n"
      ],
      "execution_count": 10,
      "outputs": []
    },
    {
      "cell_type": "code",
      "metadata": {
        "id": "OdbD-N3tV19X"
      },
      "source": [
        "## general mamal train\n",
        "from torchmeta.utils.gradient_based import gradient_update_parameters\n",
        "import torch.nn.functional as F\n",
        "\n",
        "\n",
        "def trainMAML(mtype,model, train_tasks, Params, val_loader, print_stride1, nwaykshot=False, trainset=False,train_labels=False):  ## go through data set\n",
        "\n",
        "\n",
        "    epoch_tracker, loss_tracker, val_accs, val_topks,trainacc = [], [], [], [],[]\n",
        "    device = torch.device('cuda' if torch.cuda.is_available() else 'cpu')\n",
        "    model.train()\n",
        "    model.to(device)\n",
        "\n",
        "    if mtype!='MAMLnk':\n",
        "        return False\n",
        "\n",
        "      # keeping track of tasks seen make sure to see entrie dataset\n",
        "\n",
        "    for epoch in range(1, Params['epoch']+1):\n",
        "\n",
        "        tracc, trlosses= looptrain(Params,model,train_tasks,nwaykshot,trainset=trainset,train_labels= train_labels)\n",
        "\n",
        "        trainacc.append(tracc)\n",
        "        loss_tracker.append(trlosses)\n",
        "        with torch.no_grad():\n",
        "            accs, actk = [], []\n",
        "            for x, y in val_loader:\n",
        "                x, y = x.to(device).float(), y.to(device).float()\n",
        "                yhat = model(x)\n",
        "                \n",
        "                yhat_max = torch.max(yhat, dim = 1)[1]\n",
        "                \n",
        "                correct = torch.sum(yhat_max == y)\n",
        "                size = x.shape[0]\n",
        "                \n",
        "                acc_topk = accuracy_topk(yhat, y)\n",
        "                actk.append(acc_topk.data.item())\n",
        "                \n",
        "                accs.append(100*(correct/size).data.item())\n",
        "                ac = torch.mean(torch.FloatTensor(accs)).data.item()\n",
        "                top = torch.mean(torch.FloatTensor(actk)).data.item()\n",
        "            if epoch%print_stride1==0:\n",
        "                print('On Epoch ',epoch)\n",
        "                print('Train Loss', loss_tracker[-1])\n",
        "                print('Validation Accuracy: ', ac)\n",
        "                print('Validation Top3 Accuracy: ', top)\n",
        "            val_accs.append(ac)\n",
        "            val_topks.append(top)\n",
        "            epoch_tracker.append(epoch)\n",
        "        ac = torch.mean(torch.FloatTensor(accs)).data.item()\n",
        "        top = torch.mean(torch.FloatTensor(actk)).data.item()\n",
        "        if epoch%20==0:\n",
        "            Params['MetaLR']*=.5\n",
        "            Params['innerStep']*=.5\n",
        "    model.save(mtype)\n",
        "    return model, epoch_tracker[::print_stride1], loss_tracker[::print_stride1], val_accs[::print_stride1], val_topks[::print_stride1], trainacc[::print_stride1]\n",
        "def looptrain(Params,model,train_loader,nwaykshot=False,trainset=None,train_labels=None):\n",
        "    trainacc,trainloss = [], []\n",
        "    if nwaykshot==True:\n",
        "        train_loader = taskStructure(trainset,Params,train_labels)\n",
        "    shape=0\n",
        "    j = 0\n",
        "    meta_optimizer = torch.optim.Adam(model.parameters(), lr=Params['MetaLR']*5/64)\n",
        "    outer_loss = torch.tensor(0., device=device)\n",
        "    for task in train_loader:\n",
        "        i = torch.randint(high=127, size=(1, 1)).item()\n",
        "        model.zero_grad()\n",
        "        loss_amount = 0 \n",
        "        ## call augments on the fly\n",
        "        x, y = task\n",
        "        shape+= y.shape[0]\n",
        "        x = x.float().to(device)\n",
        "        y = y.long().to(device)\n",
        "        x_inner, x_outer, y_inner, y_outer = tasksplit_uneven(applyAugs(x, i), y,\n",
        "                                                        Params)  ## split task for inner/ ouyter with same augs\n",
        "        train_logit = model(x_inner)\n",
        "        inner_loss = F.cross_entropy(train_logit, y_inner)\n",
        "        loss_amount += inner_loss.item()\n",
        "        model.zero_grad()\n",
        "        params = gradient_update_parameters(model,\n",
        "                                            inner_loss,\n",
        "                                            params=None,\n",
        "                                            step_size=Params[\"innerStep\"]*5/16,\n",
        "                                            first_order=Params['Order'])\n",
        "        test_logit = model(x_outer,\n",
        "                        params=params)  ## take the loss fucntions using the params of this task specific inner loop\n",
        "        current_outer_loss = F.cross_entropy(test_logit, y_outer)\n",
        "        outer_loss += current_outer_loss ## sum this inot the outer loop\n",
        "        current_outer_loss.div_(len(x_outer))\n",
        "        \n",
        "        yhat_max = torch.max(test_logit, dim = 1)[1]\n",
        "        correct = torch.sum(yhat_max == y_outer)\n",
        "        size = x.shape[0]\n",
        "        acc = 100*(correct/size).data.item()\n",
        "        trainacc.append(acc)\n",
        "        if j % Params['number_of_tasks'] == 0:  ## we hit number of tasks if this =0 then we do the outer loop with the update as a sum \n",
        "            outer_loss.backward()\n",
        "            loss_amount += outer_loss.item()\n",
        "            meta_optimizer.step()\n",
        "            outer_loss = torch.tensor(0., device=device)\n",
        "            for param in model.parameters(): param.grad = None\n",
        "        elif outer_loss.item()!= 0 and 5040 -shape< 2*Params['nways']*Params['kshots']+33: ## do not waste those computations!\n",
        "            outer_loss.backward()\n",
        "            loss_amount += outer_loss.item()\n",
        "            meta_optimizer.step()\n",
        "            outer_loss = torch.tensor(0., device=device)\n",
        "            for param in model.parameters(): param.grad = None\n",
        "        j += 1\n",
        "    meta_optimizer.zero_grad()\n",
        "    model.zero_grad()\n",
        "    train_accuracy = torch.mean(torch.FloatTensor(trainacc)).data.item()\n",
        "    train_losses = loss_amount/shape\n",
        "    return train_accuracy, train_losses"
      ],
      "execution_count": 11,
      "outputs": []
    },
    {
      "cell_type": "code",
      "metadata": {
        "id": "qXe2IDIA6wws"
      },
      "source": [
        "def make_train_plot(MAML_loss_tracker, CNN_Aug_loss_tracker, CNN_loss_tracker, MAML_val_accs, CNN_Aug_val_accs, CNN_val_accs, MAML_val_topks, CNN_Aug_val_topks, CNN_val_topks, epoch_tracker,MAML_loss_tracker2,MAML_val_accs2,MAML_val_topks2,MAML_nk_loss_tracker, MAML_nk_val_accs, MAML_nk_val_topk):\n",
        "    #plt.plot(epoch_tracker, MAML_loss_tracker, label = 'MAML train loss')\n",
        "    #plt.plot(epoch_tracker, CNN_Aug_loss_tracker, label = 'CNN Aug train loss')\n",
        "    #plt.plot(epoch_tracker, CNN_loss_tracker, label = 'CNN train loss')\n",
        "    plt.figure(figsize = (15,8))\n",
        "    plt.plot(epoch_tracker, MAML_val_accs, label = 'First order MAML val acc', color='green', linestyle='dashed')\n",
        "    plt.plot(epoch_tracker, MAML_val_accs2, label = 'First order MAML* val acc', color='orange', linestyle='dashed')\n",
        "\n",
        "    plt.plot(epoch_tracker, CNN_Aug_val_accs, label = 'CNN Aug val acc', color='blue', linestyle='dashed')\n",
        "    plt.plot(epoch_tracker, CNN_val_accs, label = 'CNN val acc', color='red', linestyle='dashed')\n",
        "    plt.plot(epoch_tracker, MAML_val_topks, label = 'First order MAML val top3', color='green')\n",
        "    plt.plot(epoch_tracker, MAML_val_topks2, label = 'First order MAML* val top3', color='orange')\n",
        "\n",
        "    plt.plot(epoch_tracker, MAML_nk_val_accs, label = 'MAML 32 way 1 shot val acc', color='yellow',linestyle='dashed')\n",
        "    plt.plot(epoch_tracker, MAML_nk_val_topk, label = 'MAML 32 way 1 shot val top3', color='yellow')\n",
        "    \n",
        "    plt.plot(epoch_tracker, CNN_Aug_val_topks, label = 'CNN_Aug_val top3', color='blue')\n",
        "    plt.plot(epoch_tracker, CNN_val_topks, label = 'CNN_val top3', color='red')\n",
        "    plt.legend(loc = 'best')\n",
        "    plt.show()\n",
        "\n",
        "def make_two_plots(epoch_tracker, MAML_loss_tracker, CNN_Aug_loss_tracker, CNN_loss_tracker, MAML_val_accs, CNN_Aug_val_accs, CNN_val_accs,MAML_loss_tracker2,MAML_val_accs2,MAML_val_topks2):\n",
        "    fig, (ax1, ax2) = plt.subplots(1,2)\n",
        "    fig.set_size_inches(15,8)\n",
        "    ax1.plot(epoch_tracker, MAML_loss_tracker, label = 'First order MAML train loss', color='green')\n",
        "    ax1.plot(epoch_tracker, MAML_loss_tracker2, label = 'First order MAML* train loss', color='orange')\n",
        "\n",
        "    ax1.plot(epoch_tracker, CNN_Aug_loss_tracker, label = 'CNN Aug train loss', color='blue')\n",
        "    ax1.plot(epoch_tracker, CNN_loss_tracker, label = 'CNN train loss', color='red')\n",
        "    ax1.legend(loc = 'best')\n",
        "    ax2.plot(epoch_tracker, MAML_val_accs, label = 'First order MAML val acc', color='green')\n",
        "    ax2.plot(epoch_tracker, MAML_val_accs2, label = 'First order MAML* val acc', color='orange')\n",
        "\n",
        "    ax2.plot(epoch_tracker, CNN_Aug_val_accs, label = 'CNN Aug val acc', color='blue')\n",
        "    ax2.plot(epoch_tracker, CNN_val_accs, label = 'CNN val acc', color='red')\n",
        "    ax2.legend(loc = 'best')\n",
        "    plt.tight_layout()\n",
        "    plt.show()\n",
        "\n",
        "def basic_train_plot(epoch_tracker, MAML_loss_tracker, CNN_Aug_loss_tracker, CNN_loss_tracker,MAML_loss_tracker2):\n",
        "    plt.figure(figsize = (15,8))\n",
        "    plt.plot(epoch_tracker, MAML_loss_tracker, label = 'First order MAML train loss', color='green')\n",
        "    plt.plot(epoch_tracker, MAML_loss_tracker2, label = 'First order MAML* train loss', color='orange')\n",
        "\n",
        "    plt.plot(epoch_tracker, CNN_Aug_loss_tracker, label = 'CNN Aug train loss', color='blue')\n",
        "    plt.plot(epoch_tracker, CNN_loss_tracker, label = 'CNN train loss', color='red')\n",
        "    plt.legend(loc = 'best')\n",
        "    plt.show()\n",
        "\n",
        "def make_test(model, testloader,get_worse=False,plot=False):\n",
        "    with torch.no_grad():\n",
        "        model.eval()\n",
        "        accs, topks, ypreds, yreals = [], [], [], []\n",
        "        for x, y in testloader:\n",
        "            x, y = x.to(device).float(), y.to(device).float()\n",
        "            yhat = model(x)\n",
        "\n",
        "            yhat_max = torch.max(yhat, dim = 1)[1]\n",
        "\n",
        "            correct = torch.sum(yhat_max == y)\n",
        "            size = x.shape[0]\n",
        "            acc_topk = accuracy_topk(yhat, y)\n",
        "\n",
        "            ypreds += torch.argmax(yhat, dim=1).tolist()\n",
        "            yreals += y.tolist()\n",
        "\n",
        "            topks.append(acc_topk.data.item())\n",
        "            accs.append(100*(correct/size).data.item())\n",
        "        test_acc = torch.mean(torch.FloatTensor(accs)).data.item()\n",
        "        test_topk = torch.mean(torch.FloatTensor(topks)).data.item()\n",
        "        print('Test Accuracy: ', torch.mean(torch.FloatTensor(accs)).data.item())\n",
        "        print('Test Top3 Accuracy: ', torch.mean(torch.FloatTensor(topks)).data.item())\n",
        "        if plot:\n",
        "            cm = metrics.confusion_matrix(yreals, ypreds)\n",
        "            fig, ax = plt.subplots(figsize=(15,8))  \n",
        "            sns.heatmap(cm, cmap='Blues', ax=ax)\n",
        "        ## get best/worst task\n",
        "        model.eval()\n",
        "        if get_worse==True:\n",
        "            worst,best = get_worst_task(model,testloader)\n",
        "            print(best,'= Best Task ID ')\n",
        "            print(worst,'= Worst Task ID ')\n",
        "            return test_acc, test_topk\n",
        "    return test_acc, test_topk\n",
        "        \n",
        "def get_worst_task(model,val_loader): ## gives percentage rate of correct classification for each aug in our task list, \n",
        "                                      ##please check if dict on line below is right size\n",
        "    bytaskListACCDICT = dict.fromkeys(range(128),0)\n",
        "    i=0\n",
        "    model.eval()\n",
        "    for x,y in val_loader:\n",
        "        actk,accs = [], []\n",
        "        x = applyAugs(x.float().clone().to(device), int(i%128))## I put the aug here to make sure that outer and inner loop train on same task as in the MAML paper\n",
        "        y = y.float().clone().to(device)\n",
        "        yhat = model(x) \n",
        "        yhat_max = torch.max(yhat, dim = 1)[1]\n",
        "        correct = torch.sum(yhat_max == y)\n",
        "        size = x.shape[0]\n",
        "        acc_topk = accuracy_topk(yhat, y)\n",
        "        actk.append(acc_topk.data.item())\n",
        "        \n",
        "        accs.append(100*(correct/size).data.item())\n",
        "        bytaskListACCDICT[i%128]+=100*(correct/size).data.item()\n",
        "        i+=1\n",
        "    worstTASKid = min(bytaskListACCDICT, key=bytaskListACCDICT.get)\n",
        "    bestTASKid = max(bytaskListACCDICT, key=bytaskListACCDICT.get)\n",
        "    return worstTASKid, bestTASKid\n",
        "\n",
        "def make_example(train_loader, classes):\n",
        "    #print('Shape of a batch of images: ', next(iter(train_loader))[0].shape)\n",
        "    #print('Shape of a batch of labels: ', next(iter(train_loader))[1].shape)\n",
        "\n",
        "    plt.figure(figsize = (8,8))\n",
        "    first_samp = next(iter(train_loader)) #get first sample in first batch\n",
        "    img, name = first_samp[0][0], first_samp[1][0]\n",
        "    plt.imshow(img.permute(1,2,0)/255)\n",
        "\n",
        "    print(name, classes[name])"
      ],
      "execution_count": 12,
      "outputs": []
    },
    {
      "cell_type": "markdown",
      "metadata": {
        "id": "1gftKXCpdiY6"
      },
      "source": [
        "## RESISC MAML\n",
        "\n",
        "Require: $p(\\mathcal{T}):$ distribution over tasks \n",
        "Require: $\\alpha, \\beta:$ step size hyperparameters\n",
        "\n",
        "1: randomly initialize $\\theta$\n",
        "\n",
        "2: while not done $\\mathbf{d o}$ \n",
        "\n",
        "3: $\\quad$ Sample single task $\\mathcal{T} \\sim p(\\mathcal{T})$\n",
        "\n",
        "5: $\\quad$ Evaluate $\\nabla_{\\theta} \\mathcal{L}\\left(f_{\\theta}(\\mathcal{T}_{inner})\\right)$ with respect to $K$ examples \n",
        "\n",
        "6: $\\quad$ Compute adapted parameters with gradient descent: $\\theta_{i}^{\\prime}=\\theta-\\alpha \\nabla_{\\theta} \\mathcal{L}\\left(f_{\\theta}(\\mathcal{T}_{inner})\\right)$\n",
        "\n",
        "7: $\\quad$ Update $\\theta \\leftarrow \\theta-\\beta \\nabla_{\\theta_{i}^{\\prime}} \\mathcal{L}\\left(f_{\\theta_{i}^{\\prime}} \\left(\\mathcal{T}_{outer}\\right)\\right)$\n",
        "\n",
        "8: end while\n",
        "\n",
        "---"
      ]
    },
    {
      "cell_type": "code",
      "metadata": {
        "id": "cayrPooZMLQJ",
        "colab": {
          "base_uri": "https://localhost:8080/",
          "height": 502
        },
        "outputId": "2c0d52b7-6f0e-4acb-9d4d-7f5e26d08af2"
      },
      "source": [
        "    mtype='MAML'\n",
        "train_loader, val_loader, test_loader, c_dim, classes = get_data(dir=dir, mtype=mtype)\n",
        "\n",
        "make_example(train_loader=train_loader, classes=classes)"
      ],
      "execution_count": 13,
      "outputs": [
        {
          "output_type": "stream",
          "text": [
            "tensor(24, dtype=torch.int32) mobile_home_park\n"
          ],
          "name": "stdout"
        },
        {
          "output_type": "display_data",
          "data": {
            "image/png": "[encoded data removed]",
            "text/plain": [
              "<Figure size 576x576 with 1 Axes>"
            ]
          },
          "metadata": {
            "tags": [],
            "needs_background": "light"
          }
        }
      ]
    },
    {
      "cell_type": "code",
      "metadata": {
        "id": "iVVcU3nK69gl",
        "colab": {
          "base_uri": "https://localhost:8080/"
        },
        "outputId": "c508051d-13cd-4fc3-9acf-fdc078e9af26"
      },
      "source": [
        "if First_Train: model, MAML_loss_tracker, MAML_val_topks, MAML_val_accs, epoch_tracker = train(n_epochs=n_epochs, \n",
        "                                                                learning_rate=MAML_learning_rate, \n",
        "                                                                learning_rate1=MAML_learning_rate, \n",
        "                                                                train_loader=train_loader, \n",
        "                                                                val_loader=val_loader, \n",
        "                                                                c_dim=c_dim, \n",
        "                                                                mtype=mtype,print_stride1=print_stride)\n",
        "else: \n",
        "    model = get_model(mtype)\n",
        "    MAML_loss_tracker=np.load(dir+mtype+'_loss_tracker.npy')\n",
        "    MAML_val_topks=np.load(dir+mtype+'_val_topks.npy')\n",
        "    MAML_val_accs=np.load(dir+mtype+'_val_accs.npy')\n",
        "    epoch_tracker=np.load(dir+'epoch_tracker.npy')"
      ],
      "execution_count": 14,
      "outputs": [
        {
          "output_type": "stream",
          "text": [
            "/usr/local/lib/python3.7/dist-packages/ipykernel_launcher.py:69: UserWarning: To copy construct from a tensor, it is recommended to use sourceTensor.clone().detach() or sourceTensor.clone().detach().requires_grad_(True), rather than torch.tensor(sourceTensor).\n"
          ],
          "name": "stderr"
        },
        {
          "output_type": "stream",
          "text": [
            "Epoch 10 - loss: 0.094\n",
            "Validation Accuracy:  21.6282901763916\n",
            "Validation Top3 Accuracy:  42.1875\n",
            "Epoch 20 - loss: 0.090\n",
            "Validation Accuracy:  29.9342098236084\n",
            "Validation Top3 Accuracy:  53.53618240356445\n",
            "Epoch 30 - loss: 0.086\n",
            "Validation Accuracy:  38.24013137817383\n",
            "Validation Top3 Accuracy:  61.842105865478516\n",
            "Epoch 40 - loss: 0.083\n",
            "Validation Accuracy:  39.88486862182617\n",
            "Validation Top3 Accuracy:  65.21381378173828\n",
            "Epoch 50 - loss: 0.081\n",
            "Validation Accuracy:  47.03947448730469\n",
            "Validation Top3 Accuracy:  70.06578826904297\n",
            "Epoch 60 - loss: 0.078\n",
            "Validation Accuracy:  49.095394134521484\n",
            "Validation Top3 Accuracy:  73.68421173095703\n",
            "Epoch 70 - loss: 0.077\n",
            "Validation Accuracy:  49.25986862182617\n",
            "Validation Top3 Accuracy:  72.94407653808594\n",
            "Epoch 80 - loss: 0.075\n",
            "Validation Accuracy:  55.016448974609375\n",
            "Validation Top3 Accuracy:  77.5493392944336\n",
            "Epoch 90 - loss: 0.073\n",
            "Validation Accuracy:  56.99013137817383\n",
            "Validation Top3 Accuracy:  79.35855102539062\n",
            "Epoch 100 - loss: 0.073\n",
            "Validation Accuracy:  58.3059196472168\n",
            "Validation Top3 Accuracy:  79.1118392944336\n",
            "Epoch 110 - loss: 0.070\n",
            "Validation Accuracy:  58.55263137817383\n",
            "Validation Top3 Accuracy:  79.93421173095703\n",
            "Epoch 120 - loss: 0.068\n",
            "Validation Accuracy:  62.0065803527832\n",
            "Validation Top3 Accuracy:  83.3881607055664\n",
            "Epoch 130 - loss: 0.068\n",
            "Validation Accuracy:  61.67763137817383\n",
            "Validation Top3 Accuracy:  81.9901351928711\n",
            "Epoch 140 - loss: 0.067\n",
            "Validation Accuracy:  63.24013137817383\n",
            "Validation Top3 Accuracy:  84.29276275634766\n",
            "Epoch 150 - loss: 0.065\n",
            "Validation Accuracy:  60.69078826904297\n",
            "Validation Top3 Accuracy:  84.12828826904297\n",
            "saving...\n"
          ],
          "name": "stdout"
        }
      ]
    },
    {
      "cell_type": "code",
      "metadata": {
        "id": "mWdiT2447L9q",
        "colab": {
          "base_uri": "https://localhost:8080/"
        },
        "outputId": "4cddc757-dd0a-4dbd-e783-cbdcefb173b6"
      },
      "source": [
        "acc,topk=make_test(model=model, testloader=test_loader)"
      ],
      "execution_count": 15,
      "outputs": [
        {
          "output_type": "stream",
          "text": [
            "Test Accuracy:  63.334922790527344\n",
            "Test Top3 Accuracy:  83.92572784423828\n"
          ],
          "name": "stdout"
        }
      ]
    },
    {
      "cell_type": "markdown",
      "metadata": {
        "id": "zQpW2D5LlyBf"
      },
      "source": [
        "# MAML* first order approximation with support for n task batch and inner l2 regularization to compensate for approximation\n",
        "\n",
        "Require: $p(\\mathcal{T}):$ distribution over tasks \n",
        "\n",
        "Require: $\\alpha, \\beta:$ step size hyperparameters\n",
        "\n",
        "1: randomly initialize $\\theta$\n",
        "\n",
        "2: while not done $\\mathbf{d o}$\n",
        "\n",
        "3: $\\quad$ Sample batch of tasks $\\mathcal{T}_{i} \\sim p(\\mathcal{T})$\n",
        "\n",
        "4: $\\quad$ for all $\\mathcal{T}_{i}$ do \n",
        "\n",
        "5: $\\quad$ $\\quad$ Evaluate $\\nabla_{\\theta} \\mathcal{L}_{\\mathcal{T}_{i}}\\left(f_{\\theta}\\right)$ with respect to $K$ examples \n",
        "\n",
        "6: $\\quad$ $\\quad$ Compute adapted parameters with gradient descent: $\\theta_{i}^{\\prime}=\\theta-\\alpha \\nabla_{\\theta} \\mathcal{L}_{\\mathcal{T}_{i}}\\left(f_{\\theta}\\right) + ||\\theta||_2$\n",
        "\n",
        "7: $\\quad$ end for\n",
        "\n",
        "8: $\\quad$Update $\\theta \\leftarrow \\theta-\\beta \\sum_{\\mathcal{T}_{i} \\sim p(\\mathcal{T})} \\nabla_{\\theta_{i}^{\\prime}} \\mathcal{L}_{\\mathcal{T}_{i}}\\left(f_{\\theta_{i}^{\\prime}})\\right)$\n",
        "\n",
        "9: end while\n",
        "\n",
        "\n"
      ]
    },
    {
      "cell_type": "markdown",
      "metadata": {
        "id": "IiIa4IU5xto3"
      },
      "source": [
        ""
      ]
    },
    {
      "cell_type": "code",
      "metadata": {
        "id": "RKARo6YIl5yv",
        "colab": {
          "base_uri": "https://localhost:8080/",
          "height": 502
        },
        "outputId": "502b85d7-bee8-499d-be3c-88d07a6bec17"
      },
      "source": [
        "mtype='MAML'\n",
        "train_loader, val_loader, test_loader, c_dim, classes = get_data(dir=dir, mtype=mtype)\n",
        "\n",
        "make_example(train_loader=train_loader, classes=classes)\n",
        "mtype='MAML2'"
      ],
      "execution_count": 16,
      "outputs": [
        {
          "output_type": "stream",
          "text": [
            "tensor(40, dtype=torch.int32) storage_tank\n"
          ],
          "name": "stdout"
        },
        {
          "output_type": "display_data",
          "data": {
            "image/png": "[encoded data removed]",
            "text/plain": [
              "<Figure size 576x576 with 1 Axes>"
            ]
          },
          "metadata": {
            "tags": [],
            "needs_background": "light"
          }
        }
      ]
    },
    {
      "cell_type": "code",
      "metadata": {
        "id": "iTbTmN0SmEHh",
        "colab": {
          "base_uri": "https://localhost:8080/"
        },
        "outputId": "9a2ae043-69d6-4906-f50d-4218dcf3dee4"
      },
      "source": [
        "if First_Train: model, MAML_loss_tracker2, MAML_val_topks2, MAML_val_accs2, epoch_tracker, = train2(n_epochs=n_epochs, \n",
        "                                                                learning_rate=0.00045, \n",
        "                                                                learning_rate1=0.0001/8, \n",
        "                                                                train_loader=train_loader, \n",
        "                                                                val_loader=val_loader, \n",
        "                                                                c_dim=c_dim, \n",
        "                                                                mtype=mtype,print_stride1=print_stride)\n",
        "else: \n",
        "    model = get_model(mtype)\n",
        "    MAML_loss_tracker2=np.load(dir+mtype+'_loss_tracker.npy')\n",
        "    MAML_val_topks2=np.load(dir+mtype+'_val_topks.npy')\n",
        "    MAML_val_accs2=np.load(dir+mtype+'_val_accs.npy')"
      ],
      "execution_count": 17,
      "outputs": [
        {
          "output_type": "stream",
          "text": [
            "MAML2\n"
          ],
          "name": "stdout"
        },
        {
          "output_type": "stream",
          "text": [
            "/usr/local/lib/python3.7/dist-packages/ipykernel_launcher.py:69: UserWarning: To copy construct from a tensor, it is recommended to use sourceTensor.clone().detach() or sourceTensor.clone().detach().requires_grad_(True), rather than torch.tensor(sourceTensor).\n"
          ],
          "name": "stderr"
        },
        {
          "output_type": "stream",
          "text": [
            "Epoch 10 - loss: 0.061\n",
            "Validation Accuracy:  26.644737243652344\n",
            "Validation Top3 Accuracy:  51.72697448730469\n",
            "Epoch 20 - loss: 0.059\n",
            "Validation Accuracy:  34.046051025390625\n",
            "Validation Top3 Accuracy:  60.36184310913086\n",
            "Epoch 30 - loss: 0.054\n",
            "Validation Accuracy:  41.94078826904297\n",
            "Validation Top3 Accuracy:  67.1875\n",
            "Epoch 40 - loss: 0.056\n",
            "Validation Accuracy:  43.58552551269531\n",
            "Validation Top3 Accuracy:  73.02631378173828\n",
            "Epoch 50 - loss: 0.051\n",
            "Validation Accuracy:  48.4375\n",
            "Validation Top3 Accuracy:  73.68421173095703\n",
            "Epoch 60 - loss: 0.049\n",
            "Validation Accuracy:  55.50986862182617\n",
            "Validation Top3 Accuracy:  77.63157653808594\n",
            "Epoch 70 - loss: 0.047\n",
            "Validation Accuracy:  57.894737243652344\n",
            "Validation Top3 Accuracy:  80.18092346191406\n",
            "Epoch 80 - loss: 0.048\n",
            "Validation Accuracy:  58.3059196472168\n",
            "Validation Top3 Accuracy:  81.90789794921875\n",
            "Epoch 90 - loss: 0.048\n",
            "Validation Accuracy:  57.97697448730469\n",
            "Validation Top3 Accuracy:  81.8256607055664\n",
            "Epoch 100 - loss: 0.047\n",
            "Validation Accuracy:  60.032894134521484\n",
            "Validation Top3 Accuracy:  80.34539794921875\n",
            "Epoch 110 - loss: 0.043\n",
            "Validation Accuracy:  61.4309196472168\n",
            "Validation Top3 Accuracy:  82.40131378173828\n",
            "Epoch 120 - loss: 0.041\n",
            "Validation Accuracy:  64.8848648071289\n",
            "Validation Top3 Accuracy:  85.27960205078125\n",
            "Epoch 130 - loss: 0.044\n",
            "Validation Accuracy:  62.828948974609375\n",
            "Validation Top3 Accuracy:  83.96381378173828\n",
            "Epoch 140 - loss: 0.043\n",
            "Validation Accuracy:  65.29605102539062\n",
            "Validation Top3 Accuracy:  85.3618392944336\n",
            "Epoch 150 - loss: 0.045\n",
            "Validation Accuracy:  66.4473648071289\n",
            "Validation Top3 Accuracy:  87.00657653808594\n",
            "saving...\n"
          ],
          "name": "stdout"
        }
      ]
    },
    {
      "cell_type": "code",
      "metadata": {
        "id": "TK6UY893_AdK"
      },
      "source": [
        ""
      ],
      "execution_count": 17,
      "outputs": []
    },
    {
      "cell_type": "code",
      "metadata": {
        "id": "POYQj09OvHbB",
        "colab": {
          "base_uri": "https://localhost:8080/"
        },
        "outputId": "99408653-1042-40ae-955a-6d53441e882f"
      },
      "source": [
        "acc,topk=make_test(model=model, testloader=test_loader)\n"
      ],
      "execution_count": 18,
      "outputs": [
        {
          "output_type": "stream",
          "text": [
            "Test Accuracy:  68.55915832519531\n",
            "Test Top3 Accuracy:  87.59542083740234\n"
          ],
          "name": "stdout"
        }
      ]
    },
    {
      "cell_type": "markdown",
      "metadata": {
        "id": "XYzUILlQWLPU"
      },
      "source": [
        "## MAML 32 way 1 shot "
      ]
    },
    {
      "cell_type": "code",
      "metadata": {
        "colab": {
          "base_uri": "https://localhost:8080/"
        },
        "id": "EBPk0csrWO_U",
        "outputId": "84015dcb-66f8-4c43-d1cd-d1c62376d93d"
      },
      "source": [
        "Params= Params = {'nways': 32, 'kshots': 1, 'in_channels': 3, 'hidden_size': 2, \n",
        "                  'innerStep': 0.00005, 'MetaLR': 0.006, 'number_of_tasks': 32,\n",
        "                  'Order': False, 'outerVSinner': 1, 'epoch': n_epochs, 'aug': True,\n",
        "                   'num_classes': 45}\n",
        "if No_Overlap:\n",
        "    Params['num_classes']=26\n",
        "model = get_meta_model(Params)\n",
        "train_loader, val_loader, test_loader, c_dim, classes, ytrain = get_data(dir=dir, mtype=mtype,nwaykshot=True)\n",
        "model.to(device)\n",
        "mtype = 'MAMLnk'\n",
        "\n",
        "if First_Train: modelnk, epoch_tracker, MAML_nk_loss_tracker, MAML_nk_val_accs, MAML_nk_val_topks, MAML_nk_trainacc = trainMAML(mtype,\n",
        "                                                                                              model,\n",
        "                                                                                              train_loader, \n",
        "                                                                                              Params, \n",
        "                                                                                              val_loader,print_stride1 = print_stride,\n",
        "                                                                                              nwaykshot=True,\n",
        "                                                                                              trainset=train_loader,\n",
        "                                                                                              train_labels=ytrain,\n",
        "                                                                                              )\n",
        "else: \n",
        "    model = get_model(mtype)\n",
        "    MAML_nk_loss_tracker=np.load(dir+mtype+'_loss_tracker.npy')\n",
        "    MAML_nk_val_topks=np.load(dir+mtype+'_val_topks.npy')\n",
        "    MAML_nk_val_accs=np.load(dir+mtype+'_val_accs.npy')"
      ],
      "execution_count": 19,
      "outputs": [
        {
          "output_type": "stream",
          "text": [
            "/usr/local/lib/python3.7/dist-packages/ipykernel_launcher.py:38: UserWarning: Module `ConvolutionalNeuralNetwork` has no parameter corresponding to the submodule named `classifier` in the dictionary `params` provided as an argument to `forward()`. Using the default parameters for this submodule. The list of the parameters in `params`: [features.0.weight, features.0.bias, features.2.weight, features.3.weight, features.3.bias, features.5.weight, features.6.weight, features.6.bias, features.8.weight, features.9.weight, features.9.bias, features.11.weight, features.12.weight, features.12.bias, features.14.weight, features.15.weight, features.15.bias, fce.weight, fce.bias].\n"
          ],
          "name": "stderr"
        },
        {
          "output_type": "stream",
          "text": [
            "On Epoch  10\n",
            "Train Loss 0.007816105507887326\n",
            "Validation Accuracy:  24.919872283935547\n",
            "Validation Top3 Accuracy:  47.19551467895508\n",
            "On Epoch  20\n",
            "Train Loss 0.008816789262569867\n",
            "Validation Accuracy:  26.762821197509766\n",
            "Validation Top3 Accuracy:  50.160255432128906\n",
            "On Epoch  30\n",
            "Train Loss 0.008228893176867412\n",
            "Validation Accuracy:  37.5\n",
            "Validation Top3 Accuracy:  60.41666793823242\n",
            "On Epoch  40\n",
            "Train Loss 0.008110045527036373\n",
            "Validation Accuracy:  39.503204345703125\n",
            "Validation Top3 Accuracy:  61.778846740722656\n",
            "On Epoch  50\n",
            "Train Loss 0.006450776655513506\n",
            "Validation Accuracy:  42.14743423461914\n",
            "Validation Top3 Accuracy:  66.18589782714844\n",
            "On Epoch  60\n",
            "Train Loss 0.007470267514387767\n",
            "Validation Accuracy:  42.54807662963867\n",
            "Validation Top3 Accuracy:  66.10576629638672\n",
            "On Epoch  70\n",
            "Train Loss 0.007510226315412766\n",
            "Validation Accuracy:  45.99359130859375\n",
            "Validation Top3 Accuracy:  68.9102554321289\n",
            "On Epoch  80\n",
            "Train Loss 0.006407182305478132\n",
            "Validation Accuracy:  46.47435760498047\n",
            "Validation Top3 Accuracy:  68.50961303710938\n",
            "On Epoch  90\n",
            "Train Loss 0.00817206695389289\n",
            "Validation Accuracy:  47.43589782714844\n",
            "Validation Top3 Accuracy:  70.67308044433594\n",
            "On Epoch  100\n",
            "Train Loss 0.006965646568017128\n",
            "Validation Accuracy:  47.6762809753418\n",
            "Validation Top3 Accuracy:  70.03205108642578\n",
            "On Epoch  110\n",
            "Train Loss 0.008030901877925945\n",
            "Validation Accuracy:  48.47756576538086\n",
            "Validation Top3 Accuracy:  72.27564239501953\n",
            "On Epoch  120\n",
            "Train Loss 0.0070696876455958076\n",
            "Validation Accuracy:  48.39743423461914\n",
            "Validation Top3 Accuracy:  72.0352554321289\n",
            "On Epoch  130\n",
            "Train Loss 0.0057441770361784175\n",
            "Validation Accuracy:  48.15705108642578\n",
            "Validation Top3 Accuracy:  71.79486846923828\n",
            "On Epoch  140\n",
            "Train Loss 0.007253790895144145\n",
            "Validation Accuracy:  47.996795654296875\n",
            "Validation Top3 Accuracy:  70.5128173828125\n",
            "On Epoch  150\n",
            "Train Loss 0.006784847937524319\n",
            "Validation Accuracy:  49.11859130859375\n",
            "Validation Top3 Accuracy:  71.47435760498047\n",
            "saving...\n"
          ],
          "name": "stdout"
        }
      ]
    },
    {
      "cell_type": "code",
      "metadata": {
        "colab": {
          "base_uri": "https://localhost:8080/"
        },
        "id": "JVhpl4nR4g6b",
        "outputId": "93e02103-3b96-4cd9-d7eb-7fda04926ee7"
      },
      "source": [
        "acc,topk=make_test(model=modelnk, testloader=test_loader)"
      ],
      "execution_count": 20,
      "outputs": [
        {
          "output_type": "stream",
          "text": [
            "Test Accuracy:  52.473793029785156\n",
            "Test Top3 Accuracy:  75.0913314819336\n"
          ],
          "name": "stdout"
        }
      ]
    },
    {
      "cell_type": "code",
      "metadata": {
        "id": "qMUOAPwm_io6"
      },
      "source": [
        ""
      ],
      "execution_count": 20,
      "outputs": []
    },
    {
      "cell_type": "markdown",
      "metadata": {
        "id": "NMcY3zQPdrJK"
      },
      "source": [
        "## RESISC CNN with Augs\n",
        "\n",
        "---"
      ]
    },
    {
      "cell_type": "code",
      "metadata": {
        "id": "YBrfnYVfdd5e",
        "colab": {
          "base_uri": "https://localhost:8080/"
        },
        "outputId": "f9d7e1b7-fece-4f2c-f68c-abaf23403408"
      },
      "source": [
        "mtype='CNN_Aug'\n",
        "train_loader, val_loader, test_loader, c_dim, classes = get_data(dir=dir, mtype=mtype)\n",
        "\n",
        "if First_Train: model, CNN_Aug_loss_tracker, CNN_Aug_val_topks, CNN_Aug_val_accs, epoch_tracker = train(n_epochs=n_epochs, \n",
        "                                                                learning_rate=CNN_learning_rate, \n",
        "                                                                learning_rate1=CNN_learning_rate, \n",
        "                                                                train_loader=train_loader, \n",
        "                                                                val_loader=val_loader, \n",
        "                                                                c_dim=c_dim, \n",
        "                                                                mtype=mtype,print_stride1=print_stride)\n",
        "else: \n",
        "    model = get_model(mtype)\n",
        "    CNN_Aug_loss_tracker=np.load(dir+mtype+'_loss_tracker.npy')\n",
        "    CNN_Aug_val_topks=np.load(dir+mtype+'_val_topks.npy')\n",
        "    CNN_Aug_val_accs=np.load(dir+mtype+'_val_accs.npy')"
      ],
      "execution_count": 21,
      "outputs": [
        {
          "output_type": "stream",
          "text": [
            "/usr/local/lib/python3.7/dist-packages/ipykernel_launcher.py:69: UserWarning: To copy construct from a tensor, it is recommended to use sourceTensor.clone().detach() or sourceTensor.clone().detach().requires_grad_(True), rather than torch.tensor(sourceTensor).\n"
          ],
          "name": "stderr"
        },
        {
          "output_type": "stream",
          "text": [
            "Epoch 10 - loss: 0.087\n",
            "Validation Accuracy:  33.73397445678711\n",
            "Validation Top3 Accuracy:  57.0512809753418\n",
            "Epoch 20 - loss: 0.080\n",
            "Validation Accuracy:  42.86859130859375\n",
            "Validation Top3 Accuracy:  66.58654022216797\n",
            "Epoch 30 - loss: 0.076\n",
            "Validation Accuracy:  48.07692337036133\n",
            "Validation Top3 Accuracy:  71.15384674072266\n",
            "Epoch 40 - loss: 0.072\n",
            "Validation Accuracy:  55.528846740722656\n",
            "Validation Top3 Accuracy:  77.48397064208984\n",
            "Epoch 50 - loss: 0.068\n",
            "Validation Accuracy:  56.971153259277344\n",
            "Validation Top3 Accuracy:  79.32691955566406\n",
            "Epoch 60 - loss: 0.062\n",
            "Validation Accuracy:  61.61859130859375\n",
            "Validation Top3 Accuracy:  83.33333587646484\n",
            "Epoch 70 - loss: 0.067\n",
            "Validation Accuracy:  64.82371520996094\n",
            "Validation Top3 Accuracy:  83.57371520996094\n",
            "Epoch 80 - loss: 0.064\n",
            "Validation Accuracy:  65.06410217285156\n",
            "Validation Top3 Accuracy:  84.77564239501953\n",
            "Epoch 90 - loss: 0.065\n",
            "Validation Accuracy:  64.98397064208984\n",
            "Validation Top3 Accuracy:  84.93589782714844\n",
            "Epoch 100 - loss: 0.061\n",
            "Validation Accuracy:  63.38140869140625\n",
            "Validation Top3 Accuracy:  85.01602935791016\n",
            "Epoch 110 - loss: 0.061\n",
            "Validation Accuracy:  66.82691955566406\n",
            "Validation Top3 Accuracy:  86.77884674072266\n",
            "Epoch 120 - loss: 0.058\n",
            "Validation Accuracy:  66.82691955566406\n",
            "Validation Top3 Accuracy:  86.21794891357422\n",
            "Epoch 130 - loss: 0.062\n",
            "Validation Accuracy:  67.62820434570312\n",
            "Validation Top3 Accuracy:  88.14102935791016\n",
            "Epoch 140 - loss: 0.063\n",
            "Validation Accuracy:  65.70513153076172\n",
            "Validation Top3 Accuracy:  86.1378173828125\n",
            "Epoch 150 - loss: 0.054\n",
            "Validation Accuracy:  67.62820434570312\n",
            "Validation Top3 Accuracy:  86.93910217285156\n",
            "saving...\n"
          ],
          "name": "stdout"
        }
      ]
    },
    {
      "cell_type": "code",
      "metadata": {
        "id": "O5LMBVyhddUP",
        "colab": {
          "base_uri": "https://localhost:8080/"
        },
        "outputId": "56fe774a-ce86-432f-9b03-4cba29eb5bda"
      },
      "source": [
        "acc,topk = make_test(model=model, testloader=test_loader,get_worse=True)"
      ],
      "execution_count": 22,
      "outputs": [
        {
          "output_type": "stream",
          "text": [
            "Test Accuracy:  71.49380493164062\n",
            "Test Top3 Accuracy:  88.50460815429688\n",
            "16 = Best Task ID \n",
            "113 = Worst Task ID \n"
          ],
          "name": "stdout"
        }
      ]
    },
    {
      "cell_type": "markdown",
      "metadata": {
        "id": "o7LZFPmrFnXU"
      },
      "source": [
        "## RESISC CNN no Augs\n",
        "\n",
        "---"
      ]
    },
    {
      "cell_type": "code",
      "metadata": {
        "id": "xC3Gm029Fn5Z",
        "colab": {
          "base_uri": "https://localhost:8080/"
        },
        "outputId": "fe080080-7095-4608-fd46-0f57f7624f4b"
      },
      "source": [
        "mtype='CNN'\n",
        "train_loader, val_loader, test_loader, c_dim, classes = get_data(dir=dir, mtype=mtype)\n",
        "\n",
        "if First_Train: model, CNN_loss_tracker, CNN_val_topks, CNN_val_accs, epoch_tracker = train(n_epochs=n_epochs, \n",
        "                                                                learning_rate=CNN_learning_rate, \n",
        "                                                                learning_rate1=CNN_learning_rate, \n",
        "                                                                train_loader=train_loader, \n",
        "                                                                val_loader=val_loader, \n",
        "                                                                c_dim=c_dim, \n",
        "                                                                mtype=mtype,\n",
        "                                                                augs=False,print_stride1=print_stride)\n",
        "else: \n",
        "    model = get_model(mtype)\n",
        "    CNN_loss_tracker=np.load(dir+mtype+'_loss_tracker.npy')\n",
        "    CNN_val_topks=np.load(dir+mtype+'_val_topks.npy')\n",
        "    CNN_val_accs=np.load(dir+mtype+'_val_accs.npy')"
      ],
      "execution_count": 23,
      "outputs": [
        {
          "output_type": "stream",
          "text": [
            "/usr/local/lib/python3.7/dist-packages/ipykernel_launcher.py:69: UserWarning: To copy construct from a tensor, it is recommended to use sourceTensor.clone().detach() or sourceTensor.clone().detach().requires_grad_(True), rather than torch.tensor(sourceTensor).\n"
          ],
          "name": "stderr"
        },
        {
          "output_type": "stream",
          "text": [
            "Epoch 10 - loss: 0.001\n",
            "Validation Accuracy:  32.77243423461914\n",
            "Validation Top3 Accuracy:  52.72435760498047\n",
            "Epoch 20 - loss: 0.003\n",
            "Validation Accuracy:  26.121795654296875\n",
            "Validation Top3 Accuracy:  46.63461685180664\n",
            "Epoch 30 - loss: 0.004\n",
            "Validation Accuracy:  26.602563858032227\n",
            "Validation Top3 Accuracy:  44.471153259277344\n",
            "Epoch 40 - loss: 0.003\n",
            "Validation Accuracy:  24.118589401245117\n",
            "Validation Top3 Accuracy:  42.628204345703125\n",
            "Epoch 50 - loss: 0.000\n",
            "Validation Accuracy:  27.32371711730957\n",
            "Validation Top3 Accuracy:  44.71154022216797\n",
            "Epoch 60 - loss: 0.000\n",
            "Validation Accuracy:  28.76602554321289\n",
            "Validation Top3 Accuracy:  46.55448532104492\n",
            "Epoch 70 - loss: 0.000\n",
            "Validation Accuracy:  28.846153259277344\n",
            "Validation Top3 Accuracy:  46.394229888916016\n",
            "Epoch 80 - loss: 0.078\n",
            "Validation Accuracy:  19.711538314819336\n",
            "Validation Top3 Accuracy:  35.89743423461914\n",
            "Epoch 90 - loss: 0.027\n",
            "Validation Accuracy:  24.679487228393555\n",
            "Validation Top3 Accuracy:  41.987178802490234\n",
            "Epoch 100 - loss: 0.007\n",
            "Validation Accuracy:  21.875\n",
            "Validation Top3 Accuracy:  40.86538314819336\n",
            "Epoch 110 - loss: 0.002\n",
            "Validation Accuracy:  22.996795654296875\n",
            "Validation Top3 Accuracy:  39.42307662963867\n",
            "Epoch 120 - loss: 0.002\n",
            "Validation Accuracy:  20.993589401245117\n",
            "Validation Top3 Accuracy:  36.778846740722656\n",
            "Epoch 130 - loss: 0.001\n",
            "Validation Accuracy:  22.355770111083984\n",
            "Validation Top3 Accuracy:  39.74359130859375\n",
            "Epoch 140 - loss: 0.001\n",
            "Validation Accuracy:  23.55769157409668\n",
            "Validation Top3 Accuracy:  40.70512771606445\n",
            "Epoch 150 - loss: 0.002\n",
            "Validation Accuracy:  21.794872283935547\n",
            "Validation Top3 Accuracy:  40.30448532104492\n",
            "saving...\n"
          ],
          "name": "stdout"
        }
      ]
    },
    {
      "cell_type": "code",
      "metadata": {
        "id": "EtvRy9hYFofR",
        "colab": {
          "base_uri": "https://localhost:8080/"
        },
        "outputId": "4a64e8a9-8b5f-42ad-c452-d9fbbb8e215a"
      },
      "source": [
        "acc,topk = make_test(model=model, testloader=test_loader,get_worse=True)"
      ],
      "execution_count": 24,
      "outputs": [
        {
          "output_type": "stream",
          "text": [
            "Test Accuracy:  23.415660858154297\n",
            "Test Top3 Accuracy:  41.51048278808594\n",
            "10 = Best Task ID \n",
            "39 = Worst Task ID \n"
          ],
          "name": "stdout"
        }
      ]
    },
    {
      "cell_type": "markdown",
      "metadata": {
        "id": "unkZk4GZuimF"
      },
      "source": [
        "## RESISC CHARTS\n",
        "\n",
        "---"
      ]
    },
    {
      "cell_type": "code",
      "metadata": {
        "id": "_IMop6hcddro",
        "colab": {
          "base_uri": "https://localhost:8080/",
          "height": 483
        },
        "outputId": "53b54999-155f-4322-c34d-7886a31c2f78"
      },
      "source": [
        "make_train_plot(MAML_loss_tracker, CNN_Aug_loss_tracker, CNN_loss_tracker, MAML_val_accs, CNN_Aug_val_accs, CNN_val_accs, MAML_val_topks, CNN_Aug_val_topks, CNN_val_topks, epoch_tracker,MAML_loss_tracker2,MAML_val_accs2,MAML_val_topks2,MAML_nk_loss_tracker, MAML_nk_val_accs, MAML_nk_val_topks\n",
        ")"
      ],
      "execution_count": 25,
      "outputs": [
        {
          "output_type": "display_data",
          "data": {
            "image/png": "[encoded data removed]",
            "text/plain": [
              "<Figure size 1080x576 with 1 Axes>"
            ]
          },
          "metadata": {
            "tags": [],
            "needs_background": "light"
          }
        }
      ]
    },
    {
      "cell_type": "code",
      "metadata": {
        "id": "4LZNyxMlddjY",
        "colab": {
          "base_uri": "https://localhost:8080/",
          "height": 585
        },
        "outputId": "8bbbc580-2e31-4d0b-d364-13d7ecb50ae7"
      },
      "source": [
        "make_two_plots(epoch_tracker, MAML_loss_tracker, CNN_Aug_loss_tracker, CNN_loss_tracker, MAML_val_accs, CNN_Aug_val_accs, CNN_val_accs,MAML_loss_tracker2,MAML_val_accs2,MAML_val_topks2)"
      ],
      "execution_count": 26,
      "outputs": [
        {
          "output_type": "display_data",
          "data": {
            "image/png": "[encoded data removed]",
            "text/plain": [
              "<Figure size 1080x576 with 2 Axes>"
            ]
          },
          "metadata": {
            "tags": [],
            "needs_background": "light"
          }
        }
      ]
    },
    {
      "cell_type": "markdown",
      "metadata": {
        "id": "Ofi4ngKHLmtn"
      },
      "source": [
        "## UC MERCED\n",
        "\n",
        "---"
      ]
    },
    {
      "cell_type": "code",
      "metadata": {
        "id": "TYDwEsFrLtbJ"
      },
      "source": [
        "UC_MAML_learning_rate = 0.0006\n",
        "UC_CNN_learning_rate = 0.0006\n",
        "UC_epochs = 3\n",
        "UC_batch_size = 32\n",
        "\n",
        "UC_data = np.load(dir+'UCMerced_images96.npy')\n",
        "UC_labels = np.load(dir+'UCMerced_classes.npy')\n",
        "UC_classes = np.load(dir+'UCMerced_class_names.npy')\n",
        "\n",
        "UC_train_data, UC_test_data, UC_train_labels, UC_test_labels = train_test_split(UC_data, UC_labels, test_size = 0.8, stratify = UC_labels)\n",
        "\n",
        "UCtrainset = make_dataset(UC_train_data, UC_train_labels)\n",
        "UCtrain_loader = DataLoader(UCtrainset, batch_size=int(batch_size), shuffle=True)\n",
        "\n",
        "UCtestset = make_dataset(UC_test_data, UC_test_labels)\n",
        "UCtest_loader = torch.utils.data.DataLoader(UCtestset, batch_size, drop_last = True, shuffle=True)\n",
        "\n",
        "def UC_get_data():\n",
        "    UC_data = np.load(dir+'UCMerced_images96.npy')\n",
        "    UC_labels = np.load(dir+'UCMerced_classes.npy')\n",
        "    UC_classes = np.load(dir+'UCMerced_class_names.npy')\n",
        "\n",
        "    UC_train_data, UC_test_data, UC_train_labels, UC_test_labels = train_test_split(UC_data, UC_labels, test_size = 0.8, stratify = UC_labels)\n",
        "\n",
        "    UCtrainset = make_dataset(UC_train_data, UC_train_labels)\n",
        "    UCtrain_loader = DataLoader(UCtrainset, batch_size=int(batch_size), shuffle=True)\n",
        "\n",
        "    UCtestset = make_dataset(UC_test_data, UC_test_labels)\n",
        "    UCtest_loader = torch.utils.data.DataLoader(UCtestset, batch_size, drop_last = True, shuffle=True)\n",
        "    return UCtrain_loader, UCtest_loader"
      ],
      "execution_count": 27,
      "outputs": []
    },
    {
      "cell_type": "code",
      "metadata": {
        "id": "4Du65kG5tVef"
      },
      "source": [
        "def UC_train(model1, trainloader, epochs=3, lr=0.0006):\n",
        "    loss_tracker, epoch_tracker,acc_tracker = [], [], []\n",
        "    #model.load('UC')\n",
        "    model = copy.deepcopy(model1).to(device)\n",
        "    model.train()\n",
        "    optimizer = optim.Adam(model.parameters(), lr = lr)\n",
        "    for epoch in range(1, epochs+1):\n",
        "        losses = 0\n",
        "        accs = []\n",
        "        acc = 0\n",
        "\n",
        "        for X, y in trainloader:\n",
        "            y_ = y \n",
        "            y = one_hot_embedding(y.to(device), len(UC_classes)).float()\n",
        "            X = X.float().to(device)\n",
        "            for param in model.parameters(): param.grad = None\n",
        "            yhat = model(X)\n",
        "            pred_loss = bce_loss(yhat, y)\n",
        "            pred_loss.backward()\n",
        "            optimizer.step()\n",
        "            losses += pred_loss.item()\n",
        "           \n",
        "        for x, y in trainloader:\n",
        "            x, y = x.to(device).float(), y.to(device).float()\n",
        "            yhat = model(x)\n",
        "            \n",
        "            yhat_max = torch.max(yhat, dim = 1)[1]\n",
        "            correct = torch.sum(yhat_max == y)\n",
        "            size = x.shape[0]            \n",
        "            accs.append(100*(correct/size).data.item())\n",
        "        print('UC Epoch ',epoch,\"Train Accuracy: \",torch.mean(torch.FloatTensor(accs)).data.item())\n",
        "        acc_tracker.append(torch.mean(torch.FloatTensor(accs)).data.item())\n",
        "        epoch_tracker.append(epoch)\n",
        "        loss_tracker.append(losses)\n",
        "    return model, epoch_tracker, loss_tracker,acc_tracker\n",
        "def avg_UC_test(mtype,runs,model=None):\n",
        "    model1 = get_model(mtype=mtype,load=True)\n",
        "    if mtype=='MAMLnk':\n",
        "        model1 = model\n",
        "    test_acc,test_topk = [], [] \n",
        "    for _ in range(runs):\n",
        "        model2= copy.deepcopy(model1.to('cpu')).to(device)\n",
        "        UC_MAML_learning_rate = 0.0006\n",
        "        UC_CNN_learning_rate = 0.0006\n",
        "        UC_epochs = 3\n",
        "        UC_batch_size = 32\n",
        "        UCtrain_loader,UCtest_loader = UC_get_data()\n",
        "        model2.fce = nn.Linear(1024, 21)\n",
        "        model2 = model.to(device)\n",
        "        model2, epoch_tracker, CNN_Aug_loss_tracker,CNN_AUG_acc_tracker = UC_train(model1=model2, trainloader=UCtrain_loader, epochs=UC_epochs, lr=UC_CNN_learning_rate)\n",
        "        acc,topk =make_test(model=model2, testloader=UCtest_loader,get_worse=False)\n",
        "        test_acc.append(acc)\n",
        "        test_topk.append(topk)\n",
        "    print(mtype + 'Accuracy on UC as an avg of ',runs,\": \",np.mean(test_acc))\n",
        "    print(mtype + 'TopK on UC as an avg of ',runs,\": \",np.mean(test_topk))"
      ],
      "execution_count": 28,
      "outputs": []
    },
    {
      "cell_type": "code",
      "metadata": {
        "id": "_7zMruiyLtXs",
        "colab": {
          "base_uri": "https://localhost:8080/"
        },
        "outputId": "9dea888b-8baa-40d6-86fd-1a85b12b3555"
      },
      "source": [
        "mtype='MAML'\n",
        "model = get_model(mtype=mtype,load=True)\n",
        "\n",
        "if Freeze:\n",
        "    for param in model.parameters():\n",
        "        param.requires_grad = False\n",
        "\n",
        "model.fce = nn.Linear(1024, 21)\n",
        "model = model.to(device)\n",
        "#model.save('UC'+mtype)\n",
        "\n",
        "model, epoch_tracker, MAML_loss_tracker, MAML_acc_tracker = UC_train(model1=model, trainloader=UCtrain_loader, epochs=UC_epochs, lr=UC_MAML_learning_rate)"
      ],
      "execution_count": 29,
      "outputs": [
        {
          "output_type": "stream",
          "text": [
            "loading...\n"
          ],
          "name": "stdout"
        },
        {
          "output_type": "stream",
          "text": [
            "/usr/local/lib/python3.7/dist-packages/ipykernel_launcher.py:69: UserWarning: To copy construct from a tensor, it is recommended to use sourceTensor.clone().detach() or sourceTensor.clone().detach().requires_grad_(True), rather than torch.tensor(sourceTensor).\n"
          ],
          "name": "stderr"
        },
        {
          "output_type": "stream",
          "text": [
            "UC Epoch  1 Train Accuracy:  71.65178680419922\n",
            "UC Epoch  2 Train Accuracy:  79.46428680419922\n",
            "UC Epoch  3 Train Accuracy:  92.1875\n"
          ],
          "name": "stdout"
        }
      ]
    },
    {
      "cell_type": "code",
      "metadata": {
        "id": "wepsXFE7LtRj",
        "colab": {
          "base_uri": "https://localhost:8080/"
        },
        "outputId": "0b4532bd-dc3d-4565-c69d-76a126556f8f"
      },
      "source": [
        "acc,topk = make_test(model=model, testloader=UCtest_loader,get_worse=False)\n",
        "avg_UC_test('MAML',20)\n"
      ],
      "execution_count": 30,
      "outputs": [
        {
          "output_type": "stream",
          "text": [
            "Test Accuracy:  71.81490325927734\n",
            "Test Top3 Accuracy:  91.28605651855469\n",
            "loading...\n"
          ],
          "name": "stdout"
        },
        {
          "output_type": "stream",
          "text": [
            "/usr/local/lib/python3.7/dist-packages/ipykernel_launcher.py:69: UserWarning: To copy construct from a tensor, it is recommended to use sourceTensor.clone().detach() or sourceTensor.clone().detach().requires_grad_(True), rather than torch.tensor(sourceTensor).\n"
          ],
          "name": "stderr"
        },
        {
          "output_type": "stream",
          "text": [
            "UC Epoch  1 Train Accuracy:  71.875\n",
            "UC Epoch  2 Train Accuracy:  87.5\n",
            "UC Epoch  3 Train Accuracy:  88.61607360839844\n",
            "Test Accuracy:  71.69470977783203\n",
            "Test Top3 Accuracy:  92.1875\n"
          ],
          "name": "stdout"
        },
        {
          "output_type": "stream",
          "text": [
            "/usr/local/lib/python3.7/dist-packages/ipykernel_launcher.py:69: UserWarning: To copy construct from a tensor, it is recommended to use sourceTensor.clone().detach() or sourceTensor.clone().detach().requires_grad_(True), rather than torch.tensor(sourceTensor).\n"
          ],
          "name": "stderr"
        },
        {
          "output_type": "stream",
          "text": [
            "UC Epoch  1 Train Accuracy:  66.96428680419922\n",
            "UC Epoch  2 Train Accuracy:  82.36607360839844\n",
            "UC Epoch  3 Train Accuracy:  87.72321319580078\n",
            "Test Accuracy:  71.45433044433594\n",
            "Test Top3 Accuracy:  90.08413696289062\n"
          ],
          "name": "stdout"
        },
        {
          "output_type": "stream",
          "text": [
            "/usr/local/lib/python3.7/dist-packages/ipykernel_launcher.py:69: UserWarning: To copy construct from a tensor, it is recommended to use sourceTensor.clone().detach() or sourceTensor.clone().detach().requires_grad_(True), rather than torch.tensor(sourceTensor).\n"
          ],
          "name": "stderr"
        },
        {
          "output_type": "stream",
          "text": [
            "UC Epoch  1 Train Accuracy:  66.96428680419922\n",
            "UC Epoch  2 Train Accuracy:  83.25892639160156\n",
            "UC Epoch  3 Train Accuracy:  92.41071319580078\n",
            "Test Accuracy:  74.45913696289062\n",
            "Test Top3 Accuracy:  92.24759674072266\n"
          ],
          "name": "stdout"
        },
        {
          "output_type": "stream",
          "text": [
            "/usr/local/lib/python3.7/dist-packages/ipykernel_launcher.py:69: UserWarning: To copy construct from a tensor, it is recommended to use sourceTensor.clone().detach() or sourceTensor.clone().detach().requires_grad_(True), rather than torch.tensor(sourceTensor).\n"
          ],
          "name": "stderr"
        },
        {
          "output_type": "stream",
          "text": [
            "UC Epoch  1 Train Accuracy:  68.52678680419922\n",
            "UC Epoch  2 Train Accuracy:  83.48213958740234\n",
            "UC Epoch  3 Train Accuracy:  91.51786041259766\n",
            "Test Accuracy:  71.39423370361328\n",
            "Test Top3 Accuracy:  92.72836303710938\n"
          ],
          "name": "stdout"
        },
        {
          "output_type": "stream",
          "text": [
            "/usr/local/lib/python3.7/dist-packages/ipykernel_launcher.py:69: UserWarning: To copy construct from a tensor, it is recommended to use sourceTensor.clone().detach() or sourceTensor.clone().detach().requires_grad_(True), rather than torch.tensor(sourceTensor).\n"
          ],
          "name": "stderr"
        },
        {
          "output_type": "stream",
          "text": [
            "UC Epoch  1 Train Accuracy:  67.63392639160156\n",
            "UC Epoch  2 Train Accuracy:  81.02678680419922\n",
            "UC Epoch  3 Train Accuracy:  91.51786041259766\n",
            "Test Accuracy:  70.85336303710938\n",
            "Test Top3 Accuracy:  92.06730651855469\n"
          ],
          "name": "stdout"
        },
        {
          "output_type": "stream",
          "text": [
            "/usr/local/lib/python3.7/dist-packages/ipykernel_launcher.py:69: UserWarning: To copy construct from a tensor, it is recommended to use sourceTensor.clone().detach() or sourceTensor.clone().detach().requires_grad_(True), rather than torch.tensor(sourceTensor).\n"
          ],
          "name": "stderr"
        },
        {
          "output_type": "stream",
          "text": [
            "UC Epoch  1 Train Accuracy:  71.20536041259766\n",
            "UC Epoch  2 Train Accuracy:  81.02678680419922\n",
            "UC Epoch  3 Train Accuracy:  85.71428680419922\n",
            "Test Accuracy:  73.31730651855469\n",
            "Test Top3 Accuracy:  92.90865325927734\n"
          ],
          "name": "stdout"
        },
        {
          "output_type": "stream",
          "text": [
            "/usr/local/lib/python3.7/dist-packages/ipykernel_launcher.py:69: UserWarning: To copy construct from a tensor, it is recommended to use sourceTensor.clone().detach() or sourceTensor.clone().detach().requires_grad_(True), rather than torch.tensor(sourceTensor).\n"
          ],
          "name": "stderr"
        },
        {
          "output_type": "stream",
          "text": [
            "UC Epoch  1 Train Accuracy:  69.41963958740234\n",
            "UC Epoch  2 Train Accuracy:  79.24107360839844\n",
            "UC Epoch  3 Train Accuracy:  89.73213958740234\n",
            "Test Accuracy:  73.31730651855469\n",
            "Test Top3 Accuracy:  93.08894348144531\n"
          ],
          "name": "stdout"
        },
        {
          "output_type": "stream",
          "text": [
            "/usr/local/lib/python3.7/dist-packages/ipykernel_launcher.py:69: UserWarning: To copy construct from a tensor, it is recommended to use sourceTensor.clone().detach() or sourceTensor.clone().detach().requires_grad_(True), rather than torch.tensor(sourceTensor).\n"
          ],
          "name": "stderr"
        },
        {
          "output_type": "stream",
          "text": [
            "UC Epoch  1 Train Accuracy:  68.75\n",
            "UC Epoch  2 Train Accuracy:  82.58928680419922\n",
            "UC Epoch  3 Train Accuracy:  88.16963958740234\n",
            "Test Accuracy:  71.99519348144531\n",
            "Test Top3 Accuracy:  92.96875\n"
          ],
          "name": "stdout"
        },
        {
          "output_type": "stream",
          "text": [
            "/usr/local/lib/python3.7/dist-packages/ipykernel_launcher.py:69: UserWarning: To copy construct from a tensor, it is recommended to use sourceTensor.clone().detach() or sourceTensor.clone().detach().requires_grad_(True), rather than torch.tensor(sourceTensor).\n"
          ],
          "name": "stderr"
        },
        {
          "output_type": "stream",
          "text": [
            "UC Epoch  1 Train Accuracy:  65.625\n",
            "UC Epoch  2 Train Accuracy:  83.92857360839844\n",
            "UC Epoch  3 Train Accuracy:  93.75\n",
            "Test Accuracy:  70.43269348144531\n",
            "Test Top3 Accuracy:  91.04566955566406\n"
          ],
          "name": "stdout"
        },
        {
          "output_type": "stream",
          "text": [
            "/usr/local/lib/python3.7/dist-packages/ipykernel_launcher.py:69: UserWarning: To copy construct from a tensor, it is recommended to use sourceTensor.clone().detach() or sourceTensor.clone().detach().requires_grad_(True), rather than torch.tensor(sourceTensor).\n"
          ],
          "name": "stderr"
        },
        {
          "output_type": "stream",
          "text": [
            "UC Epoch  1 Train Accuracy:  65.625\n",
            "UC Epoch  2 Train Accuracy:  78.125\n",
            "UC Epoch  3 Train Accuracy:  90.625\n",
            "Test Accuracy:  70.55288696289062\n",
            "Test Top3 Accuracy:  91.46634674072266\n"
          ],
          "name": "stdout"
        },
        {
          "output_type": "stream",
          "text": [
            "/usr/local/lib/python3.7/dist-packages/ipykernel_launcher.py:69: UserWarning: To copy construct from a tensor, it is recommended to use sourceTensor.clone().detach() or sourceTensor.clone().detach().requires_grad_(True), rather than torch.tensor(sourceTensor).\n"
          ],
          "name": "stderr"
        },
        {
          "output_type": "stream",
          "text": [
            "UC Epoch  1 Train Accuracy:  66.51786041259766\n",
            "UC Epoch  2 Train Accuracy:  79.6875\n",
            "UC Epoch  3 Train Accuracy:  87.94642639160156\n",
            "Test Accuracy:  70.73316955566406\n",
            "Test Top3 Accuracy:  89.72355651855469\n"
          ],
          "name": "stdout"
        },
        {
          "output_type": "stream",
          "text": [
            "/usr/local/lib/python3.7/dist-packages/ipykernel_launcher.py:69: UserWarning: To copy construct from a tensor, it is recommended to use sourceTensor.clone().detach() or sourceTensor.clone().detach().requires_grad_(True), rather than torch.tensor(sourceTensor).\n"
          ],
          "name": "stderr"
        },
        {
          "output_type": "stream",
          "text": [
            "UC Epoch  1 Train Accuracy:  67.41071319580078\n",
            "UC Epoch  2 Train Accuracy:  81.25\n",
            "UC Epoch  3 Train Accuracy:  91.96428680419922\n",
            "Test Accuracy:  72.53605651855469\n",
            "Test Top3 Accuracy:  90.98558044433594\n"
          ],
          "name": "stdout"
        },
        {
          "output_type": "stream",
          "text": [
            "/usr/local/lib/python3.7/dist-packages/ipykernel_launcher.py:69: UserWarning: To copy construct from a tensor, it is recommended to use sourceTensor.clone().detach() or sourceTensor.clone().detach().requires_grad_(True), rather than torch.tensor(sourceTensor).\n"
          ],
          "name": "stderr"
        },
        {
          "output_type": "stream",
          "text": [
            "UC Epoch  1 Train Accuracy:  69.41963958740234\n",
            "UC Epoch  2 Train Accuracy:  83.25892639160156\n",
            "UC Epoch  3 Train Accuracy:  92.41071319580078\n",
            "Test Accuracy:  72.41586303710938\n",
            "Test Top3 Accuracy:  90.92548370361328\n"
          ],
          "name": "stdout"
        },
        {
          "output_type": "stream",
          "text": [
            "/usr/local/lib/python3.7/dist-packages/ipykernel_launcher.py:69: UserWarning: To copy construct from a tensor, it is recommended to use sourceTensor.clone().detach() or sourceTensor.clone().detach().requires_grad_(True), rather than torch.tensor(sourceTensor).\n"
          ],
          "name": "stderr"
        },
        {
          "output_type": "stream",
          "text": [
            "UC Epoch  1 Train Accuracy:  68.75\n",
            "UC Epoch  2 Train Accuracy:  80.35713958740234\n",
            "UC Epoch  3 Train Accuracy:  89.73213958740234\n",
            "Test Accuracy:  72.59615325927734\n",
            "Test Top3 Accuracy:  92.06730651855469\n"
          ],
          "name": "stdout"
        },
        {
          "output_type": "stream",
          "text": [
            "/usr/local/lib/python3.7/dist-packages/ipykernel_launcher.py:69: UserWarning: To copy construct from a tensor, it is recommended to use sourceTensor.clone().detach() or sourceTensor.clone().detach().requires_grad_(True), rather than torch.tensor(sourceTensor).\n"
          ],
          "name": "stderr"
        },
        {
          "output_type": "stream",
          "text": [
            "UC Epoch  1 Train Accuracy:  70.53571319580078\n",
            "UC Epoch  2 Train Accuracy:  83.70536041259766\n",
            "UC Epoch  3 Train Accuracy:  90.40178680419922\n",
            "Test Accuracy:  71.03365325927734\n",
            "Test Top3 Accuracy:  92.36779022216797\n"
          ],
          "name": "stdout"
        },
        {
          "output_type": "stream",
          "text": [
            "/usr/local/lib/python3.7/dist-packages/ipykernel_launcher.py:69: UserWarning: To copy construct from a tensor, it is recommended to use sourceTensor.clone().detach() or sourceTensor.clone().detach().requires_grad_(True), rather than torch.tensor(sourceTensor).\n"
          ],
          "name": "stderr"
        },
        {
          "output_type": "stream",
          "text": [
            "UC Epoch  1 Train Accuracy:  68.75\n",
            "UC Epoch  2 Train Accuracy:  82.36607360839844\n",
            "UC Epoch  3 Train Accuracy:  91.74107360839844\n",
            "Test Accuracy:  73.13701629638672\n",
            "Test Top3 Accuracy:  91.34615325927734\n"
          ],
          "name": "stdout"
        },
        {
          "output_type": "stream",
          "text": [
            "/usr/local/lib/python3.7/dist-packages/ipykernel_launcher.py:69: UserWarning: To copy construct from a tensor, it is recommended to use sourceTensor.clone().detach() or sourceTensor.clone().detach().requires_grad_(True), rather than torch.tensor(sourceTensor).\n"
          ],
          "name": "stderr"
        },
        {
          "output_type": "stream",
          "text": [
            "UC Epoch  1 Train Accuracy:  65.40178680419922\n",
            "UC Epoch  2 Train Accuracy:  82.58928680419922\n",
            "UC Epoch  3 Train Accuracy:  93.30357360839844\n",
            "Test Accuracy:  71.21394348144531\n",
            "Test Top3 Accuracy:  91.04566955566406\n"
          ],
          "name": "stdout"
        },
        {
          "output_type": "stream",
          "text": [
            "/usr/local/lib/python3.7/dist-packages/ipykernel_launcher.py:69: UserWarning: To copy construct from a tensor, it is recommended to use sourceTensor.clone().detach() or sourceTensor.clone().detach().requires_grad_(True), rather than torch.tensor(sourceTensor).\n"
          ],
          "name": "stderr"
        },
        {
          "output_type": "stream",
          "text": [
            "UC Epoch  1 Train Accuracy:  68.30357360839844\n",
            "UC Epoch  2 Train Accuracy:  80.13392639160156\n",
            "UC Epoch  3 Train Accuracy:  91.96428680419922\n",
            "Test Accuracy:  70.49279022216797\n",
            "Test Top3 Accuracy:  91.76683044433594\n"
          ],
          "name": "stdout"
        },
        {
          "output_type": "stream",
          "text": [
            "/usr/local/lib/python3.7/dist-packages/ipykernel_launcher.py:69: UserWarning: To copy construct from a tensor, it is recommended to use sourceTensor.clone().detach() or sourceTensor.clone().detach().requires_grad_(True), rather than torch.tensor(sourceTensor).\n"
          ],
          "name": "stderr"
        },
        {
          "output_type": "stream",
          "text": [
            "UC Epoch  1 Train Accuracy:  73.4375\n",
            "UC Epoch  2 Train Accuracy:  87.05357360839844\n",
            "UC Epoch  3 Train Accuracy:  94.19642639160156\n",
            "Test Accuracy:  74.75961303710938\n",
            "Test Top3 Accuracy:  92.78845977783203\n"
          ],
          "name": "stdout"
        },
        {
          "output_type": "stream",
          "text": [
            "/usr/local/lib/python3.7/dist-packages/ipykernel_launcher.py:69: UserWarning: To copy construct from a tensor, it is recommended to use sourceTensor.clone().detach() or sourceTensor.clone().detach().requires_grad_(True), rather than torch.tensor(sourceTensor).\n"
          ],
          "name": "stderr"
        },
        {
          "output_type": "stream",
          "text": [
            "UC Epoch  1 Train Accuracy:  69.64286041259766\n",
            "UC Epoch  2 Train Accuracy:  79.91071319580078\n",
            "UC Epoch  3 Train Accuracy:  90.40178680419922\n",
            "Test Accuracy:  70.49279022216797\n",
            "Test Top3 Accuracy:  91.04566955566406\n",
            "MAMLAccuracy on UC as an avg of  20 :  71.9441104888916\n",
            "MAMLTopK on UC as an avg of  20 :  91.74278831481934\n"
          ],
          "name": "stdout"
        }
      ]
    },
    {
      "cell_type": "code",
      "metadata": {
        "id": "axX-Telin6aG",
        "colab": {
          "base_uri": "https://localhost:8080/"
        },
        "outputId": "44cdee92-2ed9-42c7-84f9-0fbfc185d41f"
      },
      "source": [
        "mtype='MAML2'\n",
        "model = get_model(mtype=mtype,load=True)\n",
        "\n",
        "if Freeze:\n",
        "    for param in model.parameters():\n",
        "        param.requires_grad = False\n",
        "\n",
        "model.fce = nn.Linear(1024, 21)\n",
        "model = model.to(device)\n",
        "#model.save('UC'+mtype)\n",
        "\n",
        "model, epoch_tracker, MAML_loss_tracker2,MAML2_acc_tracker = UC_train(model1=model, trainloader=UCtrain_loader, epochs=UC_epochs, lr=UC_MAML_learning_rate)"
      ],
      "execution_count": 31,
      "outputs": [
        {
          "output_type": "stream",
          "text": [
            "loading...\n"
          ],
          "name": "stdout"
        },
        {
          "output_type": "stream",
          "text": [
            "/usr/local/lib/python3.7/dist-packages/ipykernel_launcher.py:69: UserWarning: To copy construct from a tensor, it is recommended to use sourceTensor.clone().detach() or sourceTensor.clone().detach().requires_grad_(True), rather than torch.tensor(sourceTensor).\n"
          ],
          "name": "stderr"
        },
        {
          "output_type": "stream",
          "text": [
            "UC Epoch  1 Train Accuracy:  75.66963958740234\n",
            "UC Epoch  2 Train Accuracy:  86.60713958740234\n",
            "UC Epoch  3 Train Accuracy:  93.30357360839844\n"
          ],
          "name": "stdout"
        }
      ]
    },
    {
      "cell_type": "code",
      "metadata": {
        "colab": {
          "base_uri": "https://localhost:8080/"
        },
        "id": "zLxbuvaOfMK5",
        "outputId": "1ecdc39a-aa72-4f51-9047-befa67ef0363"
      },
      "source": [
        "acc,topk =make_test(model=model, testloader=UCtest_loader,get_worse=False)\n",
        "avg_UC_test('MAML2',20)"
      ],
      "execution_count": 32,
      "outputs": [
        {
          "output_type": "stream",
          "text": [
            "Test Accuracy:  75.0\n",
            "Test Top3 Accuracy:  93.02884674072266\n",
            "loading...\n"
          ],
          "name": "stdout"
        },
        {
          "output_type": "stream",
          "text": [
            "/usr/local/lib/python3.7/dist-packages/ipykernel_launcher.py:69: UserWarning: To copy construct from a tensor, it is recommended to use sourceTensor.clone().detach() or sourceTensor.clone().detach().requires_grad_(True), rather than torch.tensor(sourceTensor).\n"
          ],
          "name": "stderr"
        },
        {
          "output_type": "stream",
          "text": [
            "UC Epoch  1 Train Accuracy:  70.75892639160156\n",
            "UC Epoch  2 Train Accuracy:  85.26786041259766\n",
            "UC Epoch  3 Train Accuracy:  92.63392639160156\n",
            "Test Accuracy:  76.02163696289062\n",
            "Test Top3 Accuracy:  93.56970977783203\n"
          ],
          "name": "stdout"
        },
        {
          "output_type": "stream",
          "text": [
            "/usr/local/lib/python3.7/dist-packages/ipykernel_launcher.py:69: UserWarning: To copy construct from a tensor, it is recommended to use sourceTensor.clone().detach() or sourceTensor.clone().detach().requires_grad_(True), rather than torch.tensor(sourceTensor).\n"
          ],
          "name": "stderr"
        },
        {
          "output_type": "stream",
          "text": [
            "UC Epoch  1 Train Accuracy:  76.33928680419922\n",
            "UC Epoch  2 Train Accuracy:  92.41071319580078\n",
            "UC Epoch  3 Train Accuracy:  97.54463958740234\n",
            "Test Accuracy:  76.86298370361328\n",
            "Test Top3 Accuracy:  95.61298370361328\n"
          ],
          "name": "stdout"
        },
        {
          "output_type": "stream",
          "text": [
            "/usr/local/lib/python3.7/dist-packages/ipykernel_launcher.py:69: UserWarning: To copy construct from a tensor, it is recommended to use sourceTensor.clone().detach() or sourceTensor.clone().detach().requires_grad_(True), rather than torch.tensor(sourceTensor).\n"
          ],
          "name": "stderr"
        },
        {
          "output_type": "stream",
          "text": [
            "UC Epoch  1 Train Accuracy:  77.90178680419922\n",
            "UC Epoch  2 Train Accuracy:  89.28571319580078\n",
            "UC Epoch  3 Train Accuracy:  95.98213958740234\n",
            "Test Accuracy:  75.12019348144531\n",
            "Test Top3 Accuracy:  94.35095977783203\n"
          ],
          "name": "stdout"
        },
        {
          "output_type": "stream",
          "text": [
            "/usr/local/lib/python3.7/dist-packages/ipykernel_launcher.py:69: UserWarning: To copy construct from a tensor, it is recommended to use sourceTensor.clone().detach() or sourceTensor.clone().detach().requires_grad_(True), rather than torch.tensor(sourceTensor).\n"
          ],
          "name": "stderr"
        },
        {
          "output_type": "stream",
          "text": [
            "UC Epoch  1 Train Accuracy:  76.5625\n",
            "UC Epoch  2 Train Accuracy:  88.16963958740234\n",
            "UC Epoch  3 Train Accuracy:  94.41963958740234\n",
            "Test Accuracy:  75.60095977783203\n",
            "Test Top3 Accuracy:  92.84855651855469\n"
          ],
          "name": "stdout"
        },
        {
          "output_type": "stream",
          "text": [
            "/usr/local/lib/python3.7/dist-packages/ipykernel_launcher.py:69: UserWarning: To copy construct from a tensor, it is recommended to use sourceTensor.clone().detach() or sourceTensor.clone().detach().requires_grad_(True), rather than torch.tensor(sourceTensor).\n"
          ],
          "name": "stderr"
        },
        {
          "output_type": "stream",
          "text": [
            "UC Epoch  1 Train Accuracy:  81.47321319580078\n",
            "UC Epoch  2 Train Accuracy:  87.5\n",
            "UC Epoch  3 Train Accuracy:  96.65178680419922\n",
            "Test Accuracy:  77.10336303710938\n",
            "Test Top3 Accuracy:  92.66826629638672\n"
          ],
          "name": "stdout"
        },
        {
          "output_type": "stream",
          "text": [
            "/usr/local/lib/python3.7/dist-packages/ipykernel_launcher.py:69: UserWarning: To copy construct from a tensor, it is recommended to use sourceTensor.clone().detach() or sourceTensor.clone().detach().requires_grad_(True), rather than torch.tensor(sourceTensor).\n"
          ],
          "name": "stderr"
        },
        {
          "output_type": "stream",
          "text": [
            "UC Epoch  1 Train Accuracy:  77.45536041259766\n",
            "UC Epoch  2 Train Accuracy:  88.83928680419922\n",
            "UC Epoch  3 Train Accuracy:  95.08928680419922\n",
            "Test Accuracy:  77.76441955566406\n",
            "Test Top3 Accuracy:  93.02884674072266\n"
          ],
          "name": "stdout"
        },
        {
          "output_type": "stream",
          "text": [
            "/usr/local/lib/python3.7/dist-packages/ipykernel_launcher.py:69: UserWarning: To copy construct from a tensor, it is recommended to use sourceTensor.clone().detach() or sourceTensor.clone().detach().requires_grad_(True), rather than torch.tensor(sourceTensor).\n"
          ],
          "name": "stderr"
        },
        {
          "output_type": "stream",
          "text": [
            "UC Epoch  1 Train Accuracy:  75.89286041259766\n",
            "UC Epoch  2 Train Accuracy:  82.58928680419922\n",
            "UC Epoch  3 Train Accuracy:  92.41071319580078\n",
            "Test Accuracy:  74.87980651855469\n",
            "Test Top3 Accuracy:  92.42788696289062\n"
          ],
          "name": "stdout"
        },
        {
          "output_type": "stream",
          "text": [
            "/usr/local/lib/python3.7/dist-packages/ipykernel_launcher.py:69: UserWarning: To copy construct from a tensor, it is recommended to use sourceTensor.clone().detach() or sourceTensor.clone().detach().requires_grad_(True), rather than torch.tensor(sourceTensor).\n"
          ],
          "name": "stderr"
        },
        {
          "output_type": "stream",
          "text": [
            "UC Epoch  1 Train Accuracy:  67.63392639160156\n",
            "UC Epoch  2 Train Accuracy:  89.73213958740234\n",
            "UC Epoch  3 Train Accuracy:  94.86607360839844\n",
            "Test Accuracy:  76.50240325927734\n",
            "Test Top3 Accuracy:  94.29086303710938\n"
          ],
          "name": "stdout"
        },
        {
          "output_type": "stream",
          "text": [
            "/usr/local/lib/python3.7/dist-packages/ipykernel_launcher.py:69: UserWarning: To copy construct from a tensor, it is recommended to use sourceTensor.clone().detach() or sourceTensor.clone().detach().requires_grad_(True), rather than torch.tensor(sourceTensor).\n"
          ],
          "name": "stderr"
        },
        {
          "output_type": "stream",
          "text": [
            "UC Epoch  1 Train Accuracy:  76.11607360839844\n",
            "UC Epoch  2 Train Accuracy:  87.27678680419922\n",
            "UC Epoch  3 Train Accuracy:  96.875\n",
            "Test Accuracy:  74.39904022216797\n",
            "Test Top3 Accuracy:  92.24759674072266\n"
          ],
          "name": "stdout"
        },
        {
          "output_type": "stream",
          "text": [
            "/usr/local/lib/python3.7/dist-packages/ipykernel_launcher.py:69: UserWarning: To copy construct from a tensor, it is recommended to use sourceTensor.clone().detach() or sourceTensor.clone().detach().requires_grad_(True), rather than torch.tensor(sourceTensor).\n"
          ],
          "name": "stderr"
        },
        {
          "output_type": "stream",
          "text": [
            "UC Epoch  1 Train Accuracy:  73.21428680419922\n",
            "UC Epoch  2 Train Accuracy:  85.04463958740234\n",
            "UC Epoch  3 Train Accuracy:  95.08928680419922\n",
            "Test Accuracy:  78.00480651855469\n",
            "Test Top3 Accuracy:  94.23076629638672\n"
          ],
          "name": "stdout"
        },
        {
          "output_type": "stream",
          "text": [
            "/usr/local/lib/python3.7/dist-packages/ipykernel_launcher.py:69: UserWarning: To copy construct from a tensor, it is recommended to use sourceTensor.clone().detach() or sourceTensor.clone().detach().requires_grad_(True), rather than torch.tensor(sourceTensor).\n"
          ],
          "name": "stderr"
        },
        {
          "output_type": "stream",
          "text": [
            "UC Epoch  1 Train Accuracy:  70.53571319580078\n",
            "UC Epoch  2 Train Accuracy:  86.83036041259766\n",
            "UC Epoch  3 Train Accuracy:  97.32142639160156\n",
            "Test Accuracy:  75.90144348144531\n",
            "Test Top3 Accuracy:  93.50961303710938\n"
          ],
          "name": "stdout"
        },
        {
          "output_type": "stream",
          "text": [
            "/usr/local/lib/python3.7/dist-packages/ipykernel_launcher.py:69: UserWarning: To copy construct from a tensor, it is recommended to use sourceTensor.clone().detach() or sourceTensor.clone().detach().requires_grad_(True), rather than torch.tensor(sourceTensor).\n"
          ],
          "name": "stderr"
        },
        {
          "output_type": "stream",
          "text": [
            "UC Epoch  1 Train Accuracy:  77.00892639160156\n",
            "UC Epoch  2 Train Accuracy:  87.94642639160156\n",
            "UC Epoch  3 Train Accuracy:  96.875\n",
            "Test Accuracy:  78.06490325927734\n",
            "Test Top3 Accuracy:  94.77163696289062\n"
          ],
          "name": "stdout"
        },
        {
          "output_type": "stream",
          "text": [
            "/usr/local/lib/python3.7/dist-packages/ipykernel_launcher.py:69: UserWarning: To copy construct from a tensor, it is recommended to use sourceTensor.clone().detach() or sourceTensor.clone().detach().requires_grad_(True), rather than torch.tensor(sourceTensor).\n"
          ],
          "name": "stderr"
        },
        {
          "output_type": "stream",
          "text": [
            "UC Epoch  1 Train Accuracy:  73.4375\n",
            "UC Epoch  2 Train Accuracy:  85.49107360839844\n",
            "UC Epoch  3 Train Accuracy:  95.3125\n",
            "Test Accuracy:  75.84134674072266\n",
            "Test Top3 Accuracy:  94.83173370361328\n"
          ],
          "name": "stdout"
        },
        {
          "output_type": "stream",
          "text": [
            "/usr/local/lib/python3.7/dist-packages/ipykernel_launcher.py:69: UserWarning: To copy construct from a tensor, it is recommended to use sourceTensor.clone().detach() or sourceTensor.clone().detach().requires_grad_(True), rather than torch.tensor(sourceTensor).\n"
          ],
          "name": "stderr"
        },
        {
          "output_type": "stream",
          "text": [
            "UC Epoch  1 Train Accuracy:  75.0\n",
            "UC Epoch  2 Train Accuracy:  90.84821319580078\n",
            "UC Epoch  3 Train Accuracy:  94.86607360839844\n",
            "Test Accuracy:  76.5625\n",
            "Test Top3 Accuracy:  93.50961303710938\n"
          ],
          "name": "stdout"
        },
        {
          "output_type": "stream",
          "text": [
            "/usr/local/lib/python3.7/dist-packages/ipykernel_launcher.py:69: UserWarning: To copy construct from a tensor, it is recommended to use sourceTensor.clone().detach() or sourceTensor.clone().detach().requires_grad_(True), rather than torch.tensor(sourceTensor).\n"
          ],
          "name": "stderr"
        },
        {
          "output_type": "stream",
          "text": [
            "UC Epoch  1 Train Accuracy:  74.77678680419922\n",
            "UC Epoch  2 Train Accuracy:  87.72321319580078\n",
            "UC Epoch  3 Train Accuracy:  94.19642639160156\n",
            "Test Accuracy:  76.44230651855469\n",
            "Test Top3 Accuracy:  93.08894348144531\n"
          ],
          "name": "stdout"
        },
        {
          "output_type": "stream",
          "text": [
            "/usr/local/lib/python3.7/dist-packages/ipykernel_launcher.py:69: UserWarning: To copy construct from a tensor, it is recommended to use sourceTensor.clone().detach() or sourceTensor.clone().detach().requires_grad_(True), rather than torch.tensor(sourceTensor).\n"
          ],
          "name": "stderr"
        },
        {
          "output_type": "stream",
          "text": [
            "UC Epoch  1 Train Accuracy:  73.66071319580078\n",
            "UC Epoch  2 Train Accuracy:  87.05357360839844\n",
            "UC Epoch  3 Train Accuracy:  94.41963958740234\n",
            "Test Accuracy:  76.68269348144531\n",
            "Test Top3 Accuracy:  92.54808044433594\n"
          ],
          "name": "stdout"
        },
        {
          "output_type": "stream",
          "text": [
            "/usr/local/lib/python3.7/dist-packages/ipykernel_launcher.py:69: UserWarning: To copy construct from a tensor, it is recommended to use sourceTensor.clone().detach() or sourceTensor.clone().detach().requires_grad_(True), rather than torch.tensor(sourceTensor).\n"
          ],
          "name": "stderr"
        },
        {
          "output_type": "stream",
          "text": [
            "UC Epoch  1 Train Accuracy:  77.67857360839844\n",
            "UC Epoch  2 Train Accuracy:  88.16963958740234\n",
            "UC Epoch  3 Train Accuracy:  94.19642639160156\n",
            "Test Accuracy:  76.62259674072266\n",
            "Test Top3 Accuracy:  94.29086303710938\n"
          ],
          "name": "stdout"
        },
        {
          "output_type": "stream",
          "text": [
            "/usr/local/lib/python3.7/dist-packages/ipykernel_launcher.py:69: UserWarning: To copy construct from a tensor, it is recommended to use sourceTensor.clone().detach() or sourceTensor.clone().detach().requires_grad_(True), rather than torch.tensor(sourceTensor).\n"
          ],
          "name": "stderr"
        },
        {
          "output_type": "stream",
          "text": [
            "UC Epoch  1 Train Accuracy:  76.78571319580078\n",
            "UC Epoch  2 Train Accuracy:  87.5\n",
            "UC Epoch  3 Train Accuracy:  96.20536041259766\n",
            "Test Accuracy:  75.90144348144531\n",
            "Test Top3 Accuracy:  92.48798370361328\n"
          ],
          "name": "stdout"
        },
        {
          "output_type": "stream",
          "text": [
            "/usr/local/lib/python3.7/dist-packages/ipykernel_launcher.py:69: UserWarning: To copy construct from a tensor, it is recommended to use sourceTensor.clone().detach() or sourceTensor.clone().detach().requires_grad_(True), rather than torch.tensor(sourceTensor).\n"
          ],
          "name": "stderr"
        },
        {
          "output_type": "stream",
          "text": [
            "UC Epoch  1 Train Accuracy:  75.0\n",
            "UC Epoch  2 Train Accuracy:  90.625\n",
            "UC Epoch  3 Train Accuracy:  96.20536041259766\n",
            "Test Accuracy:  74.87980651855469\n",
            "Test Top3 Accuracy:  93.02884674072266\n"
          ],
          "name": "stdout"
        },
        {
          "output_type": "stream",
          "text": [
            "/usr/local/lib/python3.7/dist-packages/ipykernel_launcher.py:69: UserWarning: To copy construct from a tensor, it is recommended to use sourceTensor.clone().detach() or sourceTensor.clone().detach().requires_grad_(True), rather than torch.tensor(sourceTensor).\n"
          ],
          "name": "stderr"
        },
        {
          "output_type": "stream",
          "text": [
            "UC Epoch  1 Train Accuracy:  73.21428680419922\n",
            "UC Epoch  2 Train Accuracy:  86.60713958740234\n",
            "UC Epoch  3 Train Accuracy:  94.86607360839844\n",
            "Test Accuracy:  75.72115325927734\n",
            "Test Top3 Accuracy:  93.99038696289062\n",
            "MAML2Accuracy on UC as an avg of  20 :  76.24399032592774\n",
            "MAML2TopK on UC as an avg of  20 :  93.56670684814453\n"
          ],
          "name": "stdout"
        }
      ]
    },
    {
      "cell_type": "code",
      "metadata": {
        "colab": {
          "base_uri": "https://localhost:8080/"
        },
        "id": "C3wzx32o7fD-",
        "outputId": "191a1dfa-c09d-456b-cc58-3e5f22cd6f74"
      },
      "source": [
        "mtype='MAMLnk'\n",
        "model = modelnk\n",
        "\n",
        "if Freeze:\n",
        "    for param in model.parameters():\n",
        "        param.requires_grad = False\n",
        "\n",
        "model.fce = nn.Linear(1024, 21)\n",
        "model = model.to(device)\n",
        "\n",
        "modelnk, epoch_tracker, MAMLnk_loss_tracker, MAMLnk_acc_tracker = UC_train(model1=modelnk, trainloader=UCtrain_loader, epochs=UC_epochs, lr=UC_MAML_learning_rate)"
      ],
      "execution_count": 33,
      "outputs": [
        {
          "output_type": "stream",
          "text": [
            "loading...\n"
          ],
          "name": "stdout"
        },
        {
          "output_type": "stream",
          "text": [
            "/usr/local/lib/python3.7/dist-packages/ipykernel_launcher.py:69: UserWarning: To copy construct from a tensor, it is recommended to use sourceTensor.clone().detach() or sourceTensor.clone().detach().requires_grad_(True), rather than torch.tensor(sourceTensor).\n"
          ],
          "name": "stderr"
        },
        {
          "output_type": "stream",
          "text": [
            "UC Epoch  1 Train Accuracy:  77.67857360839844\n",
            "UC Epoch  2 Train Accuracy:  92.1875\n",
            "UC Epoch  3 Train Accuracy:  98.88392639160156\n"
          ],
          "name": "stdout"
        }
      ]
    },
    {
      "cell_type": "code",
      "metadata": {
        "id": "r0XSuYyJn82R",
        "colab": {
          "base_uri": "https://localhost:8080/"
        },
        "outputId": "c7c89934-6bdc-4531-e778-ba1dfbc00d33"
      },
      "source": [
        "acc,topk =make_test(model=modelnk, testloader=UCtest_loader,get_worse=False)\n",
        "avg_UC_test('MAMLnk',20,model=modelnk)"
      ],
      "execution_count": 34,
      "outputs": [
        {
          "output_type": "stream",
          "text": [
            "Test Accuracy:  32.331729888916016\n",
            "Test Top3 Accuracy:  57.99279022216797\n",
            "loading...\n"
          ],
          "name": "stdout"
        },
        {
          "output_type": "stream",
          "text": [
            "/usr/local/lib/python3.7/dist-packages/ipykernel_launcher.py:69: UserWarning: To copy construct from a tensor, it is recommended to use sourceTensor.clone().detach() or sourceTensor.clone().detach().requires_grad_(True), rather than torch.tensor(sourceTensor).\n"
          ],
          "name": "stderr"
        },
        {
          "output_type": "stream",
          "text": [
            "UC Epoch  1 Train Accuracy:  82.36607360839844\n",
            "UC Epoch  2 Train Accuracy:  92.41071319580078\n",
            "UC Epoch  3 Train Accuracy:  99.10713958740234\n",
            "Test Accuracy:  25.360576629638672\n",
            "Test Top3 Accuracy:  48.79807662963867\n"
          ],
          "name": "stdout"
        },
        {
          "output_type": "stream",
          "text": [
            "/usr/local/lib/python3.7/dist-packages/ipykernel_launcher.py:69: UserWarning: To copy construct from a tensor, it is recommended to use sourceTensor.clone().detach() or sourceTensor.clone().detach().requires_grad_(True), rather than torch.tensor(sourceTensor).\n"
          ],
          "name": "stderr"
        },
        {
          "output_type": "stream",
          "text": [
            "UC Epoch  1 Train Accuracy:  83.03571319580078\n",
            "UC Epoch  2 Train Accuracy:  97.54463958740234\n",
            "UC Epoch  3 Train Accuracy:  98.88392639160156\n",
            "Test Accuracy:  27.764423370361328\n",
            "Test Top3 Accuracy:  50.18029022216797\n"
          ],
          "name": "stdout"
        },
        {
          "output_type": "stream",
          "text": [
            "/usr/local/lib/python3.7/dist-packages/ipykernel_launcher.py:69: UserWarning: To copy construct from a tensor, it is recommended to use sourceTensor.clone().detach() or sourceTensor.clone().detach().requires_grad_(True), rather than torch.tensor(sourceTensor).\n"
          ],
          "name": "stderr"
        },
        {
          "output_type": "stream",
          "text": [
            "UC Epoch  1 Train Accuracy:  85.9375\n",
            "UC Epoch  2 Train Accuracy:  97.32142639160156\n",
            "UC Epoch  3 Train Accuracy:  99.77678680419922\n",
            "Test Accuracy:  28.966346740722656\n",
            "Test Top3 Accuracy:  44.77163314819336\n"
          ],
          "name": "stdout"
        },
        {
          "output_type": "stream",
          "text": [
            "/usr/local/lib/python3.7/dist-packages/ipykernel_launcher.py:69: UserWarning: To copy construct from a tensor, it is recommended to use sourceTensor.clone().detach() or sourceTensor.clone().detach().requires_grad_(True), rather than torch.tensor(sourceTensor).\n"
          ],
          "name": "stderr"
        },
        {
          "output_type": "stream",
          "text": [
            "UC Epoch  1 Train Accuracy:  75.89286041259766\n",
            "UC Epoch  2 Train Accuracy:  97.99107360839844\n",
            "UC Epoch  3 Train Accuracy:  99.10713958740234\n",
            "Test Accuracy:  21.694711685180664\n",
            "Test Top3 Accuracy:  42.127403259277344\n"
          ],
          "name": "stdout"
        },
        {
          "output_type": "stream",
          "text": [
            "/usr/local/lib/python3.7/dist-packages/ipykernel_launcher.py:69: UserWarning: To copy construct from a tensor, it is recommended to use sourceTensor.clone().detach() or sourceTensor.clone().detach().requires_grad_(True), rather than torch.tensor(sourceTensor).\n"
          ],
          "name": "stderr"
        },
        {
          "output_type": "stream",
          "text": [
            "UC Epoch  1 Train Accuracy:  86.16071319580078\n",
            "UC Epoch  2 Train Accuracy:  98.21428680419922\n",
            "UC Epoch  3 Train Accuracy:  99.10713958740234\n",
            "Test Accuracy:  28.064903259277344\n",
            "Test Top3 Accuracy:  50.36057662963867\n"
          ],
          "name": "stdout"
        },
        {
          "output_type": "stream",
          "text": [
            "/usr/local/lib/python3.7/dist-packages/ipykernel_launcher.py:69: UserWarning: To copy construct from a tensor, it is recommended to use sourceTensor.clone().detach() or sourceTensor.clone().detach().requires_grad_(True), rather than torch.tensor(sourceTensor).\n"
          ],
          "name": "stderr"
        },
        {
          "output_type": "stream",
          "text": [
            "UC Epoch  1 Train Accuracy:  72.76786041259766\n",
            "UC Epoch  2 Train Accuracy:  95.75892639160156\n",
            "UC Epoch  3 Train Accuracy:  99.10713958740234\n",
            "Test Accuracy:  25.240385055541992\n",
            "Test Top3 Accuracy:  46.21394348144531\n"
          ],
          "name": "stdout"
        },
        {
          "output_type": "stream",
          "text": [
            "/usr/local/lib/python3.7/dist-packages/ipykernel_launcher.py:69: UserWarning: To copy construct from a tensor, it is recommended to use sourceTensor.clone().detach() or sourceTensor.clone().detach().requires_grad_(True), rather than torch.tensor(sourceTensor).\n"
          ],
          "name": "stderr"
        },
        {
          "output_type": "stream",
          "text": [
            "UC Epoch  1 Train Accuracy:  73.66071319580078\n",
            "UC Epoch  2 Train Accuracy:  96.42857360839844\n",
            "UC Epoch  3 Train Accuracy:  99.33036041259766\n",
            "Test Accuracy:  24.939903259277344\n",
            "Test Top3 Accuracy:  46.875\n"
          ],
          "name": "stdout"
        },
        {
          "output_type": "stream",
          "text": [
            "/usr/local/lib/python3.7/dist-packages/ipykernel_launcher.py:69: UserWarning: To copy construct from a tensor, it is recommended to use sourceTensor.clone().detach() or sourceTensor.clone().detach().requires_grad_(True), rather than torch.tensor(sourceTensor).\n"
          ],
          "name": "stderr"
        },
        {
          "output_type": "stream",
          "text": [
            "UC Epoch  1 Train Accuracy:  82.14286041259766\n",
            "UC Epoch  2 Train Accuracy:  97.99107360839844\n",
            "UC Epoch  3 Train Accuracy:  98.88392639160156\n",
            "Test Accuracy:  29.747596740722656\n",
            "Test Top3 Accuracy:  52.10336685180664\n"
          ],
          "name": "stdout"
        },
        {
          "output_type": "stream",
          "text": [
            "/usr/local/lib/python3.7/dist-packages/ipykernel_launcher.py:69: UserWarning: To copy construct from a tensor, it is recommended to use sourceTensor.clone().detach() or sourceTensor.clone().detach().requires_grad_(True), rather than torch.tensor(sourceTensor).\n"
          ],
          "name": "stderr"
        },
        {
          "output_type": "stream",
          "text": [
            "UC Epoch  1 Train Accuracy:  73.88392639160156\n",
            "UC Epoch  2 Train Accuracy:  97.76786041259766\n",
            "UC Epoch  3 Train Accuracy:  98.4375\n",
            "Test Accuracy:  25.540864944458008\n",
            "Test Top3 Accuracy:  44.591346740722656\n"
          ],
          "name": "stdout"
        },
        {
          "output_type": "stream",
          "text": [
            "/usr/local/lib/python3.7/dist-packages/ipykernel_launcher.py:69: UserWarning: To copy construct from a tensor, it is recommended to use sourceTensor.clone().detach() or sourceTensor.clone().detach().requires_grad_(True), rather than torch.tensor(sourceTensor).\n"
          ],
          "name": "stderr"
        },
        {
          "output_type": "stream",
          "text": [
            "UC Epoch  1 Train Accuracy:  78.34821319580078\n",
            "UC Epoch  2 Train Accuracy:  97.32142639160156\n",
            "UC Epoch  3 Train Accuracy:  99.10713958740234\n",
            "Test Accuracy:  27.46394157409668\n",
            "Test Top3 Accuracy:  48.377403259277344\n"
          ],
          "name": "stdout"
        },
        {
          "output_type": "stream",
          "text": [
            "/usr/local/lib/python3.7/dist-packages/ipykernel_launcher.py:69: UserWarning: To copy construct from a tensor, it is recommended to use sourceTensor.clone().detach() or sourceTensor.clone().detach().requires_grad_(True), rather than torch.tensor(sourceTensor).\n"
          ],
          "name": "stderr"
        },
        {
          "output_type": "stream",
          "text": [
            "UC Epoch  1 Train Accuracy:  81.69642639160156\n",
            "UC Epoch  2 Train Accuracy:  97.32142639160156\n",
            "UC Epoch  3 Train Accuracy:  99.77678680419922\n",
            "Test Accuracy:  27.584135055541992\n",
            "Test Top3 Accuracy:  48.737979888916016\n"
          ],
          "name": "stdout"
        },
        {
          "output_type": "stream",
          "text": [
            "/usr/local/lib/python3.7/dist-packages/ipykernel_launcher.py:69: UserWarning: To copy construct from a tensor, it is recommended to use sourceTensor.clone().detach() or sourceTensor.clone().detach().requires_grad_(True), rather than torch.tensor(sourceTensor).\n"
          ],
          "name": "stderr"
        },
        {
          "output_type": "stream",
          "text": [
            "UC Epoch  1 Train Accuracy:  79.24107360839844\n",
            "UC Epoch  2 Train Accuracy:  97.09821319580078\n",
            "UC Epoch  3 Train Accuracy:  99.10713958740234\n",
            "Test Accuracy:  26.622596740722656\n",
            "Test Top3 Accuracy:  45.252403259277344\n"
          ],
          "name": "stdout"
        },
        {
          "output_type": "stream",
          "text": [
            "/usr/local/lib/python3.7/dist-packages/ipykernel_launcher.py:69: UserWarning: To copy construct from a tensor, it is recommended to use sourceTensor.clone().detach() or sourceTensor.clone().detach().requires_grad_(True), rather than torch.tensor(sourceTensor).\n"
          ],
          "name": "stderr"
        },
        {
          "output_type": "stream",
          "text": [
            "UC Epoch  1 Train Accuracy:  67.85713958740234\n",
            "UC Epoch  2 Train Accuracy:  95.3125\n",
            "UC Epoch  3 Train Accuracy:  99.33036041259766\n",
            "Test Accuracy:  29.6875\n",
            "Test Top3 Accuracy:  51.80288314819336\n"
          ],
          "name": "stdout"
        },
        {
          "output_type": "stream",
          "text": [
            "/usr/local/lib/python3.7/dist-packages/ipykernel_launcher.py:69: UserWarning: To copy construct from a tensor, it is recommended to use sourceTensor.clone().detach() or sourceTensor.clone().detach().requires_grad_(True), rather than torch.tensor(sourceTensor).\n"
          ],
          "name": "stderr"
        },
        {
          "output_type": "stream",
          "text": [
            "UC Epoch  1 Train Accuracy:  76.11607360839844\n",
            "UC Epoch  2 Train Accuracy:  97.99107360839844\n",
            "UC Epoch  3 Train Accuracy:  99.77678680419922\n",
            "Test Accuracy:  28.24519157409668\n",
            "Test Top3 Accuracy:  49.63942337036133\n"
          ],
          "name": "stdout"
        },
        {
          "output_type": "stream",
          "text": [
            "/usr/local/lib/python3.7/dist-packages/ipykernel_launcher.py:69: UserWarning: To copy construct from a tensor, it is recommended to use sourceTensor.clone().detach() or sourceTensor.clone().detach().requires_grad_(True), rather than torch.tensor(sourceTensor).\n"
          ],
          "name": "stderr"
        },
        {
          "output_type": "stream",
          "text": [
            "UC Epoch  1 Train Accuracy:  83.48213958740234\n",
            "UC Epoch  2 Train Accuracy:  96.65178680419922\n",
            "UC Epoch  3 Train Accuracy:  99.55357360839844\n",
            "Test Accuracy:  19.53125\n",
            "Test Top3 Accuracy:  38.581729888916016\n"
          ],
          "name": "stdout"
        },
        {
          "output_type": "stream",
          "text": [
            "/usr/local/lib/python3.7/dist-packages/ipykernel_launcher.py:69: UserWarning: To copy construct from a tensor, it is recommended to use sourceTensor.clone().detach() or sourceTensor.clone().detach().requires_grad_(True), rather than torch.tensor(sourceTensor).\n"
          ],
          "name": "stderr"
        },
        {
          "output_type": "stream",
          "text": [
            "UC Epoch  1 Train Accuracy:  79.91071319580078\n",
            "UC Epoch  2 Train Accuracy:  97.54463958740234\n",
            "UC Epoch  3 Train Accuracy:  97.99107360839844\n",
            "Test Accuracy:  26.201923370361328\n",
            "Test Top3 Accuracy:  46.33413314819336\n"
          ],
          "name": "stdout"
        },
        {
          "output_type": "stream",
          "text": [
            "/usr/local/lib/python3.7/dist-packages/ipykernel_launcher.py:69: UserWarning: To copy construct from a tensor, it is recommended to use sourceTensor.clone().detach() or sourceTensor.clone().detach().requires_grad_(True), rather than torch.tensor(sourceTensor).\n"
          ],
          "name": "stderr"
        },
        {
          "output_type": "stream",
          "text": [
            "UC Epoch  1 Train Accuracy:  79.24107360839844\n",
            "UC Epoch  2 Train Accuracy:  97.99107360839844\n",
            "UC Epoch  3 Train Accuracy:  99.33036041259766\n",
            "Test Accuracy:  27.283653259277344\n",
            "Test Top3 Accuracy:  49.278846740722656\n"
          ],
          "name": "stdout"
        },
        {
          "output_type": "stream",
          "text": [
            "/usr/local/lib/python3.7/dist-packages/ipykernel_launcher.py:69: UserWarning: To copy construct from a tensor, it is recommended to use sourceTensor.clone().detach() or sourceTensor.clone().detach().requires_grad_(True), rather than torch.tensor(sourceTensor).\n"
          ],
          "name": "stderr"
        },
        {
          "output_type": "stream",
          "text": [
            "UC Epoch  1 Train Accuracy:  87.05357360839844\n",
            "UC Epoch  2 Train Accuracy:  98.21428680419922\n",
            "UC Epoch  3 Train Accuracy:  100.0\n",
            "Test Accuracy:  25.540864944458008\n",
            "Test Top3 Accuracy:  47.11538314819336\n"
          ],
          "name": "stdout"
        },
        {
          "output_type": "stream",
          "text": [
            "/usr/local/lib/python3.7/dist-packages/ipykernel_launcher.py:69: UserWarning: To copy construct from a tensor, it is recommended to use sourceTensor.clone().detach() or sourceTensor.clone().detach().requires_grad_(True), rather than torch.tensor(sourceTensor).\n"
          ],
          "name": "stderr"
        },
        {
          "output_type": "stream",
          "text": [
            "UC Epoch  1 Train Accuracy:  82.58928680419922\n",
            "UC Epoch  2 Train Accuracy:  96.65178680419922\n",
            "UC Epoch  3 Train Accuracy:  99.55357360839844\n",
            "Test Accuracy:  28.545673370361328\n",
            "Test Top3 Accuracy:  46.814903259277344\n"
          ],
          "name": "stdout"
        },
        {
          "output_type": "stream",
          "text": [
            "/usr/local/lib/python3.7/dist-packages/ipykernel_launcher.py:69: UserWarning: To copy construct from a tensor, it is recommended to use sourceTensor.clone().detach() or sourceTensor.clone().detach().requires_grad_(True), rather than torch.tensor(sourceTensor).\n"
          ],
          "name": "stderr"
        },
        {
          "output_type": "stream",
          "text": [
            "UC Epoch  1 Train Accuracy:  81.02678680419922\n",
            "UC Epoch  2 Train Accuracy:  95.75892639160156\n",
            "UC Epoch  3 Train Accuracy:  99.77678680419922\n",
            "Test Accuracy:  27.34375\n",
            "Test Top3 Accuracy:  48.31730651855469\n",
            "MAMLnkAccuracy on UC as an avg of  20 :  26.568509578704834\n",
            "MAMLnkTopK on UC as an avg of  20 :  47.31370162963867\n"
          ],
          "name": "stdout"
        }
      ]
    },
    {
      "cell_type": "code",
      "metadata": {
        "id": "11SceGJmLtO3",
        "colab": {
          "base_uri": "https://localhost:8080/"
        },
        "outputId": "48bcf52a-4862-4108-a8a4-7b820605dfd1"
      },
      "source": [
        "mtype='CNN'\n",
        "model = get_model(mtype=mtype,load=True)\n",
        "\n",
        "if Freeze:\n",
        "    for param in model.parameters():\n",
        "        param.requires_grad = False\n",
        "\n",
        "model.fce = nn.Linear(1024, 21)\n",
        "model = model.to(device)\n",
        "#model.save('UC'+mtype)\n",
        "\n",
        "model, epoch_tracker, CNN_loss_tracker,CNN_acc_tracker = UC_train(model1=model, trainloader=UCtrain_loader, epochs=UC_epochs, lr=UC_CNN_learning_rate)"
      ],
      "execution_count": 35,
      "outputs": [
        {
          "output_type": "stream",
          "text": [
            "loading...\n"
          ],
          "name": "stdout"
        },
        {
          "output_type": "stream",
          "text": [
            "/usr/local/lib/python3.7/dist-packages/ipykernel_launcher.py:69: UserWarning: To copy construct from a tensor, it is recommended to use sourceTensor.clone().detach() or sourceTensor.clone().detach().requires_grad_(True), rather than torch.tensor(sourceTensor).\n"
          ],
          "name": "stderr"
        },
        {
          "output_type": "stream",
          "text": [
            "UC Epoch  1 Train Accuracy:  74.77678680419922\n",
            "UC Epoch  2 Train Accuracy:  92.85713958740234\n",
            "UC Epoch  3 Train Accuracy:  97.32142639160156\n"
          ],
          "name": "stdout"
        }
      ]
    },
    {
      "cell_type": "code",
      "metadata": {
        "id": "tueMpx6iLs3O",
        "colab": {
          "base_uri": "https://localhost:8080/"
        },
        "outputId": "c3aa21ea-64a8-4fff-e8a3-5a7d146d3083"
      },
      "source": [
        "acc,topk = make_test(model=model, testloader=UCtest_loader,get_worse=False)\n",
        "avg_UC_test('CNN',20)"
      ],
      "execution_count": 36,
      "outputs": [
        {
          "output_type": "stream",
          "text": [
            "Test Accuracy:  46.63461685180664\n",
            "Test Top3 Accuracy:  71.45433044433594\n",
            "loading...\n"
          ],
          "name": "stdout"
        },
        {
          "output_type": "stream",
          "text": [
            "/usr/local/lib/python3.7/dist-packages/ipykernel_launcher.py:69: UserWarning: To copy construct from a tensor, it is recommended to use sourceTensor.clone().detach() or sourceTensor.clone().detach().requires_grad_(True), rather than torch.tensor(sourceTensor).\n"
          ],
          "name": "stderr"
        },
        {
          "output_type": "stream",
          "text": [
            "UC Epoch  1 Train Accuracy:  78.34821319580078\n",
            "UC Epoch  2 Train Accuracy:  93.97321319580078\n",
            "UC Epoch  3 Train Accuracy:  99.55357360839844\n",
            "Test Accuracy:  45.73317337036133\n",
            "Test Top3 Accuracy:  70.61298370361328\n"
          ],
          "name": "stdout"
        },
        {
          "output_type": "stream",
          "text": [
            "/usr/local/lib/python3.7/dist-packages/ipykernel_launcher.py:69: UserWarning: To copy construct from a tensor, it is recommended to use sourceTensor.clone().detach() or sourceTensor.clone().detach().requires_grad_(True), rather than torch.tensor(sourceTensor).\n"
          ],
          "name": "stderr"
        },
        {
          "output_type": "stream",
          "text": [
            "UC Epoch  1 Train Accuracy:  71.65178680419922\n",
            "UC Epoch  2 Train Accuracy:  97.32142639160156\n",
            "UC Epoch  3 Train Accuracy:  97.54463958740234\n",
            "Test Accuracy:  43.75\n",
            "Test Top3 Accuracy:  67.78845977783203\n"
          ],
          "name": "stdout"
        },
        {
          "output_type": "stream",
          "text": [
            "/usr/local/lib/python3.7/dist-packages/ipykernel_launcher.py:69: UserWarning: To copy construct from a tensor, it is recommended to use sourceTensor.clone().detach() or sourceTensor.clone().detach().requires_grad_(True), rather than torch.tensor(sourceTensor).\n"
          ],
          "name": "stderr"
        },
        {
          "output_type": "stream",
          "text": [
            "UC Epoch  1 Train Accuracy:  76.11607360839844\n",
            "UC Epoch  2 Train Accuracy:  94.64286041259766\n",
            "UC Epoch  3 Train Accuracy:  97.76786041259766\n",
            "Test Accuracy:  44.17067337036133\n",
            "Test Top3 Accuracy:  70.73316955566406\n"
          ],
          "name": "stdout"
        },
        {
          "output_type": "stream",
          "text": [
            "/usr/local/lib/python3.7/dist-packages/ipykernel_launcher.py:69: UserWarning: To copy construct from a tensor, it is recommended to use sourceTensor.clone().detach() or sourceTensor.clone().detach().requires_grad_(True), rather than torch.tensor(sourceTensor).\n"
          ],
          "name": "stderr"
        },
        {
          "output_type": "stream",
          "text": [
            "UC Epoch  1 Train Accuracy:  79.01786041259766\n",
            "UC Epoch  2 Train Accuracy:  96.65178680419922\n",
            "UC Epoch  3 Train Accuracy:  99.77678680419922\n",
            "Test Accuracy:  44.35095977783203\n",
            "Test Top3 Accuracy:  69.89183044433594\n"
          ],
          "name": "stdout"
        },
        {
          "output_type": "stream",
          "text": [
            "/usr/local/lib/python3.7/dist-packages/ipykernel_launcher.py:69: UserWarning: To copy construct from a tensor, it is recommended to use sourceTensor.clone().detach() or sourceTensor.clone().detach().requires_grad_(True), rather than torch.tensor(sourceTensor).\n"
          ],
          "name": "stderr"
        },
        {
          "output_type": "stream",
          "text": [
            "UC Epoch  1 Train Accuracy:  71.65178680419922\n",
            "UC Epoch  2 Train Accuracy:  95.75892639160156\n",
            "UC Epoch  3 Train Accuracy:  94.41963958740234\n",
            "Test Accuracy:  42.127403259277344\n",
            "Test Top3 Accuracy:  68.62980651855469\n"
          ],
          "name": "stdout"
        },
        {
          "output_type": "stream",
          "text": [
            "/usr/local/lib/python3.7/dist-packages/ipykernel_launcher.py:69: UserWarning: To copy construct from a tensor, it is recommended to use sourceTensor.clone().detach() or sourceTensor.clone().detach().requires_grad_(True), rather than torch.tensor(sourceTensor).\n"
          ],
          "name": "stderr"
        },
        {
          "output_type": "stream",
          "text": [
            "UC Epoch  1 Train Accuracy:  77.23213958740234\n",
            "UC Epoch  2 Train Accuracy:  93.97321319580078\n",
            "UC Epoch  3 Train Accuracy:  100.0\n",
            "Test Accuracy:  44.77163314819336\n",
            "Test Top3 Accuracy:  71.33413696289062\n"
          ],
          "name": "stdout"
        },
        {
          "output_type": "stream",
          "text": [
            "/usr/local/lib/python3.7/dist-packages/ipykernel_launcher.py:69: UserWarning: To copy construct from a tensor, it is recommended to use sourceTensor.clone().detach() or sourceTensor.clone().detach().requires_grad_(True), rather than torch.tensor(sourceTensor).\n"
          ],
          "name": "stderr"
        },
        {
          "output_type": "stream",
          "text": [
            "UC Epoch  1 Train Accuracy:  76.78571319580078\n",
            "UC Epoch  2 Train Accuracy:  96.42857360839844\n",
            "UC Epoch  3 Train Accuracy:  99.55357360839844\n",
            "Test Accuracy:  44.050479888916016\n",
            "Test Top3 Accuracy:  69.83173370361328\n"
          ],
          "name": "stdout"
        },
        {
          "output_type": "stream",
          "text": [
            "/usr/local/lib/python3.7/dist-packages/ipykernel_launcher.py:69: UserWarning: To copy construct from a tensor, it is recommended to use sourceTensor.clone().detach() or sourceTensor.clone().detach().requires_grad_(True), rather than torch.tensor(sourceTensor).\n"
          ],
          "name": "stderr"
        },
        {
          "output_type": "stream",
          "text": [
            "UC Epoch  1 Train Accuracy:  68.08036041259766\n",
            "UC Epoch  2 Train Accuracy:  94.19642639160156\n",
            "UC Epoch  3 Train Accuracy:  99.33036041259766\n",
            "Test Accuracy:  42.60817337036133\n",
            "Test Top3 Accuracy:  68.93029022216797\n"
          ],
          "name": "stdout"
        },
        {
          "output_type": "stream",
          "text": [
            "/usr/local/lib/python3.7/dist-packages/ipykernel_launcher.py:69: UserWarning: To copy construct from a tensor, it is recommended to use sourceTensor.clone().detach() or sourceTensor.clone().detach().requires_grad_(True), rather than torch.tensor(sourceTensor).\n"
          ],
          "name": "stderr"
        },
        {
          "output_type": "stream",
          "text": [
            "UC Epoch  1 Train Accuracy:  79.01786041259766\n",
            "UC Epoch  2 Train Accuracy:  96.20536041259766\n",
            "UC Epoch  3 Train Accuracy:  99.55357360839844\n",
            "Test Accuracy:  44.831729888916016\n",
            "Test Top3 Accuracy:  68.62980651855469\n"
          ],
          "name": "stdout"
        },
        {
          "output_type": "stream",
          "text": [
            "/usr/local/lib/python3.7/dist-packages/ipykernel_launcher.py:69: UserWarning: To copy construct from a tensor, it is recommended to use sourceTensor.clone().detach() or sourceTensor.clone().detach().requires_grad_(True), rather than torch.tensor(sourceTensor).\n"
          ],
          "name": "stderr"
        },
        {
          "output_type": "stream",
          "text": [
            "UC Epoch  1 Train Accuracy:  71.875\n",
            "UC Epoch  2 Train Accuracy:  97.09821319580078\n",
            "UC Epoch  3 Train Accuracy:  99.77678680419922\n",
            "Test Accuracy:  44.29086685180664\n",
            "Test Top3 Accuracy:  68.75\n"
          ],
          "name": "stdout"
        },
        {
          "output_type": "stream",
          "text": [
            "/usr/local/lib/python3.7/dist-packages/ipykernel_launcher.py:69: UserWarning: To copy construct from a tensor, it is recommended to use sourceTensor.clone().detach() or sourceTensor.clone().detach().requires_grad_(True), rather than torch.tensor(sourceTensor).\n"
          ],
          "name": "stderr"
        },
        {
          "output_type": "stream",
          "text": [
            "UC Epoch  1 Train Accuracy:  70.53571319580078\n",
            "UC Epoch  2 Train Accuracy:  98.21428680419922\n",
            "UC Epoch  3 Train Accuracy:  97.76786041259766\n",
            "Test Accuracy:  46.45432662963867\n",
            "Test Top3 Accuracy:  70.25240325927734\n"
          ],
          "name": "stdout"
        },
        {
          "output_type": "stream",
          "text": [
            "/usr/local/lib/python3.7/dist-packages/ipykernel_launcher.py:69: UserWarning: To copy construct from a tensor, it is recommended to use sourceTensor.clone().detach() or sourceTensor.clone().detach().requires_grad_(True), rather than torch.tensor(sourceTensor).\n"
          ],
          "name": "stderr"
        },
        {
          "output_type": "stream",
          "text": [
            "UC Epoch  1 Train Accuracy:  72.09821319580078\n",
            "UC Epoch  2 Train Accuracy:  94.64286041259766\n",
            "UC Epoch  3 Train Accuracy:  99.77678680419922\n",
            "Test Accuracy:  43.38942337036133\n",
            "Test Top3 Accuracy:  68.08894348144531\n"
          ],
          "name": "stdout"
        },
        {
          "output_type": "stream",
          "text": [
            "/usr/local/lib/python3.7/dist-packages/ipykernel_launcher.py:69: UserWarning: To copy construct from a tensor, it is recommended to use sourceTensor.clone().detach() or sourceTensor.clone().detach().requires_grad_(True), rather than torch.tensor(sourceTensor).\n"
          ],
          "name": "stderr"
        },
        {
          "output_type": "stream",
          "text": [
            "UC Epoch  1 Train Accuracy:  81.47321319580078\n",
            "UC Epoch  2 Train Accuracy:  96.875\n",
            "UC Epoch  3 Train Accuracy:  99.55357360839844\n",
            "Test Accuracy:  43.14904022216797\n",
            "Test Top3 Accuracy:  69.23076629638672\n"
          ],
          "name": "stdout"
        },
        {
          "output_type": "stream",
          "text": [
            "/usr/local/lib/python3.7/dist-packages/ipykernel_launcher.py:69: UserWarning: To copy construct from a tensor, it is recommended to use sourceTensor.clone().detach() or sourceTensor.clone().detach().requires_grad_(True), rather than torch.tensor(sourceTensor).\n"
          ],
          "name": "stderr"
        },
        {
          "output_type": "stream",
          "text": [
            "UC Epoch  1 Train Accuracy:  73.21428680419922\n",
            "UC Epoch  2 Train Accuracy:  90.625\n",
            "UC Epoch  3 Train Accuracy:  99.10713958740234\n",
            "Test Accuracy:  44.591346740722656\n",
            "Test Top3 Accuracy:  70.37259674072266\n"
          ],
          "name": "stdout"
        },
        {
          "output_type": "stream",
          "text": [
            "/usr/local/lib/python3.7/dist-packages/ipykernel_launcher.py:69: UserWarning: To copy construct from a tensor, it is recommended to use sourceTensor.clone().detach() or sourceTensor.clone().detach().requires_grad_(True), rather than torch.tensor(sourceTensor).\n"
          ],
          "name": "stderr"
        },
        {
          "output_type": "stream",
          "text": [
            "UC Epoch  1 Train Accuracy:  69.19642639160156\n",
            "UC Epoch  2 Train Accuracy:  95.3125\n",
            "UC Epoch  3 Train Accuracy:  99.33036041259766\n",
            "Test Accuracy:  44.35095977783203\n",
            "Test Top3 Accuracy:  70.07211303710938\n"
          ],
          "name": "stdout"
        },
        {
          "output_type": "stream",
          "text": [
            "/usr/local/lib/python3.7/dist-packages/ipykernel_launcher.py:69: UserWarning: To copy construct from a tensor, it is recommended to use sourceTensor.clone().detach() or sourceTensor.clone().detach().requires_grad_(True), rather than torch.tensor(sourceTensor).\n"
          ],
          "name": "stderr"
        },
        {
          "output_type": "stream",
          "text": [
            "UC Epoch  1 Train Accuracy:  78.79463958740234\n",
            "UC Epoch  2 Train Accuracy:  95.75892639160156\n",
            "UC Epoch  3 Train Accuracy:  99.55357360839844\n",
            "Test Accuracy:  42.06730651855469\n",
            "Test Top3 Accuracy:  67.96875\n"
          ],
          "name": "stdout"
        },
        {
          "output_type": "stream",
          "text": [
            "/usr/local/lib/python3.7/dist-packages/ipykernel_launcher.py:69: UserWarning: To copy construct from a tensor, it is recommended to use sourceTensor.clone().detach() or sourceTensor.clone().detach().requires_grad_(True), rather than torch.tensor(sourceTensor).\n"
          ],
          "name": "stderr"
        },
        {
          "output_type": "stream",
          "text": [
            "UC Epoch  1 Train Accuracy:  76.33928680419922\n",
            "UC Epoch  2 Train Accuracy:  97.54463958740234\n",
            "UC Epoch  3 Train Accuracy:  100.0\n",
            "Test Accuracy:  44.65144348144531\n",
            "Test Top3 Accuracy:  68.68990325927734\n"
          ],
          "name": "stdout"
        },
        {
          "output_type": "stream",
          "text": [
            "/usr/local/lib/python3.7/dist-packages/ipykernel_launcher.py:69: UserWarning: To copy construct from a tensor, it is recommended to use sourceTensor.clone().detach() or sourceTensor.clone().detach().requires_grad_(True), rather than torch.tensor(sourceTensor).\n"
          ],
          "name": "stderr"
        },
        {
          "output_type": "stream",
          "text": [
            "UC Epoch  1 Train Accuracy:  77.00892639160156\n",
            "UC Epoch  2 Train Accuracy:  95.08928680419922\n",
            "UC Epoch  3 Train Accuracy:  99.77678680419922\n",
            "Test Accuracy:  44.230770111083984\n",
            "Test Top3 Accuracy:  69.53125\n"
          ],
          "name": "stdout"
        },
        {
          "output_type": "stream",
          "text": [
            "/usr/local/lib/python3.7/dist-packages/ipykernel_launcher.py:69: UserWarning: To copy construct from a tensor, it is recommended to use sourceTensor.clone().detach() or sourceTensor.clone().detach().requires_grad_(True), rather than torch.tensor(sourceTensor).\n"
          ],
          "name": "stderr"
        },
        {
          "output_type": "stream",
          "text": [
            "UC Epoch  1 Train Accuracy:  68.30357360839844\n",
            "UC Epoch  2 Train Accuracy:  96.20536041259766\n",
            "UC Epoch  3 Train Accuracy:  99.10713958740234\n",
            "Test Accuracy:  42.127403259277344\n",
            "Test Top3 Accuracy:  67.30769348144531\n"
          ],
          "name": "stdout"
        },
        {
          "output_type": "stream",
          "text": [
            "/usr/local/lib/python3.7/dist-packages/ipykernel_launcher.py:69: UserWarning: To copy construct from a tensor, it is recommended to use sourceTensor.clone().detach() or sourceTensor.clone().detach().requires_grad_(True), rather than torch.tensor(sourceTensor).\n"
          ],
          "name": "stderr"
        },
        {
          "output_type": "stream",
          "text": [
            "UC Epoch  1 Train Accuracy:  69.19642639160156\n",
            "UC Epoch  2 Train Accuracy:  93.97321319580078\n",
            "UC Epoch  3 Train Accuracy:  99.33036041259766\n",
            "Test Accuracy:  42.84855651855469\n",
            "Test Top3 Accuracy:  65.80529022216797\n",
            "CNNAccuracy on UC as an avg of  20 :  43.927283477783206\n",
            "CNNTopK on UC as an avg of  20 :  69.12259635925292\n"
          ],
          "name": "stdout"
        }
      ]
    },
    {
      "cell_type": "code",
      "metadata": {
        "id": "SDoGbeQ0KA4y",
        "colab": {
          "base_uri": "https://localhost:8080/"
        },
        "outputId": "a5716372-e15b-470b-966a-dda9df6116fc"
      },
      "source": [
        "mtype='CNN_Aug'\n",
        "model = get_model(mtype=mtype,load=True)\n",
        "\n",
        "if Freeze:\n",
        "    for param in model.parameters():\n",
        "        param.requires_grad = False\n",
        "\n",
        "model.fce = nn.Linear(1024, 21)\n",
        "model = model.to(device)\n",
        "#model.save('UC'+mtype)\n",
        "\n",
        "model, epoch_tracker, CNN_Aug_loss_tracker,CNN_AUG_acc_tracker = UC_train(model1=model, trainloader=UCtrain_loader, epochs=UC_epochs, lr=UC_CNN_learning_rate)"
      ],
      "execution_count": 37,
      "outputs": [
        {
          "output_type": "stream",
          "text": [
            "loading...\n"
          ],
          "name": "stdout"
        },
        {
          "output_type": "stream",
          "text": [
            "/usr/local/lib/python3.7/dist-packages/ipykernel_launcher.py:69: UserWarning: To copy construct from a tensor, it is recommended to use sourceTensor.clone().detach() or sourceTensor.clone().detach().requires_grad_(True), rather than torch.tensor(sourceTensor).\n"
          ],
          "name": "stderr"
        },
        {
          "output_type": "stream",
          "text": [
            "UC Epoch  1 Train Accuracy:  71.20536041259766\n",
            "UC Epoch  2 Train Accuracy:  82.36607360839844\n",
            "UC Epoch  3 Train Accuracy:  86.60713958740234\n"
          ],
          "name": "stdout"
        }
      ]
    },
    {
      "cell_type": "code",
      "metadata": {
        "id": "ZwNe13xWKAri",
        "colab": {
          "base_uri": "https://localhost:8080/"
        },
        "outputId": "8257ec2d-16bf-4842-aab0-c3d3cd60c4b5"
      },
      "source": [
        "acc,topk=make_test(model=model, testloader=UCtest_loader,get_worse=False)"
      ],
      "execution_count": 38,
      "outputs": [
        {
          "output_type": "stream",
          "text": [
            "Test Accuracy:  75.0\n",
            "Test Top3 Accuracy:  93.44951629638672\n"
          ],
          "name": "stdout"
        }
      ]
    },
    {
      "cell_type": "code",
      "metadata": {
        "id": "PD5NUS3wLtKv",
        "colab": {
          "base_uri": "https://localhost:8080/",
          "height": 1000
        },
        "outputId": "4daaa324-9a78-424f-b269-730293d9622f"
      },
      "source": [
        "basic_train_plot(epoch_tracker, MAML_loss_tracker, CNN_Aug_loss_tracker, CNN_loss_tracker,MAML_loss_tracker2)\n",
        "avg_UC_test('CNN_Aug',20)"
      ],
      "execution_count": 39,
      "outputs": [
        {
          "output_type": "display_data",
          "data": {
            "image/png": "[encoded data removed]",
            "text/plain": [
              "<Figure size 1080x576 with 1 Axes>"
            ]
          },
          "metadata": {
            "tags": [],
            "needs_background": "light"
          }
        },
        {
          "output_type": "stream",
          "text": [
            "loading...\n"
          ],
          "name": "stdout"
        },
        {
          "output_type": "stream",
          "text": [
            "/usr/local/lib/python3.7/dist-packages/ipykernel_launcher.py:69: UserWarning: To copy construct from a tensor, it is recommended to use sourceTensor.clone().detach() or sourceTensor.clone().detach().requires_grad_(True), rather than torch.tensor(sourceTensor).\n"
          ],
          "name": "stderr"
        },
        {
          "output_type": "stream",
          "text": [
            "UC Epoch  1 Train Accuracy:  75.66963958740234\n",
            "UC Epoch  2 Train Accuracy:  82.36607360839844\n",
            "UC Epoch  3 Train Accuracy:  92.41071319580078\n",
            "Test Accuracy:  74.21875\n",
            "Test Top3 Accuracy:  92.66826629638672\n"
          ],
          "name": "stdout"
        },
        {
          "output_type": "stream",
          "text": [
            "/usr/local/lib/python3.7/dist-packages/ipykernel_launcher.py:69: UserWarning: To copy construct from a tensor, it is recommended to use sourceTensor.clone().detach() or sourceTensor.clone().detach().requires_grad_(True), rather than torch.tensor(sourceTensor).\n"
          ],
          "name": "stderr"
        },
        {
          "output_type": "stream",
          "text": [
            "UC Epoch  1 Train Accuracy:  73.88392639160156\n",
            "UC Epoch  2 Train Accuracy:  83.92857360839844\n",
            "UC Epoch  3 Train Accuracy:  87.27678680419922\n",
            "Test Accuracy:  75.12019348144531\n",
            "Test Top3 Accuracy:  92.42788696289062\n"
          ],
          "name": "stdout"
        },
        {
          "output_type": "stream",
          "text": [
            "/usr/local/lib/python3.7/dist-packages/ipykernel_launcher.py:69: UserWarning: To copy construct from a tensor, it is recommended to use sourceTensor.clone().detach() or sourceTensor.clone().detach().requires_grad_(True), rather than torch.tensor(sourceTensor).\n"
          ],
          "name": "stderr"
        },
        {
          "output_type": "stream",
          "text": [
            "UC Epoch  1 Train Accuracy:  67.41071319580078\n",
            "UC Epoch  2 Train Accuracy:  87.05357360839844\n",
            "UC Epoch  3 Train Accuracy:  92.41071319580078\n",
            "Test Accuracy:  77.52404022216797\n",
            "Test Top3 Accuracy:  94.05048370361328\n"
          ],
          "name": "stdout"
        },
        {
          "output_type": "stream",
          "text": [
            "/usr/local/lib/python3.7/dist-packages/ipykernel_launcher.py:69: UserWarning: To copy construct from a tensor, it is recommended to use sourceTensor.clone().detach() or sourceTensor.clone().detach().requires_grad_(True), rather than torch.tensor(sourceTensor).\n"
          ],
          "name": "stderr"
        },
        {
          "output_type": "stream",
          "text": [
            "UC Epoch  1 Train Accuracy:  73.21428680419922\n",
            "UC Epoch  2 Train Accuracy:  85.04463958740234\n",
            "UC Epoch  3 Train Accuracy:  88.39286041259766\n",
            "Test Accuracy:  74.69951629638672\n",
            "Test Top3 Accuracy:  93.56970977783203\n"
          ],
          "name": "stdout"
        },
        {
          "output_type": "stream",
          "text": [
            "/usr/local/lib/python3.7/dist-packages/ipykernel_launcher.py:69: UserWarning: To copy construct from a tensor, it is recommended to use sourceTensor.clone().detach() or sourceTensor.clone().detach().requires_grad_(True), rather than torch.tensor(sourceTensor).\n"
          ],
          "name": "stderr"
        },
        {
          "output_type": "stream",
          "text": [
            "UC Epoch  1 Train Accuracy:  76.78571319580078\n",
            "UC Epoch  2 Train Accuracy:  85.71428680419922\n",
            "UC Epoch  3 Train Accuracy:  91.07142639160156\n",
            "Test Accuracy:  76.50240325927734\n",
            "Test Top3 Accuracy:  94.05048370361328\n"
          ],
          "name": "stdout"
        },
        {
          "output_type": "stream",
          "text": [
            "/usr/local/lib/python3.7/dist-packages/ipykernel_launcher.py:69: UserWarning: To copy construct from a tensor, it is recommended to use sourceTensor.clone().detach() or sourceTensor.clone().detach().requires_grad_(True), rather than torch.tensor(sourceTensor).\n"
          ],
          "name": "stderr"
        },
        {
          "output_type": "stream",
          "text": [
            "UC Epoch  1 Train Accuracy:  77.23213958740234\n",
            "UC Epoch  2 Train Accuracy:  88.16963958740234\n",
            "UC Epoch  3 Train Accuracy:  92.41071319580078\n",
            "Test Accuracy:  76.92308044433594\n",
            "Test Top3 Accuracy:  93.93029022216797\n"
          ],
          "name": "stdout"
        },
        {
          "output_type": "stream",
          "text": [
            "/usr/local/lib/python3.7/dist-packages/ipykernel_launcher.py:69: UserWarning: To copy construct from a tensor, it is recommended to use sourceTensor.clone().detach() or sourceTensor.clone().detach().requires_grad_(True), rather than torch.tensor(sourceTensor).\n"
          ],
          "name": "stderr"
        },
        {
          "output_type": "stream",
          "text": [
            "UC Epoch  1 Train Accuracy:  69.19642639160156\n",
            "UC Epoch  2 Train Accuracy:  88.39286041259766\n",
            "UC Epoch  3 Train Accuracy:  95.3125\n",
            "Test Accuracy:  77.10336303710938\n",
            "Test Top3 Accuracy:  93.68990325927734\n"
          ],
          "name": "stdout"
        },
        {
          "output_type": "stream",
          "text": [
            "/usr/local/lib/python3.7/dist-packages/ipykernel_launcher.py:69: UserWarning: To copy construct from a tensor, it is recommended to use sourceTensor.clone().detach() or sourceTensor.clone().detach().requires_grad_(True), rather than torch.tensor(sourceTensor).\n"
          ],
          "name": "stderr"
        },
        {
          "output_type": "stream",
          "text": [
            "UC Epoch  1 Train Accuracy:  74.33036041259766\n",
            "UC Epoch  2 Train Accuracy:  85.04463958740234\n",
            "UC Epoch  3 Train Accuracy:  89.73213958740234\n",
            "Test Accuracy:  74.39904022216797\n",
            "Test Top3 Accuracy:  94.17066955566406\n"
          ],
          "name": "stdout"
        },
        {
          "output_type": "stream",
          "text": [
            "/usr/local/lib/python3.7/dist-packages/ipykernel_launcher.py:69: UserWarning: To copy construct from a tensor, it is recommended to use sourceTensor.clone().detach() or sourceTensor.clone().detach().requires_grad_(True), rather than torch.tensor(sourceTensor).\n"
          ],
          "name": "stderr"
        },
        {
          "output_type": "stream",
          "text": [
            "UC Epoch  1 Train Accuracy:  68.52678680419922\n",
            "UC Epoch  2 Train Accuracy:  84.375\n",
            "UC Epoch  3 Train Accuracy:  90.625\n",
            "Test Accuracy:  75.48076629638672\n",
            "Test Top3 Accuracy:  94.83173370361328\n"
          ],
          "name": "stdout"
        },
        {
          "output_type": "stream",
          "text": [
            "/usr/local/lib/python3.7/dist-packages/ipykernel_launcher.py:69: UserWarning: To copy construct from a tensor, it is recommended to use sourceTensor.clone().detach() or sourceTensor.clone().detach().requires_grad_(True), rather than torch.tensor(sourceTensor).\n"
          ],
          "name": "stderr"
        },
        {
          "output_type": "stream",
          "text": [
            "UC Epoch  1 Train Accuracy:  75.89286041259766\n",
            "UC Epoch  2 Train Accuracy:  85.04463958740234\n",
            "UC Epoch  3 Train Accuracy:  91.51786041259766\n",
            "Test Accuracy:  77.10336303710938\n",
            "Test Top3 Accuracy:  94.41105651855469\n"
          ],
          "name": "stdout"
        },
        {
          "output_type": "stream",
          "text": [
            "/usr/local/lib/python3.7/dist-packages/ipykernel_launcher.py:69: UserWarning: To copy construct from a tensor, it is recommended to use sourceTensor.clone().detach() or sourceTensor.clone().detach().requires_grad_(True), rather than torch.tensor(sourceTensor).\n"
          ],
          "name": "stderr"
        },
        {
          "output_type": "stream",
          "text": [
            "UC Epoch  1 Train Accuracy:  71.42857360839844\n",
            "UC Epoch  2 Train Accuracy:  82.14286041259766\n",
            "UC Epoch  3 Train Accuracy:  93.97321319580078\n",
            "Test Accuracy:  78.30529022216797\n",
            "Test Top3 Accuracy:  94.95191955566406\n"
          ],
          "name": "stdout"
        },
        {
          "output_type": "stream",
          "text": [
            "/usr/local/lib/python3.7/dist-packages/ipykernel_launcher.py:69: UserWarning: To copy construct from a tensor, it is recommended to use sourceTensor.clone().detach() or sourceTensor.clone().detach().requires_grad_(True), rather than torch.tensor(sourceTensor).\n"
          ],
          "name": "stderr"
        },
        {
          "output_type": "stream",
          "text": [
            "UC Epoch  1 Train Accuracy:  69.41963958740234\n",
            "UC Epoch  2 Train Accuracy:  85.71428680419922\n",
            "UC Epoch  3 Train Accuracy:  92.41071319580078\n",
            "Test Accuracy:  74.81970977783203\n",
            "Test Top3 Accuracy:  92.78845977783203\n"
          ],
          "name": "stdout"
        },
        {
          "output_type": "stream",
          "text": [
            "/usr/local/lib/python3.7/dist-packages/ipykernel_launcher.py:69: UserWarning: To copy construct from a tensor, it is recommended to use sourceTensor.clone().detach() or sourceTensor.clone().detach().requires_grad_(True), rather than torch.tensor(sourceTensor).\n"
          ],
          "name": "stderr"
        },
        {
          "output_type": "stream",
          "text": [
            "UC Epoch  1 Train Accuracy:  64.28571319580078\n",
            "UC Epoch  2 Train Accuracy:  83.70536041259766\n",
            "UC Epoch  3 Train Accuracy:  90.625\n",
            "Test Accuracy:  74.75961303710938\n",
            "Test Top3 Accuracy:  93.44951629638672\n"
          ],
          "name": "stdout"
        },
        {
          "output_type": "stream",
          "text": [
            "/usr/local/lib/python3.7/dist-packages/ipykernel_launcher.py:69: UserWarning: To copy construct from a tensor, it is recommended to use sourceTensor.clone().detach() or sourceTensor.clone().detach().requires_grad_(True), rather than torch.tensor(sourceTensor).\n"
          ],
          "name": "stderr"
        },
        {
          "output_type": "stream",
          "text": [
            "UC Epoch  1 Train Accuracy:  74.55357360839844\n",
            "UC Epoch  2 Train Accuracy:  84.375\n",
            "UC Epoch  3 Train Accuracy:  93.30357360839844\n",
            "Test Accuracy:  76.62259674072266\n",
            "Test Top3 Accuracy:  93.32933044433594\n"
          ],
          "name": "stdout"
        },
        {
          "output_type": "stream",
          "text": [
            "/usr/local/lib/python3.7/dist-packages/ipykernel_launcher.py:69: UserWarning: To copy construct from a tensor, it is recommended to use sourceTensor.clone().detach() or sourceTensor.clone().detach().requires_grad_(True), rather than torch.tensor(sourceTensor).\n"
          ],
          "name": "stderr"
        },
        {
          "output_type": "stream",
          "text": [
            "UC Epoch  1 Train Accuracy:  72.76786041259766\n",
            "UC Epoch  2 Train Accuracy:  83.92857360839844\n",
            "UC Epoch  3 Train Accuracy:  91.29463958740234\n",
            "Test Accuracy:  74.21875\n",
            "Test Top3 Accuracy:  91.76683044433594\n"
          ],
          "name": "stdout"
        },
        {
          "output_type": "stream",
          "text": [
            "/usr/local/lib/python3.7/dist-packages/ipykernel_launcher.py:69: UserWarning: To copy construct from a tensor, it is recommended to use sourceTensor.clone().detach() or sourceTensor.clone().detach().requires_grad_(True), rather than torch.tensor(sourceTensor).\n"
          ],
          "name": "stderr"
        },
        {
          "output_type": "stream",
          "text": [
            "UC Epoch  1 Train Accuracy:  70.3125\n",
            "UC Epoch  2 Train Accuracy:  86.83036041259766\n",
            "UC Epoch  3 Train Accuracy:  92.41071319580078\n",
            "Test Accuracy:  75.30048370361328\n",
            "Test Top3 Accuracy:  92.54808044433594\n"
          ],
          "name": "stdout"
        },
        {
          "output_type": "stream",
          "text": [
            "/usr/local/lib/python3.7/dist-packages/ipykernel_launcher.py:69: UserWarning: To copy construct from a tensor, it is recommended to use sourceTensor.clone().detach() or sourceTensor.clone().detach().requires_grad_(True), rather than torch.tensor(sourceTensor).\n"
          ],
          "name": "stderr"
        },
        {
          "output_type": "stream",
          "text": [
            "UC Epoch  1 Train Accuracy:  77.45536041259766\n",
            "UC Epoch  2 Train Accuracy:  80.58036041259766\n",
            "UC Epoch  3 Train Accuracy:  90.17857360839844\n",
            "Test Accuracy:  73.31730651855469\n",
            "Test Top3 Accuracy:  91.58654022216797\n"
          ],
          "name": "stdout"
        },
        {
          "output_type": "stream",
          "text": [
            "/usr/local/lib/python3.7/dist-packages/ipykernel_launcher.py:69: UserWarning: To copy construct from a tensor, it is recommended to use sourceTensor.clone().detach() or sourceTensor.clone().detach().requires_grad_(True), rather than torch.tensor(sourceTensor).\n"
          ],
          "name": "stderr"
        },
        {
          "output_type": "stream",
          "text": [
            "UC Epoch  1 Train Accuracy:  72.76786041259766\n",
            "UC Epoch  2 Train Accuracy:  85.9375\n",
            "UC Epoch  3 Train Accuracy:  94.19642639160156\n",
            "Test Accuracy:  76.62259674072266\n",
            "Test Top3 Accuracy:  93.62980651855469\n"
          ],
          "name": "stdout"
        },
        {
          "output_type": "stream",
          "text": [
            "/usr/local/lib/python3.7/dist-packages/ipykernel_launcher.py:69: UserWarning: To copy construct from a tensor, it is recommended to use sourceTensor.clone().detach() or sourceTensor.clone().detach().requires_grad_(True), rather than torch.tensor(sourceTensor).\n"
          ],
          "name": "stderr"
        },
        {
          "output_type": "stream",
          "text": [
            "UC Epoch  1 Train Accuracy:  68.75\n",
            "UC Epoch  2 Train Accuracy:  84.59821319580078\n",
            "UC Epoch  3 Train Accuracy:  91.29463958740234\n",
            "Test Accuracy:  74.81970977783203\n",
            "Test Top3 Accuracy:  94.23076629638672\n"
          ],
          "name": "stdout"
        },
        {
          "output_type": "stream",
          "text": [
            "/usr/local/lib/python3.7/dist-packages/ipykernel_launcher.py:69: UserWarning: To copy construct from a tensor, it is recommended to use sourceTensor.clone().detach() or sourceTensor.clone().detach().requires_grad_(True), rather than torch.tensor(sourceTensor).\n"
          ],
          "name": "stderr"
        },
        {
          "output_type": "stream",
          "text": [
            "UC Epoch  1 Train Accuracy:  69.19642639160156\n",
            "UC Epoch  2 Train Accuracy:  84.82142639160156\n",
            "UC Epoch  3 Train Accuracy:  92.1875\n",
            "Test Accuracy:  73.97836303710938\n",
            "Test Top3 Accuracy:  90.68509674072266\n",
            "CNN_AugAccuracy on UC as an avg of  20 :  75.59194679260254\n",
            "CNN_AugTopK on UC as an avg of  20 :  93.3383415222168\n"
          ],
          "name": "stdout"
        }
      ]
    },
    {
      "cell_type": "code",
      "metadata": {
        "id": "n__DqwZ3sG5y"
      },
      "source": [
        "\n"
      ],
      "execution_count": 39,
      "outputs": []
    },
    {
      "cell_type": "markdown",
      "metadata": {
        "id": "SoCj5Wd8XuK_"
      },
      "source": [
        "## Thoughts on UC\n",
        "\n",
        "\n",
        "It is incrediably easy to overfit to UC mercer if we train each optimization scheme from sctrach as shown below. Since We know afte training on RESIC and then trasnfer learning on UC, we can say the model training on RESIC learned important features of the schenes that would otherwise not have been learned if it was just UC. Now when comparing optimization schemes, we can examine the testing accuracy of UC after training on RESIC and say which model's weights were primed for fast learning and fast adaption.\n"
      ]
    },
    {
      "cell_type": "code",
      "metadata": {
        "id": "UvBt7aOwYkWs",
        "colab": {
          "base_uri": "https://localhost:8080/"
        },
        "outputId": "21a0940d-f405-46a4-cb21-4aab2c8a4f19"
      },
      "source": [
        "def fresh_train_UC(mtype,load):\n",
        "    model = get_model(mtype=mtype,load=load)\n",
        "    UC_MAML_learning_rate = 0.0006\n",
        "    UC_CNN_learning_rate = 0.0006\n",
        "    UC_epochs = 3\n",
        "    UC_batch_size = 32\n",
        "    UCtrain_loader,UCtest_loader = UC_get_data()\n",
        "    model.fce = nn.Linear(1024, 21)\n",
        "    model = model.to(device)\n",
        "    #model.save('UC'+mtype)\n",
        "    if mtype == 'CNN':\n",
        "        print(mtype)\n",
        "        model, epoch_tracker, CNN_Aug_loss_tracker,acc = UC_train(model1=model, trainloader=UCtrain_loader, epochs=UC_epochs, lr=UC_CNN_learning_rate)\n",
        "        acc,topk = make_test(model=model, testloader=UCtest_loader,get_worse=False)\n",
        "    elif mtype == \"MAML\":\n",
        "        print(mtype)\n",
        "        model, _, _, _, _=  train(UC_epochs, UC_CNN_learning_rate, UC_CNN_learning_rate, UCtrain_loader, UCtest_loader, c_dim, mtype, augs=True)\n",
        "        acc,topk = make_test(model=model, testloader=UCtest_loader,get_worse=False)\n",
        "\n",
        "    elif mtype == 'MAML2':\n",
        "        print(mtype)\n",
        "        model, _, _, _, _, =  train2(UC_epochs, UC_CNN_learning_rate, UC_CNN_learning_rate, UCtrain_loader, UCtest_loader, c_dim, mtype)\n",
        "        acc,topk = make_test(model=model, testloader=UCtest_loader,get_worse=False)\n",
        "        return acc\n",
        "    elif mtype == 'MAMLnk':\n",
        "        print(mtype)\n",
        "        Params= Params = {'nways': 32, 'kshots': 1, 'in_channels': 3, 'hidden_size': 2, \n",
        "                  'innerStep': UC_MAML_learning_rate, 'MetaLR': UC_MAML_learning_rate, 'number_of_tasks': 32,\n",
        "                  'Order': False, 'outerVSinner': 1, 'epoch': UC_epochs, 'aug': True,\n",
        "                   'num_classes': 45}\n",
        "        model,_,_,_,_,_ =trainMAML(mtype,model,UCtrain_loader,Params,val_loader,print_stride,nwaykshot=False)\n",
        "        acc,topk = make_test(model=model, testloader=UCtest_loader,get_worse=False)\n",
        "\n",
        "CNN_acc = fresh_train_UC('CNN',load=False)\n",
        "MAML_acc = fresh_train_UC('MAML',load=False)\n",
        "MAML2_acc = fresh_train_UC('MAML2',load=False)\n",
        "# MAMLnk_acc = fresh_train_UC('MAMLnk',load=False) dont run this get \"CUDA error: device-side assert triggered\" error, I think above calls demonstrate it enough how easy it is to overfit to the data with the best 3 models\n",
        "\n",
        "\n",
        "    "
      ],
      "execution_count": 40,
      "outputs": [
        {
          "output_type": "stream",
          "text": [
            "CNN\n"
          ],
          "name": "stdout"
        },
        {
          "output_type": "stream",
          "text": [
            "/usr/local/lib/python3.7/dist-packages/ipykernel_launcher.py:69: UserWarning: To copy construct from a tensor, it is recommended to use sourceTensor.clone().detach() or sourceTensor.clone().detach().requires_grad_(True), rather than torch.tensor(sourceTensor).\n"
          ],
          "name": "stderr"
        },
        {
          "output_type": "stream",
          "text": [
            "UC Epoch  1 Train Accuracy:  76.33928680419922\n",
            "UC Epoch  2 Train Accuracy:  93.08036041259766\n",
            "UC Epoch  3 Train Accuracy:  98.21428680419922\n",
            "Test Accuracy:  32.091346740722656\n",
            "Test Top3 Accuracy:  54.44711685180664\n",
            "MAML\n"
          ],
          "name": "stdout"
        },
        {
          "output_type": "stream",
          "text": [
            "/usr/local/lib/python3.7/dist-packages/ipykernel_launcher.py:69: UserWarning: To copy construct from a tensor, it is recommended to use sourceTensor.clone().detach() or sourceTensor.clone().detach().requires_grad_(True), rather than torch.tensor(sourceTensor).\n"
          ],
          "name": "stderr"
        },
        {
          "output_type": "stream",
          "text": [
            "saving...\n",
            "Test Accuracy:  5.408653736114502\n",
            "Test Top3 Accuracy:  15.985576629638672\n",
            "MAML2\n",
            "MAML2\n"
          ],
          "name": "stdout"
        },
        {
          "output_type": "stream",
          "text": [
            "/usr/local/lib/python3.7/dist-packages/ipykernel_launcher.py:69: UserWarning: To copy construct from a tensor, it is recommended to use sourceTensor.clone().detach() or sourceTensor.clone().detach().requires_grad_(True), rather than torch.tensor(sourceTensor).\n"
          ],
          "name": "stderr"
        },
        {
          "output_type": "stream",
          "text": [
            "saving...\n",
            "Test Accuracy:  6.850961685180664\n",
            "Test Top3 Accuracy:  14.302885055541992\n"
          ],
          "name": "stdout"
        }
      ]
    },
    {
      "cell_type": "markdown",
      "metadata": {
        "id": "JXxfK9_tGzcS"
      },
      "source": [
        "# MAML second order on traditonal dataloader, tuned to best performance by hand "
      ]
    },
    {
      "cell_type": "code",
      "metadata": {
        "colab": {
          "base_uri": "https://localhost:8080/"
        },
        "id": "EIhC34FzQ6ym",
        "outputId": "3a30ee5a-e9cb-446e-a109-9c2feed6c557"
      },
      "source": [
        "mtype='MAML'\n",
        "\n",
        "Params = {'nways': 32, 'kshots': 1, 'in_channels': 3, 'hidden_size': 2, \n",
        "                  'innerStep': .00005/16, 'MetaLR': .006/64, 'number_of_tasks': 32,\n",
        "                  'Order': False, 'outerVSinner': 1, 'epoch': n_epochs, 'aug': True,\n",
        "                   'num_classes': 45}\n",
        "model = get_meta_model(Params,load=False)\n",
        "\n",
        "train_loader, val_loader, test_loader, c_dim, classes = get_data(dir=dir, mtype=mtype)\n",
        "mtype='MAMLnk'\n",
        "model.to(device)\n",
        "if First_Train: modelnk, epoch_tracker, MAML_nk_loss_tracker, MAML_nk_val_accs, MAML_nk_val_topks, MAML_nk_train_acc = trainMAML(mtype,\n",
        "                                                                                              model,\n",
        "                                                                                              train_loader,\n",
        "                                                                                              Params,\n",
        "                                                                                              val_loader, \n",
        "                                                                                               print_stride1=print_stride\n",
        "                                                                                              )\n",
        "else: \n",
        "    model = get_model(mtype)\n",
        "    MAML_nk_loss_tracker=np.load(dir+mtype+'_loss_tracker.npy')\n",
        "    MAML_nk_val_topks=np.load(dir+mtype+'_val_topks.npy')\n",
        "    MAML_nk_val_accs=np.load(dir+mtype+'_val_accs.npy')\n",
        "acc,topk=make_test(model=modelnk, testloader=test_loader)\n",
        "avg_UC_test('MAMLnk',20,model=modelnk)"
      ],
      "execution_count": null,
      "outputs": [
        {
          "output_type": "stream",
          "text": [
            "/usr/local/lib/python3.7/dist-packages/ipykernel_launcher.py:38: UserWarning: Module `ConvolutionalNeuralNetwork` has no parameter corresponding to the submodule named `classifier` in the dictionary `params` provided as an argument to `forward()`. Using the default parameters for this submodule. The list of the parameters in `params`: [features.0.weight, features.0.bias, features.2.weight, features.3.weight, features.3.bias, features.5.weight, features.6.weight, features.6.bias, features.8.weight, features.9.weight, features.9.bias, features.11.weight, features.12.weight, features.12.bias, features.14.weight, features.15.weight, features.15.bias, fce.weight, fce.bias].\n"
          ],
          "name": "stderr"
        },
        {
          "output_type": "stream",
          "text": [
            "On Epoch  10\n",
            "Train Loss 0.001486522432357546\n",
            "Validation Accuracy:  11.924342155456543\n",
            "Validation Top3 Accuracy:  20.0657901763916\n",
            "On Epoch  20\n",
            "Train Loss 0.0015040748649173313\n",
            "Validation Accuracy:  13.980262756347656\n",
            "Validation Top3 Accuracy:  24.177631378173828\n",
            "On Epoch  30\n",
            "Train Loss 0.0014806627754181151\n",
            "Validation Accuracy:  15.131579399108887\n",
            "Validation Top3 Accuracy:  26.973684310913086\n"
          ],
          "name": "stdout"
        }
      ]
    },
    {
      "cell_type": "code",
      "metadata": {
        "id": "lRpAlZP-SCku"
      },
      "source": [
        ""
      ],
      "execution_count": null,
      "outputs": []
    },
    {
      "cell_type": "markdown",
      "metadata": {
        "id": "zA3yMR-xR2R1"
      },
      "source": [
        ""
      ]
    },
    {
      "cell_type": "markdown",
      "metadata": {
        "id": "cYy7Fn7DHFIs"
      },
      "source": [
        "first order maml with 16 task inner loop l2 reg on n way k shot data, best learning rates normalized by batch size "
      ]
    },
    {
      "cell_type": "code",
      "metadata": {
        "id": "N7hsvDAoGyw2"
      },
      "source": [
        "mtype='MAML2'\n",
        "Params['nways']=5\n",
        "Params['number_of_tasks']=32\n",
        "train_loader, val_loader, test_loader, c_dim, classes, ytrain = get_data(dir=dir, mtype=mtype,nwaykshot=True)\n",
        "if First_Train: model, MAML_loss_tracker2, MAML_val_topks2, MAML_val_accs2, epoch_tracker, = train2(n_epochs, \n",
        "                                                                                                    .00045*Params['nways']/batch_size, \n",
        "                                                                                                    .0001/8*Params['nways']/batch_size,\n",
        "                                                                                                    train_loader, \n",
        "                                                                                                    val_loader, \n",
        "                                                                                                    c_dim, mtype,\n",
        "                                                                                                    print_stride1 = print_stride,\n",
        "                                                                                                    trainset= train_loader, \n",
        "                                                                                                    nwaykshot=True , \n",
        "                                                                                                    train_labels = ytrain,\n",
        "                                                                                                    Params=Params)\n",
        "else: \n",
        "    model = get_model(mtype)\n",
        "    MAML_loss_tracker2=np.load(dir+mtype+'_loss_tracker.npy')\n",
        "    MAML_val_topks2=np.load(dir+mtype+'_val_topks.npy')\n",
        "    MAML_val_accs2=np.load(dir+mtype+'_val_accs.npy')\n",
        "avg_UC_test(mtype,20)"
      ],
      "execution_count": null,
      "outputs": []
    },
    {
      "cell_type": "markdown",
      "metadata": {
        "id": "3F5BOpX07VDA"
      },
      "source": [
        "## Scrap Work Area \n",
        "\n",
        "---"
      ]
    },
    {
      "cell_type": "code",
      "metadata": {
        "id": "Y6y3pEe-0e2O"
      },
      "source": [
        "#GRAD DIAGNOSTICS\n",
        "'''\n",
        "print(\"PARAMS YOU ARE CHECKING\")\n",
        "for pA, pB in zip(CNN.parameters(), CNN1.parameters()):\n",
        "  print((pA == pB).all())\n",
        "print(\"GRAD YOU ARE CHECKING\")\n",
        "for pA, pB in zip(CNN.parameters(), CNN1.parameters()):\n",
        "  print((pA.grad == pB.grad))\n",
        "'''"
      ],
      "execution_count": null,
      "outputs": []
    },
    {
      "cell_type": "code",
      "metadata": {
        "id": "XSdAAONZe1Y_"
      },
      "source": [
        "# def trainmodel(dir,mtype,n_epochs,learning_rate_1,learning_rate_2):\n",
        "#     train_loader, val_loader, test_loader, c_dim, classes = get_data(dir=dir, mtype=mtype)\n",
        "#     make_example(train_loader=train_loader, classes=classes)\n",
        "#     if mtype=='CNN' or mtype == \"MAML\":\n",
        "#         model, loss_tracker, val_topk_tracker, val_acc_tracker, epoch_tracker = train(n_epochs=n_epochs, \n",
        "#                                                                     learning_rate=learning_rate_1, \n",
        "#                                                                     learning_rate1=learning_rate_2, \n",
        "#                                                                     train_loader=train_loader, \n",
        "#                                                                     val_loader=val_loader, \n",
        "#                                                                     c_dim=c_dim, \n",
        "#                                                                     mtype=mtype,print_stride1=1)\n",
        "#     elif mtype == 'MAML2'\n",
        "#          model, loss_tracker, val_topk_tracker, val_acc_tracker, epoch_tracker = train2(n_epochs=n_epochs, \n",
        "#                                                                     learning_rate=learning_rate_1, \n",
        "#                                                                     learning_rate1=learning_rate_2, \n",
        "#                                                                     train_loader=train_loader, \n",
        "#                                                                     val_loader=val_loader, \n",
        "#                                                                     c_dim=c_dim, \n",
        "#                                                                     mtype=mtype,print_stride1=1)\n",
        "#     return model,test_loader,loss_tracker,val_topk_tracker,val_acc_tracker,epoch_tracker\n",
        "\n",
        "# def AVG_n_model(dir,mtype,n_epochs,learning_rate_1,learning_rate_2,runs=5,UC_or_RES):\n",
        "#     list_loss_tracker,list_val_topk_tracker,list_val_acc_tracker,testacc,testtopk = [],[],[],[],[]\n",
        "#     for _ in range(runs):\n",
        "#         if UC_or_RES=='RES'\n",
        "#             model,test_loader,loss_tracker,val_topk_tracker,val_acc_tracker,epoch_tracker = trainmodel(dir,mtype,n_epochs,learning_rate_1,learning_rate_2)\n",
        "#             list_loss_tracker.append(loss_tracker)\n",
        "#             list_val_topk_tracker.append(val_topk_tracker)\n",
        "#             list_val_acc_tracker.append(val_acc_tracker)\n",
        "\n",
        "#             test_acc, test_topk  = make_test(model,test_loader)\n",
        "#             testacc.append(test_acc)\n",
        "#             testtopk.append(test_topk)\n",
        "#         else:\n",
        "#             testacc1 , testtopk1 = fresh_train_UC(mtype,load=True)\n",
        "#             testacc.append(testacc1)\n",
        "#             testtopk.append(testtopk1)\n",
        "\n",
        "\n",
        "#     avg_loss = numpy.mean(numpy.array(list_loss_tracker), axis=0)\n",
        "#     avg_valtopk = numpy.mean(numpy.array(list_val_topk_tracker), axis=0)\n",
        "#     avg_valacc = numpy.mean(numpy.array(val_acc_tracker), axis=0)\n",
        "    \n",
        "#     test__valacc = numpy.mean(numpy.array(testacc), axis=0)\n",
        "#     test___valacc = numpy.mean(numpy.array(testtopk), axis=0)\n",
        "\n",
        "#     return avg_loss,avg_valtopk,avg_valacc,test__valacc,test___valacc\n",
        "\n",
        "\n",
        "\n",
        "\n",
        "\n",
        "    \n"
      ],
      "execution_count": null,
      "outputs": []
    }
  ]
}